{
 "cells": [
  {
   "cell_type": "code",
   "execution_count": 25,
   "id": "0bb35bab",
   "metadata": {},
   "outputs": [],
   "source": [
    "import pyscf.dft as dft\n",
    "from pyscf.dft.libxc import parse_xc\n",
    "\n",
    "\n",
    "def find_in_codes(code):\n",
    "\n",
    "    for key in dft.libxc.XC_CODES:\n",
    "        if dft.libxc.XC_CODES[key] == code:\n",
    "            return key\n",
    "\n",
    "\n",
    "def parse_xc_code(xc_code):\n",
    "    \"\"\" Parse pycsf style xc_code, that can contain +,*-, and combinations\n",
    "    of functionals \"\"\"\n",
    "    success = False\n",
    "    cnt = 0\n",
    "    codes = {}\n",
    "    code = -999\n",
    "    orig_keys = {k for k in dft.libxc.XC_KEYS}\n",
    "    orig_codes = {key: val for key, val in dft.libxc.XC_CODES.items()}\n",
    "    while (not success and cnt < 20):\n",
    "        try:\n",
    "            parsed = parse_xc(xc_code)\n",
    "            #print(\"PARSED: \", parsed)\n",
    "            success = True\n",
    "        except KeyError as e:\n",
    "            name = e.args[0].split()[-1]\n",
    "            dft.libxc.XC_KEYS.add(name)\n",
    "            dft.libxc.XC_CODES[e.args[0].split()[-1]] = code\n",
    "            codes[code] = name\n",
    "            code += 1\n",
    "        cnt += 1\n",
    "\n",
    "    pars, funcs = parsed\n",
    "\n",
    "    for i, f in enumerate(funcs):\n",
    "        code, weight = f\n",
    "        if code in codes:\n",
    "            name = codes[code]\n",
    "        else:\n",
    "            name = find_in_codes(code)\n",
    "        funcs[i] = (name, weight)\n",
    "\n",
    "    dft.libxc.XC_KEYS = orig_keys\n",
    "    dft.libxc.XC_CODES = orig_codes\n",
    "    return parsed\n",
    "\n",
    "\n",
    "def find_max_level(parsed_xc):\n",
    "\n",
    "    xc_levels = {'LDA': 0, 'GGA': 1, 'MGGA': 2}\n",
    "    parsed_xc = parsed_xc[1]\n",
    "    highest_xc = 'LDA'\n",
    "    highest_level = 0\n",
    "    for xc in parsed_xc:\n",
    "       print(xc)\n",
    "       l = xc[0].split('_')[0]\n",
    "       if xc_levels[l] > highest_level:\n",
    "           highest_xc = l\n",
    "           highest_level = xc_levels[l]\n",
    "#     if ('GGA' in parsed_xc) and ('MGGA' not in parsed_xc):\n",
    "#         highest_level=1\n",
    "#         highest_xc = 'GGA'\n",
    "#     elif ('MGGA' in parsed_xc):\n",
    "#         highest_level=2\n",
    "#         highest_xc='MGGA'\n",
    "    return highest_xc\n"
   ]
  },
  {
   "cell_type": "code",
   "execution_count": 30,
   "id": "535ba40f",
   "metadata": {},
   "outputs": [
    {
     "data": {
      "text/plain": [
       "([0, 0, 0], [('MGGA_XC_CUSTOM', 1)])"
      ]
     },
     "execution_count": 30,
     "metadata": {},
     "output_type": "execute_result"
    }
   ],
   "source": [
    "parsed = parse_xc_code('MGGA_XC_CUSTOM')\n",
    "parsed"
   ]
  },
  {
   "cell_type": "code",
   "execution_count": 31,
   "id": "5e4bafab",
   "metadata": {},
   "outputs": [
    {
     "data": {
      "text/plain": [
       "[('MGGA_XC_CUSTOM', 1)]"
      ]
     },
     "execution_count": 31,
     "metadata": {},
     "output_type": "execute_result"
    }
   ],
   "source": [
    "parsed[1]"
   ]
  },
  {
   "cell_type": "code",
   "execution_count": 32,
   "id": "beddcf89",
   "metadata": {},
   "outputs": [
    {
     "name": "stdout",
     "output_type": "stream",
     "text": [
      "('MGGA_XC_CUSTOM', 1)\n"
     ]
    },
    {
     "data": {
      "text/plain": [
       "'MGGA'"
      ]
     },
     "execution_count": 32,
     "metadata": {},
     "output_type": "execute_result"
    }
   ],
   "source": [
    "find_max_level(parsed)"
   ]
  },
  {
   "cell_type": "code",
   "execution_count": null,
   "id": "6212859e",
   "metadata": {},
   "outputs": [],
   "source": []
  }
 ],
 "metadata": {
  "kernelspec": {
   "display_name": "Python 3 (ipykernel)",
   "language": "python",
   "name": "python3"
  },
  "language_info": {
   "codemirror_mode": {
    "name": "ipython",
    "version": 3
   },
   "file_extension": ".py",
   "mimetype": "text/x-python",
   "name": "python",
   "nbconvert_exporter": "python",
   "pygments_lexer": "ipython3",
   "version": "3.7.11"
  }
 },
 "nbformat": 4,
 "nbformat_minor": 5
}
