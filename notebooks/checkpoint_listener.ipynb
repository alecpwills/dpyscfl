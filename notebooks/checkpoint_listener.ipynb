{
 "cells": [
  {
   "cell_type": "code",
   "execution_count": 2,
   "id": "ba68aa6e",
   "metadata": {},
   "outputs": [],
   "source": [
    "import time, os, sys, subprocess, shutil\n",
    "from watchdog.observers import Observer\n",
    "from watchdog.events import FileSystemEventHandler"
   ]
  },
  {
   "cell_type": "code",
   "execution_count": 3,
   "id": "bfc830e6",
   "metadata": {},
   "outputs": [],
   "source": [
    "def sp_grep(file, match):\n",
    "    o = subprocess.run('grep \"{}\" {}'.format(match, file), check=True, shell=True, stdout=subprocess.PIPE, universal_newlines=True)\n",
    "    return o.stdout\n",
    "def epoch_tail(grepopt):\n",
    "    epochs = [i.split('||')[0].strip()[-2:].strip() for i in grepopt.split('\\n') if i != '']\n",
    "    tails = [i.split(',')[-1].split('.')[0] for i in grepopt.split('\\n') if i != '']\n",
    "    pts = [i.split('CHKPT:')[-1].strip() for i in grepopt.split('\\n') if i != '']\n",
    "    return (epochs, tails, pts)\n",
    "class FileCopier():\n",
    "    def __init__(self, prefix):\n",
    "        self.prefix = prefix\n",
    "\n",
    "class CheckpointHandler(FileSystemEventHandler):\n",
    "    def __init__(self, watchDir='', targetDir = ''):\n",
    "        self.watchDir = watchDir\n",
    "        self.targetDir = targetDir\n",
    "        self.prefix = None\n",
    "        self.log = None\n",
    "        \n",
    "    def on_created(self, event):\n",
    "        if 'log' in event.src_path:\n",
    "            print(\"EVENT -- CREATED: {}\".format(event.src_path))\n",
    "            prefix = '.'.join(event.src_path.split('/')[-1].split('.')[:2])\n",
    "            self.prefix = prefix\n",
    "            self.log = os.path.join(self.watchDir, prefix+'.log')\n",
    "        if '.pt' in event.src_path:\n",
    "            print(\"EVENT -- CREATED: {}\".format(event.src_path))\n",
    "            o = sp_grep(self.log, match='Epoch')\n",
    "            es, ts, ps = epoch_tail(grepopt = o)\n",
    "            print(es, ts, ps)\n",
    "            for idx, e in enumerate(es):\n",
    "                if len(e) == 1:\n",
    "                    e = '0'+e\n",
    "                psuff = ps[idx]\n",
    "                if psuff == 'NOUPDATE':\n",
    "                    continue\n",
    "                p = os.path.join(self.targetDir, 'MODEL_MGGA_e{}'.format(e))\n",
    "                pt = os.path.join(self.watchDir, self.prefix+psuff)\n",
    "                tpt = os.path.join(self.targetDir, 'MODEL_MGGA_e{}'.format(e), self.prefix+psuff)\n",
    "                sl = os.path.join(self.targetDir, 'MODEL_MGGA_e{}'.format(e), 'xc')\n",
    "                try:\n",
    "                    print(\"os.mkdir({})\".format(p))\n",
    "                    os.mkdir(p)\n",
    "                    print('waiting...')\n",
    "                    time.sleep(10)\n",
    "                except:\n",
    "                    e = sys.exc_info()[0]\n",
    "                    print(e)\n",
    "                    #if directory exists, continue to next file\n",
    "                    continue\n",
    "                try:\n",
    "                    print('waiting...')\n",
    "                    time.sleep(10)\n",
    "                    print(\"shutil.copy:\")\n",
    "                    print(\"{} -> {}\".format(pt, tpt))\n",
    "                    shutil.copy(src=pt, dst=tpt)\n",
    "                    print('os.symlink: {} -> {}'.format(tpt, sl))\n",
    "                    os.symlink(tpt, sl)\n",
    "                except:\n",
    "                    e = sys.exc_info()[0]\n",
    "                    print(e)\n",
    "                    #either directory exists or file does not yet exist\n",
    "                    pass\n",
    "\n",
    "        \n",
    "    def on_modified(self, event):\n",
    "        if 'log' in event.src_path and not self.prefix:\n",
    "            print(\"EVENT -- MODIFIED: {}\".format(event.src_path))\n",
    "            prefix = '.'.join(event.src_path.split('/')[-1].split('.')[:2])\n",
    "            self.prefix = prefix\n",
    "            self.log = os.path.join(self.watchDir, prefix+'.log')\n",
    "        if '.pt' in event.src_path:\n",
    "            print(\"EVENT -- MODIFIED: {}\".format(event.src_path))\n",
    "            o = sp_grep(self.log, match='Epoch')\n",
    "            es, ts, ps = epoch_tail(grepopt = o)\n",
    "            print(es, ts, ps)\n",
    "            for idx, e in enumerate(es):\n",
    "                if len(e) == 1:\n",
    "                    e = '0'+e\n",
    "                psuff = ps[idx]\n",
    "                if psuff == 'NOUPDATE':\n",
    "                    continue\n",
    "                p = os.path.join(self.targetDir, 'MODEL_MGGA_e{}'.format(e))\n",
    "                pt = os.path.join(self.watchDir, self.prefix+psuff)\n",
    "                tpt = os.path.join(self.targetDir, 'MODEL_MGGA_e{}'.format(e), self.prefix+psuff)\n",
    "                sl = os.path.join(self.targetDir, 'MODEL_MGGA_e{}'.format(e), 'xc')\n",
    "                try:\n",
    "                    print(\"os.mkdir({})\".format(p))\n",
    "                    os.mkdir(p)\n",
    "                    print('waiting...')\n",
    "                    time.sleep(10)\n",
    "                except:\n",
    "                    e = sys.exc_info()[0]\n",
    "                    print(e)\n",
    "                    #if directory exists, continue to next file\n",
    "                    continue\n",
    "                try:\n",
    "                    print('waiting...')\n",
    "                    time.sleep(10)\n",
    "                    print(\"shutil.copy:\")\n",
    "                    print(\"{} -> {}\".format(pt, tpt))\n",
    "                    shutil.copy(src=pt, dst=tpt)\n",
    "                    print('os.symlink: {} -> {}'.format(tpt, sl))\n",
    "                    os.symlink(tpt, sl)\n",
    "                except:\n",
    "                    e = sys.exc_info()[0]\n",
    "                    print(e)\n",
    "                    #either directory exists or file does not yet exist\n",
    "                    pass \n"
   ]
  },
  {
   "cell_type": "code",
   "execution_count": 7,
   "id": "85852b49",
   "metadata": {},
   "outputs": [],
   "source": [
    "tst = '/home/awills/Documents/Research/swxcd/train/test_subset2/pts13'\n",
    "tts = '/2022-08-18_17:46:53.422701'\n",
    "o = sp_grep(tst+tts+'.log', match='Epoch')\n",
    "es, ts, ps = epoch_tail(grepopt = o)"
   ]
  },
  {
   "cell_type": "code",
   "execution_count": 8,
   "id": "c6993569",
   "metadata": {},
   "outputs": [
    {
     "data": {
      "text/plain": [
       "(['0'], ['|| total loss 42'], ['_0.pt'])"
      ]
     },
     "execution_count": 8,
     "metadata": {},
     "output_type": "execute_result"
    }
   ],
   "source": [
    "es, ts, ps"
   ]
  },
  {
   "cell_type": "code",
   "execution_count": 6,
   "id": "0b832840",
   "metadata": {},
   "outputs": [
    {
     "name": "stdout",
     "output_type": "stream",
     "text": [
      "EVENT -- CREATED: /home/awills/Documents/Research/swxcd/train/test_subset2/pts8/2022-08-16_16:22:57.255875.log\n",
      "EVENT -- CREATED: /home/awills/Documents/Research/swxcd/train/test_subset2/pts8/2022-08-16_16:22:57.255875_current.pt\n",
      "['0'] ['']\n",
      "os.mkdir(/home/awills/Documents/Research/swxcd/eval/test_subset2/pts8/MODEL_MGGA_e00)\n",
      "waiting...\n",
      "waiting...\n",
      "shutil.copy:\n",
      "/home/awills/Documents/Research/swxcd/train/test_subset2/pts8/2022-08-16_16:22:57.255875_0.pt -> /home/awills/Documents/Research/swxcd/eval/test_subset2/pts8/MODEL_MGGA_e00/2022-08-16_16:22:57.255875_0.pt\n",
      "os.symlink: /home/awills/Documents/Research/swxcd/eval/test_subset2/pts8/MODEL_MGGA_e00/2022-08-16_16:22:57.255875_0.pt -> /home/awills/Documents/Research/swxcd/eval/test_subset2/pts8/MODEL_MGGA_e00/xc\n",
      "EVENT -- MODIFIED: /home/awills/Documents/Research/swxcd/train/test_subset2/pts8/2022-08-16_16:22:57.255875_current.pt\n",
      "['0'] ['']\n",
      "os.mkdir(/home/awills/Documents/Research/swxcd/eval/test_subset2/pts8/MODEL_MGGA_e00)\n",
      "<class 'FileExistsError'>\n",
      "EVENT -- CREATED: /home/awills/Documents/Research/swxcd/train/test_subset2/pts8/2022-08-16_16:22:57.255875_0.pt\n",
      "['0'] ['']\n",
      "os.mkdir(/home/awills/Documents/Research/swxcd/eval/test_subset2/pts8/MODEL_MGGA_e00)\n",
      "<class 'FileExistsError'>\n",
      "EVENT -- MODIFIED: /home/awills/Documents/Research/swxcd/train/test_subset2/pts8/2022-08-16_16:22:57.255875_0.pt\n",
      "['0'] ['']\n",
      "os.mkdir(/home/awills/Documents/Research/swxcd/eval/test_subset2/pts8/MODEL_MGGA_e00)\n",
      "<class 'FileExistsError'>\n"
     ]
    }
   ],
   "source": [
    "obs = Observer()\n",
    "watchdir = '/home/awills/Documents/Research/swxcd/train/test_subset2/pts8'\n",
    "targdir = '/home/awills/Documents/Research/swxcd/eval/test_subset2/pts8'\n",
    "hand = CheckpointHandler(watchDir = watchdir, targetDir = targdir)\n",
    "obs.schedule(hand, path=watchdir)\n",
    "obs.start()"
   ]
  },
  {
   "cell_type": "code",
   "execution_count": 5,
   "id": "206e869b",
   "metadata": {},
   "outputs": [],
   "source": [
    "obs.stop()\n",
    "obs.join()"
   ]
  },
  {
   "cell_type": "code",
   "execution_count": null,
   "id": "4df8d70b",
   "metadata": {},
   "outputs": [],
   "source": []
  }
 ],
 "metadata": {
  "kernelspec": {
   "display_name": "Python 3 (ipykernel)",
   "language": "python",
   "name": "python3"
  },
  "language_info": {
   "codemirror_mode": {
    "name": "ipython",
    "version": 3
   },
   "file_extension": ".py",
   "mimetype": "text/x-python",
   "name": "python",
   "nbconvert_exporter": "python",
   "pygments_lexer": "ipython3",
   "version": "3.7.11"
  }
 },
 "nbformat": 4,
 "nbformat_minor": 5
}
