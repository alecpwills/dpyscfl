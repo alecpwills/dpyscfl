{
 "cells": [
  {
   "cell_type": "code",
   "execution_count": 7,
   "id": "b7ec9357",
   "metadata": {},
   "outputs": [],
   "source": [
    "from torch import tensor\n",
    "import torch\n",
    "import numpy as np"
   ]
  },
  {
   "cell_type": "markdown",
   "id": "deac4e74",
   "metadata": {},
   "source": [
    "Debugging the old xcdiff's atomization energies code"
   ]
  },
  {
   "cell_type": "code",
   "execution_count": 49,
   "id": "bdea6f66",
   "metadata": {},
   "outputs": [],
   "source": [
    "def atomization_energies(energies):\n",
    "    \"\"\"[summary]\n",
    "\n",
    "    Args:\n",
    "        energies ([type]): [description]\n",
    "    \"\"\"\n",
    "    def split(el):\n",
    "        \"\"\"[summary]\n",
    "\n",
    "        Args:\n",
    "            el ([type]): [description]\n",
    "\n",
    "        Returns:\n",
    "            [type]: [description]\n",
    "        \"\"\"\n",
    "        import re\n",
    "        res_list = [s for s in re.split(\"([A-Z][^A-Z]*)\", el) if s]\n",
    "        return res_list\n",
    "\n",
    "\n",
    "    ae = {}\n",
    "    for key in energies:\n",
    "        if isinstance(energies[key],torch.Tensor):\n",
    "            if len(split(key)) == 1:continue\n",
    "            e_tot = energies[key].clone()\n",
    "            e_tot_key = key\n",
    "        else:\n",
    "            e_tot = np.array(energies[key])\n",
    "            e_tot_key = key\n",
    "        print('AE Loss Call: Key/Energy Start ', key, e_tot)\n",
    "        for symbol in split(key):\n",
    "            e_tot -= energies[symbol]\n",
    "            print('{} - {}: {} - {} = {}'.format(e_tot_key, symbol, e_tot + energies[symbol], energies[symbol], e_tot))\n",
    "        ae[key] = e_tot\n",
    "        print('AE Loss Result: ', ae)\n",
    "    return ae\n",
    "\n",
    "def atomization_energies2(energies):\n",
    "    \"\"\"Calculates atomization energies based on a dictionary of molecule/atomic energies.\n",
    "    \n",
    "    energies['ABCD'] = molecular energy\n",
    "    energies['A'], energies['B'], etc. = atomic energy.\n",
    "    \n",
    "    Loops over ABCD - A - B - C - D\n",
    "\n",
    "    Args:\n",
    "        energies (dict): dictionary of molecule and constituent atomic energies.\n",
    "    \"\"\"\n",
    "    def split(el):\n",
    "        \"\"\"Regex split molecule's symbolic expansion into constituent elements.\n",
    "        No numbers must be present -- CH2 = CHH.\n",
    "\n",
    "        Args:\n",
    "            el (str): Molecule symbols\n",
    "\n",
    "        Returns:\n",
    "            list: list of individual atoms in molecule\n",
    "        \"\"\"\n",
    "        import re\n",
    "        res_list = [s for s in re.split(\"([A-Z][^A-Z]*)\", el) if s]\n",
    "        return res_list\n",
    "\n",
    "\n",
    "    ae = {}\n",
    "    for key in energies:\n",
    "        if isinstance(energies[key],torch.Tensor):\n",
    "            #if len(split(key)) == 1:continue\n",
    "            e_tot = torch.clone(energies[key])\n",
    "            e_tot_size = e_tot.size()\n",
    "        else:\n",
    "            e_tot = np.array(energies[key])\n",
    "            e_tot_size = e_tot.shape\n",
    "        symsplit = split(key)\n",
    "        #If it is an AA reaction, energy difference between same species configurations.\n",
    "        #Don't subtract A off twice, subtract AA-A for the target energy difference.\n",
    "        if symsplit == ['A', 'A']:\n",
    "            symsplit = ['A']\n",
    "        for symbol in symsplit:\n",
    "            #if single atom, continue\n",
    "            if len(split(key)) == 1: continue\n",
    "            e_sub = energies[symbol]\n",
    "            e_sub_size = e_sub.size() if isinstance(e_sub, torch.Tensor) else e_sub.shape\n",
    "            if e_tot_size == e_sub_size:\n",
    "                e_tot -= e_sub\n",
    "            else:\n",
    "                e_tot -= e_sub[-1:]\n",
    "            print('{} - {}: {}'.format(key, symbol, e_tot))\n",
    "            ae[key] = e_tot\n",
    "    if ae == {}:\n",
    "        #empty dict -- no splitting occurred, so single atom\n",
    "        ae[key] = e_tot\n",
    "    print(\"Atomization Energy Final\")\n",
    "    print(ae)\n",
    "    return ae\n"
   ]
  },
  {
   "cell_type": "markdown",
   "id": "45edbcf3",
   "metadata": {},
   "source": [
    "Must work on a molecule for atomization energies, A+B->AB reactions, and A+A-> AA reactions"
   ]
  },
  {
   "cell_type": "code",
   "execution_count": 50,
   "id": "279522de",
   "metadata": {},
   "outputs": [],
   "source": [
    "test1 = {'A': tensor([-0.5000]), 'B': tensor([-184.6712]), 'AB': tensor([-185.1557])}\n",
    "test1ref = .0289\n",
    "test2 = {'A': tensor([-18.4576]), 'AA':tensor([-22.8865*2])}\n",
    "test2ref = -0.0618\n",
    "test3 = {'COO': tensor([-27.6939, -27.5877, -27.5128, -27.4599, -27.4224, -27.3957, -27.3767, -27.3630, -27.3532, -27.3461]),\n",
    "         'C': tensor([-11.3933]), 'O': tensor([-17.8538])}\n",
    "test3ref = -.6223\n",
    "test4 = {'A': tensor([-0.5000]), 'B': tensor([-184.6712]), 'AB': tensor([-185.1557])}\n",
    "test4ref = 0.0289"
   ]
  },
  {
   "cell_type": "code",
   "execution_count": 51,
   "id": "55f45e52",
   "metadata": {
    "scrolled": true
   },
   "outputs": [
    {
     "name": "stdout",
     "output_type": "stream",
     "text": [
      "AE Loss Call: Key/Energy Start  AB tensor([-185.1557])\n",
      "AB - A: tensor([-185.1557]) - tensor([-0.5000]) = tensor([-184.6557])\n",
      "AB - B: tensor([-184.6557]) - tensor([-184.6712]) = tensor([0.0155])\n",
      "AE Loss Result:  {'AB': tensor([0.0155])}\n",
      "{'AB': tensor([0.0155])} 0.0289\n",
      "AE Loss Call: Key/Energy Start  AA tensor([-45.7730])\n",
      "AA - A: tensor([-45.7730]) - tensor([-18.4576]) = tensor([-27.3154])\n",
      "AA - A: tensor([-27.3154]) - tensor([-18.4576]) = tensor([-8.8578])\n",
      "AE Loss Result:  {'AA': tensor([-8.8578])}\n",
      "{'AA': tensor([-8.8578])} -0.0618\n",
      "AE Loss Call: Key/Energy Start  COO tensor([-27.6939, -27.5877, -27.5128, -27.4599, -27.4224, -27.3957, -27.3767,\n",
      "        -27.3630, -27.3532, -27.3461])\n",
      "COO - C: tensor([-27.6939, -27.5877, -27.5128, -27.4599, -27.4224, -27.3957, -27.3767,\n",
      "        -27.3630, -27.3532, -27.3461]) - tensor([-11.3933]) = tensor([-16.3006, -16.1944, -16.1195, -16.0666, -16.0291, -16.0024, -15.9834,\n",
      "        -15.9697, -15.9599, -15.9528])\n",
      "COO - O: tensor([-16.3006, -16.1944, -16.1195, -16.0666, -16.0291, -16.0024, -15.9834,\n",
      "        -15.9697, -15.9599, -15.9528]) - tensor([-17.8538]) = tensor([1.5532, 1.6594, 1.7343, 1.7872, 1.8247, 1.8514, 1.8704, 1.8841, 1.8939,\n",
      "        1.9010])\n",
      "COO - O: tensor([1.5532, 1.6594, 1.7343, 1.7872, 1.8247, 1.8514, 1.8704, 1.8841, 1.8939,\n",
      "        1.9010]) - tensor([-17.8538]) = tensor([19.4070, 19.5132, 19.5881, 19.6410, 19.6785, 19.7052, 19.7242, 19.7379,\n",
      "        19.7477, 19.7548])\n",
      "AE Loss Result:  {'COO': tensor([19.4070, 19.5132, 19.5881, 19.6410, 19.6785, 19.7052, 19.7242, 19.7379,\n",
      "        19.7477, 19.7548])}\n",
      "{'COO': tensor([19.4070, 19.5132, 19.5881, 19.6410, 19.6785, 19.7052, 19.7242, 19.7379,\n",
      "        19.7477, 19.7548])} -0.6223\n",
      "AE Loss Call: Key/Energy Start  AB tensor([-185.1557])\n",
      "AB - A: tensor([-185.1557]) - tensor([-0.5000]) = tensor([-184.6557])\n",
      "AB - B: tensor([-184.6557]) - tensor([-184.6712]) = tensor([0.0155])\n",
      "AE Loss Result:  {'AB': tensor([0.0155])}\n",
      "{'AB': tensor([0.0155])} 0.0289\n"
     ]
    }
   ],
   "source": [
    "print(atomization_energies(test1), test1ref)\n",
    "print(atomization_energies(test2), test2ref)\n",
    "print(atomization_energies(test3), test3ref)\n",
    "print(atomization_energies(test4), test4ref)"
   ]
  },
  {
   "cell_type": "code",
   "execution_count": 43,
   "id": "e7e9815c",
   "metadata": {},
   "outputs": [
    {
     "name": "stdout",
     "output_type": "stream",
     "text": [
      "AB - A: tensor([-184.6557])\n",
      "AB - B: tensor([0.0155])\n",
      "Atomization Energy Final\n",
      "{'AB': tensor([0.0155])}\n",
      "{'AB': tensor([0.0155])} 0.0289\n",
      "AA - A: tensor([-4.4289])\n",
      "Atomization Energy Final\n",
      "{'AA': tensor([-4.4289])}\n",
      "{'AA': tensor([-4.4289])} -0.0618\n",
      "COO - C: tensor([-16.3006, -16.1944, -16.1195, -16.0666, -16.0291, -16.0024, -15.9834,\n",
      "        -15.9697, -15.9599, -15.9528])\n",
      "COO - O: tensor([1.5532, 1.6594, 1.7343, 1.7872, 1.8247, 1.8514, 1.8704, 1.8841, 1.8939,\n",
      "        1.9010])\n",
      "COO - O: tensor([19.4070, 19.5132, 19.5881, 19.6410, 19.6785, 19.7052, 19.7242, 19.7379,\n",
      "        19.7477, 19.7548])\n",
      "Atomization Energy Final\n",
      "{'COO': tensor([19.4070, 19.5132, 19.5881, 19.6410, 19.6785, 19.7052, 19.7242, 19.7379,\n",
      "        19.7477, 19.7548])}\n",
      "{'COO': tensor([19.4070, 19.5132, 19.5881, 19.6410, 19.6785, 19.7052, 19.7242, 19.7379,\n",
      "        19.7477, 19.7548])} -0.6223\n"
     ]
    }
   ],
   "source": [
    "print(atomization_energies2(test1), test1ref)\n",
    "test2a = {'A': tensor([-18.4576]), 'AA':tensor([-22.8865])}\n",
    "print(atomization_energies2(test2a), test2ref)\n",
    "print(atomization_energies2(test3), test3ref)"
   ]
  }
 ],
 "metadata": {
  "kernelspec": {
   "display_name": "Python 3 (ipykernel)",
   "language": "python",
   "name": "python3"
  },
  "language_info": {
   "codemirror_mode": {
    "name": "ipython",
    "version": 3
   },
   "file_extension": ".py",
   "mimetype": "text/x-python",
   "name": "python",
   "nbconvert_exporter": "python",
   "pygments_lexer": "ipython3",
   "version": "3.7.11"
  }
 },
 "nbformat": 4,
 "nbformat_minor": 5
}
