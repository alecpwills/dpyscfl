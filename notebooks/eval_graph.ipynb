{
 "cells": [
  {
   "cell_type": "code",
   "execution_count": 1,
   "id": "e52aa088",
   "metadata": {},
   "outputs": [],
   "source": [
    "from torch.utils.data import DataLoader \n",
    "import torch\n",
    "import matplotlib.pyplot as plt\n",
    "from pyscf import gto, dft, scf \n",
    "from kspies import wy, zmp\n",
    "from dpyscfl.scf import *\n",
    "from dpyscfl.net import *\n",
    "from dpyscfl.utils import *\n",
    "import os, shutil, copy\n",
    "from ase import Atoms\n",
    "from ase.units import Bohr, Hartree\n",
    "import pickle\n",
    "\n",
    "from ase.io import read, write\n",
    "from torchviz import make_dot\n",
    "import pylibnxc\n",
    "def freeze_net(nn):\n",
    "    for i in nn.parameters():\n",
    "        i.requires_grad = False\n",
    "def unfreeze_net(nn):\n",
    "    for i in nn.parameters():\n",
    "        i.requires_grad = True\n",
    "def freeze_append_xc(model):\n",
    "    freeze_net(model.xc)\n",
    "    chil = [i for i in model.xc.children() if isinstance(i, torch.nn.ModuleList)][0]\n",
    "    xl = [i for i in chil[0].net.children()]\n",
    "    cl = [i for i in chil[1].net.children()]\n",
    "    xout = xl.pop()\n",
    "    cout = cl.pop()\n",
    "    #duplicate last layer and GELU\n",
    "    xl += xl[-2:]\n",
    "    cl += cl[-2:]\n",
    "    #set last layer as unfrozen\n",
    "    for p in xl[-2].parameters():\n",
    "        p.requires_grad = True\n",
    "    for p in cl[-2].parameters():\n",
    "        p.requires_grad = True\n",
    "    xl.append(xout)\n",
    "    cl.append(cout)\n",
    "    chil[0].net = torch.nn.Sequential(*xl)\n",
    "    chil[1].net = torch.nn.Sequential(*cl)\n",
    "\n",
    "def eval_xc(xc_code, rho, spin=0, relativity=0, deriv=1, verbose=None):\n",
    "    \"\"\" Evaluation for grid-based models (not atomic)\n",
    "        See pyscf documentation of eval_xc\n",
    "    \"\"\"\n",
    "    inp = {}\n",
    "    if spin == 0:\n",
    "        if rho.ndim == 1:\n",
    "            rho = rho.reshape(1, -1)\n",
    "        inp['rho'] = rho[0]\n",
    "        if len(rho) > 1:\n",
    "            dx, dy, dz = rho[1:4]\n",
    "            gamma = (dx**2 + dy**2 + dz**2)\n",
    "            inp['sigma'] = gamma\n",
    "        if len(rho) > 4:\n",
    "            inp['lapl'] = rho[4]\n",
    "            inp['tau'] = rho[5]\n",
    "    else:\n",
    "        rho_a, rho_b = rho\n",
    "        if rho_a.ndim == 1:\n",
    "            rho_a = rho_a.reshape(1, -1)\n",
    "            rho_b = rho_b.reshape(1, -1)\n",
    "        inp['rho'] = np.stack([rho_a[0], rho_b[0]])\n",
    "        if len(rho_a) > 1:\n",
    "            dxa, dya, dza = rho_a[1:4]\n",
    "            dxb, dyb, dzb = rho_b[1:4]\n",
    "            gamma_a = (dxa**2 + dya**2 + dza**2)  #compute contracted gradients\n",
    "            gamma_b = (dxb**2 + dyb**2 + dzb**2)\n",
    "            gamma_ab = (dxb * dxa + dyb * dya + dzb * dza)\n",
    "            inp['sigma'] = np.stack([gamma_a, gamma_ab, gamma_b])\n",
    "        if len(rho_a) > 4:\n",
    "            inp['lapl'] = np.stack([rho_a[4], rho_b[4]])\n",
    "            inp['tau'] = np.stack([rho_a[5], rho_b[5]])\n",
    "\n",
    "    parsed_xc = pylibnxc.pyscf.utils.parse_xc_code(xc_code)\n",
    "    total_output = {'v' + key: 0.0 for key in inp}\n",
    "    total_output['zk'] = 0\n",
    "    #print(parsed_xc)\n",
    "    for code, factor in parsed_xc[1]:\n",
    "        model = pylibnxc.LibNXCFunctional(xc_code, kind='grid')\n",
    "        output = model.compute(inp)\n",
    "        for key in output:\n",
    "            if output[key] is not None:\n",
    "                total_output[key] += output[key] * factor\n",
    "\n",
    "    exc, vlapl, vtau, vrho, vsigma = [total_output.get(key,None)\\\n",
    "      for key in ['zk','vlapl','vtau','vrho','vsigma']]\n",
    "\n",
    "    vxc = (vrho, vsigma, vlapl, vtau)\n",
    "    fxc = None  # 2nd order functional derivative\n",
    "    kxc = None  # 3rd order functional derivative\n",
    "    return exc, vxc, fxc, kxc\n",
    "\n",
    "def KS(mol, method, model_path='', nxc_kind='grid', **kwargs):\n",
    "    \"\"\" Wrapper for the pyscf RKS and UKS class\n",
    "    that uses a libnxc functionals\n",
    "    \"\"\"\n",
    "    #hyb = kwargs.get('hyb', 0)\n",
    "    mf = method(mol, **kwargs)\n",
    "    if model_path != '':\n",
    "        if nxc_kind.lower() == 'atomic':\n",
    "            model = get_nxc_adapter('pyscf', model_path)\n",
    "            mf.get_veff = veff_mod_atomic(mf, model)\n",
    "        elif nxc_kind.lower() == 'grid':\n",
    "            parsed_xc = pylibnxc.pyscf.utils.parse_xc_code(model_path)\n",
    "            dft.libxc.define_xc_(mf._numint,\n",
    "                                 eval_xc,\n",
    "                                 pylibnxc.pyscf.utils.find_max_level(parsed_xc),\n",
    "                                 hyb=parsed_xc[0][0])\n",
    "            mf.xc = model_path\n",
    "        else:\n",
    "            raise ValueError(\n",
    "                \"{} not a valid nxc_kind. Valid options are 'atomic' or 'grid'\"\n",
    "                .format(nxc_kind))\n",
    "    return mf\n"
   ]
  },
  {
   "cell_type": "code",
   "execution_count": 2,
   "id": "23b352ed",
   "metadata": {},
   "outputs": [
    {
     "name": "stderr",
     "output_type": "stream",
     "text": [
      "/home/awills/anaconda3/envs/rsrch/lib/python3.7/site-packages/ase/io/jsonio.py:58: VisibleDeprecationWarning: Creating an ndarray from ragged nested sequences (which is a list-or-tuple of lists-or-tuples-or ndarrays with different lengths or shapes) is deprecated. If you meant to do this, you must specify 'dtype=object' when creating the ndarray.\n",
      "  a = np.array(obj)\n"
     ]
    }
   ],
   "source": [
    "ref = read('/home/awills/Documents/Research/swxcd/seawulf/g2_97_3/results.traj', ':')\n",
    "xcdp = '/home/awills/Documents/Research/swxcd/eval/xcdiff/g2_97/preds'\n",
    "xcdfp = '/home/awills/Documents/Research/swxcd/eval/xcdiff_frac/g2_97/predsmgga'\n",
    "xcdfpg = '/home/awills/Documents/Research/swxcd/eval/xcdiff_frac/g2_97/predsggatest'\n",
    "xcde = []\n",
    "xcdfe = []\n",
    "xcdfeg = []\n",
    "ref_es = [at.calc.results['energy']/Hartree for at in ref]\n",
    "for idx,atom in enumerate(ref):\n",
    "    pckl = '{}_{}.pckl'.format(idx, atom.symbols)\n",
    "    with open(xcdp+'/{}'.format(pckl), 'rb') as f:\n",
    "        e = pickle.load(f)\n",
    "    xcde.append(e['E'])\n",
    "    with open(xcdfp+'/{}'.format(pckl), 'rb') as f:\n",
    "        e = pickle.load(f)\n",
    "    xcdfe.append(e['E'])\n",
    "    with open(xcdfpg+'/{}'.format(pckl), 'rb') as f:\n",
    "        e = pickle.load(f)\n",
    "    xcdfeg.append(e['E'])\n",
    "\n",
    "n_atoms = [len(at.positions) for at in ref]\n",
    "def mse(ref_es, pred_es, n_atoms):\n",
    "    err = []\n",
    "    for idx in range(len(ref_es)):\n",
    "        ref = ref_es[idx]\n",
    "        pred = pred_es[idx]\n",
    "        nat = n_atoms[idx]\n",
    "        err.append((ref-pred)**2)\n",
    "    mse = np.mean(err)\n",
    "    std = np.std(err)\n",
    "    return ([np.sqrt(ierr) for ierr in err], mse, std)"
   ]
  },
  {
   "cell_type": "code",
   "execution_count": 3,
   "id": "a4bd9261",
   "metadata": {},
   "outputs": [],
   "source": [
    "xcderr, xcdmse, xcdstd = mse(ref_es, xcde, n_atoms)\n",
    "xcdferr, xcdfmse, xcdfstd = mse(ref_es, xcdfe, n_atoms)\n",
    "xcdfgerr, xcdfgmse, xcdfgstd = mse(ref_es, xcdfeg, n_atoms)\n",
    "xcderra = np.array(xcderr)\n",
    "xcdferra = np.array(xcdferr)\n",
    "xcdfgerra = np.array(xcdfgerr)"
   ]
  },
  {
   "cell_type": "code",
   "execution_count": 4,
   "id": "f184cab5",
   "metadata": {},
   "outputs": [
    {
     "data": {
      "text/plain": [
       "Text(0.5, 0, 'XC Training')"
      ]
     },
     "execution_count": 4,
     "metadata": {},
     "output_type": "execute_result"
    },
    {
     "data": {
      "image/png": "[encoded data removed]",
      "text/plain": [
       "<Figure size 1152x576 with 1 Axes>"
      ]
     },
     "metadata": {
      "needs_background": "light"
     },
     "output_type": "display_data"
    }
   ],
   "source": [
    "f = plt.figure(figsize=(16,8))\n",
    "ax = f.add_subplot(111)\n",
    "xtlabs = ['XCDiff:\\n{:3.4f}'.format(xcdmse),'XCDiff+F:\\n{:3.4f}'.format(xcdfgmse),'XCDiff+F (Freeze):\\n{:3.4f}'.format(xcdfmse)]\n",
    "ax.bar(1, xcdmse, label='XCDiff: {:3.4f}'.format(xcdmse))\n",
    "ax.bar(3, xcdfmse, label='XCDiff+F (Freeze): {:3.4f}'.format(xcdfmse))\n",
    "ax.bar(2, xcdfgmse, label='XCDiff+F: {:3.4f}'.format(xcdfgmse))\n",
    "ax.set_xticks([1,2,3])\n",
    "ax.set_xticklabels(xtlabs, fontsize=14)\n",
    "ax.set_ylabel(\"MSE (Hartree)\", fontsize=16)\n",
    "ax.set_xlabel(\"XC Training\", fontsize=16)"
   ]
  },
  {
   "cell_type": "code",
   "execution_count": 5,
   "id": "c4232f52",
   "metadata": {},
   "outputs": [
    {
     "data": {
      "text/plain": [
       "<BarContainer object of 148 artists>"
      ]
     },
     "execution_count": 5,
     "metadata": {},
     "output_type": "execute_result"
    },
    {
     "data": {
      "image/png": "[encoded data removed]",
      "text/plain": [
       "<Figure size 1152x576 with 1 Axes>"
      ]
     },
     "metadata": {
      "needs_background": "light"
     },
     "output_type": "display_data"
    }
   ],
   "source": [
    "f = plt.figure(figsize=(16,8))\n",
    "ax = f.add_subplot(111)\n",
    "ax.grid()\n",
    "def gen_xs_bar(*args, **kwargs):\n",
    "    midsep = kwargs.get('midsep', 1)\n",
    "    width = kwargs.get('width', midsep/(len(args)+2))\n",
    "    xs = []\n",
    "    start = -len(args)//2\n",
    "    for iarg in range(len(args)):\n",
    "        arg = args[iarg]\n",
    "        argxs = []\n",
    "        for igroup in range(len(arg)):\n",
    "            argxs.append(igroup*midsep+start*width)\n",
    "        start += 1\n",
    "        xs.append(argxs)\n",
    "    return xs\n",
    "xcdx, xcdfx, xcdfgx = gen_xs_bar(xcderr, xcdferr, xcdfgerr, width=0.3)\n",
    "ax.bar(xcdx, xcderr, width=0.3)\n",
    "ax.bar(xcdfgx, xcdfgerr, width=0.3)\n",
    "ax.bar(xcdfx, xcdferr, width=0.3)"
   ]
  },
  {
   "cell_type": "code",
   "execution_count": null,
   "id": "c9ebd94f",
   "metadata": {},
   "outputs": [],
   "source": []
  }
 ],
 "metadata": {
  "kernelspec": {
   "display_name": "Python 3 (ipykernel)",
   "language": "python",
   "name": "python3"
  },
  "language_info": {
   "codemirror_mode": {
    "name": "ipython",
    "version": 3
   },
   "file_extension": ".py",
   "mimetype": "text/x-python",
   "name": "python",
   "nbconvert_exporter": "python",
   "pygments_lexer": "ipython3",
   "version": "3.7.11"
  }
 },
 "nbformat": 4,
 "nbformat_minor": 5
}
