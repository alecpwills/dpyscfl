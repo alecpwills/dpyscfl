{
 "cells": [
  {
   "cell_type": "markdown",
   "id": "24324430",
   "metadata": {},
   "source": [
    "# Comparison of `dpyscfl` with the standalone repo of `dpyscf`"
   ]
  },
  {
   "cell_type": "markdown",
   "id": "75bcdd56",
   "metadata": {},
   "source": [
    "## `net.py`"
   ]
  },
  {
   "cell_type": "markdown",
   "id": "025d2947",
   "metadata": {},
   "source": [
    "- XC\n",
    "    - __init__\n",
    "        - epsilon defaults to 1e-8 in lite, 1e-7 in repo\n",
    "        - There are various arguments in repo that aren't in lite -- polynomial, omega, meta_x, nxc_models (all default to falsey values)\n",
    "    - In repo, descriptor functions are nested in `get_descriptors`. In lite, they're class methods called within `get_descriptors`.\n",
    "    - `l_3`\n",
    "        - `tw` is used explicitly in repo, with an additional additive term in the denominator involving it. Lite calculates it, but then just calculates again in return function, in addition to using self.epsilon instead of the 1e-12+tw*1e-3 factor\n",
    "    - `get_descriptors`\n",
    "        - Beyond what's listed above for the actual descriptor functions\n",
    "        - `descr3` is additionally modified in lite if no spin scaling: `descr3 = descr3/((1+zeta)**(2/3) + (1-zeta)**2/3)` is commented out in repo version\n",
    "        - `descr4` is similarly further modified in lite over repo: if spin scaling, `descr4 = descr4**3/(descr4**2+self.epsilon)` is commented out in repo, and if not: `descr4 = 2*descr4/((1+zeta)**(5/3) + (1-zeta)**(5/3)); descr4 = descr4**3/(descr4**2+self.epsilon)` is commented out in repo"
   ]
  },
  {
   "cell_type": "code",
   "execution_count": null,
   "id": "f43cfa6c",
   "metadata": {},
   "outputs": [],
   "source": []
  }
 ],
 "metadata": {
  "kernelspec": {
   "display_name": "Python 3 (ipykernel)",
   "language": "python",
   "name": "python3"
  },
  "language_info": {
   "codemirror_mode": {
    "name": "ipython",
    "version": 3
   },
   "file_extension": ".py",
   "mimetype": "text/x-python",
   "name": "python",
   "nbconvert_exporter": "python",
   "pygments_lexer": "ipython3",
   "version": "3.7.11"
  }
 },
 "nbformat": 4,
 "nbformat_minor": 5
}
