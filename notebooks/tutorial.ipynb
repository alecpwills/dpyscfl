{
 "cells": [
  {
   "cell_type": "code",
   "execution_count": 2,
   "metadata": {},
   "outputs": [],
   "source": [
    "from torch.utils.data import DataLoader \n",
    "import torch\n",
    "import matplotlib.pyplot as plt\n",
    "from pyscf import gto, dft, scf \n",
    "from kspies import wy, zmp\n",
    "from dpyscfl.scf import *\n",
    "from dpyscfl.net import *\n",
    "from dpyscfl.utils import *\n",
    "import os, shutil, copy\n",
    "from ase import Atoms\n",
    "from ase.units import Bohr, Hartree\n",
    "import pickle\n",
    "\n",
    "from ase.io import read, write\n",
    "from torchviz import make_dot\n",
    "import pylibnxc\n",
    "def freeze_net(nn):\n",
    "    for i in nn.parameters():\n",
    "        i.requires_grad = False\n",
    "def unfreeze_net(nn):\n",
    "    for i in nn.parameters():\n",
    "        i.requires_grad = True\n",
    "def freeze_append_xc(model):\n",
    "    freeze_net(model.xc)\n",
    "    chil = [i for i in model.xc.children() if isinstance(i, torch.nn.ModuleList)][0]\n",
    "    xl = [i for i in chil[0].net.children()]\n",
    "    cl = [i for i in chil[1].net.children()]\n",
    "    xout = xl.pop()\n",
    "    cout = cl.pop()\n",
    "    #duplicate last layer and GELU\n",
    "    xl += xl[-2:]\n",
    "    cl += cl[-2:]\n",
    "    #set last layer as unfrozen\n",
    "    for p in xl[-2].parameters():\n",
    "        p.requires_grad = True\n",
    "    for p in cl[-2].parameters():\n",
    "        p.requires_grad = True\n",
    "    xl.append(xout)\n",
    "    cl.append(cout)\n",
    "    chil[0].net = torch.nn.Sequential(*xl)\n",
    "    chil[1].net = torch.nn.Sequential(*cl)\n",
    "\n",
    "def eval_xc(xc_code, rho, spin=0, relativity=0, deriv=1, verbose=None):\n",
    "    \"\"\" Evaluation for grid-based models (not atomic)\n",
    "        See pyscf documentation of eval_xc\n",
    "    \"\"\"\n",
    "    inp = {}\n",
    "    if spin == 0:\n",
    "        if rho.ndim == 1:\n",
    "            rho = rho.reshape(1, -1)\n",
    "        inp['rho'] = rho[0]\n",
    "        if len(rho) > 1:\n",
    "            dx, dy, dz = rho[1:4]\n",
    "            gamma = (dx**2 + dy**2 + dz**2)\n",
    "            inp['sigma'] = gamma\n",
    "        if len(rho) > 4:\n",
    "            inp['lapl'] = rho[4]\n",
    "            inp['tau'] = rho[5]\n",
    "    else:\n",
    "        rho_a, rho_b = rho\n",
    "        if rho_a.ndim == 1:\n",
    "            rho_a = rho_a.reshape(1, -1)\n",
    "            rho_b = rho_b.reshape(1, -1)\n",
    "        inp['rho'] = np.stack([rho_a[0], rho_b[0]])\n",
    "        if len(rho_a) > 1:\n",
    "            dxa, dya, dza = rho_a[1:4]\n",
    "            dxb, dyb, dzb = rho_b[1:4]\n",
    "            gamma_a = (dxa**2 + dya**2 + dza**2)  #compute contracted gradients\n",
    "            gamma_b = (dxb**2 + dyb**2 + dzb**2)\n",
    "            gamma_ab = (dxb * dxa + dyb * dya + dzb * dza)\n",
    "            inp['sigma'] = np.stack([gamma_a, gamma_ab, gamma_b])\n",
    "        if len(rho_a) > 4:\n",
    "            inp['lapl'] = np.stack([rho_a[4], rho_b[4]])\n",
    "            inp['tau'] = np.stack([rho_a[5], rho_b[5]])\n",
    "\n",
    "    parsed_xc = pylibnxc.pyscf.utils.parse_xc_code(xc_code)\n",
    "    total_output = {'v' + key: 0.0 for key in inp}\n",
    "    total_output['zk'] = 0\n",
    "    #print(parsed_xc)\n",
    "    for code, factor in parsed_xc[1]:\n",
    "        model = pylibnxc.LibNXCFunctional(xc_code, kind='grid')\n",
    "        output = model.compute(inp)\n",
    "        for key in output:\n",
    "            if output[key] is not None:\n",
    "                total_output[key] += output[key] * factor\n",
    "\n",
    "    exc, vlapl, vtau, vrho, vsigma = [total_output.get(key,None)\\\n",
    "      for key in ['zk','vlapl','vtau','vrho','vsigma']]\n",
    "\n",
    "    vxc = (vrho, vsigma, vlapl, vtau)\n",
    "    fxc = None  # 2nd order functional derivative\n",
    "    kxc = None  # 3rd order functional derivative\n",
    "    return exc, vxc, fxc, kxc\n",
    "\n",
    "def KS(mol, method, model_path='', nxc_kind='grid', **kwargs):\n",
    "    \"\"\" Wrapper for the pyscf RKS and UKS class\n",
    "    that uses a libnxc functionals\n",
    "    \"\"\"\n",
    "    #hyb = kwargs.get('hyb', 0)\n",
    "    mf = method(mol, **kwargs)\n",
    "    if model_path != '':\n",
    "        if nxc_kind.lower() == 'atomic':\n",
    "            model = get_nxc_adapter('pyscf', model_path)\n",
    "            mf.get_veff = veff_mod_atomic(mf, model)\n",
    "        elif nxc_kind.lower() == 'grid':\n",
    "            parsed_xc = pylibnxc.pyscf.utils.parse_xc_code(model_path)\n",
    "            dft.libxc.define_xc_(mf._numint,\n",
    "                                 eval_xc,\n",
    "                                 pylibnxc.pyscf.utils.find_max_level(parsed_xc),\n",
    "                                 hyb=parsed_xc[0][0])\n",
    "            mf.xc = model_path\n",
    "        else:\n",
    "            raise ValueError(\n",
    "                \"{} not a valid nxc_kind. Valid options are 'atomic' or 'grid'\"\n",
    "                .format(nxc_kind))\n",
    "    return mf\n"
   ]
  },
  {
   "cell_type": "code",
   "execution_count": 3,
   "metadata": {},
   "outputs": [
    {
     "name": "stderr",
     "output_type": "stream",
     "text": [
      "/home/awills/anaconda3/envs/rsrch/lib/python3.7/site-packages/ase/io/jsonio.py:58: VisibleDeprecationWarning: Creating an ndarray from ragged nested sequences (which is a list-or-tuple of lists-or-tuples-or ndarrays with different lengths or shapes) is deprecated. If you meant to do this, you must specify 'dtype=object' when creating the ndarray.\n",
      "  a = np.array(obj)\n"
     ]
    }
   ],
   "source": [
    "ref = read('/home/awills/Documents/Research/swxcd/seawulf/g2_97_3/results.traj', ':')\n",
    "xcdp = '/home/awills/Documents/Research/swxcd/eval/xcdiff/g2_97/preds'\n",
    "xcdfp = '/home/awills/Documents/Research/swxcd/eval/rxnfrac/g2_97/preds2'\n",
    "xcde = []\n",
    "xcdfe = []\n",
    "xcdfeg = []\n",
    "ref_es = [at.calc.results['energy']/Hartree for at in ref]\n",
    "for idx,atom in enumerate(ref):\n",
    "    pckl = '{}_{}.pckl'.format(idx, atom.symbols)\n",
    "    with open(xcdp+'/{}'.format(pckl), 'rb') as f:\n",
    "        e = pickle.load(f)\n",
    "    xcde.append(e['E'])\n",
    "    with open(xcdfp+'/{}'.format(pckl), 'rb') as f:\n",
    "        e = pickle.load(f)\n",
    "    xcdfe.append(e['E'])\n",
    "    #with open(xcdfpg+'/{}'.format(pckl), 'rb') as f:\n",
    "    #    e = pickle.load(f)\n",
    "    #xcdfeg.append(e['E'])\n",
    "\n",
    "n_atoms = [len(at.positions) for at in ref]\n",
    "def mse(ref_es, pred_es, n_atoms):\n",
    "    err = []\n",
    "    for idx in range(len(ref_es)):\n",
    "        ref = ref_es[idx]\n",
    "        pred = pred_es[idx]\n",
    "        nat = n_atoms[idx]\n",
    "        err.append((ref-pred)**2)\n",
    "    mse = np.mean(err)\n",
    "    std = np.std(err)\n",
    "    return ([np.sqrt(ierr) for ierr in err], mse, std)"
   ]
  },
  {
   "cell_type": "code",
   "execution_count": 4,
   "metadata": {},
   "outputs": [
    {
     "data": {
      "text/plain": [
       "{'E': -153.983994406023,\n",
       " 'dm': array([[ 6.42185496e-01,  5.55827146e-01, -4.93505354e-02, ...,\n",
       "          3.83227643e-06,  1.08970177e-04,  6.67851808e-05],\n",
       "        [ 5.55827146e-01,  4.93496394e-01, -1.12396815e-01, ...,\n",
       "          3.47139013e-06,  7.29763002e-05,  7.60645834e-05],\n",
       "        [-4.93505354e-02, -1.12396815e-01,  3.95272795e-01, ...,\n",
       "          1.01690621e-05,  1.28252982e-04, -1.30282451e-04],\n",
       "        ...,\n",
       "        [ 3.83227643e-06,  3.47139013e-06,  1.01690621e-05, ...,\n",
       "          9.88801828e-06, -6.90756124e-06, -2.35148959e-06],\n",
       "        [ 1.08970177e-04,  7.29763002e-05,  1.28252982e-04, ...,\n",
       "         -6.90756124e-06,  7.00578631e-05, -4.17006254e-05],\n",
       "        [ 6.67851808e-05,  7.60645834e-05, -1.30282451e-04, ...,\n",
       "         -2.35148959e-06, -4.17006254e-05,  3.18269652e-05]])}"
      ]
     },
     "execution_count": 4,
     "metadata": {},
     "output_type": "execute_result"
    }
   ],
   "source": [
    "e"
   ]
  },
  {
   "cell_type": "code",
   "execution_count": 10,
   "metadata": {},
   "outputs": [],
   "source": [
    "xcderr, xcdmse, xcdstd = mse(ref_es, xcde, n_atoms)\n",
    "xcdferr, xcdfmse, xcdfstd = mse(ref_es, xcdfe, n_atoms)\n",
    "#xcdfgerr, xcdfgmse, xcdfgstd = mse(ref_es, xcdfeg, n_atoms)"
   ]
  },
  {
   "cell_type": "code",
   "execution_count": 7,
   "metadata": {},
   "outputs": [
    {
     "data": {
      "text/plain": [
       "1"
      ]
     },
     "execution_count": 7,
     "metadata": {},
     "output_type": "execute_result"
    }
   ],
   "source": [
    "3//2"
   ]
  },
  {
   "cell_type": "code",
   "execution_count": 11,
   "metadata": {},
   "outputs": [],
   "source": [
    "xcderra = np.array(xcderr)\n",
    "xcdferra = np.array(xcdferr)\n",
    "#xcdfgerra = np.array(xcdfgerr)"
   ]
  },
  {
   "cell_type": "code",
   "execution_count": 16,
   "metadata": {},
   "outputs": [
    {
     "data": {
      "text/plain": [
       "Text(0.5, 0, 'XC Training')"
      ]
     },
     "execution_count": 16,
     "metadata": {},
     "output_type": "execute_result"
    },
    {
     "data": {
      "image/png": "[encoded data removed]",
      "text/plain": [
       "<Figure size 1152x576 with 1 Axes>"
      ]
     },
     "metadata": {
      "needs_background": "light"
     },
     "output_type": "display_data"
    }
   ],
   "source": [
    "f = plt.figure(figsize=(16,8))\n",
    "ax = f.add_subplot(111)\n",
    "#'XCDiff+F:\\n{:3.4f}'.format(xcdfgmse),\n",
    "xtlabs = ['XCDiff:\\n{:3.4f}'.format(xcdmse),'XCDiff+F (Freeze):\\n{:3.4f}'.format(xcdfmse)]\n",
    "ax.bar(1, xcdmse, label='XCDiff: {:3.4f}'.format(xcdmse))\n",
    "ax.bar(2, xcdfmse, label='XCDiff+F {:3.4f}'.format(xcdfmse))\n",
    "#ax.bar(2, xcdfgmse, label='XCDiff+F: {:3.4f}'.format(xcdfgmse))\n",
    "ax.set_xticks([1,2])\n",
    "ax.set_xticklabels(xtlabs, fontsize=14)\n",
    "ax.set_ylabel(\"MSE (Hartree)\", fontsize=16)\n",
    "ax.set_xlabel(\"XC Training\", fontsize=16)"
   ]
  },
  {
   "cell_type": "code",
   "execution_count": 110,
   "metadata": {},
   "outputs": [
    {
     "data": {
      "text/plain": [
       "<BarContainer object of 148 artists>"
      ]
     },
     "execution_count": 110,
     "metadata": {},
     "output_type": "execute_result"
    },
    {
     "data": {
      "image/png": "[encoded data removed]",
      "text/plain": [
       "<Figure size 1152x576 with 1 Axes>"
      ]
     },
     "metadata": {
      "needs_background": "light"
     },
     "output_type": "display_data"
    }
   ],
   "source": [
    "f = plt.figure(figsize=(16,8))\n",
    "ax = f.add_subplot(111)\n",
    "ax.grid()\n",
    "def gen_xs_bar(*args, **kwargs):\n",
    "    midsep = kwargs.get('midsep', 1)\n",
    "    width = kwargs.get('width', midsep/(len(args)+2))\n",
    "    xs = []\n",
    "    start = -len(args)//2\n",
    "    for iarg in range(len(args)):\n",
    "        arg = args[iarg]\n",
    "        argxs = []\n",
    "        for igroup in range(len(arg)):\n",
    "            argxs.append(igroup*midsep+start*width)\n",
    "        start += 1\n",
    "        xs.append(argxs)\n",
    "    return xs\n",
    "xcdx, xcdfx, xcdfgx = gen_xs_bar(xcderr, xcdferr, xcdfgerr, width=0.3)\n",
    "ax.bar(xcdx, xcderr, width=0.3)\n",
    "ax.bar(xcdfgx, xcdfgerr, width=0.3)\n",
    "ax.bar(xcdfx, xcdferr, width=0.3)"
   ]
  },
  {
   "cell_type": "code",
   "execution_count": 100,
   "metadata": {},
   "outputs": [
    {
     "data": {
      "text/plain": [
       "[0.0,\n",
       " 1.0,\n",
       " 2.0,\n",
       " 3.0,\n",
       " 4.0,\n",
       " 5.0,\n",
       " 6.0,\n",
       " 7.0,\n",
       " 8.0,\n",
       " 9.0,\n",
       " 10.0,\n",
       " 11.0,\n",
       " 12.0,\n",
       " 13.0,\n",
       " 14.0,\n",
       " 15.0,\n",
       " 16.0,\n",
       " 17.0,\n",
       " 18.0,\n",
       " 19.0,\n",
       " 20.0,\n",
       " 21.0,\n",
       " 22.0,\n",
       " 23.0,\n",
       " 24.0,\n",
       " 25.0,\n",
       " 26.0,\n",
       " 27.0,\n",
       " 28.0,\n",
       " 29.0,\n",
       " 30.0,\n",
       " 31.0,\n",
       " 32.0,\n",
       " 33.0,\n",
       " 34.0,\n",
       " 35.0,\n",
       " 36.0,\n",
       " 37.0,\n",
       " 38.0,\n",
       " 39.0,\n",
       " 40.0,\n",
       " 41.0,\n",
       " 42.0,\n",
       " 43.0,\n",
       " 44.0,\n",
       " 45.0,\n",
       " 46.0,\n",
       " 47.0,\n",
       " 48.0,\n",
       " 49.0,\n",
       " 50.0,\n",
       " 51.0,\n",
       " 52.0,\n",
       " 53.0,\n",
       " 54.0,\n",
       " 55.0,\n",
       " 56.0,\n",
       " 57.0,\n",
       " 58.0,\n",
       " 59.0,\n",
       " 60.0,\n",
       " 61.0,\n",
       " 62.0,\n",
       " 63.0,\n",
       " 64.0,\n",
       " 65.0,\n",
       " 66.0,\n",
       " 67.0,\n",
       " 68.0,\n",
       " 69.0,\n",
       " 70.0,\n",
       " 71.0,\n",
       " 72.0,\n",
       " 73.0,\n",
       " 74.0,\n",
       " 75.0,\n",
       " 76.0,\n",
       " 77.0,\n",
       " 78.0,\n",
       " 79.0,\n",
       " 80.0,\n",
       " 81.0,\n",
       " 82.0,\n",
       " 83.0,\n",
       " 84.0,\n",
       " 85.0,\n",
       " 86.0,\n",
       " 87.0,\n",
       " 88.0,\n",
       " 89.0,\n",
       " 90.0,\n",
       " 91.0,\n",
       " 92.0,\n",
       " 93.0,\n",
       " 94.0,\n",
       " 95.0,\n",
       " 96.0,\n",
       " 97.0,\n",
       " 98.0,\n",
       " 99.0,\n",
       " 100.0,\n",
       " 101.0,\n",
       " 102.0,\n",
       " 103.0,\n",
       " 104.0,\n",
       " 105.0,\n",
       " 106.0,\n",
       " 107.0,\n",
       " 108.0,\n",
       " 109.0,\n",
       " 110.0,\n",
       " 111.0,\n",
       " 112.0,\n",
       " 113.0,\n",
       " 114.0,\n",
       " 115.0,\n",
       " 116.0,\n",
       " 117.0,\n",
       " 118.0,\n",
       " 119.0,\n",
       " 120.0,\n",
       " 121.0,\n",
       " 122.0,\n",
       " 123.0,\n",
       " 124.0,\n",
       " 125.0,\n",
       " 126.0,\n",
       " 127.0,\n",
       " 128.0,\n",
       " 129.0,\n",
       " 130.0,\n",
       " 131.0,\n",
       " 132.0,\n",
       " 133.0,\n",
       " 134.0,\n",
       " 135.0,\n",
       " 136.0,\n",
       " 137.0,\n",
       " 138.0,\n",
       " 139.0,\n",
       " 140.0,\n",
       " 141.0,\n",
       " 142.0,\n",
       " 143.0,\n",
       " 144.0,\n",
       " 145.0,\n",
       " 146.0,\n",
       " 147.0]"
      ]
     },
     "execution_count": 100,
     "metadata": {},
     "output_type": "execute_result"
    }
   ],
   "source": [
    "xcdfgx"
   ]
  },
  {
   "cell_type": "code",
   "execution_count": 4,
   "metadata": {},
   "outputs": [],
   "source": [
    "xcdiffp = '/home/awills/Documents/Research/swxcd/eval/xcdiff_frac/MODEL_MGGA/xc'\n",
    "model = torch.load(xcdiffp)"
   ]
  },
  {
   "cell_type": "code",
   "execution_count": 5,
   "metadata": {
    "scrolled": true
   },
   "outputs": [
    {
     "data": {
      "text/plain": [
       "SCF(\n",
       "  (get_veff): get_veff(\n",
       "    (model): XC(\n",
       "      (heg_model): LDA_X()\n",
       "      (pw_model): PW_C()\n",
       "      (grid_models): ModuleList(\n",
       "        (0): X_L(\n",
       "          (net): Sequential(\n",
       "            (0): Linear(in_features=1, out_features=16, bias=True)\n",
       "            (1): GELU()\n",
       "            (2): Linear(in_features=16, out_features=16, bias=True)\n",
       "            (3): GELU()\n",
       "            (4): Linear(in_features=16, out_features=16, bias=True)\n",
       "            (5): GELU()\n",
       "            (6): Linear(in_features=16, out_features=1, bias=True)\n",
       "          )\n",
       "          (tanh): Tanh()\n",
       "          (lobf): LOB(\n",
       "            (sig): Sigmoid()\n",
       "          )\n",
       "        )\n",
       "        (1): C_L(\n",
       "          (net): Sequential(\n",
       "            (0): Linear(in_features=3, out_features=16, bias=True)\n",
       "            (1): GELU()\n",
       "            (2): Linear(in_features=16, out_features=16, bias=True)\n",
       "            (3): GELU()\n",
       "            (4): Linear(in_features=16, out_features=16, bias=True)\n",
       "            (5): GELU()\n",
       "            (6): Linear(in_features=16, out_features=1, bias=True)\n",
       "          )\n",
       "          (tanh): Tanh()\n",
       "          (lobf): LOB(\n",
       "            (sig): Sigmoid()\n",
       "          )\n",
       "        )\n",
       "      )\n",
       "    )\n",
       "  )\n",
       "  (eig): eig()\n",
       "  (energy_tot): energy_tot()\n",
       "  (make_rdm1): make_rdm1()\n",
       "  (xc): XC(\n",
       "    (heg_model): LDA_X()\n",
       "    (pw_model): PW_C()\n",
       "    (grid_models): ModuleList(\n",
       "      (0): X_L(\n",
       "        (net): Sequential(\n",
       "          (0): Linear(in_features=1, out_features=16, bias=True)\n",
       "          (1): GELU()\n",
       "          (2): Linear(in_features=16, out_features=16, bias=True)\n",
       "          (3): GELU()\n",
       "          (4): Linear(in_features=16, out_features=16, bias=True)\n",
       "          (5): GELU()\n",
       "          (6): Linear(in_features=16, out_features=1, bias=True)\n",
       "        )\n",
       "        (tanh): Tanh()\n",
       "        (lobf): LOB(\n",
       "          (sig): Sigmoid()\n",
       "        )\n",
       "      )\n",
       "      (1): C_L(\n",
       "        (net): Sequential(\n",
       "          (0): Linear(in_features=3, out_features=16, bias=True)\n",
       "          (1): GELU()\n",
       "          (2): Linear(in_features=16, out_features=16, bias=True)\n",
       "          (3): GELU()\n",
       "          (4): Linear(in_features=16, out_features=16, bias=True)\n",
       "          (5): GELU()\n",
       "          (6): Linear(in_features=16, out_features=1, bias=True)\n",
       "        )\n",
       "        (tanh): Tanh()\n",
       "        (lobf): LOB(\n",
       "          (sig): Sigmoid()\n",
       "        )\n",
       "      )\n",
       "    )\n",
       "  )\n",
       ")"
      ]
     },
     "execution_count": 5,
     "metadata": {},
     "output_type": "execute_result"
    }
   ],
   "source": [
    "model"
   ]
  },
  {
   "cell_type": "code",
   "execution_count": 22,
   "metadata": {
    "scrolled": true
   },
   "outputs": [
    {
     "name": "stdout",
     "output_type": "stream",
     "text": [
      "([0, 0, 0], [('/HOME/AWILLS/DOCUMENTS/RESEARCH/SWXCD/EVAL/XCDIFF_FRAC/MODEL_GGA_MGGA', 1)])\n",
      "MGGA\n",
      "TypeError:  forward() missing 1 required positional argument: 'matrices'\n",
      "Trying SCF.xc.eval_grid_models\n",
      "TypeError:  forward() missing 1 required positional argument: 'matrices'\n",
      "Trying SCF.xc.eval_grid_models\n",
      "TypeError:  forward() missing 1 required positional argument: 'matrices'\n",
      "Trying SCF.xc.eval_grid_models\n"
     ]
    },
    {
     "ename": "KeyboardInterrupt",
     "evalue": "",
     "output_type": "error",
     "traceback": [
      "\u001b[0;31m---------------------------------------------------------------------------\u001b[0m",
      "\u001b[0;31mKeyboardInterrupt\u001b[0m                         Traceback (most recent call last)",
      "\u001b[0;32m/tmp/ipykernel_19948/169823515.py\u001b[0m in \u001b[0;36m<module>\u001b[0;34m\u001b[0m\n\u001b[1;32m      8\u001b[0m \u001b[0mmfg\u001b[0m\u001b[0;34m.\u001b[0m\u001b[0mgrids\u001b[0m\u001b[0;34m.\u001b[0m\u001b[0mlevel\u001b[0m \u001b[0;34m=\u001b[0m \u001b[0;36m3\u001b[0m\u001b[0;34m\u001b[0m\u001b[0;34m\u001b[0m\u001b[0m\n\u001b[1;32m      9\u001b[0m \u001b[0mmfg\u001b[0m\u001b[0;34m.\u001b[0m\u001b[0mdensity_fit\u001b[0m\u001b[0;34m(\u001b[0m\u001b[0;34m)\u001b[0m\u001b[0;34m\u001b[0m\u001b[0;34m\u001b[0m\u001b[0m\n\u001b[0;32m---> 10\u001b[0;31m \u001b[0mmfg\u001b[0m\u001b[0;34m.\u001b[0m\u001b[0mkernel\u001b[0m\u001b[0;34m(\u001b[0m\u001b[0;34m)\u001b[0m\u001b[0;34m\u001b[0m\u001b[0;34m\u001b[0m\u001b[0m\n\u001b[0m",
      "\u001b[0;32m~/anaconda3/envs/rsrch/lib/python3.7/site-packages/pyscf/lib/misc.py\u001b[0m in \u001b[0;36maliased_fn\u001b[0;34m(self, *args, **kwargs)\u001b[0m\n\u001b[1;32m    629\u001b[0m     \u001b[0mfname\u001b[0m \u001b[0;34m=\u001b[0m \u001b[0mfn\u001b[0m\u001b[0;34m.\u001b[0m\u001b[0m__name__\u001b[0m\u001b[0;34m\u001b[0m\u001b[0;34m\u001b[0m\u001b[0m\n\u001b[1;32m    630\u001b[0m     \u001b[0;32mdef\u001b[0m \u001b[0maliased_fn\u001b[0m\u001b[0;34m(\u001b[0m\u001b[0mself\u001b[0m\u001b[0;34m,\u001b[0m \u001b[0;34m*\u001b[0m\u001b[0margs\u001b[0m\u001b[0;34m,\u001b[0m \u001b[0;34m**\u001b[0m\u001b[0mkwargs\u001b[0m\u001b[0;34m)\u001b[0m\u001b[0;34m:\u001b[0m\u001b[0;34m\u001b[0m\u001b[0;34m\u001b[0m\u001b[0m\n\u001b[0;32m--> 631\u001b[0;31m         \u001b[0;32mreturn\u001b[0m \u001b[0mgetattr\u001b[0m\u001b[0;34m(\u001b[0m\u001b[0mself\u001b[0m\u001b[0;34m,\u001b[0m \u001b[0mfname\u001b[0m\u001b[0;34m)\u001b[0m\u001b[0;34m(\u001b[0m\u001b[0;34m*\u001b[0m\u001b[0margs\u001b[0m\u001b[0;34m,\u001b[0m \u001b[0;34m**\u001b[0m\u001b[0mkwargs\u001b[0m\u001b[0;34m)\u001b[0m\u001b[0;34m\u001b[0m\u001b[0;34m\u001b[0m\u001b[0m\n\u001b[0m\u001b[1;32m    632\u001b[0m \u001b[0;34m\u001b[0m\u001b[0m\n\u001b[1;32m    633\u001b[0m     \u001b[0;32mif\u001b[0m \u001b[0malias_name\u001b[0m \u001b[0;32mis\u001b[0m \u001b[0;32mnot\u001b[0m \u001b[0;32mNone\u001b[0m\u001b[0;34m:\u001b[0m\u001b[0;34m\u001b[0m\u001b[0;34m\u001b[0m\u001b[0m\n",
      "\u001b[0;32m~/anaconda3/envs/rsrch/lib/python3.7/site-packages/pyscf/scf/hf.py\u001b[0m in \u001b[0;36mscf\u001b[0;34m(self, dm0, **kwargs)\u001b[0m\n\u001b[1;32m   1648\u001b[0m                     kernel(self, self.conv_tol, self.conv_tol_grad,\n\u001b[1;32m   1649\u001b[0m                            \u001b[0mdm0\u001b[0m\u001b[0;34m=\u001b[0m\u001b[0mdm0\u001b[0m\u001b[0;34m,\u001b[0m \u001b[0mcallback\u001b[0m\u001b[0;34m=\u001b[0m\u001b[0mself\u001b[0m\u001b[0;34m.\u001b[0m\u001b[0mcallback\u001b[0m\u001b[0;34m,\u001b[0m\u001b[0;34m\u001b[0m\u001b[0;34m\u001b[0m\u001b[0m\n\u001b[0;32m-> 1650\u001b[0;31m                            conv_check=self.conv_check, **kwargs)\n\u001b[0m\u001b[1;32m   1651\u001b[0m         \u001b[0;32melse\u001b[0m\u001b[0;34m:\u001b[0m\u001b[0;34m\u001b[0m\u001b[0;34m\u001b[0m\u001b[0m\n\u001b[1;32m   1652\u001b[0m             \u001b[0;31m# Avoid to update SCF orbitals in the non-SCF initialization\u001b[0m\u001b[0;34m\u001b[0m\u001b[0;34m\u001b[0m\u001b[0;34m\u001b[0m\u001b[0m\n",
      "\u001b[0;32m~/anaconda3/envs/rsrch/lib/python3.7/site-packages/pyscf/scf/hf.py\u001b[0m in \u001b[0;36mkernel\u001b[0;34m(mf, conv_tol, conv_tol_grad, dump_chk, dm0, callback, conv_check, **kwargs)\u001b[0m\n\u001b[1;32m    125\u001b[0m \u001b[0;34m\u001b[0m\u001b[0m\n\u001b[1;32m    126\u001b[0m     \u001b[0mh1e\u001b[0m \u001b[0;34m=\u001b[0m \u001b[0mmf\u001b[0m\u001b[0;34m.\u001b[0m\u001b[0mget_hcore\u001b[0m\u001b[0;34m(\u001b[0m\u001b[0mmol\u001b[0m\u001b[0;34m)\u001b[0m\u001b[0;34m\u001b[0m\u001b[0;34m\u001b[0m\u001b[0m\n\u001b[0;32m--> 127\u001b[0;31m     \u001b[0mvhf\u001b[0m \u001b[0;34m=\u001b[0m \u001b[0mmf\u001b[0m\u001b[0;34m.\u001b[0m\u001b[0mget_veff\u001b[0m\u001b[0;34m(\u001b[0m\u001b[0mmol\u001b[0m\u001b[0;34m,\u001b[0m \u001b[0mdm\u001b[0m\u001b[0;34m)\u001b[0m\u001b[0;34m\u001b[0m\u001b[0;34m\u001b[0m\u001b[0m\n\u001b[0m\u001b[1;32m    128\u001b[0m     \u001b[0me_tot\u001b[0m \u001b[0;34m=\u001b[0m \u001b[0mmf\u001b[0m\u001b[0;34m.\u001b[0m\u001b[0menergy_tot\u001b[0m\u001b[0;34m(\u001b[0m\u001b[0mdm\u001b[0m\u001b[0;34m,\u001b[0m \u001b[0mh1e\u001b[0m\u001b[0;34m,\u001b[0m \u001b[0mvhf\u001b[0m\u001b[0;34m)\u001b[0m\u001b[0;34m\u001b[0m\u001b[0;34m\u001b[0m\u001b[0m\n\u001b[1;32m    129\u001b[0m     \u001b[0mlogger\u001b[0m\u001b[0;34m.\u001b[0m\u001b[0minfo\u001b[0m\u001b[0;34m(\u001b[0m\u001b[0mmf\u001b[0m\u001b[0;34m,\u001b[0m \u001b[0;34m'init E= %.15g'\u001b[0m\u001b[0;34m,\u001b[0m \u001b[0me_tot\u001b[0m\u001b[0;34m)\u001b[0m\u001b[0;34m\u001b[0m\u001b[0;34m\u001b[0m\u001b[0m\n",
      "\u001b[0;32m~/anaconda3/envs/rsrch/lib/python3.7/site-packages/pyscf/dft/rks.py\u001b[0m in \u001b[0;36mget_veff\u001b[0;34m(ks, mol, dm, dm_last, vhf_last, hermi)\u001b[0m\n\u001b[1;32m     89\u001b[0m     \u001b[0;32melse\u001b[0m\u001b[0;34m:\u001b[0m\u001b[0;34m\u001b[0m\u001b[0;34m\u001b[0m\u001b[0m\n\u001b[1;32m     90\u001b[0m         \u001b[0mmax_memory\u001b[0m \u001b[0;34m=\u001b[0m \u001b[0mks\u001b[0m\u001b[0;34m.\u001b[0m\u001b[0mmax_memory\u001b[0m \u001b[0;34m-\u001b[0m \u001b[0mlib\u001b[0m\u001b[0;34m.\u001b[0m\u001b[0mcurrent_memory\u001b[0m\u001b[0;34m(\u001b[0m\u001b[0;34m)\u001b[0m\u001b[0;34m[\u001b[0m\u001b[0;36m0\u001b[0m\u001b[0;34m]\u001b[0m\u001b[0;34m\u001b[0m\u001b[0;34m\u001b[0m\u001b[0m\n\u001b[0;32m---> 91\u001b[0;31m         \u001b[0mn\u001b[0m\u001b[0;34m,\u001b[0m \u001b[0mexc\u001b[0m\u001b[0;34m,\u001b[0m \u001b[0mvxc\u001b[0m \u001b[0;34m=\u001b[0m \u001b[0mni\u001b[0m\u001b[0;34m.\u001b[0m\u001b[0mnr_rks\u001b[0m\u001b[0;34m(\u001b[0m\u001b[0mmol\u001b[0m\u001b[0;34m,\u001b[0m \u001b[0mks\u001b[0m\u001b[0;34m.\u001b[0m\u001b[0mgrids\u001b[0m\u001b[0;34m,\u001b[0m \u001b[0mks\u001b[0m\u001b[0;34m.\u001b[0m\u001b[0mxc\u001b[0m\u001b[0;34m,\u001b[0m \u001b[0mdm\u001b[0m\u001b[0;34m,\u001b[0m \u001b[0mmax_memory\u001b[0m\u001b[0;34m=\u001b[0m\u001b[0mmax_memory\u001b[0m\u001b[0;34m)\u001b[0m\u001b[0;34m\u001b[0m\u001b[0;34m\u001b[0m\u001b[0m\n\u001b[0m\u001b[1;32m     92\u001b[0m         \u001b[0;32mif\u001b[0m \u001b[0mks\u001b[0m\u001b[0;34m.\u001b[0m\u001b[0mnlc\u001b[0m\u001b[0;34m:\u001b[0m\u001b[0;34m\u001b[0m\u001b[0;34m\u001b[0m\u001b[0m\n\u001b[1;32m     93\u001b[0m             \u001b[0;32massert\u001b[0m \u001b[0;34m'VV10'\u001b[0m \u001b[0;32min\u001b[0m \u001b[0mks\u001b[0m\u001b[0;34m.\u001b[0m\u001b[0mnlc\u001b[0m\u001b[0;34m.\u001b[0m\u001b[0mupper\u001b[0m\u001b[0;34m(\u001b[0m\u001b[0;34m)\u001b[0m\u001b[0;34m\u001b[0m\u001b[0;34m\u001b[0m\u001b[0m\n",
      "\u001b[0;32m~/anaconda3/envs/rsrch/lib/python3.7/site-packages/pyscf/dft/numint.py\u001b[0m in \u001b[0;36mnr_rks\u001b[0;34m(ni, mol, grids, xc_code, dms, relativity, hermi, max_memory, verbose)\u001b[0m\n\u001b[1;32m    916\u001b[0m                 exc, vxc = ni.eval_xc(xc_code, rho, spin=0,\n\u001b[1;32m    917\u001b[0m                                       \u001b[0mrelativity\u001b[0m\u001b[0;34m=\u001b[0m\u001b[0mrelativity\u001b[0m\u001b[0;34m,\u001b[0m \u001b[0mderiv\u001b[0m\u001b[0;34m=\u001b[0m\u001b[0;36m1\u001b[0m\u001b[0;34m,\u001b[0m\u001b[0;34m\u001b[0m\u001b[0;34m\u001b[0m\u001b[0m\n\u001b[0;32m--> 918\u001b[0;31m                                       verbose=verbose)[:2]\n\u001b[0m\u001b[1;32m    919\u001b[0m                 \u001b[0mvrho\u001b[0m\u001b[0;34m,\u001b[0m \u001b[0mvsigma\u001b[0m\u001b[0;34m,\u001b[0m \u001b[0mvlapl\u001b[0m\u001b[0;34m,\u001b[0m \u001b[0mvtau\u001b[0m \u001b[0;34m=\u001b[0m \u001b[0mvxc\u001b[0m\u001b[0;34m[\u001b[0m\u001b[0;34m:\u001b[0m\u001b[0;36m4\u001b[0m\u001b[0;34m]\u001b[0m\u001b[0;34m\u001b[0m\u001b[0;34m\u001b[0m\u001b[0m\n\u001b[1;32m    920\u001b[0m                 \u001b[0mden\u001b[0m \u001b[0;34m=\u001b[0m \u001b[0mrho\u001b[0m\u001b[0;34m[\u001b[0m\u001b[0;36m0\u001b[0m\u001b[0;34m]\u001b[0m \u001b[0;34m*\u001b[0m \u001b[0mweight\u001b[0m\u001b[0;34m\u001b[0m\u001b[0;34m\u001b[0m\u001b[0m\n",
      "\u001b[0;32m/tmp/ipykernel_19948/2431720374.py\u001b[0m in \u001b[0;36meval_xc\u001b[0;34m(xc_code, rho, spin, relativity, deriv, verbose)\u001b[0m\n\u001b[1;32m     79\u001b[0m     \u001b[0;32mfor\u001b[0m \u001b[0mcode\u001b[0m\u001b[0;34m,\u001b[0m \u001b[0mfactor\u001b[0m \u001b[0;32min\u001b[0m \u001b[0mparsed_xc\u001b[0m\u001b[0;34m[\u001b[0m\u001b[0;36m1\u001b[0m\u001b[0;34m]\u001b[0m\u001b[0;34m:\u001b[0m\u001b[0;34m\u001b[0m\u001b[0;34m\u001b[0m\u001b[0m\n\u001b[1;32m     80\u001b[0m         \u001b[0mmodel\u001b[0m \u001b[0;34m=\u001b[0m \u001b[0mpylibnxc\u001b[0m\u001b[0;34m.\u001b[0m\u001b[0mLibNXCFunctional\u001b[0m\u001b[0;34m(\u001b[0m\u001b[0mxc_code\u001b[0m\u001b[0;34m,\u001b[0m \u001b[0mkind\u001b[0m\u001b[0;34m=\u001b[0m\u001b[0;34m'grid'\u001b[0m\u001b[0;34m)\u001b[0m\u001b[0;34m\u001b[0m\u001b[0;34m\u001b[0m\u001b[0m\n\u001b[0;32m---> 81\u001b[0;31m         \u001b[0moutput\u001b[0m \u001b[0;34m=\u001b[0m \u001b[0mmodel\u001b[0m\u001b[0;34m.\u001b[0m\u001b[0mcompute\u001b[0m\u001b[0;34m(\u001b[0m\u001b[0minp\u001b[0m\u001b[0;34m)\u001b[0m\u001b[0;34m\u001b[0m\u001b[0;34m\u001b[0m\u001b[0m\n\u001b[0m\u001b[1;32m     82\u001b[0m         \u001b[0;32mfor\u001b[0m \u001b[0mkey\u001b[0m \u001b[0;32min\u001b[0m \u001b[0moutput\u001b[0m\u001b[0;34m:\u001b[0m\u001b[0;34m\u001b[0m\u001b[0;34m\u001b[0m\u001b[0m\n\u001b[1;32m     83\u001b[0m             \u001b[0;32mif\u001b[0m \u001b[0moutput\u001b[0m\u001b[0;34m[\u001b[0m\u001b[0mkey\u001b[0m\u001b[0;34m]\u001b[0m \u001b[0;32mis\u001b[0m \u001b[0;32mnot\u001b[0m \u001b[0;32mNone\u001b[0m\u001b[0;34m:\u001b[0m\u001b[0;34m\u001b[0m\u001b[0;34m\u001b[0m\u001b[0m\n",
      "\u001b[0;32m~/anaconda3/envs/rsrch/lib/python3.7/site-packages/pylibnxc/functional.py\u001b[0m in \u001b[0;36mcompute\u001b[0;34m(self, inp, do_exc, do_vxc, **kwargs)\u001b[0m\n\u001b[1;32m    167\u001b[0m             \u001b[0mE\u001b[0m\u001b[0;34m.\u001b[0m\u001b[0mbackward\u001b[0m\u001b[0;34m(\u001b[0m\u001b[0;34m)\u001b[0m\u001b[0;34m\u001b[0m\u001b[0;34m\u001b[0m\u001b[0m\n\u001b[1;32m    168\u001b[0m         \u001b[0mexc\u001b[0m \u001b[0;34m=\u001b[0m \u001b[0mexc\u001b[0m\u001b[0;34m.\u001b[0m\u001b[0mdetach\u001b[0m\u001b[0;34m(\u001b[0m\u001b[0;34m)\u001b[0m\u001b[0;34m.\u001b[0m\u001b[0mnumpy\u001b[0m\u001b[0;34m(\u001b[0m\u001b[0;34m)\u001b[0m\u001b[0;34m\u001b[0m\u001b[0;34m\u001b[0m\u001b[0m\n\u001b[0;32m--> 169\u001b[0;31m \u001b[0;34m\u001b[0m\u001b[0m\n\u001b[0m\u001b[1;32m    170\u001b[0m         \u001b[0moutputs\u001b[0m \u001b[0;34m=\u001b[0m \u001b[0;34m{\u001b[0m\u001b[0;34m}\u001b[0m\u001b[0;34m\u001b[0m\u001b[0;34m\u001b[0m\u001b[0m\n\u001b[1;32m    171\u001b[0m         \u001b[0moutputs\u001b[0m\u001b[0;34m[\u001b[0m\u001b[0;34m'zk'\u001b[0m\u001b[0;34m]\u001b[0m \u001b[0;34m=\u001b[0m \u001b[0mexc\u001b[0m\u001b[0;34m\u001b[0m\u001b[0;34m\u001b[0m\u001b[0m\n",
      "\u001b[0;32m~/anaconda3/envs/rsrch/lib/python3.7/site-packages/torch/_tensor.py\u001b[0m in \u001b[0;36mbackward\u001b[0;34m(self, gradient, retain_graph, create_graph, inputs)\u001b[0m\n\u001b[1;32m    361\u001b[0m                 \u001b[0mcreate_graph\u001b[0m\u001b[0;34m=\u001b[0m\u001b[0mcreate_graph\u001b[0m\u001b[0;34m,\u001b[0m\u001b[0;34m\u001b[0m\u001b[0;34m\u001b[0m\u001b[0m\n\u001b[1;32m    362\u001b[0m                 inputs=inputs)\n\u001b[0;32m--> 363\u001b[0;31m         \u001b[0mtorch\u001b[0m\u001b[0;34m.\u001b[0m\u001b[0mautograd\u001b[0m\u001b[0;34m.\u001b[0m\u001b[0mbackward\u001b[0m\u001b[0;34m(\u001b[0m\u001b[0mself\u001b[0m\u001b[0;34m,\u001b[0m \u001b[0mgradient\u001b[0m\u001b[0;34m,\u001b[0m \u001b[0mretain_graph\u001b[0m\u001b[0;34m,\u001b[0m \u001b[0mcreate_graph\u001b[0m\u001b[0;34m,\u001b[0m \u001b[0minputs\u001b[0m\u001b[0;34m=\u001b[0m\u001b[0minputs\u001b[0m\u001b[0;34m)\u001b[0m\u001b[0;34m\u001b[0m\u001b[0;34m\u001b[0m\u001b[0m\n\u001b[0m\u001b[1;32m    364\u001b[0m \u001b[0;34m\u001b[0m\u001b[0m\n\u001b[1;32m    365\u001b[0m     \u001b[0;32mdef\u001b[0m \u001b[0mregister_hook\u001b[0m\u001b[0;34m(\u001b[0m\u001b[0mself\u001b[0m\u001b[0;34m,\u001b[0m \u001b[0mhook\u001b[0m\u001b[0;34m)\u001b[0m\u001b[0;34m:\u001b[0m\u001b[0;34m\u001b[0m\u001b[0;34m\u001b[0m\u001b[0m\n",
      "\u001b[0;32m~/anaconda3/envs/rsrch/lib/python3.7/site-packages/torch/autograd/__init__.py\u001b[0m in \u001b[0;36mbackward\u001b[0;34m(tensors, grad_tensors, retain_graph, create_graph, grad_variables, inputs)\u001b[0m\n\u001b[1;32m    173\u001b[0m     Variable._execution_engine.run_backward(  # Calls into the C++ engine to run the backward pass\n\u001b[1;32m    174\u001b[0m         \u001b[0mtensors\u001b[0m\u001b[0;34m,\u001b[0m \u001b[0mgrad_tensors_\u001b[0m\u001b[0;34m,\u001b[0m \u001b[0mretain_graph\u001b[0m\u001b[0;34m,\u001b[0m \u001b[0mcreate_graph\u001b[0m\u001b[0;34m,\u001b[0m \u001b[0minputs\u001b[0m\u001b[0;34m,\u001b[0m\u001b[0;34m\u001b[0m\u001b[0;34m\u001b[0m\u001b[0m\n\u001b[0;32m--> 175\u001b[0;31m         allow_unreachable=True, accumulate_grad=True)  # Calls into the C++ engine to run the backward pass\n\u001b[0m\u001b[1;32m    176\u001b[0m \u001b[0;34m\u001b[0m\u001b[0m\n\u001b[1;32m    177\u001b[0m def grad(\n",
      "\u001b[0;31mKeyboardInterrupt\u001b[0m: "
     ]
    }
   ],
   "source": [
    "xcdfpg = '/home/awills/Documents/Research/swxcd/eval/xcdiff_frac/MODEL_GGA_MGGA'\n",
    "parsed = pylibnxc.pyscf.utils.parse_xc_code(xcdfpg)\n",
    "print(parsed)\n",
    "print(pylibnxc.pyscf.utils.find_max_level(parsed))\n",
    "name, mol = ase_atoms_to_mol(atoms[32])\n",
    "method = pylibnxc.pyscf.RKS\n",
    "mfg = KS(mol, method, model_path=xcdfpg)\n",
    "mfg.grids.level = 3\n",
    "mfg.density_fit()\n",
    "mfg.kernel()"
   ]
  },
  {
   "cell_type": "code",
   "execution_count": 124,
   "metadata": {
    "scrolled": true
   },
   "outputs": [
    {
     "name": "stderr",
     "output_type": "stream",
     "text": [
      "/home/awills/anaconda3/envs/rsrch/lib/python3.7/site-packages/torch/serialization.py:709: UserWarning: 'torch.load' received a zip file that looks like a TorchScript archive dispatching to 'torch.jit.load' (call 'torch.jit.load' directly to silence this warning)\n",
      "  \" silence this warning)\", UserWarning)\n"
     ]
    },
    {
     "ename": "KeyboardInterrupt",
     "evalue": "",
     "output_type": "error",
     "traceback": [
      "\u001b[0;31m---------------------------------------------------------------------------\u001b[0m",
      "\u001b[0;31mKeyboardInterrupt\u001b[0m                         Traceback (most recent call last)",
      "\u001b[0;32m/tmp/ipykernel_19948/464762052.py\u001b[0m in \u001b[0;36m<module>\u001b[0;34m\u001b[0m\n\u001b[1;32m      9\u001b[0m \u001b[0mmf\u001b[0m\u001b[0;34m.\u001b[0m\u001b[0mgrids\u001b[0m\u001b[0;34m.\u001b[0m\u001b[0mlevel\u001b[0m \u001b[0;34m=\u001b[0m \u001b[0;36m3\u001b[0m\u001b[0;34m\u001b[0m\u001b[0;34m\u001b[0m\u001b[0m\n\u001b[1;32m     10\u001b[0m \u001b[0mmf\u001b[0m\u001b[0;34m.\u001b[0m\u001b[0mdensity_fit\u001b[0m\u001b[0;34m(\u001b[0m\u001b[0;34m)\u001b[0m\u001b[0;34m\u001b[0m\u001b[0;34m\u001b[0m\u001b[0m\n\u001b[0;32m---> 11\u001b[0;31m \u001b[0mmf\u001b[0m\u001b[0;34m.\u001b[0m\u001b[0mkernel\u001b[0m\u001b[0;34m(\u001b[0m\u001b[0;34m)\u001b[0m\u001b[0;34m\u001b[0m\u001b[0;34m\u001b[0m\u001b[0m\n\u001b[0m\u001b[1;32m     12\u001b[0m \u001b[0;34m\u001b[0m\u001b[0m\n\u001b[1;32m     13\u001b[0m \u001b[0mmff\u001b[0m \u001b[0;34m=\u001b[0m \u001b[0mKS\u001b[0m\u001b[0;34m(\u001b[0m\u001b[0mmol\u001b[0m\u001b[0;34m,\u001b[0m \u001b[0mmethod\u001b[0m\u001b[0;34m,\u001b[0m \u001b[0mmodel_path\u001b[0m\u001b[0;34m=\u001b[0m\u001b[0mxcdfp\u001b[0m\u001b[0;34m)\u001b[0m\u001b[0;34m\u001b[0m\u001b[0;34m\u001b[0m\u001b[0m\n",
      "\u001b[0;32m~/anaconda3/envs/rsrch/lib/python3.7/site-packages/pyscf/lib/misc.py\u001b[0m in \u001b[0;36maliased_fn\u001b[0;34m(self, *args, **kwargs)\u001b[0m\n\u001b[1;32m    629\u001b[0m     \u001b[0mfname\u001b[0m \u001b[0;34m=\u001b[0m \u001b[0mfn\u001b[0m\u001b[0;34m.\u001b[0m\u001b[0m__name__\u001b[0m\u001b[0;34m\u001b[0m\u001b[0;34m\u001b[0m\u001b[0m\n\u001b[1;32m    630\u001b[0m     \u001b[0;32mdef\u001b[0m \u001b[0maliased_fn\u001b[0m\u001b[0;34m(\u001b[0m\u001b[0mself\u001b[0m\u001b[0;34m,\u001b[0m \u001b[0;34m*\u001b[0m\u001b[0margs\u001b[0m\u001b[0;34m,\u001b[0m \u001b[0;34m**\u001b[0m\u001b[0mkwargs\u001b[0m\u001b[0;34m)\u001b[0m\u001b[0;34m:\u001b[0m\u001b[0;34m\u001b[0m\u001b[0;34m\u001b[0m\u001b[0m\n\u001b[0;32m--> 631\u001b[0;31m         \u001b[0;32mreturn\u001b[0m \u001b[0mgetattr\u001b[0m\u001b[0;34m(\u001b[0m\u001b[0mself\u001b[0m\u001b[0;34m,\u001b[0m \u001b[0mfname\u001b[0m\u001b[0;34m)\u001b[0m\u001b[0;34m(\u001b[0m\u001b[0;34m*\u001b[0m\u001b[0margs\u001b[0m\u001b[0;34m,\u001b[0m \u001b[0;34m**\u001b[0m\u001b[0mkwargs\u001b[0m\u001b[0;34m)\u001b[0m\u001b[0;34m\u001b[0m\u001b[0;34m\u001b[0m\u001b[0m\n\u001b[0m\u001b[1;32m    632\u001b[0m \u001b[0;34m\u001b[0m\u001b[0m\n\u001b[1;32m    633\u001b[0m     \u001b[0;32mif\u001b[0m \u001b[0malias_name\u001b[0m \u001b[0;32mis\u001b[0m \u001b[0;32mnot\u001b[0m \u001b[0;32mNone\u001b[0m\u001b[0;34m:\u001b[0m\u001b[0;34m\u001b[0m\u001b[0;34m\u001b[0m\u001b[0m\n",
      "\u001b[0;32m~/anaconda3/envs/rsrch/lib/python3.7/site-packages/pyscf/scf/hf.py\u001b[0m in \u001b[0;36mscf\u001b[0;34m(self, dm0, **kwargs)\u001b[0m\n\u001b[1;32m   1648\u001b[0m                     kernel(self, self.conv_tol, self.conv_tol_grad,\n\u001b[1;32m   1649\u001b[0m                            \u001b[0mdm0\u001b[0m\u001b[0;34m=\u001b[0m\u001b[0mdm0\u001b[0m\u001b[0;34m,\u001b[0m \u001b[0mcallback\u001b[0m\u001b[0;34m=\u001b[0m\u001b[0mself\u001b[0m\u001b[0;34m.\u001b[0m\u001b[0mcallback\u001b[0m\u001b[0;34m,\u001b[0m\u001b[0;34m\u001b[0m\u001b[0;34m\u001b[0m\u001b[0m\n\u001b[0;32m-> 1650\u001b[0;31m                            conv_check=self.conv_check, **kwargs)\n\u001b[0m\u001b[1;32m   1651\u001b[0m         \u001b[0;32melse\u001b[0m\u001b[0;34m:\u001b[0m\u001b[0;34m\u001b[0m\u001b[0;34m\u001b[0m\u001b[0m\n\u001b[1;32m   1652\u001b[0m             \u001b[0;31m# Avoid to update SCF orbitals in the non-SCF initialization\u001b[0m\u001b[0;34m\u001b[0m\u001b[0;34m\u001b[0m\u001b[0;34m\u001b[0m\u001b[0m\n",
      "\u001b[0;32m~/anaconda3/envs/rsrch/lib/python3.7/site-packages/pyscf/scf/hf.py\u001b[0m in \u001b[0;36mkernel\u001b[0;34m(mf, conv_tol, conv_tol_grad, dump_chk, dm0, callback, conv_check, **kwargs)\u001b[0m\n\u001b[1;32m    125\u001b[0m \u001b[0;34m\u001b[0m\u001b[0m\n\u001b[1;32m    126\u001b[0m     \u001b[0mh1e\u001b[0m \u001b[0;34m=\u001b[0m \u001b[0mmf\u001b[0m\u001b[0;34m.\u001b[0m\u001b[0mget_hcore\u001b[0m\u001b[0;34m(\u001b[0m\u001b[0mmol\u001b[0m\u001b[0;34m)\u001b[0m\u001b[0;34m\u001b[0m\u001b[0;34m\u001b[0m\u001b[0m\n\u001b[0;32m--> 127\u001b[0;31m     \u001b[0mvhf\u001b[0m \u001b[0;34m=\u001b[0m \u001b[0mmf\u001b[0m\u001b[0;34m.\u001b[0m\u001b[0mget_veff\u001b[0m\u001b[0;34m(\u001b[0m\u001b[0mmol\u001b[0m\u001b[0;34m,\u001b[0m \u001b[0mdm\u001b[0m\u001b[0;34m)\u001b[0m\u001b[0;34m\u001b[0m\u001b[0;34m\u001b[0m\u001b[0m\n\u001b[0m\u001b[1;32m    128\u001b[0m     \u001b[0me_tot\u001b[0m \u001b[0;34m=\u001b[0m \u001b[0mmf\u001b[0m\u001b[0;34m.\u001b[0m\u001b[0menergy_tot\u001b[0m\u001b[0;34m(\u001b[0m\u001b[0mdm\u001b[0m\u001b[0;34m,\u001b[0m \u001b[0mh1e\u001b[0m\u001b[0;34m,\u001b[0m \u001b[0mvhf\u001b[0m\u001b[0;34m)\u001b[0m\u001b[0;34m\u001b[0m\u001b[0;34m\u001b[0m\u001b[0m\n\u001b[1;32m    129\u001b[0m     \u001b[0mlogger\u001b[0m\u001b[0;34m.\u001b[0m\u001b[0minfo\u001b[0m\u001b[0;34m(\u001b[0m\u001b[0mmf\u001b[0m\u001b[0;34m,\u001b[0m \u001b[0;34m'init E= %.15g'\u001b[0m\u001b[0;34m,\u001b[0m \u001b[0me_tot\u001b[0m\u001b[0;34m)\u001b[0m\u001b[0;34m\u001b[0m\u001b[0;34m\u001b[0m\u001b[0m\n",
      "\u001b[0;32m~/anaconda3/envs/rsrch/lib/python3.7/site-packages/pyscf/dft/rks.py\u001b[0m in \u001b[0;36mget_veff\u001b[0;34m(ks, mol, dm, dm_last, vhf_last, hermi)\u001b[0m\n\u001b[1;32m     89\u001b[0m     \u001b[0;32melse\u001b[0m\u001b[0;34m:\u001b[0m\u001b[0;34m\u001b[0m\u001b[0;34m\u001b[0m\u001b[0m\n\u001b[1;32m     90\u001b[0m         \u001b[0mmax_memory\u001b[0m \u001b[0;34m=\u001b[0m \u001b[0mks\u001b[0m\u001b[0;34m.\u001b[0m\u001b[0mmax_memory\u001b[0m \u001b[0;34m-\u001b[0m \u001b[0mlib\u001b[0m\u001b[0;34m.\u001b[0m\u001b[0mcurrent_memory\u001b[0m\u001b[0;34m(\u001b[0m\u001b[0;34m)\u001b[0m\u001b[0;34m[\u001b[0m\u001b[0;36m0\u001b[0m\u001b[0;34m]\u001b[0m\u001b[0;34m\u001b[0m\u001b[0;34m\u001b[0m\u001b[0m\n\u001b[0;32m---> 91\u001b[0;31m         \u001b[0mn\u001b[0m\u001b[0;34m,\u001b[0m \u001b[0mexc\u001b[0m\u001b[0;34m,\u001b[0m \u001b[0mvxc\u001b[0m \u001b[0;34m=\u001b[0m \u001b[0mni\u001b[0m\u001b[0;34m.\u001b[0m\u001b[0mnr_rks\u001b[0m\u001b[0;34m(\u001b[0m\u001b[0mmol\u001b[0m\u001b[0;34m,\u001b[0m \u001b[0mks\u001b[0m\u001b[0;34m.\u001b[0m\u001b[0mgrids\u001b[0m\u001b[0;34m,\u001b[0m \u001b[0mks\u001b[0m\u001b[0;34m.\u001b[0m\u001b[0mxc\u001b[0m\u001b[0;34m,\u001b[0m \u001b[0mdm\u001b[0m\u001b[0;34m,\u001b[0m \u001b[0mmax_memory\u001b[0m\u001b[0;34m=\u001b[0m\u001b[0mmax_memory\u001b[0m\u001b[0;34m)\u001b[0m\u001b[0;34m\u001b[0m\u001b[0;34m\u001b[0m\u001b[0m\n\u001b[0m\u001b[1;32m     92\u001b[0m         \u001b[0;32mif\u001b[0m \u001b[0mks\u001b[0m\u001b[0;34m.\u001b[0m\u001b[0mnlc\u001b[0m\u001b[0;34m:\u001b[0m\u001b[0;34m\u001b[0m\u001b[0;34m\u001b[0m\u001b[0m\n\u001b[1;32m     93\u001b[0m             \u001b[0;32massert\u001b[0m \u001b[0;34m'VV10'\u001b[0m \u001b[0;32min\u001b[0m \u001b[0mks\u001b[0m\u001b[0;34m.\u001b[0m\u001b[0mnlc\u001b[0m\u001b[0;34m.\u001b[0m\u001b[0mupper\u001b[0m\u001b[0;34m(\u001b[0m\u001b[0;34m)\u001b[0m\u001b[0;34m\u001b[0m\u001b[0;34m\u001b[0m\u001b[0m\n",
      "\u001b[0;32m~/anaconda3/envs/rsrch/lib/python3.7/site-packages/pyscf/dft/numint.py\u001b[0m in \u001b[0;36mnr_rks\u001b[0;34m(ni, mol, grids, xc_code, dms, relativity, hermi, max_memory, verbose)\u001b[0m\n\u001b[1;32m    913\u001b[0m             \u001b[0maow\u001b[0m \u001b[0;34m=\u001b[0m \u001b[0mnumpy\u001b[0m\u001b[0;34m.\u001b[0m\u001b[0mndarray\u001b[0m\u001b[0;34m(\u001b[0m\u001b[0mao\u001b[0m\u001b[0;34m[\u001b[0m\u001b[0;36m0\u001b[0m\u001b[0;34m]\u001b[0m\u001b[0;34m.\u001b[0m\u001b[0mshape\u001b[0m\u001b[0;34m,\u001b[0m \u001b[0morder\u001b[0m\u001b[0;34m=\u001b[0m\u001b[0;34m'F'\u001b[0m\u001b[0;34m,\u001b[0m \u001b[0mbuffer\u001b[0m\u001b[0;34m=\u001b[0m\u001b[0maow\u001b[0m\u001b[0;34m)\u001b[0m\u001b[0;34m\u001b[0m\u001b[0;34m\u001b[0m\u001b[0m\n\u001b[1;32m    914\u001b[0m             \u001b[0;32mfor\u001b[0m \u001b[0midm\u001b[0m \u001b[0;32min\u001b[0m \u001b[0mrange\u001b[0m\u001b[0;34m(\u001b[0m\u001b[0mnset\u001b[0m\u001b[0;34m)\u001b[0m\u001b[0;34m:\u001b[0m\u001b[0;34m\u001b[0m\u001b[0;34m\u001b[0m\u001b[0m\n\u001b[0;32m--> 915\u001b[0;31m                 \u001b[0mrho\u001b[0m \u001b[0;34m=\u001b[0m \u001b[0mmake_rho\u001b[0m\u001b[0;34m(\u001b[0m\u001b[0midm\u001b[0m\u001b[0;34m,\u001b[0m \u001b[0mao\u001b[0m\u001b[0;34m,\u001b[0m \u001b[0mmask\u001b[0m\u001b[0;34m,\u001b[0m \u001b[0;34m'MGGA'\u001b[0m\u001b[0;34m)\u001b[0m\u001b[0;34m\u001b[0m\u001b[0;34m\u001b[0m\u001b[0m\n\u001b[0m\u001b[1;32m    916\u001b[0m                 exc, vxc = ni.eval_xc(xc_code, rho, spin=0,\n\u001b[1;32m    917\u001b[0m                                       \u001b[0mrelativity\u001b[0m\u001b[0;34m=\u001b[0m\u001b[0mrelativity\u001b[0m\u001b[0;34m,\u001b[0m \u001b[0mderiv\u001b[0m\u001b[0;34m=\u001b[0m\u001b[0;36m1\u001b[0m\u001b[0;34m,\u001b[0m\u001b[0;34m\u001b[0m\u001b[0;34m\u001b[0m\u001b[0m\n",
      "\u001b[0;32m~/anaconda3/envs/rsrch/lib/python3.7/site-packages/pyscf/dft/numint.py\u001b[0m in \u001b[0;36mmake_rho\u001b[0;34m(idm, ao, non0tab, xctype)\u001b[0m\n\u001b[1;32m   2031\u001b[0m             \u001b[0mndms\u001b[0m \u001b[0;34m=\u001b[0m \u001b[0mlen\u001b[0m\u001b[0;34m(\u001b[0m\u001b[0mdms\u001b[0m\u001b[0;34m)\u001b[0m\u001b[0;34m\u001b[0m\u001b[0;34m\u001b[0m\u001b[0m\n\u001b[1;32m   2032\u001b[0m             \u001b[0;32mdef\u001b[0m \u001b[0mmake_rho\u001b[0m\u001b[0;34m(\u001b[0m\u001b[0midm\u001b[0m\u001b[0;34m,\u001b[0m \u001b[0mao\u001b[0m\u001b[0;34m,\u001b[0m \u001b[0mnon0tab\u001b[0m\u001b[0;34m,\u001b[0m \u001b[0mxctype\u001b[0m\u001b[0;34m)\u001b[0m\u001b[0;34m:\u001b[0m\u001b[0;34m\u001b[0m\u001b[0;34m\u001b[0m\u001b[0m\n\u001b[0;32m-> 2033\u001b[0;31m                 \u001b[0;32mreturn\u001b[0m \u001b[0mself\u001b[0m\u001b[0;34m.\u001b[0m\u001b[0meval_rho\u001b[0m\u001b[0;34m(\u001b[0m\u001b[0mmol\u001b[0m\u001b[0;34m,\u001b[0m \u001b[0mao\u001b[0m\u001b[0;34m,\u001b[0m \u001b[0mdms\u001b[0m\u001b[0;34m[\u001b[0m\u001b[0midm\u001b[0m\u001b[0;34m]\u001b[0m\u001b[0;34m,\u001b[0m \u001b[0mnon0tab\u001b[0m\u001b[0;34m,\u001b[0m \u001b[0mxctype\u001b[0m\u001b[0;34m,\u001b[0m \u001b[0mhermi\u001b[0m\u001b[0;34m=\u001b[0m\u001b[0;36m1\u001b[0m\u001b[0;34m)\u001b[0m\u001b[0;34m\u001b[0m\u001b[0;34m\u001b[0m\u001b[0m\n\u001b[0m\u001b[1;32m   2034\u001b[0m         \u001b[0;32mreturn\u001b[0m \u001b[0mmake_rho\u001b[0m\u001b[0;34m,\u001b[0m \u001b[0mndms\u001b[0m\u001b[0;34m,\u001b[0m \u001b[0mnao\u001b[0m\u001b[0;34m\u001b[0m\u001b[0;34m\u001b[0m\u001b[0m\n\u001b[1;32m   2035\u001b[0m \u001b[0;34m\u001b[0m\u001b[0m\n",
      "\u001b[0;32m~/anaconda3/envs/rsrch/lib/python3.7/site-packages/pyscf/dft/numint.py\u001b[0m in \u001b[0;36meval_rho\u001b[0;34m(self, mol, ao, dm, non0tab, xctype, hermi, verbose)\u001b[0m\n\u001b[1;32m   1978\u001b[0m     \u001b[0;34m@\u001b[0m\u001b[0mlib\u001b[0m\u001b[0;34m.\u001b[0m\u001b[0mwith_doc\u001b[0m\u001b[0;34m(\u001b[0m\u001b[0meval_rho\u001b[0m\u001b[0;34m.\u001b[0m\u001b[0m__doc__\u001b[0m\u001b[0;34m)\u001b[0m\u001b[0;34m\u001b[0m\u001b[0;34m\u001b[0m\u001b[0m\n\u001b[1;32m   1979\u001b[0m     \u001b[0;32mdef\u001b[0m \u001b[0meval_rho\u001b[0m\u001b[0;34m(\u001b[0m\u001b[0mself\u001b[0m\u001b[0;34m,\u001b[0m \u001b[0mmol\u001b[0m\u001b[0;34m,\u001b[0m \u001b[0mao\u001b[0m\u001b[0;34m,\u001b[0m \u001b[0mdm\u001b[0m\u001b[0;34m,\u001b[0m \u001b[0mnon0tab\u001b[0m\u001b[0;34m=\u001b[0m\u001b[0;32mNone\u001b[0m\u001b[0;34m,\u001b[0m \u001b[0mxctype\u001b[0m\u001b[0;34m=\u001b[0m\u001b[0;34m'LDA'\u001b[0m\u001b[0;34m,\u001b[0m \u001b[0mhermi\u001b[0m\u001b[0;34m=\u001b[0m\u001b[0;36m0\u001b[0m\u001b[0;34m,\u001b[0m \u001b[0mverbose\u001b[0m\u001b[0;34m=\u001b[0m\u001b[0;32mNone\u001b[0m\u001b[0;34m)\u001b[0m\u001b[0;34m:\u001b[0m\u001b[0;34m\u001b[0m\u001b[0;34m\u001b[0m\u001b[0m\n\u001b[0;32m-> 1980\u001b[0;31m         \u001b[0;32mreturn\u001b[0m \u001b[0meval_rho\u001b[0m\u001b[0;34m(\u001b[0m\u001b[0mmol\u001b[0m\u001b[0;34m,\u001b[0m \u001b[0mao\u001b[0m\u001b[0;34m,\u001b[0m \u001b[0mdm\u001b[0m\u001b[0;34m,\u001b[0m \u001b[0mnon0tab\u001b[0m\u001b[0;34m,\u001b[0m \u001b[0mxctype\u001b[0m\u001b[0;34m,\u001b[0m \u001b[0mhermi\u001b[0m\u001b[0;34m,\u001b[0m \u001b[0mverbose\u001b[0m\u001b[0;34m)\u001b[0m\u001b[0;34m\u001b[0m\u001b[0;34m\u001b[0m\u001b[0m\n\u001b[0m\u001b[1;32m   1981\u001b[0m \u001b[0;34m\u001b[0m\u001b[0m\n\u001b[1;32m   1982\u001b[0m     def block_loop(self, mol, grids, nao=None, deriv=0, max_memory=2000,\n",
      "\u001b[0;32m~/anaconda3/envs/rsrch/lib/python3.7/site-packages/pyscf/dft/numint.py\u001b[0m in \u001b[0;36meval_rho\u001b[0;34m(mol, ao, dm, non0tab, xctype, hermi, verbose)\u001b[0m\n\u001b[1;32m    179\u001b[0m         \u001b[0;31m# rho[4] = \\nabla^2 rho, rho[5] = 1/2 |nabla f|^2\u001b[0m\u001b[0;34m\u001b[0m\u001b[0;34m\u001b[0m\u001b[0;34m\u001b[0m\u001b[0m\n\u001b[1;32m    180\u001b[0m         \u001b[0mrho\u001b[0m \u001b[0;34m=\u001b[0m \u001b[0mnumpy\u001b[0m\u001b[0;34m.\u001b[0m\u001b[0mempty\u001b[0m\u001b[0;34m(\u001b[0m\u001b[0;34m(\u001b[0m\u001b[0;36m6\u001b[0m\u001b[0;34m,\u001b[0m\u001b[0mngrids\u001b[0m\u001b[0;34m)\u001b[0m\u001b[0;34m)\u001b[0m\u001b[0;34m\u001b[0m\u001b[0;34m\u001b[0m\u001b[0m\n\u001b[0;32m--> 181\u001b[0;31m         \u001b[0mc0\u001b[0m \u001b[0;34m=\u001b[0m \u001b[0m_dot_ao_dm\u001b[0m\u001b[0;34m(\u001b[0m\u001b[0mmol\u001b[0m\u001b[0;34m,\u001b[0m \u001b[0mao\u001b[0m\u001b[0;34m[\u001b[0m\u001b[0;36m0\u001b[0m\u001b[0;34m]\u001b[0m\u001b[0;34m,\u001b[0m \u001b[0mdm\u001b[0m\u001b[0;34m,\u001b[0m \u001b[0mnon0tab\u001b[0m\u001b[0;34m,\u001b[0m \u001b[0mshls_slice\u001b[0m\u001b[0;34m,\u001b[0m \u001b[0mao_loc\u001b[0m\u001b[0;34m)\u001b[0m\u001b[0;34m\u001b[0m\u001b[0;34m\u001b[0m\u001b[0m\n\u001b[0m\u001b[1;32m    182\u001b[0m         \u001b[0;31m#:rho[0] = numpy.einsum('pi,pi->p', ao[0], c0)\u001b[0m\u001b[0;34m\u001b[0m\u001b[0;34m\u001b[0m\u001b[0;34m\u001b[0m\u001b[0m\n\u001b[1;32m    183\u001b[0m         \u001b[0mrho\u001b[0m\u001b[0;34m[\u001b[0m\u001b[0;36m0\u001b[0m\u001b[0;34m]\u001b[0m \u001b[0;34m=\u001b[0m \u001b[0m_contract_rho\u001b[0m\u001b[0;34m(\u001b[0m\u001b[0mao\u001b[0m\u001b[0;34m[\u001b[0m\u001b[0;36m0\u001b[0m\u001b[0;34m]\u001b[0m\u001b[0;34m,\u001b[0m \u001b[0mc0\u001b[0m\u001b[0;34m)\u001b[0m\u001b[0;34m\u001b[0m\u001b[0;34m\u001b[0m\u001b[0m\n",
      "\u001b[0;32m~/anaconda3/envs/rsrch/lib/python3.7/site-packages/pyscf/dft/numint.py\u001b[0m in \u001b[0;36m_dot_ao_dm\u001b[0;34m(mol, ao, dm, non0tab, shls_slice, ao_loc, out)\u001b[0m\n\u001b[1;32m    581\u001b[0m     \u001b[0mngrids\u001b[0m\u001b[0;34m,\u001b[0m \u001b[0mnao\u001b[0m \u001b[0;34m=\u001b[0m \u001b[0mao\u001b[0m\u001b[0;34m.\u001b[0m\u001b[0mshape\u001b[0m\u001b[0;34m\u001b[0m\u001b[0;34m\u001b[0m\u001b[0m\n\u001b[1;32m    582\u001b[0m     \u001b[0;32mif\u001b[0m \u001b[0mnao\u001b[0m \u001b[0;34m<\u001b[0m \u001b[0mSWITCH_SIZE\u001b[0m\u001b[0;34m:\u001b[0m\u001b[0;34m\u001b[0m\u001b[0;34m\u001b[0m\u001b[0m\n\u001b[0;32m--> 583\u001b[0;31m         \u001b[0;32mreturn\u001b[0m \u001b[0mlib\u001b[0m\u001b[0;34m.\u001b[0m\u001b[0mdot\u001b[0m\u001b[0;34m(\u001b[0m\u001b[0mnumpy\u001b[0m\u001b[0;34m.\u001b[0m\u001b[0masarray\u001b[0m\u001b[0;34m(\u001b[0m\u001b[0mdm\u001b[0m\u001b[0;34m,\u001b[0m \u001b[0morder\u001b[0m\u001b[0;34m=\u001b[0m\u001b[0;34m'C'\u001b[0m\u001b[0;34m)\u001b[0m\u001b[0;34m.\u001b[0m\u001b[0mT\u001b[0m\u001b[0;34m,\u001b[0m \u001b[0mao\u001b[0m\u001b[0;34m.\u001b[0m\u001b[0mT\u001b[0m\u001b[0;34m)\u001b[0m\u001b[0;34m.\u001b[0m\u001b[0mT\u001b[0m\u001b[0;34m\u001b[0m\u001b[0;34m\u001b[0m\u001b[0m\n\u001b[0m\u001b[1;32m    584\u001b[0m \u001b[0;34m\u001b[0m\u001b[0m\n\u001b[1;32m    585\u001b[0m     \u001b[0;32mif\u001b[0m \u001b[0;32mnot\u001b[0m \u001b[0mao\u001b[0m\u001b[0;34m.\u001b[0m\u001b[0mflags\u001b[0m\u001b[0;34m.\u001b[0m\u001b[0mf_contiguous\u001b[0m\u001b[0;34m:\u001b[0m\u001b[0;34m\u001b[0m\u001b[0;34m\u001b[0m\u001b[0m\n",
      "\u001b[0;32m~/anaconda3/envs/rsrch/lib/python3.7/site-packages/pyscf/lib/numpy_helper.py\u001b[0m in \u001b[0;36mdot\u001b[0;34m(a, b, alpha, c, beta)\u001b[0m\n\u001b[1;32m    743\u001b[0m     \u001b[0;32mif\u001b[0m \u001b[0matype\u001b[0m \u001b[0;34m==\u001b[0m \u001b[0mnumpy\u001b[0m\u001b[0;34m.\u001b[0m\u001b[0mfloat64\u001b[0m \u001b[0;32mand\u001b[0m \u001b[0mbtype\u001b[0m \u001b[0;34m==\u001b[0m \u001b[0mnumpy\u001b[0m\u001b[0;34m.\u001b[0m\u001b[0mfloat64\u001b[0m\u001b[0;34m:\u001b[0m\u001b[0;34m\u001b[0m\u001b[0;34m\u001b[0m\u001b[0m\n\u001b[1;32m    744\u001b[0m         \u001b[0;32mif\u001b[0m \u001b[0mc\u001b[0m \u001b[0;32mis\u001b[0m \u001b[0;32mNone\u001b[0m \u001b[0;32mor\u001b[0m \u001b[0mc\u001b[0m\u001b[0;34m.\u001b[0m\u001b[0mdtype\u001b[0m \u001b[0;34m==\u001b[0m \u001b[0mnumpy\u001b[0m\u001b[0;34m.\u001b[0m\u001b[0mfloat64\u001b[0m\u001b[0;34m:\u001b[0m\u001b[0;34m\u001b[0m\u001b[0;34m\u001b[0m\u001b[0m\n\u001b[0;32m--> 745\u001b[0;31m             \u001b[0;32mreturn\u001b[0m \u001b[0mddot\u001b[0m\u001b[0;34m(\u001b[0m\u001b[0ma\u001b[0m\u001b[0;34m,\u001b[0m \u001b[0mb\u001b[0m\u001b[0;34m,\u001b[0m \u001b[0malpha\u001b[0m\u001b[0;34m,\u001b[0m \u001b[0mc\u001b[0m\u001b[0;34m,\u001b[0m \u001b[0mbeta\u001b[0m\u001b[0;34m)\u001b[0m\u001b[0;34m\u001b[0m\u001b[0;34m\u001b[0m\u001b[0m\n\u001b[0m\u001b[1;32m    746\u001b[0m         \u001b[0;32melse\u001b[0m\u001b[0;34m:\u001b[0m\u001b[0;34m\u001b[0m\u001b[0;34m\u001b[0m\u001b[0m\n\u001b[1;32m    747\u001b[0m             \u001b[0mcr\u001b[0m \u001b[0;34m=\u001b[0m \u001b[0mnumpy\u001b[0m\u001b[0;34m.\u001b[0m\u001b[0masarray\u001b[0m\u001b[0;34m(\u001b[0m\u001b[0mc\u001b[0m\u001b[0;34m.\u001b[0m\u001b[0mreal\u001b[0m\u001b[0;34m,\u001b[0m \u001b[0morder\u001b[0m\u001b[0;34m=\u001b[0m\u001b[0;34m'C'\u001b[0m\u001b[0;34m)\u001b[0m\u001b[0;34m\u001b[0m\u001b[0;34m\u001b[0m\u001b[0m\n",
      "\u001b[0;32m~/anaconda3/envs/rsrch/lib/python3.7/site-packages/pyscf/lib/numpy_helper.py\u001b[0m in \u001b[0;36mddot\u001b[0;34m(a, b, alpha, c, beta)\u001b[0m\n\u001b[1;32m    704\u001b[0m         \u001b[0;32massert\u001b[0m\u001b[0;34m(\u001b[0m\u001b[0mc\u001b[0m\u001b[0;34m.\u001b[0m\u001b[0mshape\u001b[0m \u001b[0;34m==\u001b[0m \u001b[0;34m(\u001b[0m\u001b[0mm\u001b[0m\u001b[0;34m,\u001b[0m\u001b[0mn\u001b[0m\u001b[0;34m)\u001b[0m\u001b[0;34m)\u001b[0m\u001b[0;34m\u001b[0m\u001b[0;34m\u001b[0m\u001b[0m\n\u001b[1;32m    705\u001b[0m \u001b[0;34m\u001b[0m\u001b[0m\n\u001b[0;32m--> 706\u001b[0;31m     \u001b[0;32mreturn\u001b[0m \u001b[0m_dgemm\u001b[0m\u001b[0;34m(\u001b[0m\u001b[0mtrans_a\u001b[0m\u001b[0;34m,\u001b[0m \u001b[0mtrans_b\u001b[0m\u001b[0;34m,\u001b[0m \u001b[0mm\u001b[0m\u001b[0;34m,\u001b[0m \u001b[0mn\u001b[0m\u001b[0;34m,\u001b[0m \u001b[0mk\u001b[0m\u001b[0;34m,\u001b[0m \u001b[0ma\u001b[0m\u001b[0;34m,\u001b[0m \u001b[0mb\u001b[0m\u001b[0;34m,\u001b[0m \u001b[0mc\u001b[0m\u001b[0;34m,\u001b[0m \u001b[0malpha\u001b[0m\u001b[0;34m,\u001b[0m \u001b[0mbeta\u001b[0m\u001b[0;34m)\u001b[0m\u001b[0;34m\u001b[0m\u001b[0;34m\u001b[0m\u001b[0m\n\u001b[0m\u001b[1;32m    707\u001b[0m \u001b[0;34m\u001b[0m\u001b[0m\n\u001b[1;32m    708\u001b[0m \u001b[0;32mdef\u001b[0m \u001b[0mzdot\u001b[0m\u001b[0;34m(\u001b[0m\u001b[0ma\u001b[0m\u001b[0;34m,\u001b[0m \u001b[0mb\u001b[0m\u001b[0;34m,\u001b[0m \u001b[0malpha\u001b[0m\u001b[0;34m=\u001b[0m\u001b[0;36m1\u001b[0m\u001b[0;34m,\u001b[0m \u001b[0mc\u001b[0m\u001b[0;34m=\u001b[0m\u001b[0;32mNone\u001b[0m\u001b[0;34m,\u001b[0m \u001b[0mbeta\u001b[0m\u001b[0;34m=\u001b[0m\u001b[0;36m0\u001b[0m\u001b[0;34m)\u001b[0m\u001b[0;34m:\u001b[0m\u001b[0;34m\u001b[0m\u001b[0;34m\u001b[0m\u001b[0m\n",
      "\u001b[0;32m~/anaconda3/envs/rsrch/lib/python3.7/site-packages/pyscf/lib/numpy_helper.py\u001b[0m in \u001b[0;36m_dgemm\u001b[0;34m(trans_a, trans_b, m, n, k, a, b, c, alpha, beta, offseta, offsetb, offsetc)\u001b[0m\n\u001b[1;32m    825\u001b[0m                        \u001b[0ma\u001b[0m\u001b[0;34m.\u001b[0m\u001b[0mctypes\u001b[0m\u001b[0;34m.\u001b[0m\u001b[0mdata_as\u001b[0m\u001b[0;34m(\u001b[0m\u001b[0mctypes\u001b[0m\u001b[0;34m.\u001b[0m\u001b[0mc_void_p\u001b[0m\u001b[0;34m)\u001b[0m\u001b[0;34m,\u001b[0m\u001b[0;34m\u001b[0m\u001b[0;34m\u001b[0m\u001b[0m\n\u001b[1;32m    826\u001b[0m                        \u001b[0mc\u001b[0m\u001b[0;34m.\u001b[0m\u001b[0mctypes\u001b[0m\u001b[0;34m.\u001b[0m\u001b[0mdata_as\u001b[0m\u001b[0;34m(\u001b[0m\u001b[0mctypes\u001b[0m\u001b[0;34m.\u001b[0m\u001b[0mc_void_p\u001b[0m\u001b[0;34m)\u001b[0m\u001b[0;34m,\u001b[0m\u001b[0;34m\u001b[0m\u001b[0;34m\u001b[0m\u001b[0m\n\u001b[0;32m--> 827\u001b[0;31m                        ctypes.c_double(alpha), ctypes.c_double(beta))\n\u001b[0m\u001b[1;32m    828\u001b[0m     \u001b[0;32mreturn\u001b[0m \u001b[0mc\u001b[0m\u001b[0;34m\u001b[0m\u001b[0;34m\u001b[0m\u001b[0m\n\u001b[1;32m    829\u001b[0m def _zgemm(trans_a, trans_b, m, n, k, a, b, c, alpha=1, beta=0,\n",
      "\u001b[0;31mKeyboardInterrupt\u001b[0m: "
     ]
    }
   ],
   "source": [
    "xcdfp = '/home/awills/Documents/Research/swxcd/eval/xcdiff_frac/MODEL_MGGA'\n",
    "xcdfpg = '/home/awills/Documents/Research/swxcd/eval/xcdiff_frac/MODEL_GGA_MGGA'\n",
    "xcdp = '/home/awills/Documents/Research/swxcd/eval/xcdiff/MODEL_MGGA'\n",
    "atoms = read('/home/awills/Documents/Research/xcdiff/data/haunschild_g2/g2_97.xyz', ':')\n",
    "atoms[32]\n",
    "name, mol = ase_atoms_to_mol(atoms[32])\n",
    "method = pylibnxc.pyscf.RKS\n",
    "mf = KS(mol, method, model_path=xcdp)\n",
    "mf.grids.level = 3\n",
    "mf.density_fit()\n",
    "mf.kernel()\n",
    "\n",
    "mff = KS(mol, method, model_path=xcdfp)\n",
    "mff.grids.level = 3\n",
    "mff.density_fit()\n",
    "mff.kernel()"
   ]
  },
  {
   "cell_type": "code",
   "execution_count": 127,
   "metadata": {
    "scrolled": true
   },
   "outputs": [
    {
     "name": "stdout",
     "output_type": "stream",
     "text": [
      "FREEC False\n",
      "FREEC False\n"
     ]
    },
    {
     "data": {
      "text/plain": [
       "<All keys matched successfully>"
      ]
     },
     "execution_count": 127,
     "metadata": {},
     "output_type": "execute_result"
    }
   ],
   "source": [
    "xcdm = get_scf(xctype='MGGA', path=xcdp+'/xc')\n",
    "xcdm2 = torch.load(xcdp+'/xc')\n",
    "xcdfmg = get_scf(xctype='GGA', path=xcdfpg+'/xc.chkpt')\n",
    "xcdfm = copy.deepcopy(xcdm)\n",
    "checkpt = torch.load(xcdfp+'/xc.chkpt')\n",
    "freeze_append_xc(xcdfm)\n",
    "xcdfm.xc.load_state_dict(torch.load(xcdfp+'/xc.chkpt'))"
   ]
  },
  {
   "cell_type": "code",
   "execution_count": 129,
   "metadata": {
    "scrolled": true
   },
   "outputs": [
    {
     "data": {
      "text/plain": [
       "RecursiveScriptModule(\n",
       "  original_name=XC\n",
       "  (heg_model): RecursiveScriptModule(original_name=LDA_X)\n",
       "  (pw_model): RecursiveScriptModule(original_name=PW_C)\n",
       "  (grid_models): RecursiveScriptModule(\n",
       "    original_name=ModuleList\n",
       "    (0): RecursiveScriptModule(\n",
       "      original_name=XC_L\n",
       "      (net): RecursiveScriptModule(\n",
       "        original_name=Sequential\n",
       "        (0): RecursiveScriptModule(original_name=Linear)\n",
       "        (1): RecursiveScriptModule(original_name=GELU)\n",
       "        (2): RecursiveScriptModule(original_name=Linear)\n",
       "        (3): RecursiveScriptModule(original_name=GELU)\n",
       "        (4): RecursiveScriptModule(original_name=Linear)\n",
       "        (5): RecursiveScriptModule(original_name=GELU)\n",
       "        (6): RecursiveScriptModule(original_name=Linear)\n",
       "      )\n",
       "      (tanh): RecursiveScriptModule(original_name=Tanh)\n",
       "      (sig): RecursiveScriptModule(original_name=Sigmoid)\n",
       "      (lobf): RecursiveScriptModule(\n",
       "        original_name=LOB\n",
       "        (sig): RecursiveScriptModule(original_name=Sigmoid)\n",
       "      )\n",
       "    )\n",
       "    (1): RecursiveScriptModule(\n",
       "      original_name=C_L\n",
       "      (net): RecursiveScriptModule(\n",
       "        original_name=Sequential\n",
       "        (0): RecursiveScriptModule(original_name=Linear)\n",
       "        (1): RecursiveScriptModule(original_name=GELU)\n",
       "        (2): RecursiveScriptModule(original_name=Linear)\n",
       "        (3): RecursiveScriptModule(original_name=GELU)\n",
       "        (4): RecursiveScriptModule(original_name=Linear)\n",
       "        (5): RecursiveScriptModule(original_name=GELU)\n",
       "        (6): RecursiveScriptModule(original_name=Linear)\n",
       "        (7): RecursiveScriptModule(original_name=Softplus)\n",
       "      )\n",
       "      (sig): RecursiveScriptModule(original_name=Sigmoid)\n",
       "      (tanh): RecursiveScriptModule(original_name=Tanh)\n",
       "      (lobf): RecursiveScriptModule(\n",
       "        original_name=LOB\n",
       "        (sig): RecursiveScriptModule(original_name=Sigmoid)\n",
       "      )\n",
       "    )\n",
       "  )\n",
       ")"
      ]
     },
     "execution_count": 129,
     "metadata": {},
     "output_type": "execute_result"
    }
   ],
   "source": [
    "xcdm2"
   ]
  },
  {
   "cell_type": "code",
   "execution_count": 27,
   "metadata": {
    "scrolled": true
   },
   "outputs": [
    {
     "data": {
      "text/plain": [
       "SCF(\n",
       "  (get_veff): get_veff(\n",
       "    (model): XC(\n",
       "      (heg_model): LDA_X()\n",
       "      (pw_model): PW_C()\n",
       "      (grid_models): ModuleList(\n",
       "        (0): X_L(\n",
       "          (net): Sequential(\n",
       "            (0): Linear(in_features=1, out_features=16, bias=True)\n",
       "            (1): GELU()\n",
       "            (2): Linear(in_features=16, out_features=16, bias=True)\n",
       "            (3): GELU()\n",
       "            (4): Linear(in_features=16, out_features=16, bias=True)\n",
       "            (5): GELU()\n",
       "            (6): Linear(in_features=16, out_features=1, bias=True)\n",
       "          )\n",
       "          (tanh): Tanh()\n",
       "          (lobf): LOB(\n",
       "            (sig): Sigmoid()\n",
       "          )\n",
       "        )\n",
       "        (1): C_L(\n",
       "          (net): Sequential(\n",
       "            (0): Linear(in_features=3, out_features=16, bias=True)\n",
       "            (1): GELU()\n",
       "            (2): Linear(in_features=16, out_features=16, bias=True)\n",
       "            (3): GELU()\n",
       "            (4): Linear(in_features=16, out_features=16, bias=True)\n",
       "            (5): GELU()\n",
       "            (6): Linear(in_features=16, out_features=1, bias=True)\n",
       "          )\n",
       "          (tanh): Tanh()\n",
       "          (lobf): LOB(\n",
       "            (sig): Sigmoid()\n",
       "          )\n",
       "        )\n",
       "      )\n",
       "    )\n",
       "  )\n",
       "  (eig): eig()\n",
       "  (energy_tot): energy_tot()\n",
       "  (make_rdm1): make_rdm1()\n",
       "  (xc): XC(\n",
       "    (heg_model): LDA_X()\n",
       "    (pw_model): PW_C()\n",
       "    (grid_models): ModuleList(\n",
       "      (0): X_L(\n",
       "        (net): Sequential(\n",
       "          (0): Linear(in_features=1, out_features=16, bias=True)\n",
       "          (1): GELU()\n",
       "          (2): Linear(in_features=16, out_features=16, bias=True)\n",
       "          (3): GELU()\n",
       "          (4): Linear(in_features=16, out_features=16, bias=True)\n",
       "          (5): GELU()\n",
       "          (6): Linear(in_features=16, out_features=1, bias=True)\n",
       "        )\n",
       "        (tanh): Tanh()\n",
       "        (lobf): LOB(\n",
       "          (sig): Sigmoid()\n",
       "        )\n",
       "      )\n",
       "      (1): C_L(\n",
       "        (net): Sequential(\n",
       "          (0): Linear(in_features=3, out_features=16, bias=True)\n",
       "          (1): GELU()\n",
       "          (2): Linear(in_features=16, out_features=16, bias=True)\n",
       "          (3): GELU()\n",
       "          (4): Linear(in_features=16, out_features=16, bias=True)\n",
       "          (5): GELU()\n",
       "          (6): Linear(in_features=16, out_features=1, bias=True)\n",
       "        )\n",
       "        (tanh): Tanh()\n",
       "        (lobf): LOB(\n",
       "          (sig): Sigmoid()\n",
       "        )\n",
       "      )\n",
       "    )\n",
       "  )\n",
       ")"
      ]
     },
     "execution_count": 27,
     "metadata": {},
     "output_type": "execute_result"
    }
   ],
   "source": [
    "xcdfmg"
   ]
  },
  {
   "cell_type": "code",
   "execution_count": 3,
   "metadata": {},
   "outputs": [
    {
     "name": "stdout",
     "output_type": "stream",
     "text": [
      "XCDiff on C5H8: -194.9534360021965\n",
      "XCDiff+Fractional on C5H8: -194.92744402878708\n",
      "CCSD(T) on C5H8 : -195.01897143533844\n"
     ]
    },
    {
     "name": "stderr",
     "output_type": "stream",
     "text": [
      "/home/awills/anaconda3/envs/rsrch/lib/python3.7/site-packages/ase/io/jsonio.py:58: VisibleDeprecationWarning: Creating an ndarray from ragged nested sequences (which is a list-or-tuple of lists-or-tuples-or ndarrays with different lengths or shapes) is deprecated. If you meant to do this, you must specify 'dtype=object' when creating the ndarray.\n",
      "  a = np.array(obj)\n"
     ]
    }
   ],
   "source": [
    "ref = read('/home/awills/Documents/Research/swxcd/seawulf/g2_97_3/results.traj', ':')\n",
    "print(\"XCDiff on C5H8: {}\".format(mf.e_tot))\n",
    "print(\"XCDiff+Fractional on C5H8: {}\".format(mff.e_tot))\n",
    "print(\"CCSD(T) on C5H8 : {}\".format(ref[32].calc.results['energy']/Hartree))"
   ]
  },
  {
   "cell_type": "code",
   "execution_count": 5,
   "metadata": {},
   "outputs": [
    {
     "data": {
      "text/plain": [
       "array([[-2.13902695e-02,  2.47839339e-04,  1.42257083e-02, ...,\n",
       "        -1.67301247e-04,  7.83193179e-05, -1.93416540e-04],\n",
       "       [ 2.47839339e-04,  1.52843664e-02,  1.36916009e-02, ...,\n",
       "        -2.52767641e-04,  1.78066000e-04, -2.99296589e-04],\n",
       "       [ 1.42257083e-02,  1.36916009e-02, -4.25327380e-02, ...,\n",
       "         4.89233662e-04, -6.59716780e-04,  7.03041486e-04],\n",
       "       ...,\n",
       "       [-1.67301247e-04, -2.52767641e-04,  4.89233662e-04, ...,\n",
       "         3.44359598e-06, -4.12836588e-06,  4.24748052e-06],\n",
       "       [ 7.83193179e-05,  1.78066000e-04, -6.59716780e-04, ...,\n",
       "        -4.12836588e-06, -1.10042748e-06, -5.06574695e-06],\n",
       "       [-1.93416540e-04, -2.99296589e-04,  7.03041486e-04, ...,\n",
       "         4.24748052e-06, -5.06574695e-06, -6.53261123e-07]])"
      ]
     },
     "execution_count": 5,
     "metadata": {},
     "output_type": "execute_result"
    }
   ],
   "source": [
    "mf.make_rdm1()-mff.make_rdm1()"
   ]
  },
  {
   "cell_type": "code",
   "execution_count": null,
   "metadata": {},
   "outputs": [],
   "source": [
    "atoms = read('/home/awills/Documents/Research/xcdiff/data/haunschild_g2/g2_97.xyz', ':')\n",
    "atoms[32]\n",
    "name, mol = ase_atoms_to_mol(atoms[32])\n",
    "mf = KS(mol, method, model_path=tp)\n",
    "mf.grids.level = 3\n",
    "mf.density_fit()\n",
    "mf.kernel()"
   ]
  },
  {
   "cell_type": "code",
   "execution_count": 32,
   "metadata": {},
   "outputs": [
    {
     "ename": "AttributeError",
     "evalue": "'GridFunc' object has no attribute 'model_path'",
     "output_type": "error",
     "traceback": [
      "\u001b[0;31m---------------------------------------------------------------------------\u001b[0m",
      "\u001b[0;31mAttributeError\u001b[0m                            Traceback (most recent call last)",
      "\u001b[0;32m/tmp/ipykernel_19966/3456659820.py\u001b[0m in \u001b[0;36m<module>\u001b[0;34m\u001b[0m\n\u001b[1;32m      6\u001b[0m \u001b[0;31m#mf = method(mol, nxc=tp, nxc_kind='grid')\u001b[0m\u001b[0;34m\u001b[0m\u001b[0;34m\u001b[0m\u001b[0;34m\u001b[0m\u001b[0m\n\u001b[1;32m      7\u001b[0m \u001b[0mmodel\u001b[0m \u001b[0;34m=\u001b[0m \u001b[0mpylibnxc\u001b[0m\u001b[0;34m.\u001b[0m\u001b[0mLibNXCFunctional\u001b[0m\u001b[0;34m(\u001b[0m\u001b[0mtp\u001b[0m\u001b[0;34m,\u001b[0m \u001b[0mkind\u001b[0m\u001b[0;34m=\u001b[0m\u001b[0;34m'grid'\u001b[0m\u001b[0;34m)\u001b[0m\u001b[0;34m\u001b[0m\u001b[0;34m\u001b[0m\u001b[0m\n\u001b[0;32m----> 8\u001b[0;31m \u001b[0mmodel\u001b[0m\u001b[0;34m.\u001b[0m\u001b[0mmodel_path\u001b[0m\u001b[0;34m\u001b[0m\u001b[0;34m\u001b[0m\u001b[0m\n\u001b[0m",
      "\u001b[0;31mAttributeError\u001b[0m: 'GridFunc' object has no attribute 'model_path'"
     ]
    }
   ],
   "source": [
    "os.environ[\"NXC_MODELPATH\"] = '/home/awills/Documents/Research/xcdiff/models/final/log_mgga_reaction2/MGGA_REACTION2'\n",
    "mol = gto.M(atom='Na 0 0 0', basis='3-21G', spin=None)\n",
    "method = pylibnxc.pyscf.UKS\n",
    "xcp = '/home/awills/Documents/Research/swxcd/eval/xcdiff/MODEL/xc'\n",
    "tp = '/home/awills/Documents/Research/xcdiff/models/final/log_mgga_reaction2/MGGA_REACTION2'\n",
    "#mf = method(mol, nxc=tp, nxc_kind='grid')\n",
    "model = pylibnxc.LibNXCFunctional(tp, kind='grid')\n",
    "model.model_path"
   ]
  },
  {
   "cell_type": "code",
   "execution_count": 8,
   "metadata": {},
   "outputs": [
    {
     "name": "stdout",
     "output_type": "stream",
     "text": [
      "PARSED:  ([0, 0, 0], [(-999, 1)])\n"
     ]
    },
    {
     "ename": "ValueError",
     "evalue": "Model /HOME/AWILLS/DOCUMENTS/RESEARCH/XCDIFF/MODELS/FINAL/LOG_MGGA_REACTION2/MGGA_REACTION2/XC could not be found, please check name/path",
     "output_type": "error",
     "traceback": [
      "\u001b[0;31m---------------------------------------------------------------------------\u001b[0m",
      "\u001b[0;31mValueError\u001b[0m                                Traceback (most recent call last)",
      "\u001b[0;32m/tmp/ipykernel_19966/3294481123.py\u001b[0m in \u001b[0;36m<module>\u001b[0;34m\u001b[0m\n\u001b[1;32m      1\u001b[0m \u001b[0mmf\u001b[0m\u001b[0;34m.\u001b[0m\u001b[0mgrids\u001b[0m\u001b[0;34m.\u001b[0m\u001b[0mlevel\u001b[0m \u001b[0;34m=\u001b[0m \u001b[0;36m3\u001b[0m\u001b[0;34m\u001b[0m\u001b[0;34m\u001b[0m\u001b[0m\n\u001b[1;32m      2\u001b[0m \u001b[0mmf\u001b[0m\u001b[0;34m.\u001b[0m\u001b[0mdensity_fit\u001b[0m\u001b[0;34m(\u001b[0m\u001b[0;34m)\u001b[0m\u001b[0;34m\u001b[0m\u001b[0;34m\u001b[0m\u001b[0m\n\u001b[0;32m----> 3\u001b[0;31m \u001b[0mmf\u001b[0m\u001b[0;34m.\u001b[0m\u001b[0mkernel\u001b[0m\u001b[0;34m(\u001b[0m\u001b[0;34m)\u001b[0m\u001b[0;34m\u001b[0m\u001b[0;34m\u001b[0m\u001b[0m\n\u001b[0m",
      "\u001b[0;32m~/anaconda3/envs/rsrch/lib/python3.7/site-packages/pyscf/lib/misc.py\u001b[0m in \u001b[0;36maliased_fn\u001b[0;34m(self, *args, **kwargs)\u001b[0m\n\u001b[1;32m    629\u001b[0m     \u001b[0mfname\u001b[0m \u001b[0;34m=\u001b[0m \u001b[0mfn\u001b[0m\u001b[0;34m.\u001b[0m\u001b[0m__name__\u001b[0m\u001b[0;34m\u001b[0m\u001b[0;34m\u001b[0m\u001b[0m\n\u001b[1;32m    630\u001b[0m     \u001b[0;32mdef\u001b[0m \u001b[0maliased_fn\u001b[0m\u001b[0;34m(\u001b[0m\u001b[0mself\u001b[0m\u001b[0;34m,\u001b[0m \u001b[0;34m*\u001b[0m\u001b[0margs\u001b[0m\u001b[0;34m,\u001b[0m \u001b[0;34m**\u001b[0m\u001b[0mkwargs\u001b[0m\u001b[0;34m)\u001b[0m\u001b[0;34m:\u001b[0m\u001b[0;34m\u001b[0m\u001b[0;34m\u001b[0m\u001b[0m\n\u001b[0;32m--> 631\u001b[0;31m         \u001b[0;32mreturn\u001b[0m \u001b[0mgetattr\u001b[0m\u001b[0;34m(\u001b[0m\u001b[0mself\u001b[0m\u001b[0;34m,\u001b[0m \u001b[0mfname\u001b[0m\u001b[0;34m)\u001b[0m\u001b[0;34m(\u001b[0m\u001b[0;34m*\u001b[0m\u001b[0margs\u001b[0m\u001b[0;34m,\u001b[0m \u001b[0;34m**\u001b[0m\u001b[0mkwargs\u001b[0m\u001b[0;34m)\u001b[0m\u001b[0;34m\u001b[0m\u001b[0;34m\u001b[0m\u001b[0m\n\u001b[0m\u001b[1;32m    632\u001b[0m \u001b[0;34m\u001b[0m\u001b[0m\n\u001b[1;32m    633\u001b[0m     \u001b[0;32mif\u001b[0m \u001b[0malias_name\u001b[0m \u001b[0;32mis\u001b[0m \u001b[0;32mnot\u001b[0m \u001b[0;32mNone\u001b[0m\u001b[0;34m:\u001b[0m\u001b[0;34m\u001b[0m\u001b[0;34m\u001b[0m\u001b[0m\n",
      "\u001b[0;32m~/anaconda3/envs/rsrch/lib/python3.7/site-packages/pyscf/scf/hf.py\u001b[0m in \u001b[0;36mscf\u001b[0;34m(self, dm0, **kwargs)\u001b[0m\n\u001b[1;32m   1648\u001b[0m                     kernel(self, self.conv_tol, self.conv_tol_grad,\n\u001b[1;32m   1649\u001b[0m                            \u001b[0mdm0\u001b[0m\u001b[0;34m=\u001b[0m\u001b[0mdm0\u001b[0m\u001b[0;34m,\u001b[0m \u001b[0mcallback\u001b[0m\u001b[0;34m=\u001b[0m\u001b[0mself\u001b[0m\u001b[0;34m.\u001b[0m\u001b[0mcallback\u001b[0m\u001b[0;34m,\u001b[0m\u001b[0;34m\u001b[0m\u001b[0;34m\u001b[0m\u001b[0m\n\u001b[0;32m-> 1650\u001b[0;31m                            conv_check=self.conv_check, **kwargs)\n\u001b[0m\u001b[1;32m   1651\u001b[0m         \u001b[0;32melse\u001b[0m\u001b[0;34m:\u001b[0m\u001b[0;34m\u001b[0m\u001b[0;34m\u001b[0m\u001b[0m\n\u001b[1;32m   1652\u001b[0m             \u001b[0;31m# Avoid to update SCF orbitals in the non-SCF initialization\u001b[0m\u001b[0;34m\u001b[0m\u001b[0;34m\u001b[0m\u001b[0;34m\u001b[0m\u001b[0m\n",
      "\u001b[0;32m~/anaconda3/envs/rsrch/lib/python3.7/site-packages/pyscf/scf/hf.py\u001b[0m in \u001b[0;36mkernel\u001b[0;34m(mf, conv_tol, conv_tol_grad, dump_chk, dm0, callback, conv_check, **kwargs)\u001b[0m\n\u001b[1;32m    125\u001b[0m \u001b[0;34m\u001b[0m\u001b[0m\n\u001b[1;32m    126\u001b[0m     \u001b[0mh1e\u001b[0m \u001b[0;34m=\u001b[0m \u001b[0mmf\u001b[0m\u001b[0;34m.\u001b[0m\u001b[0mget_hcore\u001b[0m\u001b[0;34m(\u001b[0m\u001b[0mmol\u001b[0m\u001b[0;34m)\u001b[0m\u001b[0;34m\u001b[0m\u001b[0;34m\u001b[0m\u001b[0m\n\u001b[0;32m--> 127\u001b[0;31m     \u001b[0mvhf\u001b[0m \u001b[0;34m=\u001b[0m \u001b[0mmf\u001b[0m\u001b[0;34m.\u001b[0m\u001b[0mget_veff\u001b[0m\u001b[0;34m(\u001b[0m\u001b[0mmol\u001b[0m\u001b[0;34m,\u001b[0m \u001b[0mdm\u001b[0m\u001b[0;34m)\u001b[0m\u001b[0;34m\u001b[0m\u001b[0;34m\u001b[0m\u001b[0m\n\u001b[0m\u001b[1;32m    128\u001b[0m     \u001b[0me_tot\u001b[0m \u001b[0;34m=\u001b[0m \u001b[0mmf\u001b[0m\u001b[0;34m.\u001b[0m\u001b[0menergy_tot\u001b[0m\u001b[0;34m(\u001b[0m\u001b[0mdm\u001b[0m\u001b[0;34m,\u001b[0m \u001b[0mh1e\u001b[0m\u001b[0;34m,\u001b[0m \u001b[0mvhf\u001b[0m\u001b[0;34m)\u001b[0m\u001b[0;34m\u001b[0m\u001b[0;34m\u001b[0m\u001b[0m\n\u001b[1;32m    129\u001b[0m     \u001b[0mlogger\u001b[0m\u001b[0;34m.\u001b[0m\u001b[0minfo\u001b[0m\u001b[0;34m(\u001b[0m\u001b[0mmf\u001b[0m\u001b[0;34m,\u001b[0m \u001b[0;34m'init E= %.15g'\u001b[0m\u001b[0;34m,\u001b[0m \u001b[0me_tot\u001b[0m\u001b[0;34m)\u001b[0m\u001b[0;34m\u001b[0m\u001b[0;34m\u001b[0m\u001b[0m\n",
      "\u001b[0;32m~/anaconda3/envs/rsrch/lib/python3.7/site-packages/pyscf/dft/uks.py\u001b[0m in \u001b[0;36mget_veff\u001b[0;34m(ks, mol, dm, dm_last, vhf_last, hermi)\u001b[0m\n\u001b[1;32m     59\u001b[0m     \u001b[0;32melse\u001b[0m\u001b[0;34m:\u001b[0m\u001b[0;34m\u001b[0m\u001b[0;34m\u001b[0m\u001b[0m\n\u001b[1;32m     60\u001b[0m         \u001b[0mmax_memory\u001b[0m \u001b[0;34m=\u001b[0m \u001b[0mks\u001b[0m\u001b[0;34m.\u001b[0m\u001b[0mmax_memory\u001b[0m \u001b[0;34m-\u001b[0m \u001b[0mlib\u001b[0m\u001b[0;34m.\u001b[0m\u001b[0mcurrent_memory\u001b[0m\u001b[0;34m(\u001b[0m\u001b[0;34m)\u001b[0m\u001b[0;34m[\u001b[0m\u001b[0;36m0\u001b[0m\u001b[0;34m]\u001b[0m\u001b[0;34m\u001b[0m\u001b[0;34m\u001b[0m\u001b[0m\n\u001b[0;32m---> 61\u001b[0;31m         \u001b[0mn\u001b[0m\u001b[0;34m,\u001b[0m \u001b[0mexc\u001b[0m\u001b[0;34m,\u001b[0m \u001b[0mvxc\u001b[0m \u001b[0;34m=\u001b[0m \u001b[0mni\u001b[0m\u001b[0;34m.\u001b[0m\u001b[0mnr_uks\u001b[0m\u001b[0;34m(\u001b[0m\u001b[0mmol\u001b[0m\u001b[0;34m,\u001b[0m \u001b[0mks\u001b[0m\u001b[0;34m.\u001b[0m\u001b[0mgrids\u001b[0m\u001b[0;34m,\u001b[0m \u001b[0mks\u001b[0m\u001b[0;34m.\u001b[0m\u001b[0mxc\u001b[0m\u001b[0;34m,\u001b[0m \u001b[0mdm\u001b[0m\u001b[0;34m,\u001b[0m \u001b[0mmax_memory\u001b[0m\u001b[0;34m=\u001b[0m\u001b[0mmax_memory\u001b[0m\u001b[0;34m)\u001b[0m\u001b[0;34m\u001b[0m\u001b[0;34m\u001b[0m\u001b[0m\n\u001b[0m\u001b[1;32m     62\u001b[0m         \u001b[0;32mif\u001b[0m \u001b[0mks\u001b[0m\u001b[0;34m.\u001b[0m\u001b[0mnlc\u001b[0m\u001b[0;34m:\u001b[0m\u001b[0;34m\u001b[0m\u001b[0;34m\u001b[0m\u001b[0m\n\u001b[1;32m     63\u001b[0m             \u001b[0;32massert\u001b[0m \u001b[0;34m'VV10'\u001b[0m \u001b[0;32min\u001b[0m \u001b[0mks\u001b[0m\u001b[0;34m.\u001b[0m\u001b[0mnlc\u001b[0m\u001b[0;34m.\u001b[0m\u001b[0mupper\u001b[0m\u001b[0;34m(\u001b[0m\u001b[0;34m)\u001b[0m\u001b[0;34m\u001b[0m\u001b[0;34m\u001b[0m\u001b[0m\n",
      "\u001b[0;32m~/anaconda3/envs/rsrch/lib/python3.7/site-packages/pyscf/dft/numint.py\u001b[0m in \u001b[0;36mnr_uks\u001b[0;34m(ni, mol, grids, xc_code, dms, relativity, hermi, max_memory, verbose)\u001b[0m\n\u001b[1;32m   1072\u001b[0m                 exc, vxc = ni.eval_xc(xc_code, (rho_a, rho_b), spin=1,\n\u001b[1;32m   1073\u001b[0m                                       \u001b[0mrelativity\u001b[0m\u001b[0;34m=\u001b[0m\u001b[0mrelativity\u001b[0m\u001b[0;34m,\u001b[0m \u001b[0mderiv\u001b[0m\u001b[0;34m=\u001b[0m\u001b[0;36m1\u001b[0m\u001b[0;34m,\u001b[0m\u001b[0;34m\u001b[0m\u001b[0;34m\u001b[0m\u001b[0m\n\u001b[0;32m-> 1074\u001b[0;31m                                       verbose=verbose)[:2]\n\u001b[0m\u001b[1;32m   1075\u001b[0m                 \u001b[0mvrho\u001b[0m\u001b[0;34m,\u001b[0m \u001b[0mvsigma\u001b[0m\u001b[0;34m,\u001b[0m \u001b[0mvlapl\u001b[0m\u001b[0;34m,\u001b[0m \u001b[0mvtau\u001b[0m \u001b[0;34m=\u001b[0m \u001b[0mvxc\u001b[0m\u001b[0;34m[\u001b[0m\u001b[0;34m:\u001b[0m\u001b[0;36m4\u001b[0m\u001b[0;34m]\u001b[0m\u001b[0;34m\u001b[0m\u001b[0;34m\u001b[0m\u001b[0m\n\u001b[1;32m   1076\u001b[0m                 \u001b[0mden\u001b[0m \u001b[0;34m=\u001b[0m \u001b[0mrho_a\u001b[0m\u001b[0;34m[\u001b[0m\u001b[0;36m0\u001b[0m\u001b[0;34m]\u001b[0m\u001b[0;34m*\u001b[0m\u001b[0mweight\u001b[0m\u001b[0;34m\u001b[0m\u001b[0;34m\u001b[0m\u001b[0m\n",
      "\u001b[0;32m~/anaconda3/envs/rsrch/lib/python3.7/site-packages/pylibnxc/pyscf/pyscf.py\u001b[0m in \u001b[0;36meval_xc\u001b[0;34m(xc_code, rho, spin, relativity, deriv, verbose)\u001b[0m\n\u001b[1;32m     74\u001b[0m \u001b[0;34m\u001b[0m\u001b[0m\n\u001b[1;32m     75\u001b[0m     \u001b[0;32mfor\u001b[0m \u001b[0mcode\u001b[0m\u001b[0;34m,\u001b[0m \u001b[0mfactor\u001b[0m \u001b[0;32min\u001b[0m \u001b[0mparsed_xc\u001b[0m\u001b[0;34m[\u001b[0m\u001b[0;36m1\u001b[0m\u001b[0;34m]\u001b[0m\u001b[0;34m:\u001b[0m\u001b[0;34m\u001b[0m\u001b[0;34m\u001b[0m\u001b[0m\n\u001b[0;32m---> 76\u001b[0;31m         \u001b[0mmodel\u001b[0m \u001b[0;34m=\u001b[0m \u001b[0mLibNXCFunctional\u001b[0m\u001b[0;34m(\u001b[0m\u001b[0mcode\u001b[0m\u001b[0;34m,\u001b[0m \u001b[0mkind\u001b[0m\u001b[0;34m=\u001b[0m\u001b[0;34m'grid'\u001b[0m\u001b[0;34m)\u001b[0m\u001b[0;34m\u001b[0m\u001b[0;34m\u001b[0m\u001b[0m\n\u001b[0m\u001b[1;32m     77\u001b[0m         \u001b[0moutput\u001b[0m \u001b[0;34m=\u001b[0m \u001b[0mmodel\u001b[0m\u001b[0;34m.\u001b[0m\u001b[0mcompute\u001b[0m\u001b[0;34m(\u001b[0m\u001b[0minp\u001b[0m\u001b[0;34m)\u001b[0m\u001b[0;34m\u001b[0m\u001b[0;34m\u001b[0m\u001b[0m\n\u001b[1;32m     78\u001b[0m         \u001b[0;32mfor\u001b[0m \u001b[0mkey\u001b[0m \u001b[0;32min\u001b[0m \u001b[0moutput\u001b[0m\u001b[0;34m:\u001b[0m\u001b[0;34m\u001b[0m\u001b[0;34m\u001b[0m\u001b[0m\n",
      "\u001b[0;32m~/anaconda3/envs/rsrch/lib/python3.7/site-packages/pylibnxc/functional.py\u001b[0m in \u001b[0;36mLibNXCFunctional\u001b[0;34m(name, **kwargs)\u001b[0m\n\u001b[1;32m     40\u001b[0m     \u001b[0;32melse\u001b[0m\u001b[0;34m:\u001b[0m\u001b[0;34m\u001b[0m\u001b[0;34m\u001b[0m\u001b[0m\n\u001b[1;32m     41\u001b[0m         raise ValueError(\n\u001b[0;32m---> 42\u001b[0;31m             'Model {} could not be found, please check name/path'.format(name))\n\u001b[0m\u001b[1;32m     43\u001b[0m \u001b[0;34m\u001b[0m\u001b[0m\n\u001b[1;32m     44\u001b[0m     \u001b[0;32mif\u001b[0m \u001b[0mkwargs\u001b[0m\u001b[0;34m.\u001b[0m\u001b[0mget\u001b[0m\u001b[0;34m(\u001b[0m\u001b[0;34m'kind'\u001b[0m\u001b[0;34m,\u001b[0m \u001b[0;34m'grid'\u001b[0m\u001b[0;34m)\u001b[0m\u001b[0;34m.\u001b[0m\u001b[0mlower\u001b[0m\u001b[0;34m(\u001b[0m\u001b[0;34m)\u001b[0m \u001b[0;34m==\u001b[0m \u001b[0;34m'grid'\u001b[0m\u001b[0;34m:\u001b[0m\u001b[0;34m\u001b[0m\u001b[0;34m\u001b[0m\u001b[0m\n",
      "\u001b[0;31mValueError\u001b[0m: Model /HOME/AWILLS/DOCUMENTS/RESEARCH/XCDIFF/MODELS/FINAL/LOG_MGGA_REACTION2/MGGA_REACTION2/XC could not be found, please check name/path"
     ]
    }
   ],
   "source": [
    "mf.grids.level = 3\n",
    "mf.density_fit()\n",
    "mf.kernel()"
   ]
  },
  {
   "cell_type": "code",
   "execution_count": 2,
   "metadata": {},
   "outputs": [
    {
     "name": "stdout",
     "output_type": "stream",
     "text": [
      "PARSED:  ([0, 0, 0], [(-999, 1)])\n",
      "([0, 0, 0], [('/HOME/AWILLS/DOCUMENTS/RESEARCH/XCDIFF/MODELS/FINAL/LOGMGGAREACTION2/MGGA_REACTION2', 1)]) /HOME/AWILLS/DOCUMENTS/RESEARCH/XCDIFF/MODELS/FINAL/LOGMGGAREACTION2/MGGA_REACTION2\n",
      "MGGA\n"
     ]
    }
   ],
   "source": [
    "tp = '/home/awills/Documents/Research/xcdiff/models/final/logmggareaction2/MGGA_REACTION2'\n",
    "parsed = pylibnxc.pyscf.utils.parse_xc_code(tp)\n",
    "print(parsed, parsed[1][0][0])\n",
    "print(pylibnxc.pyscf.utils.find_max_level(parsed))"
   ]
  },
  {
   "cell_type": "code",
   "execution_count": 4,
   "metadata": {
    "scrolled": true
   },
   "outputs": [
    {
     "ename": "ValueError",
     "evalue": "Model GGA_X_PBE could not be found, please check name/path",
     "output_type": "error",
     "traceback": [
      "\u001b[0;31m---------------------------------------------------------------------------\u001b[0m",
      "\u001b[0;31mValueError\u001b[0m                                Traceback (most recent call last)",
      "\u001b[0;32m/tmp/ipykernel_269772/2871518824.py\u001b[0m in \u001b[0;36m<module>\u001b[0;34m\u001b[0m\n\u001b[1;32m      1\u001b[0m \u001b[0mmf\u001b[0m\u001b[0;34m.\u001b[0m\u001b[0mgrids\u001b[0m\u001b[0;34m.\u001b[0m\u001b[0mlevel\u001b[0m \u001b[0;34m=\u001b[0m \u001b[0;36m2\u001b[0m\u001b[0;34m\u001b[0m\u001b[0;34m\u001b[0m\u001b[0m\n\u001b[0;32m----> 2\u001b[0;31m \u001b[0mmf\u001b[0m\u001b[0;34m.\u001b[0m\u001b[0mkernel\u001b[0m\u001b[0;34m(\u001b[0m\u001b[0;34m)\u001b[0m\u001b[0;34m\u001b[0m\u001b[0;34m\u001b[0m\u001b[0m\n\u001b[0m",
      "\u001b[0;32m~/anaconda3/envs/rsrch/lib/python3.7/site-packages/pyscf/lib/misc.py\u001b[0m in \u001b[0;36maliased_fn\u001b[0;34m(self, *args, **kwargs)\u001b[0m\n\u001b[1;32m    629\u001b[0m     \u001b[0mfname\u001b[0m \u001b[0;34m=\u001b[0m \u001b[0mfn\u001b[0m\u001b[0;34m.\u001b[0m\u001b[0m__name__\u001b[0m\u001b[0;34m\u001b[0m\u001b[0;34m\u001b[0m\u001b[0m\n\u001b[1;32m    630\u001b[0m     \u001b[0;32mdef\u001b[0m \u001b[0maliased_fn\u001b[0m\u001b[0;34m(\u001b[0m\u001b[0mself\u001b[0m\u001b[0;34m,\u001b[0m \u001b[0;34m*\u001b[0m\u001b[0margs\u001b[0m\u001b[0;34m,\u001b[0m \u001b[0;34m**\u001b[0m\u001b[0mkwargs\u001b[0m\u001b[0;34m)\u001b[0m\u001b[0;34m:\u001b[0m\u001b[0;34m\u001b[0m\u001b[0;34m\u001b[0m\u001b[0m\n\u001b[0;32m--> 631\u001b[0;31m         \u001b[0;32mreturn\u001b[0m \u001b[0mgetattr\u001b[0m\u001b[0;34m(\u001b[0m\u001b[0mself\u001b[0m\u001b[0;34m,\u001b[0m \u001b[0mfname\u001b[0m\u001b[0;34m)\u001b[0m\u001b[0;34m(\u001b[0m\u001b[0;34m*\u001b[0m\u001b[0margs\u001b[0m\u001b[0;34m,\u001b[0m \u001b[0;34m**\u001b[0m\u001b[0mkwargs\u001b[0m\u001b[0;34m)\u001b[0m\u001b[0;34m\u001b[0m\u001b[0;34m\u001b[0m\u001b[0m\n\u001b[0m\u001b[1;32m    632\u001b[0m \u001b[0;34m\u001b[0m\u001b[0m\n\u001b[1;32m    633\u001b[0m     \u001b[0;32mif\u001b[0m \u001b[0malias_name\u001b[0m \u001b[0;32mis\u001b[0m \u001b[0;32mnot\u001b[0m \u001b[0;32mNone\u001b[0m\u001b[0;34m:\u001b[0m\u001b[0;34m\u001b[0m\u001b[0;34m\u001b[0m\u001b[0m\n",
      "\u001b[0;32m~/anaconda3/envs/rsrch/lib/python3.7/site-packages/pyscf/scf/hf.py\u001b[0m in \u001b[0;36mscf\u001b[0;34m(self, dm0, **kwargs)\u001b[0m\n\u001b[1;32m   1648\u001b[0m                     kernel(self, self.conv_tol, self.conv_tol_grad,\n\u001b[1;32m   1649\u001b[0m                            \u001b[0mdm0\u001b[0m\u001b[0;34m=\u001b[0m\u001b[0mdm0\u001b[0m\u001b[0;34m,\u001b[0m \u001b[0mcallback\u001b[0m\u001b[0;34m=\u001b[0m\u001b[0mself\u001b[0m\u001b[0;34m.\u001b[0m\u001b[0mcallback\u001b[0m\u001b[0;34m,\u001b[0m\u001b[0;34m\u001b[0m\u001b[0;34m\u001b[0m\u001b[0m\n\u001b[0;32m-> 1650\u001b[0;31m                            conv_check=self.conv_check, **kwargs)\n\u001b[0m\u001b[1;32m   1651\u001b[0m         \u001b[0;32melse\u001b[0m\u001b[0;34m:\u001b[0m\u001b[0;34m\u001b[0m\u001b[0;34m\u001b[0m\u001b[0m\n\u001b[1;32m   1652\u001b[0m             \u001b[0;31m# Avoid to update SCF orbitals in the non-SCF initialization\u001b[0m\u001b[0;34m\u001b[0m\u001b[0;34m\u001b[0m\u001b[0;34m\u001b[0m\u001b[0m\n",
      "\u001b[0;32m~/anaconda3/envs/rsrch/lib/python3.7/site-packages/pyscf/scf/hf.py\u001b[0m in \u001b[0;36mkernel\u001b[0;34m(mf, conv_tol, conv_tol_grad, dump_chk, dm0, callback, conv_check, **kwargs)\u001b[0m\n\u001b[1;32m    125\u001b[0m \u001b[0;34m\u001b[0m\u001b[0m\n\u001b[1;32m    126\u001b[0m     \u001b[0mh1e\u001b[0m \u001b[0;34m=\u001b[0m \u001b[0mmf\u001b[0m\u001b[0;34m.\u001b[0m\u001b[0mget_hcore\u001b[0m\u001b[0;34m(\u001b[0m\u001b[0mmol\u001b[0m\u001b[0;34m)\u001b[0m\u001b[0;34m\u001b[0m\u001b[0;34m\u001b[0m\u001b[0m\n\u001b[0;32m--> 127\u001b[0;31m     \u001b[0mvhf\u001b[0m \u001b[0;34m=\u001b[0m \u001b[0mmf\u001b[0m\u001b[0;34m.\u001b[0m\u001b[0mget_veff\u001b[0m\u001b[0;34m(\u001b[0m\u001b[0mmol\u001b[0m\u001b[0;34m,\u001b[0m \u001b[0mdm\u001b[0m\u001b[0;34m)\u001b[0m\u001b[0;34m\u001b[0m\u001b[0;34m\u001b[0m\u001b[0m\n\u001b[0m\u001b[1;32m    128\u001b[0m     \u001b[0me_tot\u001b[0m \u001b[0;34m=\u001b[0m \u001b[0mmf\u001b[0m\u001b[0;34m.\u001b[0m\u001b[0menergy_tot\u001b[0m\u001b[0;34m(\u001b[0m\u001b[0mdm\u001b[0m\u001b[0;34m,\u001b[0m \u001b[0mh1e\u001b[0m\u001b[0;34m,\u001b[0m \u001b[0mvhf\u001b[0m\u001b[0;34m)\u001b[0m\u001b[0;34m\u001b[0m\u001b[0;34m\u001b[0m\u001b[0m\n\u001b[1;32m    129\u001b[0m     \u001b[0mlogger\u001b[0m\u001b[0;34m.\u001b[0m\u001b[0minfo\u001b[0m\u001b[0;34m(\u001b[0m\u001b[0mmf\u001b[0m\u001b[0;34m,\u001b[0m \u001b[0;34m'init E= %.15g'\u001b[0m\u001b[0;34m,\u001b[0m \u001b[0me_tot\u001b[0m\u001b[0;34m)\u001b[0m\u001b[0;34m\u001b[0m\u001b[0;34m\u001b[0m\u001b[0m\n",
      "\u001b[0;32m~/anaconda3/envs/rsrch/lib/python3.7/site-packages/pyscf/dft/uks.py\u001b[0m in \u001b[0;36mget_veff\u001b[0;34m(ks, mol, dm, dm_last, vhf_last, hermi)\u001b[0m\n\u001b[1;32m     59\u001b[0m     \u001b[0;32melse\u001b[0m\u001b[0;34m:\u001b[0m\u001b[0;34m\u001b[0m\u001b[0;34m\u001b[0m\u001b[0m\n\u001b[1;32m     60\u001b[0m         \u001b[0mmax_memory\u001b[0m \u001b[0;34m=\u001b[0m \u001b[0mks\u001b[0m\u001b[0;34m.\u001b[0m\u001b[0mmax_memory\u001b[0m \u001b[0;34m-\u001b[0m \u001b[0mlib\u001b[0m\u001b[0;34m.\u001b[0m\u001b[0mcurrent_memory\u001b[0m\u001b[0;34m(\u001b[0m\u001b[0;34m)\u001b[0m\u001b[0;34m[\u001b[0m\u001b[0;36m0\u001b[0m\u001b[0;34m]\u001b[0m\u001b[0;34m\u001b[0m\u001b[0;34m\u001b[0m\u001b[0m\n\u001b[0;32m---> 61\u001b[0;31m         \u001b[0mn\u001b[0m\u001b[0;34m,\u001b[0m \u001b[0mexc\u001b[0m\u001b[0;34m,\u001b[0m \u001b[0mvxc\u001b[0m \u001b[0;34m=\u001b[0m \u001b[0mni\u001b[0m\u001b[0;34m.\u001b[0m\u001b[0mnr_uks\u001b[0m\u001b[0;34m(\u001b[0m\u001b[0mmol\u001b[0m\u001b[0;34m,\u001b[0m \u001b[0mks\u001b[0m\u001b[0;34m.\u001b[0m\u001b[0mgrids\u001b[0m\u001b[0;34m,\u001b[0m \u001b[0mks\u001b[0m\u001b[0;34m.\u001b[0m\u001b[0mxc\u001b[0m\u001b[0;34m,\u001b[0m \u001b[0mdm\u001b[0m\u001b[0;34m,\u001b[0m \u001b[0mmax_memory\u001b[0m\u001b[0;34m=\u001b[0m\u001b[0mmax_memory\u001b[0m\u001b[0;34m)\u001b[0m\u001b[0;34m\u001b[0m\u001b[0;34m\u001b[0m\u001b[0m\n\u001b[0m\u001b[1;32m     62\u001b[0m         \u001b[0;32mif\u001b[0m \u001b[0mks\u001b[0m\u001b[0;34m.\u001b[0m\u001b[0mnlc\u001b[0m\u001b[0;34m:\u001b[0m\u001b[0;34m\u001b[0m\u001b[0;34m\u001b[0m\u001b[0m\n\u001b[1;32m     63\u001b[0m             \u001b[0;32massert\u001b[0m \u001b[0;34m'VV10'\u001b[0m \u001b[0;32min\u001b[0m \u001b[0mks\u001b[0m\u001b[0;34m.\u001b[0m\u001b[0mnlc\u001b[0m\u001b[0;34m.\u001b[0m\u001b[0mupper\u001b[0m\u001b[0;34m(\u001b[0m\u001b[0;34m)\u001b[0m\u001b[0;34m\u001b[0m\u001b[0;34m\u001b[0m\u001b[0m\n",
      "\u001b[0;32m~/anaconda3/envs/rsrch/lib/python3.7/site-packages/pyscf/dft/numint.py\u001b[0m in \u001b[0;36mnr_uks\u001b[0;34m(ni, mol, grids, xc_code, dms, relativity, hermi, max_memory, verbose)\u001b[0m\n\u001b[1;32m   1044\u001b[0m                 exc, vxc = ni.eval_xc(xc_code, (rho_a, rho_b), spin=1,\n\u001b[1;32m   1045\u001b[0m                                       \u001b[0mrelativity\u001b[0m\u001b[0;34m=\u001b[0m\u001b[0mrelativity\u001b[0m\u001b[0;34m,\u001b[0m \u001b[0mderiv\u001b[0m\u001b[0;34m=\u001b[0m\u001b[0;36m1\u001b[0m\u001b[0;34m,\u001b[0m\u001b[0;34m\u001b[0m\u001b[0;34m\u001b[0m\u001b[0m\n\u001b[0;32m-> 1046\u001b[0;31m                                       verbose=verbose)[:2]\n\u001b[0m\u001b[1;32m   1047\u001b[0m                 \u001b[0mden\u001b[0m \u001b[0;34m=\u001b[0m \u001b[0mrho_a\u001b[0m\u001b[0;34m[\u001b[0m\u001b[0;36m0\u001b[0m\u001b[0;34m]\u001b[0m\u001b[0;34m*\u001b[0m\u001b[0mweight\u001b[0m\u001b[0;34m\u001b[0m\u001b[0;34m\u001b[0m\u001b[0m\n\u001b[1;32m   1048\u001b[0m                 \u001b[0mnelec\u001b[0m\u001b[0;34m[\u001b[0m\u001b[0;36m0\u001b[0m\u001b[0;34m,\u001b[0m\u001b[0midm\u001b[0m\u001b[0;34m]\u001b[0m \u001b[0;34m+=\u001b[0m \u001b[0mden\u001b[0m\u001b[0;34m.\u001b[0m\u001b[0msum\u001b[0m\u001b[0;34m(\u001b[0m\u001b[0;34m)\u001b[0m\u001b[0;34m\u001b[0m\u001b[0;34m\u001b[0m\u001b[0m\n",
      "\u001b[0;32m~/anaconda3/envs/rsrch/lib/python3.7/site-packages/pylibnxc/pyscf/pyscf.py\u001b[0m in \u001b[0;36meval_xc\u001b[0;34m(xc_code, rho, spin, relativity, deriv, verbose)\u001b[0m\n\u001b[1;32m     74\u001b[0m \u001b[0;34m\u001b[0m\u001b[0m\n\u001b[1;32m     75\u001b[0m     \u001b[0;32mfor\u001b[0m \u001b[0mcode\u001b[0m\u001b[0;34m,\u001b[0m \u001b[0mfactor\u001b[0m \u001b[0;32min\u001b[0m \u001b[0mparsed_xc\u001b[0m\u001b[0;34m[\u001b[0m\u001b[0;36m1\u001b[0m\u001b[0;34m]\u001b[0m\u001b[0;34m:\u001b[0m\u001b[0;34m\u001b[0m\u001b[0;34m\u001b[0m\u001b[0m\n\u001b[0;32m---> 76\u001b[0;31m         \u001b[0mmodel\u001b[0m \u001b[0;34m=\u001b[0m \u001b[0mLibNXCFunctional\u001b[0m\u001b[0;34m(\u001b[0m\u001b[0mcode\u001b[0m\u001b[0;34m,\u001b[0m \u001b[0mkind\u001b[0m\u001b[0;34m=\u001b[0m\u001b[0;34m'grid'\u001b[0m\u001b[0;34m)\u001b[0m\u001b[0;34m\u001b[0m\u001b[0;34m\u001b[0m\u001b[0m\n\u001b[0m\u001b[1;32m     77\u001b[0m         \u001b[0moutput\u001b[0m \u001b[0;34m=\u001b[0m \u001b[0mmodel\u001b[0m\u001b[0;34m.\u001b[0m\u001b[0mcompute\u001b[0m\u001b[0;34m(\u001b[0m\u001b[0minp\u001b[0m\u001b[0;34m)\u001b[0m\u001b[0;34m\u001b[0m\u001b[0;34m\u001b[0m\u001b[0m\n\u001b[1;32m     78\u001b[0m         \u001b[0;32mfor\u001b[0m \u001b[0mkey\u001b[0m \u001b[0;32min\u001b[0m \u001b[0moutput\u001b[0m\u001b[0;34m:\u001b[0m\u001b[0;34m\u001b[0m\u001b[0;34m\u001b[0m\u001b[0m\n",
      "\u001b[0;32m~/anaconda3/envs/rsrch/lib/python3.7/site-packages/pylibnxc/functional.py\u001b[0m in \u001b[0;36mLibNXCFunctional\u001b[0;34m(name, **kwargs)\u001b[0m\n\u001b[1;32m     40\u001b[0m     \u001b[0;32melse\u001b[0m\u001b[0;34m:\u001b[0m\u001b[0;34m\u001b[0m\u001b[0;34m\u001b[0m\u001b[0m\n\u001b[1;32m     41\u001b[0m         raise ValueError(\n\u001b[0;32m---> 42\u001b[0;31m             'Model {} could not be found, please check name/path'.format(name))\n\u001b[0m\u001b[1;32m     43\u001b[0m \u001b[0;34m\u001b[0m\u001b[0m\n\u001b[1;32m     44\u001b[0m     \u001b[0;32mif\u001b[0m \u001b[0mkwargs\u001b[0m\u001b[0;34m.\u001b[0m\u001b[0mget\u001b[0m\u001b[0;34m(\u001b[0m\u001b[0;34m'kind'\u001b[0m\u001b[0;34m,\u001b[0m \u001b[0;34m'grid'\u001b[0m\u001b[0;34m)\u001b[0m\u001b[0;34m.\u001b[0m\u001b[0mlower\u001b[0m\u001b[0;34m(\u001b[0m\u001b[0;34m)\u001b[0m \u001b[0;34m==\u001b[0m \u001b[0;34m'grid'\u001b[0m\u001b[0;34m:\u001b[0m\u001b[0;34m\u001b[0m\u001b[0;34m\u001b[0m\u001b[0m\n",
      "\u001b[0;31mValueError\u001b[0m: Model GGA_X_PBE could not be found, please check name/path"
     ]
    }
   ],
   "source": [
    "mf.grids.level = 2\n",
    "mf.kernel()"
   ]
  },
  {
   "cell_type": "code",
   "execution_count": 72,
   "metadata": {},
   "outputs": [
    {
     "name": "stdout",
     "output_type": "stream",
     "text": [
      "FREEC False\n"
     ]
    }
   ],
   "source": [
    "model = get_scf(xctype='MGGA', path='/home/awills/Documents/Research/xcdiff/models/final/log_mgga_reaction2/MGGA_REACTION2/xc')"
   ]
  },
  {
   "cell_type": "code",
   "execution_count": 64,
   "metadata": {},
   "outputs": [],
   "source": [
    "venamed = [(n,i) for n,i in model.named_parameters()]\n",
    "xcnamed = [(n,i) for n,i in model.xc.named_parameters()]"
   ]
  },
  {
   "cell_type": "code",
   "execution_count": 69,
   "metadata": {
    "scrolled": true
   },
   "outputs": [
    {
     "name": "stdout",
     "output_type": "stream",
     "text": [
      "('get_veff.model.grid_models.0.net.0.weight', Parameter containing:\n",
      "tensor([[-0.7018, -0.0108],\n",
      "        [ 0.2785, -0.3875],\n",
      "        [-0.0837, -0.0943],\n",
      "        [ 0.6210,  0.2026],\n",
      "        [-0.5129, -0.5018],\n",
      "        [-0.1993,  0.3953],\n",
      "        [-0.0190, -0.5222],\n",
      "        [ 0.1825, -0.1985],\n",
      "        [-0.6240, -0.1327],\n",
      "        [ 0.3112, -0.3461],\n",
      "        [-0.1302, -0.6887],\n",
      "        [ 0.1273,  0.2343],\n",
      "        [-0.2901,  0.6373],\n",
      "        [ 0.1817,  0.0126],\n",
      "        [ 0.3268, -0.0215],\n",
      "        [-0.5700, -0.3154]])) ('grid_models.0.net.0.weight', Parameter containing:\n",
      "tensor([[-0.7018, -0.0108],\n",
      "        [ 0.2785, -0.3875],\n",
      "        [-0.0837, -0.0943],\n",
      "        [ 0.6210,  0.2026],\n",
      "        [-0.5129, -0.5018],\n",
      "        [-0.1993,  0.3953],\n",
      "        [-0.0190, -0.5222],\n",
      "        [ 0.1825, -0.1985],\n",
      "        [-0.6240, -0.1327],\n",
      "        [ 0.3112, -0.3461],\n",
      "        [-0.1302, -0.6887],\n",
      "        [ 0.1273,  0.2343],\n",
      "        [-0.2901,  0.6373],\n",
      "        [ 0.1817,  0.0126],\n",
      "        [ 0.3268, -0.0215],\n",
      "        [-0.5700, -0.3154]]))\n"
     ]
    }
   ],
   "source": [
    "print(venamed[0], xcnamed[0])"
   ]
  },
  {
   "cell_type": "code",
   "execution_count": 103,
   "metadata": {
    "scrolled": true
   },
   "outputs": [],
   "source": [
    "freeze_net(model.xc)"
   ]
  },
  {
   "cell_type": "code",
   "execution_count": 115,
   "metadata": {
    "scrolled": true
   },
   "outputs": [],
   "source": [
    "chil = [i for i in model.xc.children() if isinstance(i, torch.nn.ModuleList)][0]\n",
    "xl = [i for i in chil[0].net.children()]\n",
    "cl = [i for i in chil[1].net.children()]\n",
    "xout = xl.pop()\n",
    "cout = cl.pop()\n",
    "#duplicate last layer and GELU\n",
    "xl += xl[-2:]\n",
    "cl += cl[-2:]\n",
    "#set last layer as unfrozen\n",
    "for p in xl[-2].parameters():\n",
    "    p.requires_grad = True\n",
    "for p in cl[-2].parameters():\n",
    "    p.requires_grad = True\n",
    "xl.append(xout)\n",
    "cl.append(cout)\n",
    "chil[0].net = torch.nn.Sequential(*xl)\n",
    "chil[1].net = torch.nn.Sequential(*cl)"
   ]
  },
  {
   "cell_type": "code",
   "execution_count": 117,
   "metadata": {
    "scrolled": true
   },
   "outputs": [
    {
     "name": "stdout",
     "output_type": "stream",
     "text": [
      "Parameter containing:\n",
      "tensor([[ 0.1118, -0.1552,  0.0532,  0.1596, -0.1311, -0.0570, -0.2327,  0.0949,\n",
      "          0.1649, -0.0435, -0.0869, -0.2365, -0.0263,  0.1862,  0.1275, -0.0174],\n",
      "        [ 0.0250,  0.1629,  0.1781,  0.2271,  0.0324, -0.0796, -0.1448, -0.1844,\n",
      "          0.1423, -0.0355, -0.0816, -0.0059,  0.0713, -0.2077,  0.1183, -0.0579],\n",
      "        [-0.1334, -0.1173, -0.0149,  0.0584, -0.2184,  0.2172,  0.0633, -0.1355,\n",
      "          0.1240, -0.0776, -0.0101,  0.1160, -0.1014, -0.0462, -0.0046,  0.0255],\n",
      "        [ 0.1439, -0.0159,  0.1648, -0.1594, -0.2384, -0.1637,  0.1762,  0.0836,\n",
      "         -0.2010, -0.1560, -0.1395, -0.1219,  0.2044,  0.1372, -0.0689,  0.1006],\n",
      "        [-0.1054, -0.0207, -0.1032,  0.0598, -0.1961, -0.1936,  0.1547,  0.2427,\n",
      "         -0.2027, -0.2184, -0.1143, -0.2410, -0.0822,  0.0982, -0.0682, -0.1847],\n",
      "        [-0.0438,  0.0916,  0.1053, -0.1429,  0.0448,  0.1177, -0.1364, -0.1012,\n",
      "         -0.0689, -0.1839, -0.1133,  0.1002,  0.2140, -0.1638,  0.0499,  0.1990],\n",
      "        [-0.1896,  0.1239,  0.1943, -0.2192, -0.1379, -0.1774,  0.1861, -0.2323,\n",
      "          0.2006,  0.2218, -0.0595, -0.2119, -0.0872, -0.2090,  0.0809,  0.0444],\n",
      "        [-0.0732,  0.1267, -0.0155,  0.1998,  0.0208,  0.0279,  0.0391,  0.2190,\n",
      "         -0.0023,  0.0142, -0.1612, -0.1768, -0.1382,  0.1589,  0.1339, -0.1407],\n",
      "        [ 0.2417, -0.0566,  0.1259, -0.0326,  0.0665, -0.0648, -0.1680,  0.1611,\n",
      "         -0.2418,  0.1129,  0.0945, -0.1520, -0.2390, -0.1452, -0.0867, -0.1007],\n",
      "        [-0.0886,  0.2020,  0.1192,  0.2495,  0.1995, -0.0443, -0.1757, -0.0684,\n",
      "          0.2115, -0.2140, -0.0396, -0.1523, -0.2301, -0.0191, -0.1923, -0.1875],\n",
      "        [-0.1450, -0.0599,  0.1255, -0.0604,  0.1492,  0.1405,  0.0333, -0.1692,\n",
      "         -0.0214, -0.1504, -0.0581,  0.2133, -0.1213,  0.2479,  0.1734, -0.2087],\n",
      "        [ 0.0025,  0.0358, -0.1974, -0.0894, -0.1762, -0.1442, -0.2047,  0.0808,\n",
      "         -0.0488,  0.0787,  0.0514, -0.2137,  0.2211, -0.0264,  0.1048,  0.0044],\n",
      "        [ 0.2161,  0.1633, -0.1794, -0.0944,  0.1931,  0.0348,  0.1176, -0.0584,\n",
      "         -0.2302,  0.0581, -0.0543, -0.1486, -0.2296,  0.1206,  0.1860, -0.0905],\n",
      "        [-0.2009, -0.2383, -0.0338,  0.0085, -0.0471, -0.0759,  0.1184,  0.1147,\n",
      "         -0.2182,  0.2000,  0.0631, -0.1363, -0.1623, -0.0319,  0.1001,  0.1861],\n",
      "        [ 0.1937, -0.2445, -0.0399,  0.0688, -0.0830,  0.1668,  0.2340, -0.0086,\n",
      "          0.0809, -0.1293,  0.0659,  0.0169, -0.2416,  0.0829,  0.2335, -0.1824],\n",
      "        [-0.0158,  0.2185, -0.1938,  0.0354, -0.0101,  0.0169, -0.2076,  0.1966,\n",
      "         -0.0254,  0.1354,  0.0062, -0.0708,  0.2165, -0.1669,  0.1474,  0.1384]],\n",
      "       requires_grad=True)\n",
      "Parameter containing:\n",
      "tensor([ 0.0297,  0.1526,  0.0120,  0.0468, -0.1660, -0.0764, -0.2124, -0.0355,\n",
      "        -0.0704,  0.0214,  0.1318, -0.1503,  0.0907,  0.1471, -0.0807,  0.2250],\n",
      "       requires_grad=True)\n",
      "Parameter containing:\n",
      "tensor([[ 0.2398, -0.0983, -0.2374,  0.1004,  0.1027,  0.1448,  0.0183, -0.2218,\n",
      "         -0.0027, -0.1199,  0.0767,  0.1102,  0.0970,  0.0912,  0.2498, -0.1676],\n",
      "        [ 0.1378,  0.0297,  0.1850,  0.0350, -0.1953, -0.0487, -0.0508,  0.1016,\n",
      "          0.0726, -0.0138,  0.2474, -0.0402,  0.1515,  0.1517,  0.0090, -0.1796],\n",
      "        [-0.1529, -0.0052,  0.2356, -0.1309,  0.0818, -0.0948, -0.1200,  0.1313,\n",
      "         -0.0677,  0.1984,  0.0932, -0.1878, -0.0442, -0.1631,  0.1640, -0.1740],\n",
      "        [ 0.2217,  0.1350,  0.2032,  0.1004, -0.2102,  0.0794,  0.1281, -0.1349,\n",
      "         -0.0593,  0.0294, -0.2097,  0.2429, -0.0028, -0.1961,  0.2219,  0.0720],\n",
      "        [ 0.0439,  0.0322,  0.0096,  0.1642,  0.2475, -0.1712,  0.0310,  0.2275,\n",
      "          0.1956,  0.2357,  0.1936, -0.1483,  0.2419, -0.0973,  0.0378,  0.2172],\n",
      "        [ 0.0148, -0.1672,  0.2240,  0.1706,  0.0543,  0.1262, -0.0431, -0.0823,\n",
      "          0.0628,  0.1783, -0.1865,  0.0525, -0.1680, -0.1472, -0.0415, -0.1437],\n",
      "        [-0.0414, -0.2392, -0.1116,  0.0227, -0.0560, -0.0770, -0.0311,  0.0635,\n",
      "          0.0795, -0.1447,  0.0316, -0.0060,  0.2278,  0.1411, -0.0377, -0.0778],\n",
      "        [-0.0102,  0.1403, -0.1541,  0.2220,  0.1164,  0.2451,  0.1348,  0.2098,\n",
      "          0.1466,  0.1453, -0.0333, -0.1226,  0.0317, -0.0366, -0.1209,  0.1550],\n",
      "        [ 0.0319, -0.0690, -0.1291, -0.0646,  0.0427,  0.1805,  0.2295, -0.0127,\n",
      "         -0.1143, -0.0062,  0.0864,  0.0850,  0.1548,  0.0792, -0.1405,  0.1005],\n",
      "        [-0.1855, -0.0271,  0.1792,  0.0055,  0.1468, -0.0496, -0.0667,  0.1482,\n",
      "          0.2447,  0.1991, -0.2394,  0.1922, -0.0280, -0.0174,  0.1659, -0.0984],\n",
      "        [ 0.1547,  0.1241,  0.2186,  0.1113,  0.2060, -0.0829, -0.1060,  0.0562,\n",
      "         -0.1575,  0.1972, -0.2119,  0.0263,  0.1109, -0.1357,  0.0818, -0.1671],\n",
      "        [ 0.1138, -0.1842, -0.2030,  0.0571,  0.0504,  0.1060, -0.1813,  0.0699,\n",
      "          0.0114,  0.1324,  0.0734,  0.2254, -0.2443, -0.1801,  0.1288, -0.0260],\n",
      "        [ 0.1938,  0.1534,  0.1806, -0.2088, -0.2420, -0.0456,  0.0996, -0.0907,\n",
      "         -0.2409, -0.1515,  0.1485, -0.0011, -0.0482,  0.1249, -0.1875, -0.1160],\n",
      "        [ 0.1004,  0.2135, -0.1814, -0.0101,  0.1159, -0.2349, -0.0408, -0.0152,\n",
      "         -0.1995, -0.1535,  0.2404,  0.1213, -0.1085, -0.1832,  0.0619,  0.2088],\n",
      "        [ 0.0945, -0.0483,  0.0756,  0.0740, -0.1330,  0.0118,  0.0559, -0.0878,\n",
      "         -0.1936,  0.1736, -0.0715, -0.0825, -0.1103, -0.2340, -0.0780, -0.0929],\n",
      "        [-0.1987,  0.1511, -0.1258, -0.1037, -0.1916, -0.0067,  0.1225,  0.2327,\n",
      "         -0.1136,  0.1501,  0.2134,  0.1103,  0.1020, -0.2472, -0.2040,  0.0908]],\n",
      "       requires_grad=True)\n",
      "Parameter containing:\n",
      "tensor([ 0.0808, -0.2303,  0.1319,  0.1911,  0.2235,  0.1382,  0.0149, -0.2031,\n",
      "         0.1050, -0.0329, -0.1231, -0.0311,  0.2296, -0.0985,  0.0014,  0.2389],\n",
      "       requires_grad=True)\n"
     ]
    }
   ],
   "source": [
    "for i in chil.parameters():\n",
    "    if i.requires_grad:\n",
    "        print(i)"
   ]
  },
  {
   "cell_type": "code",
   "execution_count": 24,
   "metadata": {},
   "outputs": [
    {
     "name": "stderr",
     "output_type": "stream",
     "text": [
      "/home/awills/anaconda3/envs/rsrch/lib/python3.7/site-packages/ase/io/jsonio.py:58: VisibleDeprecationWarning: Creating an ndarray from ragged nested sequences (which is a list-or-tuple of lists-or-tuples-or ndarrays with different lengths or shapes) is deprecated. If you meant to do this, you must specify 'dtype=object' when creating the ndarray.\n",
      "  a = np.array(obj)\n"
     ]
    },
    {
     "name": "stdout",
     "output_type": "stream",
     "text": [
      "Atoms(symbols='H', pbc=False, calculator=SinglePointCalculator(...))\n",
      "6-311G*\n",
      "Building grids...\n",
      "METHOD GENERATED: <function UKS at 0x7f1a7cdf5320>\n",
      "converged SCF energy = -0.499618777236592  <S^2> = 0.75  2S+1 = 2\n",
      "DATAPOINT E_BASE:  -0.4996187772365916\n",
      "DATAPOINT MO_ENERGY:  [[-0.27762069  0.21544503  2.07327278]\n",
      " [ 1.272361   20.68969522 63.83846139]]\n",
      "DATAPOINT E_IP:  [-0.27762069]\n",
      "DATAPOINT MO_OCC:  [[1. 0. 0.]\n",
      " [0. 0. 0.]]\n",
      "FREEC False\n"
     ]
    },
    {
     "name": "stderr",
     "output_type": "stream",
     "text": [
      "/home/awills/anaconda3/envs/rsrch/lib/python3.7/site-packages/pyscf/gto/moleintor.py:259: UserWarning: Function int4c1e_sph not found.  Set its comp to 1\n",
      "  warnings.warn('Function %s not found.  Set its comp to 1' % intor_name)\n",
      "/home/awills/anaconda3/envs/rsrch/lib/python3.7/site-packages/torch/serialization.py:709: UserWarning: 'torch.load' received a zip file that looks like a TorchScript archive dispatching to 'torch.jit.load' (call 'torch.jit.load' directly to silence this warning)\n",
      "  \" silence this warning)\", UserWarning)\n",
      "/home/awills/anaconda3/envs/rsrch/lib/python3.7/site-packages/dpyscfl/scf.py:114: UserWarning: torch.symeig is deprecated in favor of torch.linalg.eigh and will be removed in a future PyTorch release.\n",
      "The default behavior has changed from using the upper triangular portion of the matrix by default to using the lower triangular portion.\n",
      "L, _ = torch.symeig(A, upper=upper)\n",
      "should be replaced with\n",
      "L = torch.linalg.eigvalsh(A, UPLO='U' if upper else 'L')\n",
      "and\n",
      "L, V = torch.symeig(A, eigenvectors=True)\n",
      "should be replaced with\n",
      "L, V = torch.linalg.eigh(A, UPLO='U' if upper else 'L') (Triggered internally at  ../aten/src/ATen/native/BatchLinearAlgebra.cpp:2524.)\n",
      "  e, c = torch.symeig(contract('ij,...jk,kl->...il',s_chol, h, s_chol.T), eigenvectors=True,upper=False)\n"
     ]
    }
   ],
   "source": [
    "#xcdiff\n",
    "fc0 = read('/home/awills/Documents/Research/swxcd/aegis/fc0/results.traj', ':')\n",
    "atom_E, _, atom_mats = old_get_datapoint(fc0[0], xc='PBE')\n",
    "atom_mats = {k:[v] for k,v in atom_mats.items()}\n",
    "dset = Dataset(**atom_mats)\n",
    "dloader = torch.utils.data.DataLoader(dset, batch_size=1)\n",
    "inputs = next(iter(dloader))\n",
    "model = get_scf(xctype='MGGA', path='/home/awills/Documents/Research/xcdiff/models/final/log_mgga_reaction2/MGGA_REACTION2/xc')\n",
    "model.xc.train()\n",
    "yhat = model(inputs[0], inputs[1], sc=False)\n",
    "yhati = tuple(i for i in yhat.values())"
   ]
  },
  {
   "cell_type": "code",
   "execution_count": 3,
   "metadata": {
    "scrolled": true
   },
   "outputs": [
    {
     "data": {
      "text/plain": [
       "(tensor([-0.4789], grad_fn=<CatBackward0>),\n",
       " tensor([[[0.0551, 0.1049, 0.1054],\n",
       "          [0.1049, 0.1998, 0.2006],\n",
       "          [0.1054, 0.2006, 0.2014]],\n",
       " \n",
       "         [[0.0000, 0.0000, 0.0000],\n",
       "          [0.0000, 0.0000, 0.0000],\n",
       "          [0.0000, 0.0000, 0.0000]]], grad_fn=<StackBackward0>),\n",
       " tensor([[-0.2629,  0.2273,  2.1131],\n",
       "         [ 0.0536,  0.4891,  2.5972]], grad_fn=<SymeigBackward0>))"
      ]
     },
     "execution_count": 3,
     "metadata": {},
     "output_type": "execute_result"
    }
   ],
   "source": [
    "yhati"
   ]
  },
  {
   "cell_type": "code",
   "execution_count": 4,
   "metadata": {},
   "outputs": [
    {
     "data": {
      "text/plain": [
       "'model_torchviz.png'"
      ]
     },
     "execution_count": 4,
     "metadata": {},
     "output_type": "execute_result"
    }
   ],
   "source": [
    "make_dot(yhati, params=dict(list(model.named_parameters()))).render('model_torchviz', format='png')"
   ]
  },
  {
   "cell_type": "code",
   "execution_count": 41,
   "metadata": {},
   "outputs": [],
   "source": [
    "input_names = list(atom_mats.keys())\n",
    "output_names = list(yhat.keys())"
   ]
  },
  {
   "cell_type": "code",
   "execution_count": 42,
   "metadata": {
    "collapsed": true
   },
   "outputs": [
    {
     "ename": "TypeError",
     "evalue": "train() takes 1 positional argument but 2 were given",
     "output_type": "error",
     "traceback": [
      "\u001b[0;31m---------------------------------------------------------------------------\u001b[0m",
      "\u001b[0;31mTypeError\u001b[0m                                 Traceback (most recent call last)",
      "\u001b[0;32m/tmp/ipykernel_16409/3018101944.py\u001b[0m in \u001b[0;36m<module>\u001b[0;34m\u001b[0m\n\u001b[0;32m----> 1\u001b[0;31m \u001b[0mtorch\u001b[0m\u001b[0;34m.\u001b[0m\u001b[0monnx\u001b[0m\u001b[0;34m.\u001b[0m\u001b[0mexport\u001b[0m\u001b[0;34m(\u001b[0m\u001b[0mmodel\u001b[0m\u001b[0;34m,\u001b[0m \u001b[0;34m(\u001b[0m\u001b[0minputs\u001b[0m\u001b[0;34m,\u001b[0m\u001b[0;34m)\u001b[0m\u001b[0;34m,\u001b[0m \u001b[0;34m'model.onnx'\u001b[0m\u001b[0;34m,\u001b[0m \u001b[0minput_names\u001b[0m\u001b[0;34m=\u001b[0m\u001b[0minput_names\u001b[0m\u001b[0;34m,\u001b[0m \u001b[0moutput_names\u001b[0m\u001b[0;34m=\u001b[0m\u001b[0moutput_names\u001b[0m\u001b[0;34m)\u001b[0m\u001b[0;34m\u001b[0m\u001b[0;34m\u001b[0m\u001b[0m\n\u001b[0m",
      "\u001b[0;32m~/anaconda3/envs/rsrch/lib/python3.7/site-packages/torch/onnx/__init__.py\u001b[0m in \u001b[0;36mexport\u001b[0;34m(model, args, f, export_params, verbose, training, input_names, output_names, operator_export_type, opset_version, do_constant_folding, dynamic_axes, keep_initializers_as_inputs, custom_opsets, export_modules_as_functions)\u001b[0m\n\u001b[1;32m    307\u001b[0m                         \u001b[0mdo_constant_folding\u001b[0m\u001b[0;34m,\u001b[0m \u001b[0mdynamic_axes\u001b[0m\u001b[0;34m,\u001b[0m\u001b[0;34m\u001b[0m\u001b[0;34m\u001b[0m\u001b[0m\n\u001b[1;32m    308\u001b[0m                         \u001b[0mkeep_initializers_as_inputs\u001b[0m\u001b[0;34m,\u001b[0m \u001b[0mcustom_opsets\u001b[0m\u001b[0;34m,\u001b[0m\u001b[0;34m\u001b[0m\u001b[0;34m\u001b[0m\u001b[0m\n\u001b[0;32m--> 309\u001b[0;31m                         export_modules_as_functions)\n\u001b[0m\u001b[1;32m    310\u001b[0m \u001b[0;34m\u001b[0m\u001b[0m\n\u001b[1;32m    311\u001b[0m \u001b[0;34m\u001b[0m\u001b[0m\n",
      "\u001b[0;32m~/anaconda3/envs/rsrch/lib/python3.7/site-packages/torch/onnx/utils.py\u001b[0m in \u001b[0;36mexport\u001b[0;34m(model, args, f, export_params, verbose, training, input_names, output_names, operator_export_type, opset_version, do_constant_folding, dynamic_axes, keep_initializers_as_inputs, custom_opsets, export_modules_as_functions)\u001b[0m\n\u001b[1;32m    120\u001b[0m             \u001b[0mdo_constant_folding\u001b[0m\u001b[0;34m=\u001b[0m\u001b[0mdo_constant_folding\u001b[0m\u001b[0;34m,\u001b[0m \u001b[0mdynamic_axes\u001b[0m\u001b[0;34m=\u001b[0m\u001b[0mdynamic_axes\u001b[0m\u001b[0;34m,\u001b[0m\u001b[0;34m\u001b[0m\u001b[0;34m\u001b[0m\u001b[0m\n\u001b[1;32m    121\u001b[0m             \u001b[0mkeep_initializers_as_inputs\u001b[0m\u001b[0;34m=\u001b[0m\u001b[0mkeep_initializers_as_inputs\u001b[0m\u001b[0;34m,\u001b[0m\u001b[0;34m\u001b[0m\u001b[0;34m\u001b[0m\u001b[0m\n\u001b[0;32m--> 122\u001b[0;31m             custom_opsets=custom_opsets, export_modules_as_functions=export_modules_as_functions)\n\u001b[0m\u001b[1;32m    123\u001b[0m \u001b[0;34m\u001b[0m\u001b[0m\n\u001b[1;32m    124\u001b[0m \u001b[0;34m\u001b[0m\u001b[0m\n",
      "\u001b[0;32m~/anaconda3/envs/rsrch/lib/python3.7/site-packages/torch/onnx/utils.py\u001b[0m in \u001b[0;36m_export\u001b[0;34m(model, args, f, export_params, verbose, training, input_names, output_names, operator_export_type, export_type, opset_version, do_constant_folding, dynamic_axes, keep_initializers_as_inputs, fixed_batch_size, custom_opsets, add_node_names, onnx_shape_inference, export_modules_as_functions)\u001b[0m\n\u001b[1;32m    699\u001b[0m         \u001b[0m_set_opset_version\u001b[0m\u001b[0;34m(\u001b[0m\u001b[0mopset_version\u001b[0m\u001b[0;34m)\u001b[0m\u001b[0;34m\u001b[0m\u001b[0;34m\u001b[0m\u001b[0m\n\u001b[1;32m    700\u001b[0m         \u001b[0m_set_operator_export_type\u001b[0m\u001b[0;34m(\u001b[0m\u001b[0moperator_export_type\u001b[0m\u001b[0;34m)\u001b[0m\u001b[0;34m\u001b[0m\u001b[0;34m\u001b[0m\u001b[0m\n\u001b[0;32m--> 701\u001b[0;31m         \u001b[0;32mwith\u001b[0m \u001b[0mexporter_context\u001b[0m\u001b[0;34m(\u001b[0m\u001b[0mmodel\u001b[0m\u001b[0;34m,\u001b[0m \u001b[0mtraining\u001b[0m\u001b[0;34m)\u001b[0m\u001b[0;34m:\u001b[0m\u001b[0;34m\u001b[0m\u001b[0;34m\u001b[0m\u001b[0m\n\u001b[0m\u001b[1;32m    702\u001b[0m             val_keep_init_as_ip = _decide_keep_init_as_input(keep_initializers_as_inputs,\n\u001b[1;32m    703\u001b[0m                                                              \u001b[0moperator_export_type\u001b[0m\u001b[0;34m,\u001b[0m\u001b[0;34m\u001b[0m\u001b[0;34m\u001b[0m\u001b[0m\n",
      "\u001b[0;32m~/anaconda3/envs/rsrch/lib/python3.7/contextlib.py\u001b[0m in \u001b[0;36m__enter__\u001b[0;34m(self)\u001b[0m\n\u001b[1;32m    110\u001b[0m         \u001b[0;32mdel\u001b[0m \u001b[0mself\u001b[0m\u001b[0;34m.\u001b[0m\u001b[0margs\u001b[0m\u001b[0;34m,\u001b[0m \u001b[0mself\u001b[0m\u001b[0;34m.\u001b[0m\u001b[0mkwds\u001b[0m\u001b[0;34m,\u001b[0m \u001b[0mself\u001b[0m\u001b[0;34m.\u001b[0m\u001b[0mfunc\u001b[0m\u001b[0;34m\u001b[0m\u001b[0;34m\u001b[0m\u001b[0m\n\u001b[1;32m    111\u001b[0m         \u001b[0;32mtry\u001b[0m\u001b[0;34m:\u001b[0m\u001b[0;34m\u001b[0m\u001b[0;34m\u001b[0m\u001b[0m\n\u001b[0;32m--> 112\u001b[0;31m             \u001b[0;32mreturn\u001b[0m \u001b[0mnext\u001b[0m\u001b[0;34m(\u001b[0m\u001b[0mself\u001b[0m\u001b[0;34m.\u001b[0m\u001b[0mgen\u001b[0m\u001b[0;34m)\u001b[0m\u001b[0;34m\u001b[0m\u001b[0;34m\u001b[0m\u001b[0m\n\u001b[0m\u001b[1;32m    113\u001b[0m         \u001b[0;32mexcept\u001b[0m \u001b[0mStopIteration\u001b[0m\u001b[0;34m:\u001b[0m\u001b[0;34m\u001b[0m\u001b[0;34m\u001b[0m\u001b[0m\n\u001b[1;32m    114\u001b[0m             \u001b[0;32mraise\u001b[0m \u001b[0mRuntimeError\u001b[0m\u001b[0;34m(\u001b[0m\u001b[0;34m\"generator didn't yield\"\u001b[0m\u001b[0;34m)\u001b[0m \u001b[0;32mfrom\u001b[0m \u001b[0;32mNone\u001b[0m\u001b[0;34m\u001b[0m\u001b[0;34m\u001b[0m\u001b[0m\n",
      "\u001b[0;32m~/anaconda3/envs/rsrch/lib/python3.7/site-packages/torch/onnx/utils.py\u001b[0m in \u001b[0;36mexporter_context\u001b[0;34m(model, mode)\u001b[0m\n\u001b[1;32m    100\u001b[0m \u001b[0;34m@\u001b[0m\u001b[0mcontextlib\u001b[0m\u001b[0;34m.\u001b[0m\u001b[0mcontextmanager\u001b[0m\u001b[0;34m\u001b[0m\u001b[0;34m\u001b[0m\u001b[0m\n\u001b[1;32m    101\u001b[0m \u001b[0;32mdef\u001b[0m \u001b[0mexporter_context\u001b[0m\u001b[0;34m(\u001b[0m\u001b[0mmodel\u001b[0m\u001b[0;34m,\u001b[0m \u001b[0mmode\u001b[0m\u001b[0;34m)\u001b[0m\u001b[0;34m:\u001b[0m\u001b[0;34m\u001b[0m\u001b[0;34m\u001b[0m\u001b[0m\n\u001b[0;32m--> 102\u001b[0;31m     \u001b[0;32mwith\u001b[0m \u001b[0mselect_model_mode_for_export\u001b[0m\u001b[0;34m(\u001b[0m\u001b[0mmodel\u001b[0m\u001b[0;34m,\u001b[0m \u001b[0mmode\u001b[0m\u001b[0;34m)\u001b[0m \u001b[0;32mas\u001b[0m \u001b[0mmode_ctx\u001b[0m\u001b[0;34m,\u001b[0m\u001b[0;31m \u001b[0m\u001b[0;31m\\\u001b[0m\u001b[0;34m\u001b[0m\u001b[0;34m\u001b[0m\u001b[0m\n\u001b[0m\u001b[1;32m    103\u001b[0m             \u001b[0mdisable_apex_o2_state_dict_hook\u001b[0m\u001b[0;34m(\u001b[0m\u001b[0mmodel\u001b[0m\u001b[0;34m)\u001b[0m \u001b[0;32mas\u001b[0m \u001b[0mapex_ctx\u001b[0m\u001b[0;34m:\u001b[0m\u001b[0;34m\u001b[0m\u001b[0;34m\u001b[0m\u001b[0m\n\u001b[1;32m    104\u001b[0m         \u001b[0;32myield\u001b[0m \u001b[0;34m(\u001b[0m\u001b[0mmode_ctx\u001b[0m\u001b[0;34m,\u001b[0m \u001b[0mapex_ctx\u001b[0m\u001b[0;34m)\u001b[0m\u001b[0;34m\u001b[0m\u001b[0;34m\u001b[0m\u001b[0m\n",
      "\u001b[0;32m~/anaconda3/envs/rsrch/lib/python3.7/contextlib.py\u001b[0m in \u001b[0;36m__enter__\u001b[0;34m(self)\u001b[0m\n\u001b[1;32m    110\u001b[0m         \u001b[0;32mdel\u001b[0m \u001b[0mself\u001b[0m\u001b[0;34m.\u001b[0m\u001b[0margs\u001b[0m\u001b[0;34m,\u001b[0m \u001b[0mself\u001b[0m\u001b[0;34m.\u001b[0m\u001b[0mkwds\u001b[0m\u001b[0;34m,\u001b[0m \u001b[0mself\u001b[0m\u001b[0;34m.\u001b[0m\u001b[0mfunc\u001b[0m\u001b[0;34m\u001b[0m\u001b[0;34m\u001b[0m\u001b[0m\n\u001b[1;32m    111\u001b[0m         \u001b[0;32mtry\u001b[0m\u001b[0;34m:\u001b[0m\u001b[0;34m\u001b[0m\u001b[0;34m\u001b[0m\u001b[0m\n\u001b[0;32m--> 112\u001b[0;31m             \u001b[0;32mreturn\u001b[0m \u001b[0mnext\u001b[0m\u001b[0;34m(\u001b[0m\u001b[0mself\u001b[0m\u001b[0;34m.\u001b[0m\u001b[0mgen\u001b[0m\u001b[0;34m)\u001b[0m\u001b[0;34m\u001b[0m\u001b[0;34m\u001b[0m\u001b[0m\n\u001b[0m\u001b[1;32m    113\u001b[0m         \u001b[0;32mexcept\u001b[0m \u001b[0mStopIteration\u001b[0m\u001b[0;34m:\u001b[0m\u001b[0;34m\u001b[0m\u001b[0;34m\u001b[0m\u001b[0m\n\u001b[1;32m    114\u001b[0m             \u001b[0;32mraise\u001b[0m \u001b[0mRuntimeError\u001b[0m\u001b[0;34m(\u001b[0m\u001b[0;34m\"generator didn't yield\"\u001b[0m\u001b[0;34m)\u001b[0m \u001b[0;32mfrom\u001b[0m \u001b[0;32mNone\u001b[0m\u001b[0;34m\u001b[0m\u001b[0;34m\u001b[0m\u001b[0m\n",
      "\u001b[0;32m~/anaconda3/envs/rsrch/lib/python3.7/site-packages/torch/onnx/utils.py\u001b[0m in \u001b[0;36mselect_model_mode_for_export\u001b[0;34m(model, mode)\u001b[0m\n\u001b[1;32m     66\u001b[0m         \u001b[0;32mfrom\u001b[0m \u001b[0mtorch\u001b[0m\u001b[0;34m.\u001b[0m\u001b[0monnx\u001b[0m\u001b[0;34m.\u001b[0m\u001b[0msymbolic_helper\u001b[0m \u001b[0;32mimport\u001b[0m \u001b[0m_set_training_mode\u001b[0m\u001b[0;34m\u001b[0m\u001b[0;34m\u001b[0m\u001b[0m\n\u001b[1;32m     67\u001b[0m         \u001b[0m_set_training_mode\u001b[0m\u001b[0;34m(\u001b[0m\u001b[0mis_export_training\u001b[0m\u001b[0;34m)\u001b[0m\u001b[0;34m\u001b[0m\u001b[0;34m\u001b[0m\u001b[0m\n\u001b[0;32m---> 68\u001b[0;31m         \u001b[0mmodel\u001b[0m\u001b[0;34m.\u001b[0m\u001b[0mtrain\u001b[0m\u001b[0;34m(\u001b[0m\u001b[0mis_export_training\u001b[0m\u001b[0;34m)\u001b[0m\u001b[0;34m\u001b[0m\u001b[0;34m\u001b[0m\u001b[0m\n\u001b[0m\u001b[1;32m     69\u001b[0m     \u001b[0;32mtry\u001b[0m\u001b[0;34m:\u001b[0m\u001b[0;34m\u001b[0m\u001b[0;34m\u001b[0m\u001b[0m\n\u001b[1;32m     70\u001b[0m         \u001b[0;32myield\u001b[0m\u001b[0;34m\u001b[0m\u001b[0;34m\u001b[0m\u001b[0m\n",
      "\u001b[0;32m~/anaconda3/envs/rsrch/lib/python3.7/site-packages/torch/nn/modules/module.py\u001b[0m in \u001b[0;36mtrain\u001b[0;34m(self, mode)\u001b[0m\n\u001b[1;32m   1730\u001b[0m         \u001b[0mself\u001b[0m\u001b[0;34m.\u001b[0m\u001b[0mtraining\u001b[0m \u001b[0;34m=\u001b[0m \u001b[0mmode\u001b[0m\u001b[0;34m\u001b[0m\u001b[0;34m\u001b[0m\u001b[0m\n\u001b[1;32m   1731\u001b[0m         \u001b[0;32mfor\u001b[0m \u001b[0mmodule\u001b[0m \u001b[0;32min\u001b[0m \u001b[0mself\u001b[0m\u001b[0;34m.\u001b[0m\u001b[0mchildren\u001b[0m\u001b[0;34m(\u001b[0m\u001b[0;34m)\u001b[0m\u001b[0;34m:\u001b[0m\u001b[0;34m\u001b[0m\u001b[0;34m\u001b[0m\u001b[0m\n\u001b[0;32m-> 1732\u001b[0;31m             \u001b[0mmodule\u001b[0m\u001b[0;34m.\u001b[0m\u001b[0mtrain\u001b[0m\u001b[0;34m(\u001b[0m\u001b[0mmode\u001b[0m\u001b[0;34m)\u001b[0m\u001b[0;34m\u001b[0m\u001b[0;34m\u001b[0m\u001b[0m\n\u001b[0m\u001b[1;32m   1733\u001b[0m         \u001b[0;32mreturn\u001b[0m \u001b[0mself\u001b[0m\u001b[0;34m\u001b[0m\u001b[0;34m\u001b[0m\u001b[0m\n\u001b[1;32m   1734\u001b[0m \u001b[0;34m\u001b[0m\u001b[0m\n",
      "\u001b[0;32m~/anaconda3/envs/rsrch/lib/python3.7/site-packages/torch/nn/modules/module.py\u001b[0m in \u001b[0;36mtrain\u001b[0;34m(self, mode)\u001b[0m\n\u001b[1;32m   1730\u001b[0m         \u001b[0mself\u001b[0m\u001b[0;34m.\u001b[0m\u001b[0mtraining\u001b[0m \u001b[0;34m=\u001b[0m \u001b[0mmode\u001b[0m\u001b[0;34m\u001b[0m\u001b[0;34m\u001b[0m\u001b[0m\n\u001b[1;32m   1731\u001b[0m         \u001b[0;32mfor\u001b[0m \u001b[0mmodule\u001b[0m \u001b[0;32min\u001b[0m \u001b[0mself\u001b[0m\u001b[0;34m.\u001b[0m\u001b[0mchildren\u001b[0m\u001b[0;34m(\u001b[0m\u001b[0;34m)\u001b[0m\u001b[0;34m:\u001b[0m\u001b[0;34m\u001b[0m\u001b[0;34m\u001b[0m\u001b[0m\n\u001b[0;32m-> 1732\u001b[0;31m             \u001b[0mmodule\u001b[0m\u001b[0;34m.\u001b[0m\u001b[0mtrain\u001b[0m\u001b[0;34m(\u001b[0m\u001b[0mmode\u001b[0m\u001b[0;34m)\u001b[0m\u001b[0;34m\u001b[0m\u001b[0;34m\u001b[0m\u001b[0m\n\u001b[0m\u001b[1;32m   1733\u001b[0m         \u001b[0;32mreturn\u001b[0m \u001b[0mself\u001b[0m\u001b[0;34m\u001b[0m\u001b[0;34m\u001b[0m\u001b[0m\n\u001b[1;32m   1734\u001b[0m \u001b[0;34m\u001b[0m\u001b[0m\n",
      "\u001b[0;31mTypeError\u001b[0m: train() takes 1 positional argument but 2 were given"
     ]
    }
   ],
   "source": [
    "torch.onnx.export(model, (inputs,), 'model.onnx', input_names=input_names, output_names=output_names)"
   ]
  },
  {
   "cell_type": "code",
   "execution_count": 47,
   "metadata": {
    "scrolled": true
   },
   "outputs": [
    {
     "data": {
      "text/plain": [
       "<bound method Module.children of SCF(\n",
       "  (get_veff): get_veff(\n",
       "    (model): XC(\n",
       "      (heg_model): LDA_X()\n",
       "      (pw_model): PW_C()\n",
       "      (grid_models): ModuleList(\n",
       "        (0): X_L(\n",
       "          (net): Sequential(\n",
       "            (0): Linear(in_features=2, out_features=16, bias=True)\n",
       "            (1): GELU()\n",
       "            (2): Linear(in_features=16, out_features=16, bias=True)\n",
       "            (3): GELU()\n",
       "            (4): Linear(in_features=16, out_features=16, bias=True)\n",
       "            (5): GELU()\n",
       "            (6): Linear(in_features=16, out_features=1, bias=True)\n",
       "          )\n",
       "          (tanh): Tanh()\n",
       "          (lobf): LOB(\n",
       "            (sig): Sigmoid()\n",
       "          )\n",
       "        )\n",
       "        (1): C_L(\n",
       "          (net): Sequential(\n",
       "            (0): Linear(in_features=4, out_features=16, bias=True)\n",
       "            (1): GELU()\n",
       "            (2): Linear(in_features=16, out_features=16, bias=True)\n",
       "            (3): GELU()\n",
       "            (4): Linear(in_features=16, out_features=16, bias=True)\n",
       "            (5): GELU()\n",
       "            (6): Linear(in_features=16, out_features=1, bias=True)\n",
       "          )\n",
       "          (tanh): Tanh()\n",
       "          (lobf): LOB(\n",
       "            (sig): Sigmoid()\n",
       "          )\n",
       "        )\n",
       "      )\n",
       "    )\n",
       "  )\n",
       "  (eig): eig()\n",
       "  (energy_tot): energy_tot()\n",
       "  (make_rdm1): make_rdm1()\n",
       "  (xc): XC(\n",
       "    (heg_model): LDA_X()\n",
       "    (pw_model): PW_C()\n",
       "    (grid_models): ModuleList(\n",
       "      (0): X_L(\n",
       "        (net): Sequential(\n",
       "          (0): Linear(in_features=2, out_features=16, bias=True)\n",
       "          (1): GELU()\n",
       "          (2): Linear(in_features=16, out_features=16, bias=True)\n",
       "          (3): GELU()\n",
       "          (4): Linear(in_features=16, out_features=16, bias=True)\n",
       "          (5): GELU()\n",
       "          (6): Linear(in_features=16, out_features=1, bias=True)\n",
       "        )\n",
       "        (tanh): Tanh()\n",
       "        (lobf): LOB(\n",
       "          (sig): Sigmoid()\n",
       "        )\n",
       "      )\n",
       "      (1): C_L(\n",
       "        (net): Sequential(\n",
       "          (0): Linear(in_features=4, out_features=16, bias=True)\n",
       "          (1): GELU()\n",
       "          (2): Linear(in_features=16, out_features=16, bias=True)\n",
       "          (3): GELU()\n",
       "          (4): Linear(in_features=16, out_features=16, bias=True)\n",
       "          (5): GELU()\n",
       "          (6): Linear(in_features=16, out_features=1, bias=True)\n",
       "        )\n",
       "        (tanh): Tanh()\n",
       "        (lobf): LOB(\n",
       "          (sig): Sigmoid()\n",
       "        )\n",
       "      )\n",
       "    )\n",
       "  )\n",
       ")>"
      ]
     },
     "execution_count": 47,
     "metadata": {},
     "output_type": "execute_result"
    }
   ],
   "source": [
    "model.children"
   ]
  },
  {
   "cell_type": "code",
   "execution_count": 10,
   "metadata": {},
   "outputs": [
    {
     "data": {
      "text/plain": [
       "True"
      ]
     },
     "execution_count": 10,
     "metadata": {},
     "output_type": "execute_result"
    }
   ],
   "source": [
    "nel = torch.Tensor([np.nan])\n",
    "bool(torch.isnan(nel))"
   ]
  },
  {
   "cell_type": "code",
   "execution_count": 3,
   "metadata": {
    "scrolled": true
   },
   "outputs": [
    {
     "data": {
      "text/plain": [
       "RecursiveScriptModule(\n",
       "  original_name=XC\n",
       "  (heg_model): RecursiveScriptModule(original_name=LDA_X)\n",
       "  (pw_model): RecursiveScriptModule(original_name=PW_C)\n",
       "  (grid_models): RecursiveScriptModule(\n",
       "    original_name=ModuleList\n",
       "    (0): RecursiveScriptModule(\n",
       "      original_name=XC_L\n",
       "      (net): RecursiveScriptModule(\n",
       "        original_name=Sequential\n",
       "        (0): RecursiveScriptModule(original_name=Linear)\n",
       "        (1): RecursiveScriptModule(original_name=GELU)\n",
       "        (2): RecursiveScriptModule(original_name=Linear)\n",
       "        (3): RecursiveScriptModule(original_name=GELU)\n",
       "        (4): RecursiveScriptModule(original_name=Linear)\n",
       "        (5): RecursiveScriptModule(original_name=GELU)\n",
       "        (6): RecursiveScriptModule(original_name=Linear)\n",
       "      )\n",
       "      (tanh): RecursiveScriptModule(original_name=Tanh)\n",
       "      (sig): RecursiveScriptModule(original_name=Sigmoid)\n",
       "      (lobf): RecursiveScriptModule(\n",
       "        original_name=LOB\n",
       "        (sig): RecursiveScriptModule(original_name=Sigmoid)\n",
       "      )\n",
       "    )\n",
       "    (1): RecursiveScriptModule(\n",
       "      original_name=C_L\n",
       "      (net): RecursiveScriptModule(\n",
       "        original_name=Sequential\n",
       "        (0): RecursiveScriptModule(original_name=Linear)\n",
       "        (1): RecursiveScriptModule(original_name=GELU)\n",
       "        (2): RecursiveScriptModule(original_name=Linear)\n",
       "        (3): RecursiveScriptModule(original_name=GELU)\n",
       "        (4): RecursiveScriptModule(original_name=Linear)\n",
       "        (5): RecursiveScriptModule(original_name=GELU)\n",
       "        (6): RecursiveScriptModule(original_name=Linear)\n",
       "        (7): RecursiveScriptModule(original_name=Softplus)\n",
       "      )\n",
       "      (sig): RecursiveScriptModule(original_name=Sigmoid)\n",
       "      (tanh): RecursiveScriptModule(original_name=Tanh)\n",
       "      (lobf): RecursiveScriptModule(\n",
       "        original_name=LOB\n",
       "        (sig): RecursiveScriptModule(original_name=Sigmoid)\n",
       "      )\n",
       "    )\n",
       "  )\n",
       ")"
      ]
     },
     "execution_count": 3,
     "metadata": {},
     "output_type": "execute_result"
    }
   ],
   "source": [
    "model."
   ]
  },
  {
   "cell_type": "code",
   "execution_count": 60,
   "metadata": {},
   "outputs": [],
   "source": [
    "#to generate fractional results\n",
    "def mkfracdir(fs, basedir, chargedir, newdir, charge=1):\n",
    "    atomsbp = read(os.path.join(basedir, 'results.traj'), \":\")\n",
    "    atomscp = read(os.path.join(chargedir, 'results.traj'), ':')\n",
    "    for cat in atomscp:\n",
    "        cat.info['charge']=charge\n",
    "    basecharged = atomsbp+atomscp\n",
    "    if not type(fs) == list:\n",
    "        fs = [fs]\n",
    "    for f in fs:\n",
    "        for iat, atom in enumerate(atomsbp):\n",
    "            newAtom = atom.copy()\n",
    "            newAtom.calc = atom.calc\n",
    "            newAtom.info['fractional'] = f\n",
    "            newAtom.info['baseRef'] = basedir\n",
    "            newAtom.info['chargeRef'] = chargedir\n",
    "            newAtom.info['baseidx'] = iat\n",
    "            basecharged.append(newAtom)\n",
    "    \n",
    "    try:\n",
    "        os.mkdir(newdir)\n",
    "    except:\n",
    "        pass\n",
    "    write(os.path.join(newdir, 'results.traj'), basecharged)\n",
    "    idx = 0\n",
    "    for iat, atom in enumerate(atomsbp):\n",
    "        idx_at = '{}_{}'.format(idx, atom.get_chemical_formula())\n",
    "        iat_at = '{}_{}'.format(iat, atom.get_chemical_formula())\n",
    "        dmp = os.path.join(basedir, iat_at+\".dm.npy\")\n",
    "        mocp = os.path.join(basedir, iat_at+\".mo_coeff.npy\")\n",
    "        moop = os.path.join(basedir, iat_at+\".mo_occ.npy\")\n",
    "        ndmp = os.path.join(newdir, idx_at+\".dm.npy\")\n",
    "        nmocp = os.path.join(newdir, idx_at+\".mo_coeff.npy\")\n",
    "        nmoop = os.path.join(newdir, idx_at+\".mo_occ.npy\")\n",
    "        shutil.copy2(dmp, ndmp)\n",
    "        shutil.copy2(mocp, nmocp)\n",
    "        shutil.copy2(moop, nmoop)\n",
    "        idx+=1\n",
    "    for iat, atom in enumerate(atomscp):\n",
    "        idx_at = '{}_{}'.format(idx, atom.get_chemical_formula())\n",
    "        iat_at = '{}_{}'.format(iat, atom.get_chemical_formula())\n",
    "        dmp = os.path.join(basedir, iat_at+\".dm.npy\")\n",
    "        mocp = os.path.join(basedir, iat_at+\".mo_coeff.npy\")\n",
    "        moop = os.path.join(basedir, iat_at+\".mo_occ.npy\")\n",
    "        ndmp = os.path.join(newdir, idx_at+\".dm.npy\")\n",
    "        nmocp = os.path.join(newdir, idx_at+\".mo_coeff.npy\")\n",
    "        nmoop = os.path.join(newdir, idx_at+\".mo_occ.npy\")\n",
    "        shutil.copy2(dmp, ndmp)\n",
    "        shutil.copy2(mocp, nmocp)\n",
    "        shutil.copy2(moop, nmoop)\n",
    "        idx+=1\n",
    "    "
   ]
  },
  {
   "cell_type": "code",
   "execution_count": 61,
   "metadata": {},
   "outputs": [],
   "source": [
    "bdir='/home/awills/Documents/Research/swxcd/aegis/fc0'\n",
    "cdir='/home/awills/Documents/Research/swxcd/aegis/fcp'\n",
    "ndir='/home/awills/Documents/Research/swxcd/aegis/fc0fcp'\n",
    "mkfracdir(fs=0.5, basedir=bdir, chargedir=cdir, newdir=ndir)"
   ]
  },
  {
   "cell_type": "code",
   "execution_count": 62,
   "metadata": {},
   "outputs": [],
   "source": [
    "tst = read(ndir+'/results.traj', ':')"
   ]
  },
  {
   "cell_type": "code",
   "execution_count": 63,
   "metadata": {
    "scrolled": true
   },
   "outputs": [
    {
     "data": {
      "text/plain": [
       "[{'hydrogen': True},\n",
       " {'helium': True},\n",
       " {'lithium': True},\n",
       " {'beryllium': True},\n",
       " {'boron': True},\n",
       " {'carbon': True},\n",
       " {'nitrogen': True},\n",
       " {'oxygen': True},\n",
       " {'fluorine': True},\n",
       " {'neon': True},\n",
       " {'sodium': True},\n",
       " {'magnesium': True},\n",
       " {'aluminum': True},\n",
       " {'silicon': True},\n",
       " {'phosphorous': True},\n",
       " {'sulfur': True},\n",
       " {'chlorine': True},\n",
       " {'argon': True},\n",
       " {'hydrogen': True, 'charge': 1},\n",
       " {'helium': True, 'charge': 1},\n",
       " {'lithium': True, 'charge': 1},\n",
       " {'beryllium': True, 'charge': 1},\n",
       " {'boron': True, 'charge': 1},\n",
       " {'carbon': True, 'charge': 1},\n",
       " {'nitrogen': True, 'charge': 1},\n",
       " {'oxygen': True, 'charge': 1},\n",
       " {'fluorine': True, 'charge': 1},\n",
       " {'neon': True, 'charge': 1},\n",
       " {'sodium': True, 'charge': 1},\n",
       " {'magnesium': True, 'charge': 1},\n",
       " {'aluminum': True, 'charge': 1},\n",
       " {'silicon': True, 'charge': 1},\n",
       " {'phosphorous': True, 'charge': 1},\n",
       " {'sulfur': True, 'charge': 1},\n",
       " {'chlorine': True, 'charge': 1},\n",
       " {'argon': True, 'charge': 1},\n",
       " {'hydrogen': True,\n",
       "  'fractional': 0.5,\n",
       "  'baseRef': '/home/awills/Documents/Research/swxcd/aegis/fc0',\n",
       "  'chargeRef': '/home/awills/Documents/Research/swxcd/aegis/fcp',\n",
       "  'baseidx': 0},\n",
       " {'helium': True,\n",
       "  'fractional': 0.5,\n",
       "  'baseRef': '/home/awills/Documents/Research/swxcd/aegis/fc0',\n",
       "  'chargeRef': '/home/awills/Documents/Research/swxcd/aegis/fcp',\n",
       "  'baseidx': 1},\n",
       " {'lithium': True,\n",
       "  'fractional': 0.5,\n",
       "  'baseRef': '/home/awills/Documents/Research/swxcd/aegis/fc0',\n",
       "  'chargeRef': '/home/awills/Documents/Research/swxcd/aegis/fcp',\n",
       "  'baseidx': 2},\n",
       " {'beryllium': True,\n",
       "  'fractional': 0.5,\n",
       "  'baseRef': '/home/awills/Documents/Research/swxcd/aegis/fc0',\n",
       "  'chargeRef': '/home/awills/Documents/Research/swxcd/aegis/fcp',\n",
       "  'baseidx': 3},\n",
       " {'boron': True,\n",
       "  'fractional': 0.5,\n",
       "  'baseRef': '/home/awills/Documents/Research/swxcd/aegis/fc0',\n",
       "  'chargeRef': '/home/awills/Documents/Research/swxcd/aegis/fcp',\n",
       "  'baseidx': 4},\n",
       " {'carbon': True,\n",
       "  'fractional': 0.5,\n",
       "  'baseRef': '/home/awills/Documents/Research/swxcd/aegis/fc0',\n",
       "  'chargeRef': '/home/awills/Documents/Research/swxcd/aegis/fcp',\n",
       "  'baseidx': 5},\n",
       " {'nitrogen': True,\n",
       "  'fractional': 0.5,\n",
       "  'baseRef': '/home/awills/Documents/Research/swxcd/aegis/fc0',\n",
       "  'chargeRef': '/home/awills/Documents/Research/swxcd/aegis/fcp',\n",
       "  'baseidx': 6},\n",
       " {'oxygen': True,\n",
       "  'fractional': 0.5,\n",
       "  'baseRef': '/home/awills/Documents/Research/swxcd/aegis/fc0',\n",
       "  'chargeRef': '/home/awills/Documents/Research/swxcd/aegis/fcp',\n",
       "  'baseidx': 7},\n",
       " {'fluorine': True,\n",
       "  'fractional': 0.5,\n",
       "  'baseRef': '/home/awills/Documents/Research/swxcd/aegis/fc0',\n",
       "  'chargeRef': '/home/awills/Documents/Research/swxcd/aegis/fcp',\n",
       "  'baseidx': 8},\n",
       " {'neon': True,\n",
       "  'fractional': 0.5,\n",
       "  'baseRef': '/home/awills/Documents/Research/swxcd/aegis/fc0',\n",
       "  'chargeRef': '/home/awills/Documents/Research/swxcd/aegis/fcp',\n",
       "  'baseidx': 9},\n",
       " {'sodium': True,\n",
       "  'fractional': 0.5,\n",
       "  'baseRef': '/home/awills/Documents/Research/swxcd/aegis/fc0',\n",
       "  'chargeRef': '/home/awills/Documents/Research/swxcd/aegis/fcp',\n",
       "  'baseidx': 10},\n",
       " {'magnesium': True,\n",
       "  'fractional': 0.5,\n",
       "  'baseRef': '/home/awills/Documents/Research/swxcd/aegis/fc0',\n",
       "  'chargeRef': '/home/awills/Documents/Research/swxcd/aegis/fcp',\n",
       "  'baseidx': 11},\n",
       " {'aluminum': True,\n",
       "  'fractional': 0.5,\n",
       "  'baseRef': '/home/awills/Documents/Research/swxcd/aegis/fc0',\n",
       "  'chargeRef': '/home/awills/Documents/Research/swxcd/aegis/fcp',\n",
       "  'baseidx': 12},\n",
       " {'silicon': True,\n",
       "  'fractional': 0.5,\n",
       "  'baseRef': '/home/awills/Documents/Research/swxcd/aegis/fc0',\n",
       "  'chargeRef': '/home/awills/Documents/Research/swxcd/aegis/fcp',\n",
       "  'baseidx': 13},\n",
       " {'phosphorous': True,\n",
       "  'fractional': 0.5,\n",
       "  'baseRef': '/home/awills/Documents/Research/swxcd/aegis/fc0',\n",
       "  'chargeRef': '/home/awills/Documents/Research/swxcd/aegis/fcp',\n",
       "  'baseidx': 14},\n",
       " {'sulfur': True,\n",
       "  'fractional': 0.5,\n",
       "  'baseRef': '/home/awills/Documents/Research/swxcd/aegis/fc0',\n",
       "  'chargeRef': '/home/awills/Documents/Research/swxcd/aegis/fcp',\n",
       "  'baseidx': 15},\n",
       " {'chlorine': True,\n",
       "  'fractional': 0.5,\n",
       "  'baseRef': '/home/awills/Documents/Research/swxcd/aegis/fc0',\n",
       "  'chargeRef': '/home/awills/Documents/Research/swxcd/aegis/fcp',\n",
       "  'baseidx': 16},\n",
       " {'argon': True,\n",
       "  'fractional': 0.5,\n",
       "  'baseRef': '/home/awills/Documents/Research/swxcd/aegis/fc0',\n",
       "  'chargeRef': '/home/awills/Documents/Research/swxcd/aegis/fcp',\n",
       "  'baseidx': 17}]"
      ]
     },
     "execution_count": 63,
     "metadata": {},
     "output_type": "execute_result"
    }
   ],
   "source": [
    "[i.info for i in tst]"
   ]
  },
  {
   "cell_type": "markdown",
   "metadata": {},
   "source": [
    "# General Exploration of Things"
   ]
  },
  {
   "cell_type": "code",
   "execution_count": 3,
   "metadata": {
    "scrolled": true
   },
   "outputs": [
    {
     "name": "stdout",
     "output_type": "stream",
     "text": [
      "Building grids...\n",
      "METHOD GENERATED: <function UKS at 0x7f442b6179e0>\n",
      "Building grids...\n",
      "METHOD GENERATED: <function RKS at 0x7f442b5efd40>\n",
      "Building grids...\n",
      "METHOD GENERATED: <function UKS at 0x7f442b6179e0>\n",
      "Building grids...\n",
      "METHOD GENERATED: <function RKS at 0x7f442b5efd40>\n",
      "Building grids...\n",
      "METHOD GENERATED: <function UKS at 0x7f442b6179e0>\n",
      "Building grids...\n",
      "METHOD GENERATED: <function RKS at 0x7f442b5efd40>\n",
      "Building grids...\n",
      "METHOD GENERATED: <function UKS at 0x7f442b6179e0>\n",
      "Building grids...\n",
      "METHOD GENERATED: <function RKS at 0x7f442b5efd40>\n",
      "Building grids...\n",
      "METHOD GENERATED: <function UKS at 0x7f442b6179e0>\n",
      "Building grids...\n",
      "METHOD GENERATED: <function RKS at 0x7f442b5efd40>\n",
      "Building grids...\n",
      "METHOD GENERATED: <function UKS at 0x7f442b6179e0>\n",
      "Building grids...\n",
      "METHOD GENERATED: <function RKS at 0x7f442b5efd40>\n",
      "Building grids...\n",
      "METHOD GENERATED: <function UKS at 0x7f442b6179e0>\n",
      "Building grids...\n",
      "METHOD GENERATED: <function RKS at 0x7f442b5efd40>\n",
      "Building grids...\n",
      "METHOD GENERATED: <function UKS at 0x7f442b6179e0>\n",
      "Building grids...\n",
      "METHOD GENERATED: <function RKS at 0x7f442b5efd40>\n",
      "Building grids...\n",
      "METHOD GENERATED: <function UKS at 0x7f442b6179e0>\n",
      "Building grids...\n",
      "METHOD GENERATED: <function RKS at 0x7f442b5efd40>\n",
      "H\n",
      "converged SCF energy = -0.499993311237039  <S^2> = 0.75  2S+1 = 2\n",
      "He\n",
      "SCF not converged.\n",
      "SCF energy = 1.37214747634141\n",
      "Li\n",
      "SCF not converged.\n",
      "SCF energy = -3.51403022273727 after 500 cycles  <S^2> = 1.724971  2S+1 = 2.8106732\n",
      "Be\n",
      "converged SCF energy = -14.6481381102496\n",
      "B\n",
      "converged SCF energy = -24.6394427449865  <S^2> = 0.75712791  2S+1 = 2.0071153\n",
      "C\n",
      "SCF not converged.\n",
      "SCF energy = -37.750505597564\n",
      "N\n",
      "converged SCF energy = -54.542674047778  <S^2> = 1.7608104  2S+1 = 2.8360609\n",
      "O\n",
      "SCF not converged.\n",
      "SCF energy = -74.950734780946\n",
      "F\n",
      "converged SCF energy = -99.7331399890614  <S^2> = 0.75390856  2S+1 = 2.0039048\n",
      "Ne\n",
      "converged SCF energy = -128.931050848742\n",
      "Na\n",
      "converged SCF energy = -162.260160644461  <S^2> = 0.750073  2S+1 = 2.000073\n",
      "Mg\n",
      "converged SCF energy = -200.067989477999\n",
      "Al\n",
      "converged SCF energy = -242.356468075143  <S^2> = 0.76086027  2S+1 = 2.0108309\n",
      "Si\n",
      "SCF not converged.\n",
      "SCF energy = -289.342581926926\n",
      "P\n",
      "converged SCF energy = -341.252335926107  <S^2> = 1.7788934  2S+1 = 2.8487846\n",
      "S\n",
      "SCF not converged.\n",
      "SCF energy = -398.066185762558\n",
      "Cl\n",
      "converged SCF energy = -460.196339291897  <S^2> = 0.75494984  2S+1 = 2.0049437\n",
      "Ar\n",
      "converged SCF energy = -527.582294626665\n"
     ]
    }
   ],
   "source": [
    "fc0 = read('/home/awills/Documents/Research/swxcd/aegis/fc0/results.traj', ':')\n",
    "moldct = ase_traj_to_mol(fc0)\n",
    "mfdct = {key:gen_mf_mol(mol, xc='SCAN', grid_level=1)[0] for key,mol in moldct.items()}\n",
    "for key,mf in mfdct.items():\n",
    "    print(key)\n",
    "    mf.max_cycle = 500\n",
    "    mf.kernel()"
   ]
  },
  {
   "cell_type": "code",
   "execution_count": 4,
   "metadata": {},
   "outputs": [
    {
     "name": "stderr",
     "output_type": "stream",
     "text": [
      "/home/awills/anaconda3/envs/rsrch/lib/python3.7/site-packages/pyscf/gto/moleintor.py:259: UserWarning: Function int4c1e_sph not found.  Set its comp to 1\n",
      "  warnings.warn('Function %s not found.  Set its comp to 1' % intor_name)\n"
     ]
    }
   ],
   "source": [
    "mats = [get_datapoint(moldct[key], mfdct[key], dfit=True) for key in mfdct.keys()]\n",
    "mats = {key:[dct[key] for dct in mats] for key in mats[0].keys()}\n",
    "E_target = torch.Tensor(mats['e_base'])"
   ]
  },
  {
   "cell_type": "code",
   "execution_count": 8,
   "metadata": {
    "scrolled": true
   },
   "outputs": [
    {
     "name": "stdout",
     "output_type": "stream",
     "text": [
      "FREEC False\n",
      "get_veff.model.grid_models.0.net.0.weight\n",
      "Parameter containing:\n",
      "tensor([[ 0.7129],\n",
      "        [ 0.4597],\n",
      "        [-0.0395],\n",
      "        [ 0.8341],\n",
      "        [ 0.8149],\n",
      "        [ 0.7994],\n",
      "        [ 0.2239],\n",
      "        [ 0.8370],\n",
      "        [ 0.5003],\n",
      "        [-0.5867],\n",
      "        [ 0.7752],\n",
      "        [ 0.6802],\n",
      "        [-0.2089],\n",
      "        [-0.8322],\n",
      "        [ 0.8005],\n",
      "        [ 0.2637]], requires_grad=True)\n",
      "get_veff.model.grid_models.0.net.0.bias\n",
      "Parameter containing:\n",
      "tensor([ 0.9437,  0.7395, -0.6417, -0.8677,  0.6172,  0.2299, -0.4634,  0.2773,\n",
      "        -0.9441,  0.7391,  0.4866, -0.5730, -0.3234, -0.5353, -0.6870,  0.7592],\n",
      "       requires_grad=True)\n",
      "get_veff.model.grid_models.0.net.2.weight\n",
      "Parameter containing:\n",
      "tensor([[-6.2199e-02, -2.3068e-01,  1.2678e-01, -5.2871e-02,  2.1564e-01,\n",
      "         -5.8237e-02, -7.0006e-02, -2.0120e-01, -1.7729e-01, -7.2564e-02,\n",
      "          1.1545e-01,  2.1628e-01, -2.3860e-01, -1.0478e-01, -1.3672e-01,\n",
      "          7.9309e-02],\n",
      "        [ 1.9635e-01, -7.3907e-02,  1.4019e-01, -5.4335e-02,  2.3236e-01,\n",
      "          1.1378e-01,  1.2255e-02,  1.0188e-01,  1.6405e-01,  1.6181e-01,\n",
      "          1.0387e-01, -2.4872e-01, -1.3952e-01,  5.5542e-02, -1.0163e-01,\n",
      "         -2.4496e-02],\n",
      "        [-2.2223e-01, -8.0183e-02, -6.5270e-02, -1.5819e-02,  5.2092e-02,\n",
      "         -2.0435e-01,  2.3289e-01,  1.7582e-01,  4.8206e-03, -3.8676e-02,\n",
      "          6.6828e-02,  5.1176e-02, -4.1764e-02,  1.6210e-01, -1.6465e-02,\n",
      "         -1.2261e-01],\n",
      "        [ 9.7188e-02,  2.4360e-01, -6.3744e-02,  4.6627e-02,  2.3272e-01,\n",
      "          2.0695e-02, -2.2632e-01, -1.8630e-01, -1.7391e-01, -8.3140e-02,\n",
      "          1.8010e-02,  9.5961e-02,  2.2837e-01,  2.0784e-02,  8.8501e-02,\n",
      "          9.3859e-02],\n",
      "        [-8.1050e-02, -7.9085e-02,  8.1791e-02,  1.5973e-01,  2.5592e-02,\n",
      "         -1.4070e-01,  1.5733e-01, -1.9275e-01,  4.4769e-02,  2.7165e-03,\n",
      "         -1.0569e-01, -9.6267e-03, -2.2703e-01, -1.4865e-01, -6.4330e-03,\n",
      "          1.2165e-01],\n",
      "        [-1.4903e-01,  1.3398e-01,  8.6365e-02, -4.7768e-02,  8.3867e-02,\n",
      "          1.0071e-01, -7.1250e-02,  1.9752e-01, -5.9212e-02,  2.3874e-01,\n",
      "         -1.8103e-01, -2.3569e-01,  9.3719e-02, -5.5580e-02,  2.2129e-01,\n",
      "         -1.8629e-01],\n",
      "        [-2.3451e-01, -8.4051e-02, -1.1929e-01,  1.4133e-01,  1.5178e-01,\n",
      "          2.3573e-01, -1.3241e-01, -1.8064e-02,  2.4014e-01,  5.5557e-02,\n",
      "          1.4998e-01, -2.2133e-02, -1.3794e-01, -1.6758e-01, -1.3385e-01,\n",
      "          2.1427e-01],\n",
      "        [ 2.1832e-01, -9.4616e-02, -1.5215e-01, -9.1101e-02, -2.2413e-01,\n",
      "          1.6097e-01, -1.8498e-01, -2.4269e-02, -2.2056e-01, -2.4176e-01,\n",
      "         -2.0134e-01, -1.4054e-01, -4.5032e-02,  1.8523e-02, -1.3923e-01,\n",
      "          2.2646e-01],\n",
      "        [-1.1449e-01, -1.0739e-01, -1.2418e-01, -1.8946e-01, -6.8927e-02,\n",
      "         -1.7598e-01,  2.8072e-02, -1.5470e-01, -2.4099e-01, -1.7247e-02,\n",
      "          1.2156e-01, -2.4735e-01,  2.4211e-01, -1.3146e-01, -1.4464e-01,\n",
      "         -2.7947e-02],\n",
      "        [-5.8660e-02, -2.2763e-01,  2.2779e-01,  6.1376e-02,  2.1693e-01,\n",
      "          1.2826e-01,  1.3874e-01,  2.3797e-01,  4.9840e-02,  9.0018e-02,\n",
      "          6.2147e-02, -9.4428e-02,  1.4131e-01, -3.9759e-02, -2.3999e-02,\n",
      "         -2.3677e-01],\n",
      "        [ 6.6322e-02, -5.9890e-02,  2.3755e-02, -5.7821e-02,  1.5174e-01,\n",
      "          2.3213e-01, -2.4045e-01, -1.7185e-01,  5.7935e-02,  1.1836e-01,\n",
      "         -2.4325e-01, -2.4174e-01,  1.2413e-01,  3.8205e-04,  1.7774e-01,\n",
      "          1.1043e-02],\n",
      "        [ 1.4354e-01, -1.2833e-01, -1.3141e-01, -2.4730e-01,  1.9684e-01,\n",
      "         -2.4152e-01,  2.3814e-02, -1.1794e-01,  1.2021e-01,  1.4620e-01,\n",
      "          8.1628e-02, -2.7248e-02,  9.5419e-02,  2.0099e-01, -1.5288e-01,\n",
      "          2.0891e-01],\n",
      "        [ 2.7784e-02,  5.2182e-03,  5.3835e-02, -1.4335e-01,  2.0261e-01,\n",
      "         -2.3811e-01,  1.2979e-01, -2.1251e-01,  2.2408e-01,  4.6805e-02,\n",
      "         -1.6831e-01,  3.0966e-02,  1.9852e-01,  8.0233e-02,  2.3001e-01,\n",
      "         -2.0582e-01],\n",
      "        [ 1.7140e-01, -1.8813e-01, -2.4613e-01,  1.7289e-02,  2.0667e-01,\n",
      "          4.5386e-02,  9.1039e-02, -1.9804e-01,  1.3532e-01, -5.8297e-02,\n",
      "         -1.8875e-02,  1.6822e-01,  2.0942e-01,  9.0190e-02, -2.0253e-01,\n",
      "         -5.7199e-02],\n",
      "        [ 2.3061e-01, -1.3962e-02, -1.0176e-01,  1.8550e-01,  6.1750e-02,\n",
      "         -7.3051e-02, -2.4533e-01,  1.2353e-01,  1.1816e-01,  1.5078e-04,\n",
      "          1.3778e-01, -1.4870e-01, -1.9153e-01,  1.9108e-01,  1.0434e-01,\n",
      "         -1.7013e-02],\n",
      "        [ 1.6982e-01, -2.2986e-02, -9.0997e-02, -5.5315e-02,  1.9467e-01,\n",
      "         -5.5373e-02,  8.4288e-03,  1.9750e-01,  2.7723e-02, -1.5973e-01,\n",
      "         -2.3212e-01, -2.4425e-01,  2.9531e-02,  9.7158e-02,  2.4868e-01,\n",
      "          9.5515e-03]], requires_grad=True)\n",
      "get_veff.model.grid_models.0.net.2.bias\n",
      "Parameter containing:\n",
      "tensor([-0.0520, -0.0326,  0.0525,  0.0696,  0.2111, -0.0182,  0.1748,  0.1470,\n",
      "         0.2108,  0.0435,  0.1341, -0.0315, -0.0905,  0.1639,  0.1439,  0.1782],\n",
      "       requires_grad=True)\n",
      "get_veff.model.grid_models.0.net.4.weight\n",
      "Parameter containing:\n",
      "tensor([[-0.2401, -0.1676, -0.0064,  0.1575, -0.1719, -0.0658,  0.0277, -0.2269,\n",
      "          0.2310, -0.0666,  0.1302, -0.1150,  0.1602,  0.0276, -0.1248, -0.1362],\n",
      "        [-0.1555, -0.2228,  0.0897, -0.0513, -0.1301, -0.1541,  0.2190,  0.1126,\n",
      "          0.1029, -0.1641,  0.1882, -0.0157, -0.2270, -0.0586, -0.1150, -0.1768],\n",
      "        [ 0.0054,  0.1982,  0.2208, -0.1579,  0.2155,  0.1981,  0.0380, -0.1873,\n",
      "         -0.0932,  0.1882, -0.1213,  0.1991, -0.2105, -0.0247, -0.1322,  0.1541],\n",
      "        [ 0.1387,  0.1292, -0.1038,  0.1080,  0.1355,  0.1959, -0.0696, -0.1948,\n",
      "          0.0158,  0.0337,  0.0896, -0.0283,  0.2103, -0.1233, -0.0620,  0.2013],\n",
      "        [ 0.0012, -0.2161, -0.1541,  0.0395,  0.0260, -0.0783,  0.0600, -0.1400,\n",
      "         -0.2088,  0.2027, -0.1712, -0.2181,  0.2242,  0.1193,  0.0381,  0.0282],\n",
      "        [-0.1920,  0.1567, -0.0042, -0.1963, -0.2354, -0.0528, -0.1570,  0.2163,\n",
      "         -0.0717, -0.0905,  0.2412,  0.0023,  0.0702, -0.0257, -0.2089, -0.1261],\n",
      "        [ 0.1843, -0.1484,  0.1569,  0.0989,  0.0417, -0.1378, -0.2259, -0.0061,\n",
      "         -0.1374,  0.0970, -0.2174, -0.0661, -0.2077,  0.1891, -0.1405, -0.0129],\n",
      "        [ 0.0836, -0.1953, -0.1236,  0.0299, -0.1267, -0.0208,  0.1880,  0.2479,\n",
      "          0.1687,  0.0062, -0.2160, -0.1061,  0.2224, -0.0043, -0.0106, -0.1579],\n",
      "        [-0.0766,  0.1284,  0.1635,  0.2365,  0.1827, -0.2494,  0.0641, -0.1061,\n",
      "         -0.1393, -0.1259, -0.2116,  0.0515,  0.0419,  0.1457, -0.0524,  0.1707],\n",
      "        [ 0.1563,  0.0317, -0.0119, -0.2342,  0.0774,  0.0955, -0.2356, -0.0080,\n",
      "          0.1513, -0.0365, -0.1602, -0.1032, -0.1839, -0.0503, -0.1122,  0.0576],\n",
      "        [-0.0136,  0.1330,  0.0370, -0.0343,  0.2176, -0.2139, -0.1763,  0.0772,\n",
      "         -0.1653,  0.1208, -0.0128, -0.2278, -0.1402,  0.2404,  0.0641,  0.0723],\n",
      "        [-0.1485,  0.0567, -0.2167,  0.1616, -0.1132, -0.0034,  0.0892,  0.1493,\n",
      "          0.0627,  0.0065, -0.0827, -0.0963,  0.1209,  0.1070,  0.0052, -0.0026],\n",
      "        [-0.1326, -0.2423,  0.0619,  0.2197, -0.2386,  0.2392,  0.0409,  0.0258,\n",
      "         -0.1917,  0.0915, -0.2335, -0.0872, -0.0029,  0.0806,  0.0631, -0.1108],\n",
      "        [-0.1903, -0.1072, -0.2203, -0.0746, -0.0325,  0.0768, -0.1805,  0.0472,\n",
      "          0.1977, -0.2171, -0.2224,  0.1558,  0.0633,  0.0930, -0.1805, -0.2219],\n",
      "        [ 0.1714,  0.1854,  0.0252, -0.0951, -0.1174, -0.1376, -0.0080,  0.1529,\n",
      "          0.1108,  0.0541, -0.1112, -0.0203, -0.0871,  0.1931,  0.1503, -0.1710],\n",
      "        [-0.1885, -0.2084,  0.2123, -0.0675, -0.2089, -0.1724, -0.2447, -0.0370,\n",
      "          0.0810,  0.2125, -0.1006, -0.2048,  0.2238, -0.0954, -0.0304,  0.1355]],\n",
      "       requires_grad=True)\n",
      "get_veff.model.grid_models.0.net.4.bias\n",
      "Parameter containing:\n",
      "tensor([-0.0161, -0.0890, -0.0592,  0.0424, -0.2407, -0.1050,  0.2210,  0.0013,\n",
      "        -0.0170,  0.2280,  0.0473,  0.1567, -0.0636, -0.0119,  0.0720,  0.0621],\n",
      "       requires_grad=True)\n",
      "get_veff.model.grid_models.0.net.6.weight\n",
      "Parameter containing:\n",
      "tensor([[ 0.2484, -0.0178,  0.2345,  0.2340, -0.1837, -0.1913, -0.0418, -0.1417,\n",
      "         -0.1171, -0.1083,  0.1371,  0.0570,  0.0118,  0.0078, -0.0150,  0.1524]],\n",
      "       requires_grad=True)\n",
      "get_veff.model.grid_models.0.net.6.bias\n",
      "Parameter containing:\n",
      "tensor([-0.1436], requires_grad=True)\n",
      "get_veff.model.grid_models.1.net.0.weight\n",
      "Parameter containing:\n",
      "tensor([[-0.0806,  0.5770,  0.3172],\n",
      "        [-0.2066,  0.1190,  0.0846],\n",
      "        [ 0.2247, -0.3936,  0.1980],\n",
      "        [ 0.3420,  0.1635, -0.0273],\n",
      "        [ 0.3523, -0.2045,  0.3684],\n",
      "        [-0.0084, -0.2326,  0.0382],\n",
      "        [-0.4538,  0.1443, -0.5713],\n",
      "        [-0.4881, -0.4171, -0.4422],\n",
      "        [-0.3062,  0.4542, -0.1438],\n",
      "        [-0.1687, -0.2297,  0.1835],\n",
      "        [ 0.5456, -0.0504,  0.5768],\n",
      "        [-0.3703,  0.0992, -0.5043],\n",
      "        [-0.3319,  0.1728, -0.4186],\n",
      "        [-0.4245, -0.4335, -0.5201],\n",
      "        [ 0.5593,  0.2619,  0.4453],\n",
      "        [ 0.5766,  0.5180, -0.5446]], requires_grad=True)\n",
      "get_veff.model.grid_models.1.net.0.bias\n",
      "Parameter containing:\n",
      "tensor([ 0.5621,  0.0872, -0.3175, -0.2217,  0.3883, -0.3237, -0.1915,  0.0515,\n",
      "         0.2593,  0.2304, -0.1028,  0.4609,  0.1044,  0.2924, -0.2181, -0.2672],\n",
      "       requires_grad=True)\n",
      "get_veff.model.grid_models.1.net.2.weight\n",
      "Parameter containing:\n",
      "tensor([[-0.0604, -0.2252,  0.0979,  0.1199, -0.2073,  0.2324, -0.1132, -0.1027,\n",
      "         -0.0251,  0.1030, -0.1165, -0.0797,  0.0455,  0.2445, -0.1936,  0.1701],\n",
      "        [ 0.2241, -0.2385, -0.0290, -0.0281, -0.1566, -0.2176, -0.1830,  0.0367,\n",
      "         -0.1791,  0.1523,  0.2105, -0.1286, -0.2303, -0.1380, -0.1551,  0.2383],\n",
      "        [ 0.2010, -0.1389,  0.2122, -0.0558, -0.0274,  0.0934,  0.1952, -0.1064,\n",
      "         -0.1403, -0.2077, -0.1645, -0.0667,  0.2075,  0.1965,  0.2093, -0.1807],\n",
      "        [ 0.0979, -0.0143,  0.0395, -0.1694, -0.2078,  0.0011,  0.1333, -0.0457,\n",
      "         -0.2467,  0.0692,  0.1642, -0.0904,  0.2290,  0.1669,  0.1281, -0.0813],\n",
      "        [-0.1845, -0.2090, -0.2313,  0.2417, -0.1396,  0.1877,  0.1139, -0.0009,\n",
      "         -0.0154, -0.1927, -0.1505, -0.1084, -0.1440,  0.0998, -0.2064,  0.0773],\n",
      "        [-0.0557,  0.0367,  0.0494, -0.1769,  0.0326, -0.1941, -0.0489,  0.2334,\n",
      "         -0.2351,  0.1076, -0.0389,  0.1649,  0.0878,  0.2457,  0.2339, -0.1889],\n",
      "        [ 0.0375, -0.0280, -0.0181,  0.2032, -0.2295,  0.0653,  0.0291, -0.0396,\n",
      "          0.1718,  0.1232, -0.2308, -0.1086, -0.0710, -0.2309, -0.1077,  0.2321],\n",
      "        [-0.0688,  0.1568,  0.0387,  0.0366, -0.0748,  0.1821,  0.2176, -0.0596,\n",
      "         -0.1733,  0.0080,  0.0951, -0.2338,  0.1211,  0.1439, -0.1656, -0.1301],\n",
      "        [ 0.1835, -0.2229,  0.0786,  0.0354,  0.1636,  0.1489,  0.1860, -0.1883,\n",
      "         -0.1838,  0.2031, -0.2366,  0.1410, -0.1049, -0.0401, -0.1044, -0.0580],\n",
      "        [-0.1974, -0.0102, -0.1480,  0.0831, -0.0587,  0.0227,  0.0624,  0.1397,\n",
      "         -0.0867, -0.1826, -0.0142,  0.0732,  0.1786, -0.0114,  0.2008,  0.1897],\n",
      "        [-0.1552,  0.1103, -0.0902, -0.0865,  0.1276,  0.1978, -0.1667,  0.2393,\n",
      "          0.1708, -0.0634, -0.0457, -0.0848,  0.0301, -0.1104,  0.0871,  0.0644],\n",
      "        [ 0.1499,  0.1894, -0.0695,  0.1028, -0.1008, -0.1524,  0.1659,  0.0736,\n",
      "          0.0300,  0.2207,  0.0515, -0.2346,  0.0439,  0.0865,  0.0177,  0.1621],\n",
      "        [-0.0160, -0.1104,  0.0133, -0.2018,  0.1460,  0.0602,  0.1938, -0.1402,\n",
      "         -0.2462,  0.1678,  0.1869,  0.0431, -0.0786, -0.0631, -0.0250, -0.1356],\n",
      "        [-0.0807, -0.0916,  0.1740,  0.1862, -0.2124,  0.1055,  0.2362,  0.0932,\n",
      "          0.1960,  0.0922,  0.1501,  0.1025,  0.0258, -0.0433, -0.0560, -0.0677],\n",
      "        [ 0.2105,  0.1102,  0.1194,  0.0412,  0.1375, -0.0389,  0.0465, -0.0078,\n",
      "         -0.1867,  0.2172,  0.1793, -0.0952,  0.1255,  0.0758, -0.1569, -0.1488],\n",
      "        [ 0.1464, -0.0318,  0.1656,  0.2371,  0.2451,  0.0187,  0.2280, -0.1962,\n",
      "          0.0694,  0.1835, -0.0750, -0.0141, -0.1175,  0.0366,  0.0357, -0.0016]],\n",
      "       requires_grad=True)\n",
      "get_veff.model.grid_models.1.net.2.bias\n",
      "Parameter containing:\n",
      "tensor([ 0.1311, -0.0123, -0.2418, -0.0417,  0.0090,  0.2374, -0.0511, -0.2457,\n",
      "         0.2016, -0.0492, -0.2301,  0.0524,  0.0415, -0.0397,  0.0334,  0.0873],\n",
      "       requires_grad=True)\n",
      "get_veff.model.grid_models.1.net.4.weight\n",
      "Parameter containing:\n",
      "tensor([[ 0.1600, -0.1628, -0.0336,  0.0794, -0.1867,  0.0990, -0.1723,  0.0423,\n",
      "          0.0408, -0.0776,  0.1939, -0.0280, -0.0623, -0.0230,  0.0692,  0.0662],\n",
      "        [-0.0357,  0.1838, -0.1908,  0.0618,  0.0666,  0.0475,  0.0457,  0.1300,\n",
      "         -0.0693,  0.2156,  0.1883, -0.1732,  0.2049,  0.0670, -0.2106,  0.0627],\n",
      "        [-0.2426, -0.0129,  0.2225, -0.2142, -0.1027, -0.1662, -0.2484, -0.1767,\n",
      "          0.1765,  0.0248,  0.1456,  0.2446, -0.2078,  0.0441, -0.2007,  0.0225],\n",
      "        [-0.2452,  0.2261,  0.0661, -0.2036, -0.2359, -0.0614,  0.0060,  0.0357,\n",
      "         -0.0031,  0.1135, -0.2467,  0.1179,  0.1847,  0.1341,  0.1717, -0.0004],\n",
      "        [ 0.1851, -0.0416,  0.0551,  0.0384,  0.1196,  0.2287,  0.1277,  0.2490,\n",
      "          0.1659,  0.0280,  0.0374, -0.1961,  0.1986, -0.0703, -0.2286, -0.1273],\n",
      "        [ 0.0393, -0.0038, -0.1715,  0.0688,  0.0075,  0.0451, -0.1667, -0.1832,\n",
      "          0.0362, -0.0521, -0.1271, -0.1586,  0.0077, -0.0236,  0.1883, -0.2190],\n",
      "        [ 0.1739,  0.0880, -0.1005, -0.1235,  0.0697, -0.1790,  0.1867, -0.1532,\n",
      "         -0.1852,  0.2382,  0.2210, -0.0854,  0.2312,  0.1267, -0.2249,  0.0875],\n",
      "        [ 0.0423, -0.1303,  0.1682, -0.1692,  0.0768, -0.2475, -0.0079,  0.0339,\n",
      "         -0.2294,  0.0234,  0.0621, -0.1752,  0.0185,  0.1745,  0.2340, -0.1421],\n",
      "        [-0.1064,  0.1763,  0.1120, -0.0877,  0.1181, -0.0996, -0.0575,  0.2182,\n",
      "          0.1343, -0.1691, -0.2371, -0.1328,  0.1683, -0.0462,  0.1220,  0.1227],\n",
      "        [-0.0466, -0.1916, -0.1908,  0.2232,  0.1824, -0.0349, -0.1138, -0.2286,\n",
      "         -0.1479, -0.1773, -0.0244, -0.1943, -0.0426,  0.0621,  0.0332, -0.1377],\n",
      "        [ 0.0254, -0.2169,  0.0416,  0.2494, -0.1531,  0.2325, -0.1789, -0.1659,\n",
      "          0.1640,  0.0997, -0.2111, -0.0381,  0.1937, -0.0287,  0.2412, -0.1124],\n",
      "        [ 0.0799, -0.0970, -0.1382, -0.2219, -0.1486,  0.1152,  0.0209, -0.0835,\n",
      "         -0.1546, -0.2396,  0.1396, -0.1426,  0.1110,  0.2357,  0.1477, -0.2177],\n",
      "        [-0.0711,  0.1155, -0.0444,  0.1488, -0.1756, -0.1186, -0.1662,  0.0547,\n",
      "         -0.0421,  0.0901,  0.1592,  0.0964,  0.1551,  0.1789, -0.2449,  0.1925],\n",
      "        [-0.1530,  0.0810,  0.1450, -0.2423, -0.1850, -0.0181, -0.1878, -0.1681,\n",
      "          0.1651,  0.1777,  0.2268,  0.1720, -0.2172, -0.1975,  0.0075, -0.0507],\n",
      "        [-0.2351,  0.1072,  0.0497,  0.2123,  0.1239,  0.0424, -0.0809, -0.2024,\n",
      "         -0.1890,  0.1502,  0.0005,  0.1112,  0.0489, -0.1968,  0.0241, -0.1853],\n",
      "        [ 0.1170,  0.1530, -0.1228,  0.2180,  0.2339,  0.1569, -0.2125,  0.2006,\n",
      "          0.0900, -0.1151, -0.0955,  0.1258,  0.1325,  0.0789, -0.0944,  0.0556]],\n",
      "       requires_grad=True)\n",
      "get_veff.model.grid_models.1.net.4.bias\n",
      "Parameter containing:\n",
      "tensor([-0.2383, -0.1048, -0.0006, -0.0248,  0.2402,  0.1751,  0.2483, -0.0507,\n",
      "         0.1528, -0.1396,  0.0828, -0.0608, -0.0612, -0.0125, -0.1466,  0.0183],\n",
      "       requires_grad=True)\n",
      "get_veff.model.grid_models.1.net.6.weight\n",
      "Parameter containing:\n",
      "tensor([[ 0.1585,  0.0631,  0.1603, -0.0876, -0.0011,  0.1963,  0.1849, -0.2236,\n",
      "         -0.1959, -0.2489, -0.1544, -0.2324,  0.1537, -0.0859,  0.1017,  0.0562]],\n",
      "       requires_grad=True)\n",
      "get_veff.model.grid_models.1.net.6.bias\n",
      "Parameter containing:\n",
      "tensor([-0.1574], requires_grad=True)\n"
     ]
    }
   ],
   "source": [
    "dset = Dataset(**mats)\n",
    "dloader = DataLoader(dset, batch_size = 1)\n",
    "#inputs = next(iter(dloader)) # *\n",
    "xc = XC(grid_models = [], heg_mult=True, pw_mult=True, level=1, exx_a=None)\n",
    "alpha_init = 0.8\n",
    "alpha = torch.nn.Parameter(torch.Tensor([alpha_init]))\n",
    "#dscf = SCF(alpha=alpha, nsteps=10, xc=xc, device='cpu', exx=False)\n",
    "dscf = get_scf(xctype='GGA', DEVICE='cuda')\n",
    "diff = True\n",
    "for name, param in dscf.named_parameters():\n",
    "    param.requires_grad = diff\n",
    "    print(name)\n",
    "    print(param)\n",
    "optimizer = torch.optim.Adam(dscf.parameters(), lr=0.01)\n",
    "loss = torch.nn.MSELoss()"
   ]
  },
  {
   "cell_type": "code",
   "execution_count": 7,
   "metadata": {
    "scrolled": true
   },
   "outputs": [
    {
     "data": {
      "text/plain": [
       "<bound method Module.named_parameters of SCF(\n",
       "  (get_veff): get_veff(\n",
       "    (model): XC(\n",
       "      (heg_model): LDA_X()\n",
       "      (pw_model): PW_C()\n",
       "      (grid_models): ModuleList(\n",
       "        (0): X_L(\n",
       "          (net): Sequential(\n",
       "            (0): Linear(in_features=1, out_features=16, bias=True)\n",
       "            (1): GELU()\n",
       "            (2): Linear(in_features=16, out_features=16, bias=True)\n",
       "            (3): GELU()\n",
       "            (4): Linear(in_features=16, out_features=16, bias=True)\n",
       "            (5): GELU()\n",
       "            (6): Linear(in_features=16, out_features=1, bias=True)\n",
       "          )\n",
       "          (tanh): Tanh()\n",
       "          (lobf): LOB(\n",
       "            (sig): Sigmoid()\n",
       "          )\n",
       "        )\n",
       "        (1): C_L(\n",
       "          (net): Sequential(\n",
       "            (0): Linear(in_features=3, out_features=16, bias=True)\n",
       "            (1): GELU()\n",
       "            (2): Linear(in_features=16, out_features=16, bias=True)\n",
       "            (3): GELU()\n",
       "            (4): Linear(in_features=16, out_features=16, bias=True)\n",
       "            (5): GELU()\n",
       "            (6): Linear(in_features=16, out_features=1, bias=True)\n",
       "          )\n",
       "          (tanh): Tanh()\n",
       "          (lobf): LOB(\n",
       "            (sig): Sigmoid()\n",
       "          )\n",
       "        )\n",
       "      )\n",
       "    )\n",
       "  )\n",
       "  (eig): eig()\n",
       "  (energy_tot): energy_tot()\n",
       "  (make_rdm1): make_rdm1()\n",
       "  (xc): XC(\n",
       "    (heg_model): LDA_X()\n",
       "    (pw_model): PW_C()\n",
       "    (grid_models): ModuleList(\n",
       "      (0): X_L(\n",
       "        (net): Sequential(\n",
       "          (0): Linear(in_features=1, out_features=16, bias=True)\n",
       "          (1): GELU()\n",
       "          (2): Linear(in_features=16, out_features=16, bias=True)\n",
       "          (3): GELU()\n",
       "          (4): Linear(in_features=16, out_features=16, bias=True)\n",
       "          (5): GELU()\n",
       "          (6): Linear(in_features=16, out_features=1, bias=True)\n",
       "        )\n",
       "        (tanh): Tanh()\n",
       "        (lobf): LOB(\n",
       "          (sig): Sigmoid()\n",
       "        )\n",
       "      )\n",
       "      (1): C_L(\n",
       "        (net): Sequential(\n",
       "          (0): Linear(in_features=3, out_features=16, bias=True)\n",
       "          (1): GELU()\n",
       "          (2): Linear(in_features=16, out_features=16, bias=True)\n",
       "          (3): GELU()\n",
       "          (4): Linear(in_features=16, out_features=16, bias=True)\n",
       "          (5): GELU()\n",
       "          (6): Linear(in_features=16, out_features=1, bias=True)\n",
       "        )\n",
       "        (tanh): Tanh()\n",
       "        (lobf): LOB(\n",
       "          (sig): Sigmoid()\n",
       "        )\n",
       "      )\n",
       "    )\n",
       "  )\n",
       ")>"
      ]
     },
     "execution_count": 7,
     "metadata": {},
     "output_type": "execute_result"
    }
   ],
   "source": [
    "dscf.named_parameters"
   ]
  },
  {
   "cell_type": "code",
   "execution_count": null,
   "metadata": {
    "scrolled": true
   },
   "outputs": [
    {
     "name": "stdout",
     "output_type": "stream",
     "text": [
      "0\n",
      "MOLECULE: H\n"
     ]
    },
    {
     "name": "stderr",
     "output_type": "stream",
     "text": [
      "/home/awills/anaconda3/envs/rsrch/lib/python3.7/site-packages/dpyscfl/scf.py:114: UserWarning: torch.symeig is deprecated in favor of torch.linalg.eigh and will be removed in a future PyTorch release.\n",
      "The default behavior has changed from using the upper triangular portion of the matrix by default to using the lower triangular portion.\n",
      "L, _ = torch.symeig(A, upper=upper)\n",
      "should be replaced with\n",
      "L = torch.linalg.eigvalsh(A, UPLO='U' if upper else 'L')\n",
      "and\n",
      "L, V = torch.symeig(A, eigenvectors=True)\n",
      "should be replaced with\n",
      "L, V = torch.linalg.eigh(A, UPLO='U' if upper else 'L') (Triggered internally at  ../aten/src/ATen/native/BatchLinearAlgebra.cpp:2524.)\n",
      "  e, c = torch.symeig(contract('ij,...jk,kl->...il',s_chol, h, s_chol.T), eigenvectors=True,upper=False)\n"
     ]
    },
    {
     "name": "stdout",
     "output_type": "stream",
     "text": [
      "MOLECULE: He\n",
      "fail\n",
      "MOLECULE: Li\n",
      "MOLECULE: Be\n",
      "MOLECULE: B\n",
      "MOLECULE: C\n",
      "MOLECULE: N\n",
      "MOLECULE: O\n",
      "MOLECULE: F\n",
      "MOLECULE: Ne\n",
      "MOLECULE: Na\n",
      "MOLECULE: Mg\n",
      "MOLECULE: Al\n",
      "MOLECULE: Si\n",
      "MOLECULE: P\n",
      "MOLECULE: S\n",
      "MOLECULE: Cl\n",
      "MOLECULE: Ar\n",
      "tensor(0.5163, grad_fn=<MseLossBackward0>)\n",
      "Zeroing Gradient\n",
      "Loss Backprop\n",
      "Updating Parameters\n",
      "1\n",
      "MOLECULE: H\n",
      "MOLECULE: He\n",
      "fail\n",
      "MOLECULE: Li\n",
      "MOLECULE: Be\n",
      "MOLECULE: B\n",
      "MOLECULE: C\n",
      "MOLECULE: N\n",
      "MOLECULE: O\n",
      "MOLECULE: F\n",
      "MOLECULE: Ne\n",
      "MOLECULE: Na\n",
      "MOLECULE: Mg\n",
      "MOLECULE: Al\n",
      "MOLECULE: Si\n",
      "MOLECULE: P\n",
      "MOLECULE: S\n",
      "MOLECULE: Cl\n",
      "MOLECULE: Ar\n",
      "tensor(0.5163, grad_fn=<MseLossBackward0>)\n",
      "Zeroing Gradient\n",
      "Loss Backprop\n",
      "Updating Parameters\n",
      "2\n",
      "MOLECULE: H\n",
      "MOLECULE: He\n",
      "fail\n",
      "MOLECULE: Li\n",
      "MOLECULE: Be\n"
     ]
    }
   ],
   "source": [
    "for step in range(10):\n",
    "    print(step)\n",
    "    E_pred = []\n",
    "    i=0\n",
    "    fails = []\n",
    "    for data in dloader:\n",
    "        print('MOLECULE: {}'.format(list(moldct.keys())[i]))\n",
    "        try:\n",
    "            output = dscf.forward(*data)\n",
    "            E_pred.append(output['E'][-1])\n",
    "        except RuntimeError:\n",
    "            print('fail')\n",
    "            fails.append(i)\n",
    "        i+=1\n",
    "    E_pred = torch.stack(E_pred)\n",
    "    E_ref = torch.Tensor([E_target[i] for i in range(len(E_target)) if i not in fails])\n",
    "    lossv = loss(E_pred, E_ref)\n",
    "    print(lossv)\n",
    "    print(\"Zeroing Gradient\")\n",
    "    optimizer.zero_grad()\n",
    "    print(\"Loss Backprop\")\n",
    "    lossv.backward()\n",
    "    print(\"Updating Parameters\")\n",
    "    optimizer.step()\n"
   ]
  },
  {
   "cell_type": "code",
   "execution_count": 63,
   "metadata": {},
   "outputs": [
    {
     "data": {
      "text/plain": [
       "<bound method Module.parameters of SCF(\n",
       "  (get_veff): get_veff(\n",
       "    (model): XC(\n",
       "      (heg_model): LDA_X()\n",
       "      (pw_model): PW_C()\n",
       "    )\n",
       "  )\n",
       "  (eig): eig()\n",
       "  (energy_tot): energy_tot()\n",
       "  (make_rdm1): make_rdm1()\n",
       "  (xc): XC(\n",
       "    (heg_model): LDA_X()\n",
       "    (pw_model): PW_C()\n",
       "  )\n",
       ")>"
      ]
     },
     "execution_count": 63,
     "metadata": {},
     "output_type": "execute_result"
    }
   ],
   "source": [
    "dscf.parameters"
   ]
  },
  {
   "cell_type": "code",
   "execution_count": 44,
   "metadata": {},
   "outputs": [
    {
     "data": {
      "text/plain": [
       "tensor([-4.7855e-01, -7.3415e+00, -1.4444e+01, -2.4351e+01, -5.4069e+01,\n",
       "        -9.9096e+01, -1.2821e+02, -1.6143e+02, -1.9912e+02, -2.4131e+02,\n",
       "        -3.3996e+02, -5.2592e+02], grad_fn=<StackBackward0>)"
      ]
     },
     "execution_count": 44,
     "metadata": {},
     "output_type": "execute_result"
    }
   ],
   "source": [
    "torch.stack(E_pred)"
   ]
  },
  {
   "cell_type": "code",
   "execution_count": 41,
   "metadata": {
    "scrolled": true
   },
   "outputs": [
    {
     "data": {
      "text/plain": [
       "[1, 5, 7, 13, 15, 16]"
      ]
     },
     "execution_count": 41,
     "metadata": {},
     "output_type": "execute_result"
    }
   ],
   "source": [
    "fails"
   ]
  },
  {
   "cell_type": "code",
   "execution_count": 7,
   "metadata": {},
   "outputs": [],
   "source": [
    "traj = read('/home/awills/Documents/Research/xcdiff/data/haunschild_pbe.traj', ':')"
   ]
  },
  {
   "cell_type": "code",
   "execution_count": 3,
   "metadata": {},
   "outputs": [],
   "source": [
    "[(i.get_chemical_formula(), i.info) for i in traj]\n",
    "mols = [gto.M(atom=[[ispec,ipos] for ispec,ipos in zip(iat.get_chemical_formula(), iat.positions)], spin=None, charge=0) for iat in traj[:2]]"
   ]
  },
  {
   "cell_type": "code",
   "execution_count": 4,
   "metadata": {
    "scrolled": true
   },
   "outputs": [
    {
     "data": {
      "text/plain": [
       "1"
      ]
     },
     "execution_count": 4,
     "metadata": {},
     "output_type": "execute_result"
    }
   ],
   "source": [
    "mols[0].spin"
   ]
  },
  {
   "cell_type": "markdown",
   "metadata": {},
   "source": [
    "# KSPies for Wu-Yang Decomposition, Fractional Charge Generation"
   ]
  },
  {
   "cell_type": "code",
   "execution_count": 9,
   "metadata": {},
   "outputs": [
    {
     "name": "stdout",
     "output_type": "stream",
     "text": [
      "\n",
      "WARN: Found fractional number of electrons 10.500000. Round it to 10\n",
      "\n",
      "<pyscf.scf.uhf.UHF object at 0x7f315337b290> <pyscf.scf.uhf.UHF object at 0x7f32787a73d0>\n",
      "converged SCF energy = -160.854064685781  <S^2> = 0.75003623  2S+1 = 2.0000362\n",
      "converged SCF energy = -160.6737462472  <S^2> = 4.4408921e-15  2S+1 = 1\n",
      "(2, 13, 13) (2, 13, 13)\n",
      " *****Optimization Failed*****\n",
      "      after 59 iterations \n",
      "func_value :   -160.26916001\n",
      "max_grad   :      0.01322541\n"
     ]
    }
   ],
   "source": [
    "mol = gto.M(atom='Na 0 0 0', basis='3-21G', spin=None)\n",
    "molp = gto.M(atom='Na 0 0 0', basis='3-21G', charge=1, spin=None)\n",
    "molh = gto.M(atom='Na 0 0 0', basis='3-21G', charge=0.5, spin=None)\n",
    "mf = scf.UHF(mol)\n",
    "mfp = scf.UHF(molp)\n",
    "print(mf, mfp)\n",
    "mf.kernel()\n",
    "mfp.kernel()\n",
    "e0 = mf.energy_tot()\n",
    "ep = mfp.energy_tot()\n",
    "dm = mf.make_rdm1()\n",
    "dmp = mfp.make_rdm1()\n",
    "print(dm.shape, dmp.shape)\n",
    "wy0 = wy.UWY(mol, dm)\n",
    "wyp = wy.UWY(molp, dmp)\n",
    "wy0.wyscf()\n",
    "wyp.wyscf()\n",
    "wyh = wy.UWY(mol, (1-0.5)*dm+0.5*dmp )\n",
    "wyh.wyscf()\n",
    "wyh.info()\n"
   ]
  },
  {
   "cell_type": "code",
   "execution_count": 12,
   "metadata": {},
   "outputs": [
    {
     "name": "stdout",
     "output_type": "stream",
     "text": [
      "Baseline DM - f=0.5 DM\n",
      "C=0 - C=1:  1.7648032106072404\n",
      "C=0 - C=0.5:  11.494551069412225\n",
      "C=1 - C=0.5:  9.882080937161142\n",
      "Baseline - WY f=0/1 DM\n",
      "C=1 - WY=1:  0.040290751956452\n",
      "C=0 - WY=0:  1.7349746992771082\n"
     ]
    }
   ],
   "source": [
    "print(\"Baseline DM - f=0.5 DM\")\n",
    "print(\"C=0 - C=1: \", np.sum(abs(dm-dmp)))\n",
    "print(\"C=0 - C=0.5: \", np.sum(abs(dm-wyh.dm)))\n",
    "print(\"C=1 - C=0.5: \",np.sum(abs(dmp-wyh.dm)))\n",
    "print(\"Baseline - WY f=0/1 DM\")\n",
    "print(\"C=1 - WY=1: \", np.sum(abs(dmp-wyp.dm)))\n",
    "print(\"C=0 - WY=0: \", np.sum(abs(dmp-wy0.dm)))"
   ]
  },
  {
   "cell_type": "code",
   "execution_count": 13,
   "metadata": {},
   "outputs": [
    {
     "name": "stdout",
     "output_type": "stream",
     "text": [
      "[[1. 1. 1. 1. 1. 1. 0. 0. 0. 0. 0. 0. 0.]\n",
      " [1. 1. 1. 1. 1. 0. 0. 0. 0. 0. 0. 0. 0.]]\n",
      "[[1. 1. 1. 1. 1. 0. 0. 0. 0. 0. 0. 0. 0.]\n",
      " [1. 1. 1. 1. 1. 0. 0. 0. 0. 0. 0. 0. 0.]]\n",
      "[[1. 1. 1. 1. 1. 1. 0. 0. 0. 0. 0. 0. 0.]\n",
      " [1. 1. 1. 1. 1. 0. 0. 0. 0. 0. 0. 0. 0.]]\n"
     ]
    }
   ],
   "source": [
    "print(wyh.mo_occ)\n",
    "print(wyp.mo_occ)\n",
    "print(wy0.mo_occ)"
   ]
  },
  {
   "cell_type": "code",
   "execution_count": 16,
   "metadata": {},
   "outputs": [
    {
     "name": "stdout",
     "output_type": "stream",
     "text": [
      "(2, 13, 13)\n"
     ]
    }
   ],
   "source": [
    "print(wyh.mo_coeff.shape)"
   ]
  },
  {
   "cell_type": "code",
   "execution_count": 26,
   "metadata": {},
   "outputs": [],
   "source": [
    "ind = np.where(wyh.mo_occ[0]-wyh.mo_occ[1])\n",
    "wyh.mo_occ[1, ind] = 0.5\n",
    "wyh.mo_occ\n",
    "wyh.wyscf()\n",
    "mol.intor??"
   ]
  },
  {
   "cell_type": "code",
   "execution_count": 4,
   "metadata": {},
   "outputs": [
    {
     "name": "stdout",
     "output_type": "stream",
     "text": [
      "74.7851944955926\n",
      "74.7851944955926\n"
     ]
    }
   ],
   "source": [
    "print(mol.intor('int1e_kin').sum())\n",
    "print(molp.intor('int1e_kin').sum())"
   ]
  },
  {
   "cell_type": "code",
   "execution_count": 7,
   "metadata": {},
   "outputs": [
    {
     "data": {
      "text/plain": [
       "(array([[1., 1., 1., 1., 1., 1., 0., 0., 0., 0., 0., 0., 0.],\n",
       "        [1., 1., 1., 1., 1., 0., 0., 0., 0., 0., 0., 0., 0.]]),\n",
       " array([2., 2., 2., 2., 2., 0., 0., 0., 0., 0., 0., 0., 0.]),\n",
       " array([[1., 1., 1., 1., 1., 1., 0., 0., 0., 0., 0., 0., 0.],\n",
       "        [1., 1., 1., 1., 1., 0., 0., 0., 0., 0., 0., 0., 0.]]))"
      ]
     },
     "execution_count": 7,
     "metadata": {},
     "output_type": "execute_result"
    }
   ],
   "source": [
    "mf.mo_occ, mfp.mo_occ, wyh.mo_occ"
   ]
  },
  {
   "cell_type": "code",
   "execution_count": 31,
   "metadata": {},
   "outputs": [
    {
     "data": {
      "text/plain": [
       "((2, 13), (13,))"
      ]
     },
     "execution_count": 31,
     "metadata": {},
     "output_type": "execute_result"
    }
   ],
   "source": [
    "mf.mo_energy.shape, mfp.mo_energy.shape"
   ]
  },
  {
   "cell_type": "code",
   "execution_count": 9,
   "metadata": {},
   "outputs": [
    {
     "data": {
      "text/plain": [
       "[<matplotlib.lines.Line2D at 0x7fca24cabd10>]"
      ]
     },
     "execution_count": 9,
     "metadata": {},
     "output_type": "execute_result"
    },
    {
     "data": {
      "image/png": "[encoded data removed]",
      "text/plain": [
       "<Figure size 432x288 with 1 Axes>"
      ]
     },
     "metadata": {
      "needs_background": "light"
     },
     "output_type": "display_data"
    }
   ],
   "source": [
    "def fractional_energy(e0, ec, f, zero=False):\n",
    "    return (1-f)*e0 + f*ec\n",
    "def fractional_dm(dm0, dmc, f):\n",
    "    return (1-f)*dm0 + f*dmc\n",
    "f = plt.figure()\n",
    "ax = f.add_subplot(111)\n",
    "fs = np.linspace(0, 1, 100)\n",
    "ax.plot(fs, fractional_energy(e0, ep, fs))"
   ]
  },
  {
   "cell_type": "code",
   "execution_count": 52,
   "metadata": {},
   "outputs": [
    {
     "name": "stdout",
     "output_type": "stream",
     "text": [
      "****Optimization Completed****\n",
      "      after 3 scf cycles \n",
      "      and 8 iterations \n",
      "max(ddm)   :      0.00000095\n",
      "func_value :   -160.26527030\n",
      "max_grad   :      0.00000039\n"
     ]
    }
   ],
   "source": [
    "wyh = wy.UWY(mol, 0.5*dm+0.5*dmp)\n",
    "wyh.wyscf()\n",
    "wyh.info()"
   ]
  },
  {
   "cell_type": "code",
   "execution_count": null,
   "metadata": {},
   "outputs": [],
   "source": []
  },
  {
   "cell_type": "markdown",
   "metadata": {},
   "source": [
    "### 1. Define the xc model\n",
    "\n",
    "Here we use a simple LDA model (`level = 1`), by choosing `heg_mult = True` (for homogeneous electron gas exchange) and `pw_mult = True` (for Perdew Wang HEG correlation), without any enhancement factors (`grid_models = []`). No Hartree-Fock exact exchange is used `exx_a=None`."
   ]
  },
  {
   "cell_type": "code",
   "execution_count": 2,
   "metadata": {},
   "outputs": [],
   "source": [
    "#c = C_L(n_input=3) #3 for gga\n",
    "#x = X_L(n_input=3) #3 for GGA\n",
    "\n",
    "#xc = XC(grid_models = [c], heg_mult=False, pw_mult=False, level=2, exx_a=1)\n",
    "#xc = XC(grid_models = [x], heg_mult=False, pw_mult=False, level=2, exx_a=None)\n",
    "\n",
    "#xc = XC(grid_models = [x,c], heg_mult=False, pw_mult=False, level=2, exx_a=None)\n",
    "\n",
    "xc = XC(grid_models = [], heg_mult=True, pw_mult=True, level=1, exx_a=None)"
   ]
  },
  {
   "cell_type": "markdown",
   "metadata": {},
   "source": [
    "Create the object that runs the SCF calculation"
   ]
  },
  {
   "cell_type": "code",
   "execution_count": 3,
   "metadata": {},
   "outputs": [],
   "source": [
    "alpha_init = 0.8\n",
    "alpha = torch.nn.Parameter(torch.Tensor([alpha_init]))\n",
    "dscf = SCF(alpha=alpha, nsteps=10, xc=xc, device='cpu', exx=False)"
   ]
  },
  {
   "cell_type": "markdown",
   "metadata": {},
   "source": [
    "### 2. Create a molecule with pyscf\n",
    "\n",
    "This computes all overlap integrals and other information that will be used by our differentiable implementation"
   ]
  },
  {
   "cell_type": "code",
   "execution_count": 4,
   "metadata": {},
   "outputs": [
    {
     "name": "stdout",
     "output_type": "stream",
     "text": [
      "converged SCF energy = -1.1074945503839\n"
     ]
    }
   ],
   "source": [
    "mol2 = gto.M(atom='H 0 0 0', basis='3-21G', spin=None)\n",
    "mol = gto.M(atom='H 0 0 0; H 0 0 1', basis='3-21G')\n",
    "mf = scf.RKS(mol)\n",
    "mf.grids.level = 1\n",
    "mf.grids.build()\n",
    "mf.kernel()\n",
    "E_converged = mf.e_tot"
   ]
  },
  {
   "cell_type": "markdown",
   "metadata": {},
   "source": [
    "### 3. Create input data structures"
   ]
  },
  {
   "cell_type": "code",
   "execution_count": 5,
   "metadata": {},
   "outputs": [
    {
     "name": "stdout",
     "output_type": "stream",
     "text": [
      "DATAPOINT E_BASE:  -1.1074945503839038\n",
      "DATAPOINT MO_ENERGY:  [-0.33172767  0.01634343  0.81367669  0.99496847]\n",
      "DATAPOINT E_IP:  [-0.33172767]\n",
      "DATAPOINT MO_OCC:  [2. 0. 0. 0.]\n"
     ]
    },
    {
     "name": "stderr",
     "output_type": "stream",
     "text": [
      "/home/awills/anaconda3/envs/rsrch/lib/python3.7/site-packages/pyscf/gto/moleintor.py:259: UserWarning: Function int4c1e_sph not found.  Set its comp to 1\n",
      "  warnings.warn('Function %s not found.  Set its comp to 1' % intor_name)\n"
     ]
    }
   ],
   "source": [
    "# * The marked lines are just workarounds because we are only dealing with one system in this tutorial and both Dataset and DataLoader are designed \n",
    "# to deal with multiple data points \n",
    "\n",
    "matrices = get_datapoint(mol, mf)\n",
    "matrices = {key: [val] for key,val in matrices.items()} # *\n",
    "dset = Dataset(**matrices)\n",
    "dloader = DataLoader(dset, batch_size = 1)\n",
    "inputs = next(iter(dloader)) # *"
   ]
  },
  {
   "cell_type": "markdown",
   "metadata": {},
   "source": [
    "### 4. Run the calculation"
   ]
  },
  {
   "cell_type": "code",
   "execution_count": 52,
   "metadata": {},
   "outputs": [],
   "source": [
    "output = dscf.forward(*inputs)"
   ]
  },
  {
   "cell_type": "code",
   "execution_count": 37,
   "metadata": {},
   "outputs": [
    {
     "data": {
      "text/plain": [
       "{'E': tensor([-0.1824, -0.4248, -0.4077, -0.4072, -0.4071, -0.4071, -0.4071, -0.4071,\n",
       "         -0.4071, -0.4071], grad_fn=<CatBackward0>),\n",
       " 'dm': tensor([[0.0608, 0.1484, 0.0608, 0.1484],\n",
       "         [0.1484, 0.3623, 0.1484, 0.3623],\n",
       "         [0.0608, 0.1484, 0.0608, 0.1484],\n",
       "         [0.1484, 0.3623, 0.1484, 0.3623]], grad_fn=<PermuteBackward0>),\n",
       " 'mo_energy': tensor([0.0613, 0.3411, 1.1934, 1.4133], grad_fn=<SymeigBackward0>)}"
      ]
     },
     "execution_count": 37,
     "metadata": {},
     "output_type": "execute_result"
    }
   ],
   "source": [
    "output"
   ]
  },
  {
   "cell_type": "markdown",
   "metadata": {},
   "source": [
    "## 5. Calculate the loss"
   ]
  },
  {
   "cell_type": "code",
   "execution_count": 38,
   "metadata": {},
   "outputs": [
    {
     "data": {
      "text/plain": [
       "tensor([-1.1075])"
      ]
     },
     "execution_count": 38,
     "metadata": {},
     "output_type": "execute_result"
    }
   ],
   "source": [
    "E_converged_t = torch.Tensor([E_converged])\n",
    "\n",
    "E_converged_t"
   ]
  },
  {
   "cell_type": "markdown",
   "metadata": {},
   "source": [
    "Mean squared error loss:"
   ]
  },
  {
   "cell_type": "code",
   "execution_count": 39,
   "metadata": {},
   "outputs": [
    {
     "data": {
      "text/plain": [
       "tensor(5.2453, grad_fn=<SumBackward0>)"
      ]
     },
     "execution_count": 39,
     "metadata": {},
     "output_type": "execute_result"
    }
   ],
   "source": [
    "torch.sum((output['E'] - E_converged_t)**2)"
   ]
  },
  {
   "cell_type": "markdown",
   "metadata": {},
   "source": [
    "PyTorch-native MSE loss "
   ]
  },
  {
   "cell_type": "code",
   "execution_count": 40,
   "metadata": {},
   "outputs": [
    {
     "data": {
      "text/plain": [
       "tensor(0.5245, grad_fn=<MseLossBackward0>)"
      ]
     },
     "execution_count": 40,
     "metadata": {},
     "output_type": "execute_result"
    }
   ],
   "source": [
    "loss = torch.nn.MSELoss()\n",
    "loss_value = loss(output['E'], E_converged_t.repeat(10))\n",
    "loss_value"
   ]
  },
  {
   "cell_type": "markdown",
   "metadata": {},
   "source": [
    "Calculate gradients with backprop"
   ]
  },
  {
   "cell_type": "code",
   "execution_count": 41,
   "metadata": {},
   "outputs": [],
   "source": [
    "loss_value.backward()"
   ]
  },
  {
   "cell_type": "code",
   "execution_count": 42,
   "metadata": {},
   "outputs": [
    {
     "data": {
      "text/plain": [
       "tensor([-0.0233])"
      ]
     },
     "execution_count": 42,
     "metadata": {},
     "output_type": "execute_result"
    }
   ],
   "source": [
    "alpha.grad"
   ]
  },
  {
   "cell_type": "markdown",
   "metadata": {},
   "source": [
    "Optimizer"
   ]
  },
  {
   "cell_type": "code",
   "execution_count": 43,
   "metadata": {},
   "outputs": [],
   "source": [
    "opt = torch.optim.SGD([alpha], lr=0.001)\n",
    "opt.step()"
   ]
  },
  {
   "cell_type": "code",
   "execution_count": 44,
   "metadata": {},
   "outputs": [
    {
     "name": "stdout",
     "output_type": "stream",
     "text": [
      "Old alpha: 0.8\n",
      "New alpha: 0.8000232706344446\n"
     ]
    }
   ],
   "source": [
    "print('Old alpha:', alpha_init)\n",
    "print('New alpha:', alpha.detach().numpy()[0])"
   ]
  },
  {
   "cell_type": "code",
   "execution_count": 58,
   "metadata": {
    "scrolled": true
   },
   "outputs": [
    {
     "name": "stdout",
     "output_type": "stream",
     "text": [
      "0\n",
      "1\n",
      "2\n",
      "3\n",
      "4\n",
      "5\n",
      "6\n",
      "7\n",
      "8\n",
      "9\n",
      "10\n",
      "11\n",
      "12\n",
      "13\n",
      "14\n",
      "15\n",
      "16\n",
      "17\n",
      "18\n",
      "19\n",
      "20\n",
      "21\n",
      "22\n",
      "23\n",
      "24\n",
      "25\n",
      "26\n",
      "27\n",
      "28\n",
      "29\n",
      "30\n",
      "31\n",
      "32\n",
      "33\n",
      "34\n",
      "35\n",
      "36\n",
      "37\n",
      "38\n",
      "39\n",
      "40\n",
      "41\n",
      "42\n",
      "43\n",
      "44\n",
      "45\n",
      "46\n",
      "47\n",
      "48\n",
      "49\n"
     ]
    }
   ],
   "source": [
    "loss = torch.nn.MSELoss()\n",
    "opt = torch.optim.SGD([alpha], lr=0.001)\n",
    "\n",
    "for i in range(50):\n",
    "    print(i)\n",
    "    ioutput = dscf.forward(*inputs)\n",
    "    loss_value = loss(ioutput['E'], E_converged_t.repeat(10))\n",
    "    loss_value.backward()\n",
    "    opt.step()"
   ]
  },
  {
   "cell_type": "code",
   "execution_count": 59,
   "metadata": {},
   "outputs": [
    {
     "name": "stdout",
     "output_type": "stream",
     "text": [
      "0.8 Parameter containing:\n",
      "tensor([0.8672], requires_grad=True)\n"
     ]
    }
   ],
   "source": [
    "print(alpha_init, alpha)"
   ]
  },
  {
   "cell_type": "code",
   "execution_count": 60,
   "metadata": {},
   "outputs": [
    {
     "data": {
      "text/plain": [
       "tensor(0.5233, grad_fn=<MseLossBackward0>)"
      ]
     },
     "execution_count": 60,
     "metadata": {},
     "output_type": "execute_result"
    }
   ],
   "source": [
    "loss_value"
   ]
  },
  {
   "cell_type": "code",
   "execution_count": null,
   "metadata": {},
   "outputs": [],
   "source": []
  }
 ],
 "metadata": {
  "kernelspec": {
   "display_name": "Python 3 (ipykernel)",
   "language": "python",
   "name": "python3"
  },
  "language_info": {
   "codemirror_mode": {
    "name": "ipython",
    "version": 3
   },
   "file_extension": ".py",
   "mimetype": "text/x-python",
   "name": "python",
   "nbconvert_exporter": "python",
   "pygments_lexer": "ipython3",
   "version": "3.7.11"
  }
 },
 "nbformat": 4,
 "nbformat_minor": 4
}
