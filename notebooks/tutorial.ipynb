{
 "cells": [
  {
   "cell_type": "code",
   "execution_count": 1,
   "metadata": {},
   "outputs": [],
   "source": [
    "from torch.utils.data import DataLoader \n",
    "import torch\n",
    "from pyscf import gto, dft, scf \n",
    "\n",
    "from dpyscfl.scf import SCF\n",
    "from dpyscfl.net import XC, X_L, C_L\n",
    "from dpyscfl.utils import *\n",
    "\n",
    "from ase import Atoms\n",
    "from ase.io import read"
   ]
  },
  {
   "cell_type": "code",
   "execution_count": 2,
   "metadata": {},
   "outputs": [
    {
     "name": "stderr",
     "output_type": "stream",
     "text": [
      "/home/awills/anaconda3/envs/rsrch/lib/python3.7/site-packages/ase/io/jsonio.py:58: VisibleDeprecationWarning: Creating an ndarray from ragged nested sequences (which is a list-or-tuple of lists-or-tuples-or ndarrays with different lengths or shapes) is deprecated. If you meant to do this, you must specify 'dtype=object' when creating the ndarray.\n",
      "  a = np.array(obj)\n"
     ]
    }
   ],
   "source": [
    "traj = read('/home/awills/Documents/Research/xcdiff/data/haunschild_pbe.traj', ':')"
   ]
  },
  {
   "cell_type": "code",
   "execution_count": 14,
   "metadata": {},
   "outputs": [],
   "source": [
    "[(i.get_chemical_formula(), i.info) for i in traj]\n",
    "mols = [gto.M(atom=[[ispec,ipos] for ispec,ipos in zip(iat.get_chemical_formula(), iat.positions)], spin=None, charge=0) for iat in traj[:2]]"
   ]
  },
  {
   "cell_type": "code",
   "execution_count": 17,
   "metadata": {},
   "outputs": [
    {
     "data": {
      "text/plain": [
       "1"
      ]
     },
     "execution_count": 17,
     "metadata": {},
     "output_type": "execute_result"
    }
   ],
   "source": [
    "mols[0].spin"
   ]
  },
  {
   "cell_type": "markdown",
   "metadata": {},
   "source": [
    "### 1. Define the xc model\n",
    "\n",
    "Here we use a simple LDA model (`level = 1`), by choosing `heg_mult = True` (for homogeneous electron gas exchange) and `pw_mult = True` (for Perdew Wang HEG correlation), without any enhancement factors (`grid_models = []`). No Hartree-Fock exact exchange is used `exx_a=None`."
   ]
  },
  {
   "cell_type": "code",
   "execution_count": 32,
   "metadata": {},
   "outputs": [],
   "source": [
    "c = C_L(n_input=3) #3 for gga\n",
    "x = X_L(n_input=3) #3 for GGA\n",
    "\n",
    "xc = XC(grid_models = [c], heg_mult=False, pw_mult=False, level=2, exx_a=1)\n",
    "#xc = XC(grid_models = [x], heg_mult=False, pw_mult=False, level=2, exx_a=None)\n",
    "\n",
    "#xc = XC(grid_models = [x,c], heg_mult=False, pw_mult=False, level=2, exx_a=None)\n",
    "\n",
    "#xc = XC(grid_models = [], heg_mult=True, pw_mult=True, level=1, exx_a=None)\n",
    "\n",
    "xc.epsilon = 1e-5"
   ]
  },
  {
   "cell_type": "markdown",
   "metadata": {},
   "source": [
    "Create the object that runs the SCF calculation"
   ]
  },
  {
   "cell_type": "code",
   "execution_count": 49,
   "metadata": {},
   "outputs": [],
   "source": [
    "alpha_init = 0.8\n",
    "alpha = torch.nn.Parameter(torch.Tensor([alpha_init]))\n",
    "dscf = SCF(alpha=alpha, nsteps=10, xc=xc, device='cpu', exx=False)"
   ]
  },
  {
   "cell_type": "markdown",
   "metadata": {},
   "source": [
    "### 2. Create a molecule with pyscf\n",
    "\n",
    "This computes all overlap integrals and other information that will be used by our differentiable implementation"
   ]
  },
  {
   "cell_type": "code",
   "execution_count": 22,
   "metadata": {},
   "outputs": [
    {
     "ename": "AttributeError",
     "evalue": "'RHF' object has no attribute 'grids'",
     "output_type": "error",
     "traceback": [
      "\u001b[0;31m---------------------------------------------------------------------------\u001b[0m",
      "\u001b[0;31mAttributeError\u001b[0m                            Traceback (most recent call last)",
      "\u001b[0;32m/tmp/ipykernel_27883/2421164267.py\u001b[0m in \u001b[0;36m<module>\u001b[0;34m\u001b[0m\n\u001b[1;32m      1\u001b[0m \u001b[0mmol\u001b[0m \u001b[0;34m=\u001b[0m \u001b[0mgto\u001b[0m\u001b[0;34m.\u001b[0m\u001b[0mM\u001b[0m\u001b[0;34m(\u001b[0m\u001b[0matom\u001b[0m\u001b[0;34m=\u001b[0m\u001b[0;34m'H 0 0 0; H 0 0 1'\u001b[0m\u001b[0;34m,\u001b[0m \u001b[0mbasis\u001b[0m\u001b[0;34m=\u001b[0m\u001b[0;34m'3-21G'\u001b[0m\u001b[0;34m)\u001b[0m\u001b[0;34m\u001b[0m\u001b[0;34m\u001b[0m\u001b[0m\n\u001b[1;32m      2\u001b[0m \u001b[0mmf\u001b[0m \u001b[0;34m=\u001b[0m \u001b[0mscf\u001b[0m\u001b[0;34m.\u001b[0m\u001b[0mRHF\u001b[0m\u001b[0;34m(\u001b[0m\u001b[0mmol\u001b[0m\u001b[0;34m)\u001b[0m\u001b[0;34m\u001b[0m\u001b[0;34m\u001b[0m\u001b[0m\n\u001b[0;32m----> 3\u001b[0;31m \u001b[0mmf\u001b[0m\u001b[0;34m.\u001b[0m\u001b[0mgrids\u001b[0m\u001b[0;34m.\u001b[0m\u001b[0mlevel\u001b[0m \u001b[0;34m=\u001b[0m \u001b[0;36m1\u001b[0m\u001b[0;34m\u001b[0m\u001b[0;34m\u001b[0m\u001b[0m\n\u001b[0m\u001b[1;32m      4\u001b[0m \u001b[0mmf\u001b[0m\u001b[0;34m.\u001b[0m\u001b[0mgrids\u001b[0m\u001b[0;34m.\u001b[0m\u001b[0mbuild\u001b[0m\u001b[0;34m(\u001b[0m\u001b[0;34m)\u001b[0m\u001b[0;34m\u001b[0m\u001b[0;34m\u001b[0m\u001b[0m\n\u001b[1;32m      5\u001b[0m \u001b[0mmf\u001b[0m\u001b[0;34m.\u001b[0m\u001b[0mkernel\u001b[0m\u001b[0;34m(\u001b[0m\u001b[0;34m)\u001b[0m\u001b[0;34m\u001b[0m\u001b[0;34m\u001b[0m\u001b[0m\n",
      "\u001b[0;31mAttributeError\u001b[0m: 'RHF' object has no attribute 'grids'"
     ]
    }
   ],
   "source": [
    "mol = gto.M(atom='H 0 0 0; H 0 0 1', basis='3-21G')\n",
    "mf = scf.RHF(mol)\n",
    "mf.grids.level = 1\n",
    "mf.grids.build()\n",
    "mf.kernel()\n",
    "E_converged = mf.e_tot"
   ]
  },
  {
   "cell_type": "code",
   "execution_count": 23,
   "metadata": {},
   "outputs": [
    {
     "ename": "AttributeError",
     "evalue": "'RHF' object has no attribute 'xc'",
     "output_type": "error",
     "traceback": [
      "\u001b[0;31m---------------------------------------------------------------------------\u001b[0m",
      "\u001b[0;31mAttributeError\u001b[0m                            Traceback (most recent call last)",
      "\u001b[0;32m/tmp/ipykernel_27883/386483612.py\u001b[0m in \u001b[0;36m<module>\u001b[0;34m\u001b[0m\n\u001b[0;32m----> 1\u001b[0;31m \u001b[0mmf\u001b[0m\u001b[0;34m.\u001b[0m\u001b[0mxc\u001b[0m\u001b[0;34m\u001b[0m\u001b[0;34m\u001b[0m\u001b[0m\n\u001b[0m",
      "\u001b[0;31mAttributeError\u001b[0m: 'RHF' object has no attribute 'xc'"
     ]
    }
   ],
   "source": [
    "mf.xc"
   ]
  },
  {
   "cell_type": "markdown",
   "metadata": {},
   "source": [
    "### 3. Create input data structures"
   ]
  },
  {
   "cell_type": "code",
   "execution_count": 51,
   "metadata": {},
   "outputs": [],
   "source": [
    "# * The marked lines are just workarounds because we are only dealing with one system in this tutorial and both Dataset and DataLoader are designed \n",
    "# to deal with multiple data points \n",
    "\n",
    "matrices = get_datapoint(mol, mf)\n",
    "matrices = {key: [val] for key,val in matrices.items()} # *\n",
    "dset = Dataset(**matrices)\n",
    "dloader = DataLoader(dset, batch_size = 1)\n",
    "inputs = next(iter(dloader)) # *"
   ]
  },
  {
   "cell_type": "code",
   "execution_count": 61,
   "metadata": {},
   "outputs": [
    {
     "data": {
      "text/plain": [
       "[tensor([[[ 0.2044,  0.2861, -0.0113,  0.0025],\n",
       "          [ 0.2861,  0.4022,  0.0025,  0.0291],\n",
       "          [-0.0113,  0.0025,  0.2044,  0.2861],\n",
       "          [ 0.0025,  0.0291,  0.2861,  0.4022]]]),\n",
       " {'v': tensor([[[-2.2498, -1.1221, -0.4011, -0.6727],\n",
       "           [-1.1221, -1.1562, -0.6727, -0.8873],\n",
       "           [-0.4011, -0.6727, -2.2498, -1.1221],\n",
       "           [-0.6727, -0.8873, -1.1221, -1.1562]]]),\n",
       "  't': tensor([[[ 1.5494,  0.2932, -0.0142,  0.1092],\n",
       "           [ 0.2932,  0.2748,  0.1092,  0.1549],\n",
       "           [-0.0142,  0.1092,  1.5494,  0.2932],\n",
       "           [ 0.1092,  0.1549,  0.2932,  0.2748]]]),\n",
       "  's': tensor([[[1.0000, 0.6459, 0.1999, 0.3764],\n",
       "           [0.6459, 1.0000, 0.3764, 0.7210],\n",
       "           [0.1999, 0.3764, 1.0000, 0.6459],\n",
       "           [0.3764, 0.7210, 0.6459, 1.0000]]]),\n",
       "  'n_elec': tensor([2]),\n",
       "  'n_atoms': tensor([2]),\n",
       "  'e_nuc': tensor([0.5292]),\n",
       "  'mo_energy': tensor([[-0.3317,  0.0163,  0.8137,  0.9950]]),\n",
       "  'mo_occ': tensor([[2., 0., 0., 0.]]),\n",
       "  'eri': tensor([[[[[1.1401, 0.6114, 0.1697, 0.3468],\n",
       "             [0.6114, 0.6264, 0.2240, 0.4133],\n",
       "             [0.1697, 0.2240, 0.5234, 0.3319],\n",
       "             [0.3468, 0.4133, 0.3319, 0.4560]],\n",
       "  \n",
       "            [[0.6114, 0.3452, 0.0986, 0.1970],\n",
       "             [0.3452, 0.3803, 0.1385, 0.2535],\n",
       "             [0.0986, 0.1385, 0.3319, 0.2090],\n",
       "             [0.1970, 0.2535, 0.2090, 0.2859]],\n",
       "  \n",
       "            [[0.1697, 0.0986, 0.0412, 0.0631],\n",
       "             [0.0986, 0.1135, 0.0631, 0.0892],\n",
       "             [0.0412, 0.0631, 0.1697, 0.0986],\n",
       "             [0.0631, 0.0892, 0.0986, 0.1135]],\n",
       "  \n",
       "            [[0.3468, 0.1970, 0.0631, 0.1166],\n",
       "             [0.1970, 0.2193, 0.0909, 0.1542],\n",
       "             [0.0631, 0.0909, 0.2240, 0.1385],\n",
       "             [0.1166, 0.1542, 0.1385, 0.1808]]],\n",
       "  \n",
       "  \n",
       "           [[[0.6114, 0.3452, 0.0986, 0.1970],\n",
       "             [0.3452, 0.3803, 0.1385, 0.2535],\n",
       "             [0.0986, 0.1385, 0.3319, 0.2090],\n",
       "             [0.1970, 0.2535, 0.2090, 0.2859]],\n",
       "  \n",
       "            [[0.6264, 0.3803, 0.1135, 0.2193],\n",
       "             [0.3803, 0.4830, 0.1808, 0.3301],\n",
       "             [0.1135, 0.1808, 0.4560, 0.2859],\n",
       "             [0.2193, 0.3301, 0.2859, 0.3955]],\n",
       "  \n",
       "            [[0.2240, 0.1385, 0.0631, 0.0909],\n",
       "             [0.1385, 0.1808, 0.1166, 0.1542],\n",
       "             [0.0631, 0.1166, 0.3468, 0.1970],\n",
       "             [0.0909, 0.1542, 0.1970, 0.2193]],\n",
       "  \n",
       "            [[0.4133, 0.2535, 0.0892, 0.1542],\n",
       "             [0.2535, 0.3301, 0.1542, 0.2511],\n",
       "             [0.0892, 0.1542, 0.4133, 0.2535],\n",
       "             [0.1542, 0.2511, 0.2535, 0.3301]]],\n",
       "  \n",
       "  \n",
       "           [[[0.1697, 0.0986, 0.0412, 0.0631],\n",
       "             [0.0986, 0.1135, 0.0631, 0.0892],\n",
       "             [0.0412, 0.0631, 0.1697, 0.0986],\n",
       "             [0.0631, 0.0892, 0.0986, 0.1135]],\n",
       "  \n",
       "            [[0.2240, 0.1385, 0.0631, 0.0909],\n",
       "             [0.1385, 0.1808, 0.1166, 0.1542],\n",
       "             [0.0631, 0.1166, 0.3468, 0.1970],\n",
       "             [0.0909, 0.1542, 0.1970, 0.2193]],\n",
       "  \n",
       "            [[0.5234, 0.3319, 0.1697, 0.2240],\n",
       "             [0.3319, 0.4560, 0.3468, 0.4133],\n",
       "             [0.1697, 0.3468, 1.1401, 0.6114],\n",
       "             [0.2240, 0.4133, 0.6114, 0.6264]],\n",
       "  \n",
       "            [[0.3319, 0.2090, 0.0986, 0.1385],\n",
       "             [0.2090, 0.2859, 0.1970, 0.2535],\n",
       "             [0.0986, 0.1970, 0.6114, 0.3452],\n",
       "             [0.1385, 0.2535, 0.3452, 0.3803]]],\n",
       "  \n",
       "  \n",
       "           [[[0.3468, 0.1970, 0.0631, 0.1166],\n",
       "             [0.1970, 0.2193, 0.0909, 0.1542],\n",
       "             [0.0631, 0.0909, 0.2240, 0.1385],\n",
       "             [0.1166, 0.1542, 0.1385, 0.1808]],\n",
       "  \n",
       "            [[0.4133, 0.2535, 0.0892, 0.1542],\n",
       "             [0.2535, 0.3301, 0.1542, 0.2511],\n",
       "             [0.0892, 0.1542, 0.4133, 0.2535],\n",
       "             [0.1542, 0.2511, 0.2535, 0.3301]],\n",
       "  \n",
       "            [[0.3319, 0.2090, 0.0986, 0.1385],\n",
       "             [0.2090, 0.2859, 0.1970, 0.2535],\n",
       "             [0.0986, 0.1970, 0.6114, 0.3452],\n",
       "             [0.1385, 0.2535, 0.3452, 0.3803]],\n",
       "  \n",
       "            [[0.4560, 0.2859, 0.1135, 0.1808],\n",
       "             [0.2859, 0.3955, 0.2193, 0.3301],\n",
       "             [0.1135, 0.2193, 0.6264, 0.3803],\n",
       "             [0.1808, 0.3301, 0.3803, 0.4830]]]]]),\n",
       "  'L': tensor([[[1., 0., 0., 0.],\n",
       "           [0., 1., 0., 0.],\n",
       "           [0., 0., 1., 0.],\n",
       "           [0., 0., 0., 1.]]]),\n",
       "  'scaling': tensor([[[1., 1., 1., 1.],\n",
       "           [1., 1., 1., 1.],\n",
       "           [1., 1., 1., 1.],\n",
       "           [1., 1., 1., 1.]]]),\n",
       "  'ao_eval': tensor([[[[ 9.5507e-01,  1.9957e-01,  2.9362e-02,  1.0375e-01],\n",
       "            [ 9.5507e-01,  1.9957e-01,  2.9362e-02,  1.0375e-01],\n",
       "            [ 9.5500e-01,  1.9957e-01,  2.9361e-02,  1.0375e-01],\n",
       "            ...,\n",
       "            [ 2.4101e-02,  9.9295e-02,  2.5706e-02,  1.0073e-01],\n",
       "            [ 1.1890e-02,  8.4870e-02,  7.4667e-03,  7.6535e-02],\n",
       "            [ 4.1344e-03,  6.7116e-02,  1.4215e-03,  5.2943e-02]],\n",
       "  \n",
       "           [[-8.2200e-04, -1.1455e-05, -7.5860e-06, -5.9552e-06],\n",
       "            [-7.5519e-03, -1.0524e-04, -6.9695e-05, -5.4712e-05],\n",
       "            [-2.7626e-02, -3.8504e-04, -2.5498e-04, -2.0017e-04],\n",
       "            ...,\n",
       "            [ 0.0000e+00,  0.0000e+00,  0.0000e+00,  0.0000e+00],\n",
       "            [ 0.0000e+00,  0.0000e+00,  0.0000e+00,  0.0000e+00],\n",
       "            [ 0.0000e+00,  0.0000e+00,  0.0000e+00,  0.0000e+00]],\n",
       "  \n",
       "           [[ 0.0000e+00,  0.0000e+00,  0.0000e+00,  0.0000e+00],\n",
       "            [ 0.0000e+00,  0.0000e+00,  0.0000e+00,  0.0000e+00],\n",
       "            [ 0.0000e+00,  0.0000e+00,  0.0000e+00,  0.0000e+00],\n",
       "            ...,\n",
       "            [ 6.7428e-02,  6.1720e-02,  7.1918e-02,  6.2611e-02],\n",
       "            [ 3.9386e-02,  6.2458e-02,  2.4733e-02,  5.6324e-02],\n",
       "            [ 1.6114e-02,  5.8118e-02,  5.5402e-03,  4.5845e-02]],\n",
       "  \n",
       "           ...,\n",
       "  \n",
       "           [[-5.2468e+00, -7.3118e-02, -4.8421e-02, -3.8012e-02],\n",
       "            [-5.2467e+00, -7.3118e-02, -4.8421e-02, -3.8011e-02],\n",
       "            [-5.2461e+00, -7.3118e-02, -4.8420e-02, -3.8011e-02],\n",
       "            ...,\n",
       "            [ 1.4890e-01,  1.9845e-03,  1.5882e-01,  2.0131e-03],\n",
       "            [ 1.1085e-01,  1.4869e-02,  6.9610e-02,  1.3408e-02],\n",
       "            [ 5.5987e-02,  2.5735e-02,  1.9249e-02,  2.0301e-02]],\n",
       "  \n",
       "           [[ 0.0000e+00,  0.0000e+00,  0.0000e+00,  0.0000e+00],\n",
       "            [ 0.0000e+00,  0.0000e+00,  0.0000e+00,  0.0000e+00],\n",
       "            [ 0.0000e+00,  0.0000e+00,  0.0000e+00,  0.0000e+00],\n",
       "            ...,\n",
       "            [-1.0736e-01, -2.1834e-02,  1.0961e-01,  2.1200e-02],\n",
       "            [-5.1672e-02, -1.8205e-02,  4.4627e-02,  2.2579e-02],\n",
       "            [-1.6004e-02, -1.2824e-02,  1.1763e-02,  2.1625e-02]],\n",
       "  \n",
       "           [[-5.2468e+00, -7.3118e-02,  2.3673e-01,  1.1722e-02],\n",
       "            [-5.2467e+00, -7.3118e-02,  2.3673e-01,  1.1722e-02],\n",
       "            [-5.2461e+00, -7.3118e-02,  2.3673e-01,  1.1722e-02],\n",
       "            ...,\n",
       "            [ 2.1360e-02, -2.3953e-02,  1.7317e-02, -2.5356e-02],\n",
       "            [ 8.5763e-04, -2.3884e-02,  1.1997e-02, -1.5741e-02],\n",
       "            [-2.7397e-03, -2.1322e-02,  4.0635e-03, -7.6173e-03]]]]),\n",
       "  'grid_weights': tensor([[1.9635e-12, 7.6118e-10, 2.4844e-08,  ..., 7.8423e-02, 9.3671e-02,\n",
       "           1.0844e-01]]),\n",
       "  's_chol': tensor([[[ 1.0000,  0.0000,  0.0000,  0.0000],\n",
       "           [-0.8461,  1.3099,  0.0000,  0.0000],\n",
       "           [ 0.0801, -0.4587,  1.0814,  0.0000],\n",
       "           [ 0.2187, -1.1484, -0.7750,  1.8014]]])}]"
      ]
     },
     "execution_count": 61,
     "metadata": {},
     "output_type": "execute_result"
    }
   ],
   "source": [
    "inputs"
   ]
  },
  {
   "cell_type": "markdown",
   "metadata": {},
   "source": [
    "### 4. Run the calculation"
   ]
  },
  {
   "cell_type": "code",
   "execution_count": 52,
   "metadata": {},
   "outputs": [],
   "source": [
    "output = dscf.forward(*inputs)"
   ]
  },
  {
   "cell_type": "code",
   "execution_count": 37,
   "metadata": {},
   "outputs": [
    {
     "data": {
      "text/plain": [
       "{'E': tensor([-0.1824, -0.4248, -0.4077, -0.4072, -0.4071, -0.4071, -0.4071, -0.4071,\n",
       "         -0.4071, -0.4071], grad_fn=<CatBackward0>),\n",
       " 'dm': tensor([[0.0608, 0.1484, 0.0608, 0.1484],\n",
       "         [0.1484, 0.3623, 0.1484, 0.3623],\n",
       "         [0.0608, 0.1484, 0.0608, 0.1484],\n",
       "         [0.1484, 0.3623, 0.1484, 0.3623]], grad_fn=<PermuteBackward0>),\n",
       " 'mo_energy': tensor([0.0613, 0.3411, 1.1934, 1.4133], grad_fn=<SymeigBackward0>)}"
      ]
     },
     "execution_count": 37,
     "metadata": {},
     "output_type": "execute_result"
    }
   ],
   "source": [
    "output"
   ]
  },
  {
   "cell_type": "markdown",
   "metadata": {},
   "source": [
    "## 5. Calculate the loss"
   ]
  },
  {
   "cell_type": "code",
   "execution_count": 38,
   "metadata": {},
   "outputs": [
    {
     "data": {
      "text/plain": [
       "tensor([-1.1075])"
      ]
     },
     "execution_count": 38,
     "metadata": {},
     "output_type": "execute_result"
    }
   ],
   "source": [
    "E_converged_t = torch.Tensor([E_converged])\n",
    "\n",
    "E_converged_t"
   ]
  },
  {
   "cell_type": "markdown",
   "metadata": {},
   "source": [
    "Mean squared error loss:"
   ]
  },
  {
   "cell_type": "code",
   "execution_count": 39,
   "metadata": {},
   "outputs": [
    {
     "data": {
      "text/plain": [
       "tensor(5.2453, grad_fn=<SumBackward0>)"
      ]
     },
     "execution_count": 39,
     "metadata": {},
     "output_type": "execute_result"
    }
   ],
   "source": [
    "torch.sum((output['E'] - E_converged_t)**2)"
   ]
  },
  {
   "cell_type": "markdown",
   "metadata": {},
   "source": [
    "PyTorch-native MSE loss "
   ]
  },
  {
   "cell_type": "code",
   "execution_count": 40,
   "metadata": {},
   "outputs": [
    {
     "data": {
      "text/plain": [
       "tensor(0.5245, grad_fn=<MseLossBackward0>)"
      ]
     },
     "execution_count": 40,
     "metadata": {},
     "output_type": "execute_result"
    }
   ],
   "source": [
    "loss = torch.nn.MSELoss()\n",
    "loss_value = loss(output['E'], E_converged_t.repeat(10))\n",
    "loss_value"
   ]
  },
  {
   "cell_type": "markdown",
   "metadata": {},
   "source": [
    "Calculate gradients with backprop"
   ]
  },
  {
   "cell_type": "code",
   "execution_count": 41,
   "metadata": {},
   "outputs": [],
   "source": [
    "loss_value.backward()"
   ]
  },
  {
   "cell_type": "code",
   "execution_count": 42,
   "metadata": {},
   "outputs": [
    {
     "data": {
      "text/plain": [
       "tensor([-0.0233])"
      ]
     },
     "execution_count": 42,
     "metadata": {},
     "output_type": "execute_result"
    }
   ],
   "source": [
    "alpha.grad"
   ]
  },
  {
   "cell_type": "markdown",
   "metadata": {},
   "source": [
    "Optimizer"
   ]
  },
  {
   "cell_type": "code",
   "execution_count": 43,
   "metadata": {},
   "outputs": [],
   "source": [
    "opt = torch.optim.SGD([alpha], lr=0.001)\n",
    "opt.step()"
   ]
  },
  {
   "cell_type": "code",
   "execution_count": 44,
   "metadata": {},
   "outputs": [
    {
     "name": "stdout",
     "output_type": "stream",
     "text": [
      "Old alpha: 0.8\n",
      "New alpha: 0.8000232706344446\n"
     ]
    }
   ],
   "source": [
    "print('Old alpha:', alpha_init)\n",
    "print('New alpha:', alpha.detach().numpy()[0])"
   ]
  },
  {
   "cell_type": "code",
   "execution_count": 58,
   "metadata": {
    "scrolled": true
   },
   "outputs": [
    {
     "name": "stdout",
     "output_type": "stream",
     "text": [
      "0\n",
      "1\n",
      "2\n",
      "3\n",
      "4\n",
      "5\n",
      "6\n",
      "7\n",
      "8\n",
      "9\n",
      "10\n",
      "11\n",
      "12\n",
      "13\n",
      "14\n",
      "15\n",
      "16\n",
      "17\n",
      "18\n",
      "19\n",
      "20\n",
      "21\n",
      "22\n",
      "23\n",
      "24\n",
      "25\n",
      "26\n",
      "27\n",
      "28\n",
      "29\n",
      "30\n",
      "31\n",
      "32\n",
      "33\n",
      "34\n",
      "35\n",
      "36\n",
      "37\n",
      "38\n",
      "39\n",
      "40\n",
      "41\n",
      "42\n",
      "43\n",
      "44\n",
      "45\n",
      "46\n",
      "47\n",
      "48\n",
      "49\n"
     ]
    }
   ],
   "source": [
    "loss = torch.nn.MSELoss()\n",
    "opt = torch.optim.SGD([alpha], lr=0.001)\n",
    "\n",
    "for i in range(50):\n",
    "    print(i)\n",
    "    ioutput = dscf.forward(*inputs)\n",
    "    loss_value = loss(ioutput['E'], E_converged_t.repeat(10))\n",
    "    loss_value.backward()\n",
    "    opt.step()"
   ]
  },
  {
   "cell_type": "code",
   "execution_count": 59,
   "metadata": {},
   "outputs": [
    {
     "name": "stdout",
     "output_type": "stream",
     "text": [
      "0.8 Parameter containing:\n",
      "tensor([0.8672], requires_grad=True)\n"
     ]
    }
   ],
   "source": [
    "print(alpha_init, alpha)"
   ]
  },
  {
   "cell_type": "code",
   "execution_count": 60,
   "metadata": {},
   "outputs": [
    {
     "data": {
      "text/plain": [
       "tensor(0.5233, grad_fn=<MseLossBackward0>)"
      ]
     },
     "execution_count": 60,
     "metadata": {},
     "output_type": "execute_result"
    }
   ],
   "source": [
    "loss_value"
   ]
  },
  {
   "cell_type": "code",
   "execution_count": null,
   "metadata": {},
   "outputs": [],
   "source": []
  }
 ],
 "metadata": {
  "kernelspec": {
   "display_name": "Python 3 (ipykernel)",
   "language": "python",
   "name": "python3"
  },
  "language_info": {
   "codemirror_mode": {
    "name": "ipython",
    "version": 3
   },
   "file_extension": ".py",
   "mimetype": "text/x-python",
   "name": "python",
   "nbconvert_exporter": "python",
   "pygments_lexer": "ipython3",
   "version": "3.7.11"
  }
 },
 "nbformat": 4,
 "nbformat_minor": 4
}
