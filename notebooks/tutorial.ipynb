{
 "cells": [
  {
   "cell_type": "code",
   "execution_count": 1,
   "metadata": {},
   "outputs": [],
   "source": [
    "from torch.utils.data import DataLoader \n",
    "import torch\n",
    "import matplotlib.pyplot as plt\n",
    "from pyscf import gto, dft, scf \n",
    "from kspies import wy, zmp\n",
    "from dpyscfl.scf import *\n",
    "from dpyscfl.net import *\n",
    "from dpyscfl.utils import *\n",
    "import os, shutil\n",
    "from ase import Atoms\n",
    "from ase.io import read, write"
   ]
  },
  {
   "cell_type": "code",
   "execution_count": 2,
   "metadata": {},
   "outputs": [],
   "source": [
    "#xcdiff\n",
    "model = torch.jit.load('/home/awills/Documents/Research/xcdiff/models/final/log_mgga_reaction2/MGGA_REACTION2/xc')"
   ]
  },
  {
   "cell_type": "code",
   "execution_count": 10,
   "metadata": {},
   "outputs": [
    {
     "data": {
      "text/plain": [
       "True"
      ]
     },
     "execution_count": 10,
     "metadata": {},
     "output_type": "execute_result"
    }
   ],
   "source": [
    "nel = torch.Tensor([np.nan])\n",
    "bool(torch.isnan(nel))"
   ]
  },
  {
   "cell_type": "code",
   "execution_count": 3,
   "metadata": {
    "scrolled": true
   },
   "outputs": [
    {
     "data": {
      "text/plain": [
       "RecursiveScriptModule(\n",
       "  original_name=XC\n",
       "  (heg_model): RecursiveScriptModule(original_name=LDA_X)\n",
       "  (pw_model): RecursiveScriptModule(original_name=PW_C)\n",
       "  (grid_models): RecursiveScriptModule(\n",
       "    original_name=ModuleList\n",
       "    (0): RecursiveScriptModule(\n",
       "      original_name=XC_L\n",
       "      (net): RecursiveScriptModule(\n",
       "        original_name=Sequential\n",
       "        (0): RecursiveScriptModule(original_name=Linear)\n",
       "        (1): RecursiveScriptModule(original_name=GELU)\n",
       "        (2): RecursiveScriptModule(original_name=Linear)\n",
       "        (3): RecursiveScriptModule(original_name=GELU)\n",
       "        (4): RecursiveScriptModule(original_name=Linear)\n",
       "        (5): RecursiveScriptModule(original_name=GELU)\n",
       "        (6): RecursiveScriptModule(original_name=Linear)\n",
       "      )\n",
       "      (tanh): RecursiveScriptModule(original_name=Tanh)\n",
       "      (sig): RecursiveScriptModule(original_name=Sigmoid)\n",
       "      (lobf): RecursiveScriptModule(\n",
       "        original_name=LOB\n",
       "        (sig): RecursiveScriptModule(original_name=Sigmoid)\n",
       "      )\n",
       "    )\n",
       "    (1): RecursiveScriptModule(\n",
       "      original_name=C_L\n",
       "      (net): RecursiveScriptModule(\n",
       "        original_name=Sequential\n",
       "        (0): RecursiveScriptModule(original_name=Linear)\n",
       "        (1): RecursiveScriptModule(original_name=GELU)\n",
       "        (2): RecursiveScriptModule(original_name=Linear)\n",
       "        (3): RecursiveScriptModule(original_name=GELU)\n",
       "        (4): RecursiveScriptModule(original_name=Linear)\n",
       "        (5): RecursiveScriptModule(original_name=GELU)\n",
       "        (6): RecursiveScriptModule(original_name=Linear)\n",
       "        (7): RecursiveScriptModule(original_name=Softplus)\n",
       "      )\n",
       "      (sig): RecursiveScriptModule(original_name=Sigmoid)\n",
       "      (tanh): RecursiveScriptModule(original_name=Tanh)\n",
       "      (lobf): RecursiveScriptModule(\n",
       "        original_name=LOB\n",
       "        (sig): RecursiveScriptModule(original_name=Sigmoid)\n",
       "      )\n",
       "    )\n",
       "  )\n",
       ")"
      ]
     },
     "execution_count": 3,
     "metadata": {},
     "output_type": "execute_result"
    }
   ],
   "source": [
    "model."
   ]
  },
  {
   "cell_type": "code",
   "execution_count": 60,
   "metadata": {},
   "outputs": [],
   "source": [
    "#to generate fractional results\n",
    "def mkfracdir(fs, basedir, chargedir, newdir, charge=1):\n",
    "    atomsbp = read(os.path.join(basedir, 'results.traj'), \":\")\n",
    "    atomscp = read(os.path.join(chargedir, 'results.traj'), ':')\n",
    "    for cat in atomscp:\n",
    "        cat.info['charge']=charge\n",
    "    basecharged = atomsbp+atomscp\n",
    "    if not type(fs) == list:\n",
    "        fs = [fs]\n",
    "    for f in fs:\n",
    "        for iat, atom in enumerate(atomsbp):\n",
    "            newAtom = atom.copy()\n",
    "            newAtom.calc = atom.calc\n",
    "            newAtom.info['fractional'] = f\n",
    "            newAtom.info['baseRef'] = basedir\n",
    "            newAtom.info['chargeRef'] = chargedir\n",
    "            newAtom.info['baseidx'] = iat\n",
    "            basecharged.append(newAtom)\n",
    "    \n",
    "    try:\n",
    "        os.mkdir(newdir)\n",
    "    except:\n",
    "        pass\n",
    "    write(os.path.join(newdir, 'results.traj'), basecharged)\n",
    "    idx = 0\n",
    "    for iat, atom in enumerate(atomsbp):\n",
    "        idx_at = '{}_{}'.format(idx, atom.get_chemical_formula())\n",
    "        iat_at = '{}_{}'.format(iat, atom.get_chemical_formula())\n",
    "        dmp = os.path.join(basedir, iat_at+\".dm.npy\")\n",
    "        mocp = os.path.join(basedir, iat_at+\".mo_coeff.npy\")\n",
    "        moop = os.path.join(basedir, iat_at+\".mo_occ.npy\")\n",
    "        ndmp = os.path.join(newdir, idx_at+\".dm.npy\")\n",
    "        nmocp = os.path.join(newdir, idx_at+\".mo_coeff.npy\")\n",
    "        nmoop = os.path.join(newdir, idx_at+\".mo_occ.npy\")\n",
    "        shutil.copy2(dmp, ndmp)\n",
    "        shutil.copy2(mocp, nmocp)\n",
    "        shutil.copy2(moop, nmoop)\n",
    "        idx+=1\n",
    "    for iat, atom in enumerate(atomscp):\n",
    "        idx_at = '{}_{}'.format(idx, atom.get_chemical_formula())\n",
    "        iat_at = '{}_{}'.format(iat, atom.get_chemical_formula())\n",
    "        dmp = os.path.join(basedir, iat_at+\".dm.npy\")\n",
    "        mocp = os.path.join(basedir, iat_at+\".mo_coeff.npy\")\n",
    "        moop = os.path.join(basedir, iat_at+\".mo_occ.npy\")\n",
    "        ndmp = os.path.join(newdir, idx_at+\".dm.npy\")\n",
    "        nmocp = os.path.join(newdir, idx_at+\".mo_coeff.npy\")\n",
    "        nmoop = os.path.join(newdir, idx_at+\".mo_occ.npy\")\n",
    "        shutil.copy2(dmp, ndmp)\n",
    "        shutil.copy2(mocp, nmocp)\n",
    "        shutil.copy2(moop, nmoop)\n",
    "        idx+=1\n",
    "    "
   ]
  },
  {
   "cell_type": "code",
   "execution_count": 61,
   "metadata": {},
   "outputs": [],
   "source": [
    "bdir='/home/awills/Documents/Research/swxcd/aegis/fc0'\n",
    "cdir='/home/awills/Documents/Research/swxcd/aegis/fcp'\n",
    "ndir='/home/awills/Documents/Research/swxcd/aegis/fc0fcp'\n",
    "mkfracdir(fs=0.5, basedir=bdir, chargedir=cdir, newdir=ndir)"
   ]
  },
  {
   "cell_type": "code",
   "execution_count": 62,
   "metadata": {},
   "outputs": [],
   "source": [
    "tst = read(ndir+'/results.traj', ':')"
   ]
  },
  {
   "cell_type": "code",
   "execution_count": 63,
   "metadata": {
    "scrolled": true
   },
   "outputs": [
    {
     "data": {
      "text/plain": [
       "[{'hydrogen': True},\n",
       " {'helium': True},\n",
       " {'lithium': True},\n",
       " {'beryllium': True},\n",
       " {'boron': True},\n",
       " {'carbon': True},\n",
       " {'nitrogen': True},\n",
       " {'oxygen': True},\n",
       " {'fluorine': True},\n",
       " {'neon': True},\n",
       " {'sodium': True},\n",
       " {'magnesium': True},\n",
       " {'aluminum': True},\n",
       " {'silicon': True},\n",
       " {'phosphorous': True},\n",
       " {'sulfur': True},\n",
       " {'chlorine': True},\n",
       " {'argon': True},\n",
       " {'hydrogen': True, 'charge': 1},\n",
       " {'helium': True, 'charge': 1},\n",
       " {'lithium': True, 'charge': 1},\n",
       " {'beryllium': True, 'charge': 1},\n",
       " {'boron': True, 'charge': 1},\n",
       " {'carbon': True, 'charge': 1},\n",
       " {'nitrogen': True, 'charge': 1},\n",
       " {'oxygen': True, 'charge': 1},\n",
       " {'fluorine': True, 'charge': 1},\n",
       " {'neon': True, 'charge': 1},\n",
       " {'sodium': True, 'charge': 1},\n",
       " {'magnesium': True, 'charge': 1},\n",
       " {'aluminum': True, 'charge': 1},\n",
       " {'silicon': True, 'charge': 1},\n",
       " {'phosphorous': True, 'charge': 1},\n",
       " {'sulfur': True, 'charge': 1},\n",
       " {'chlorine': True, 'charge': 1},\n",
       " {'argon': True, 'charge': 1},\n",
       " {'hydrogen': True,\n",
       "  'fractional': 0.5,\n",
       "  'baseRef': '/home/awills/Documents/Research/swxcd/aegis/fc0',\n",
       "  'chargeRef': '/home/awills/Documents/Research/swxcd/aegis/fcp',\n",
       "  'baseidx': 0},\n",
       " {'helium': True,\n",
       "  'fractional': 0.5,\n",
       "  'baseRef': '/home/awills/Documents/Research/swxcd/aegis/fc0',\n",
       "  'chargeRef': '/home/awills/Documents/Research/swxcd/aegis/fcp',\n",
       "  'baseidx': 1},\n",
       " {'lithium': True,\n",
       "  'fractional': 0.5,\n",
       "  'baseRef': '/home/awills/Documents/Research/swxcd/aegis/fc0',\n",
       "  'chargeRef': '/home/awills/Documents/Research/swxcd/aegis/fcp',\n",
       "  'baseidx': 2},\n",
       " {'beryllium': True,\n",
       "  'fractional': 0.5,\n",
       "  'baseRef': '/home/awills/Documents/Research/swxcd/aegis/fc0',\n",
       "  'chargeRef': '/home/awills/Documents/Research/swxcd/aegis/fcp',\n",
       "  'baseidx': 3},\n",
       " {'boron': True,\n",
       "  'fractional': 0.5,\n",
       "  'baseRef': '/home/awills/Documents/Research/swxcd/aegis/fc0',\n",
       "  'chargeRef': '/home/awills/Documents/Research/swxcd/aegis/fcp',\n",
       "  'baseidx': 4},\n",
       " {'carbon': True,\n",
       "  'fractional': 0.5,\n",
       "  'baseRef': '/home/awills/Documents/Research/swxcd/aegis/fc0',\n",
       "  'chargeRef': '/home/awills/Documents/Research/swxcd/aegis/fcp',\n",
       "  'baseidx': 5},\n",
       " {'nitrogen': True,\n",
       "  'fractional': 0.5,\n",
       "  'baseRef': '/home/awills/Documents/Research/swxcd/aegis/fc0',\n",
       "  'chargeRef': '/home/awills/Documents/Research/swxcd/aegis/fcp',\n",
       "  'baseidx': 6},\n",
       " {'oxygen': True,\n",
       "  'fractional': 0.5,\n",
       "  'baseRef': '/home/awills/Documents/Research/swxcd/aegis/fc0',\n",
       "  'chargeRef': '/home/awills/Documents/Research/swxcd/aegis/fcp',\n",
       "  'baseidx': 7},\n",
       " {'fluorine': True,\n",
       "  'fractional': 0.5,\n",
       "  'baseRef': '/home/awills/Documents/Research/swxcd/aegis/fc0',\n",
       "  'chargeRef': '/home/awills/Documents/Research/swxcd/aegis/fcp',\n",
       "  'baseidx': 8},\n",
       " {'neon': True,\n",
       "  'fractional': 0.5,\n",
       "  'baseRef': '/home/awills/Documents/Research/swxcd/aegis/fc0',\n",
       "  'chargeRef': '/home/awills/Documents/Research/swxcd/aegis/fcp',\n",
       "  'baseidx': 9},\n",
       " {'sodium': True,\n",
       "  'fractional': 0.5,\n",
       "  'baseRef': '/home/awills/Documents/Research/swxcd/aegis/fc0',\n",
       "  'chargeRef': '/home/awills/Documents/Research/swxcd/aegis/fcp',\n",
       "  'baseidx': 10},\n",
       " {'magnesium': True,\n",
       "  'fractional': 0.5,\n",
       "  'baseRef': '/home/awills/Documents/Research/swxcd/aegis/fc0',\n",
       "  'chargeRef': '/home/awills/Documents/Research/swxcd/aegis/fcp',\n",
       "  'baseidx': 11},\n",
       " {'aluminum': True,\n",
       "  'fractional': 0.5,\n",
       "  'baseRef': '/home/awills/Documents/Research/swxcd/aegis/fc0',\n",
       "  'chargeRef': '/home/awills/Documents/Research/swxcd/aegis/fcp',\n",
       "  'baseidx': 12},\n",
       " {'silicon': True,\n",
       "  'fractional': 0.5,\n",
       "  'baseRef': '/home/awills/Documents/Research/swxcd/aegis/fc0',\n",
       "  'chargeRef': '/home/awills/Documents/Research/swxcd/aegis/fcp',\n",
       "  'baseidx': 13},\n",
       " {'phosphorous': True,\n",
       "  'fractional': 0.5,\n",
       "  'baseRef': '/home/awills/Documents/Research/swxcd/aegis/fc0',\n",
       "  'chargeRef': '/home/awills/Documents/Research/swxcd/aegis/fcp',\n",
       "  'baseidx': 14},\n",
       " {'sulfur': True,\n",
       "  'fractional': 0.5,\n",
       "  'baseRef': '/home/awills/Documents/Research/swxcd/aegis/fc0',\n",
       "  'chargeRef': '/home/awills/Documents/Research/swxcd/aegis/fcp',\n",
       "  'baseidx': 15},\n",
       " {'chlorine': True,\n",
       "  'fractional': 0.5,\n",
       "  'baseRef': '/home/awills/Documents/Research/swxcd/aegis/fc0',\n",
       "  'chargeRef': '/home/awills/Documents/Research/swxcd/aegis/fcp',\n",
       "  'baseidx': 16},\n",
       " {'argon': True,\n",
       "  'fractional': 0.5,\n",
       "  'baseRef': '/home/awills/Documents/Research/swxcd/aegis/fc0',\n",
       "  'chargeRef': '/home/awills/Documents/Research/swxcd/aegis/fcp',\n",
       "  'baseidx': 17}]"
      ]
     },
     "execution_count": 63,
     "metadata": {},
     "output_type": "execute_result"
    }
   ],
   "source": [
    "[i.info for i in tst]"
   ]
  },
  {
   "cell_type": "markdown",
   "metadata": {},
   "source": [
    "# General Exploration of Things"
   ]
  },
  {
   "cell_type": "code",
   "execution_count": 3,
   "metadata": {
    "scrolled": true
   },
   "outputs": [
    {
     "name": "stdout",
     "output_type": "stream",
     "text": [
      "Building grids...\n",
      "METHOD GENERATED: <function UKS at 0x7f442b6179e0>\n",
      "Building grids...\n",
      "METHOD GENERATED: <function RKS at 0x7f442b5efd40>\n",
      "Building grids...\n",
      "METHOD GENERATED: <function UKS at 0x7f442b6179e0>\n",
      "Building grids...\n",
      "METHOD GENERATED: <function RKS at 0x7f442b5efd40>\n",
      "Building grids...\n",
      "METHOD GENERATED: <function UKS at 0x7f442b6179e0>\n",
      "Building grids...\n",
      "METHOD GENERATED: <function RKS at 0x7f442b5efd40>\n",
      "Building grids...\n",
      "METHOD GENERATED: <function UKS at 0x7f442b6179e0>\n",
      "Building grids...\n",
      "METHOD GENERATED: <function RKS at 0x7f442b5efd40>\n",
      "Building grids...\n",
      "METHOD GENERATED: <function UKS at 0x7f442b6179e0>\n",
      "Building grids...\n",
      "METHOD GENERATED: <function RKS at 0x7f442b5efd40>\n",
      "Building grids...\n",
      "METHOD GENERATED: <function UKS at 0x7f442b6179e0>\n",
      "Building grids...\n",
      "METHOD GENERATED: <function RKS at 0x7f442b5efd40>\n",
      "Building grids...\n",
      "METHOD GENERATED: <function UKS at 0x7f442b6179e0>\n",
      "Building grids...\n",
      "METHOD GENERATED: <function RKS at 0x7f442b5efd40>\n",
      "Building grids...\n",
      "METHOD GENERATED: <function UKS at 0x7f442b6179e0>\n",
      "Building grids...\n",
      "METHOD GENERATED: <function RKS at 0x7f442b5efd40>\n",
      "Building grids...\n",
      "METHOD GENERATED: <function UKS at 0x7f442b6179e0>\n",
      "Building grids...\n",
      "METHOD GENERATED: <function RKS at 0x7f442b5efd40>\n",
      "H\n",
      "converged SCF energy = -0.499993311237039  <S^2> = 0.75  2S+1 = 2\n",
      "He\n",
      "SCF not converged.\n",
      "SCF energy = 1.37214747634141\n",
      "Li\n",
      "SCF not converged.\n",
      "SCF energy = -3.51403022273727 after 500 cycles  <S^2> = 1.724971  2S+1 = 2.8106732\n",
      "Be\n",
      "converged SCF energy = -14.6481381102496\n",
      "B\n",
      "converged SCF energy = -24.6394427449865  <S^2> = 0.75712791  2S+1 = 2.0071153\n",
      "C\n",
      "SCF not converged.\n",
      "SCF energy = -37.750505597564\n",
      "N\n",
      "converged SCF energy = -54.542674047778  <S^2> = 1.7608104  2S+1 = 2.8360609\n",
      "O\n",
      "SCF not converged.\n",
      "SCF energy = -74.950734780946\n",
      "F\n",
      "converged SCF energy = -99.7331399890614  <S^2> = 0.75390856  2S+1 = 2.0039048\n",
      "Ne\n",
      "converged SCF energy = -128.931050848742\n",
      "Na\n",
      "converged SCF energy = -162.260160644461  <S^2> = 0.750073  2S+1 = 2.000073\n",
      "Mg\n",
      "converged SCF energy = -200.067989477999\n",
      "Al\n",
      "converged SCF energy = -242.356468075143  <S^2> = 0.76086027  2S+1 = 2.0108309\n",
      "Si\n",
      "SCF not converged.\n",
      "SCF energy = -289.342581926926\n",
      "P\n",
      "converged SCF energy = -341.252335926107  <S^2> = 1.7788934  2S+1 = 2.8487846\n",
      "S\n",
      "SCF not converged.\n",
      "SCF energy = -398.066185762558\n",
      "Cl\n",
      "converged SCF energy = -460.196339291897  <S^2> = 0.75494984  2S+1 = 2.0049437\n",
      "Ar\n",
      "converged SCF energy = -527.582294626665\n"
     ]
    }
   ],
   "source": [
    "fc0 = read('/home/awills/Documents/Research/swxcd/aegis/fc0/results.traj', ':')\n",
    "moldct = ase_traj_to_mol(fc0)\n",
    "mfdct = {key:gen_mf_mol(mol, xc='SCAN', grid_level=1)[0] for key,mol in moldct.items()}\n",
    "for key,mf in mfdct.items():\n",
    "    print(key)\n",
    "    mf.max_cycle = 500\n",
    "    mf.kernel()"
   ]
  },
  {
   "cell_type": "code",
   "execution_count": 4,
   "metadata": {},
   "outputs": [
    {
     "name": "stderr",
     "output_type": "stream",
     "text": [
      "/home/awills/anaconda3/envs/rsrch/lib/python3.7/site-packages/pyscf/gto/moleintor.py:259: UserWarning: Function int4c1e_sph not found.  Set its comp to 1\n",
      "  warnings.warn('Function %s not found.  Set its comp to 1' % intor_name)\n"
     ]
    }
   ],
   "source": [
    "mats = [get_datapoint(moldct[key], mfdct[key], dfit=True) for key in mfdct.keys()]\n",
    "mats = {key:[dct[key] for dct in mats] for key in mats[0].keys()}\n",
    "E_target = torch.Tensor(mats['e_base'])"
   ]
  },
  {
   "cell_type": "code",
   "execution_count": 8,
   "metadata": {},
   "outputs": [
    {
     "name": "stdout",
     "output_type": "stream",
     "text": [
      "FREEC False\n",
      "get_veff.model.grid_models.0.net.0.weight\n",
      "Parameter containing:\n",
      "tensor([[ 0.7129],\n",
      "        [ 0.4597],\n",
      "        [-0.0395],\n",
      "        [ 0.8341],\n",
      "        [ 0.8149],\n",
      "        [ 0.7994],\n",
      "        [ 0.2239],\n",
      "        [ 0.8370],\n",
      "        [ 0.5003],\n",
      "        [-0.5867],\n",
      "        [ 0.7752],\n",
      "        [ 0.6802],\n",
      "        [-0.2089],\n",
      "        [-0.8322],\n",
      "        [ 0.8005],\n",
      "        [ 0.2637]], requires_grad=True)\n",
      "get_veff.model.grid_models.0.net.0.bias\n",
      "Parameter containing:\n",
      "tensor([ 0.9437,  0.7395, -0.6417, -0.8677,  0.6172,  0.2299, -0.4634,  0.2773,\n",
      "        -0.9441,  0.7391,  0.4866, -0.5730, -0.3234, -0.5353, -0.6870,  0.7592],\n",
      "       requires_grad=True)\n",
      "get_veff.model.grid_models.0.net.2.weight\n",
      "Parameter containing:\n",
      "tensor([[-6.2199e-02, -2.3068e-01,  1.2678e-01, -5.2871e-02,  2.1564e-01,\n",
      "         -5.8237e-02, -7.0006e-02, -2.0120e-01, -1.7729e-01, -7.2564e-02,\n",
      "          1.1545e-01,  2.1628e-01, -2.3860e-01, -1.0478e-01, -1.3672e-01,\n",
      "          7.9309e-02],\n",
      "        [ 1.9635e-01, -7.3907e-02,  1.4019e-01, -5.4335e-02,  2.3236e-01,\n",
      "          1.1378e-01,  1.2255e-02,  1.0188e-01,  1.6405e-01,  1.6181e-01,\n",
      "          1.0387e-01, -2.4872e-01, -1.3952e-01,  5.5542e-02, -1.0163e-01,\n",
      "         -2.4496e-02],\n",
      "        [-2.2223e-01, -8.0183e-02, -6.5270e-02, -1.5819e-02,  5.2092e-02,\n",
      "         -2.0435e-01,  2.3289e-01,  1.7582e-01,  4.8206e-03, -3.8676e-02,\n",
      "          6.6828e-02,  5.1176e-02, -4.1764e-02,  1.6210e-01, -1.6465e-02,\n",
      "         -1.2261e-01],\n",
      "        [ 9.7188e-02,  2.4360e-01, -6.3744e-02,  4.6627e-02,  2.3272e-01,\n",
      "          2.0695e-02, -2.2632e-01, -1.8630e-01, -1.7391e-01, -8.3140e-02,\n",
      "          1.8010e-02,  9.5961e-02,  2.2837e-01,  2.0784e-02,  8.8501e-02,\n",
      "          9.3859e-02],\n",
      "        [-8.1050e-02, -7.9085e-02,  8.1791e-02,  1.5973e-01,  2.5592e-02,\n",
      "         -1.4070e-01,  1.5733e-01, -1.9275e-01,  4.4769e-02,  2.7165e-03,\n",
      "         -1.0569e-01, -9.6267e-03, -2.2703e-01, -1.4865e-01, -6.4330e-03,\n",
      "          1.2165e-01],\n",
      "        [-1.4903e-01,  1.3398e-01,  8.6365e-02, -4.7768e-02,  8.3867e-02,\n",
      "          1.0071e-01, -7.1250e-02,  1.9752e-01, -5.9212e-02,  2.3874e-01,\n",
      "         -1.8103e-01, -2.3569e-01,  9.3719e-02, -5.5580e-02,  2.2129e-01,\n",
      "         -1.8629e-01],\n",
      "        [-2.3451e-01, -8.4051e-02, -1.1929e-01,  1.4133e-01,  1.5178e-01,\n",
      "          2.3573e-01, -1.3241e-01, -1.8064e-02,  2.4014e-01,  5.5557e-02,\n",
      "          1.4998e-01, -2.2133e-02, -1.3794e-01, -1.6758e-01, -1.3385e-01,\n",
      "          2.1427e-01],\n",
      "        [ 2.1832e-01, -9.4616e-02, -1.5215e-01, -9.1101e-02, -2.2413e-01,\n",
      "          1.6097e-01, -1.8498e-01, -2.4269e-02, -2.2056e-01, -2.4176e-01,\n",
      "         -2.0134e-01, -1.4054e-01, -4.5032e-02,  1.8523e-02, -1.3923e-01,\n",
      "          2.2646e-01],\n",
      "        [-1.1449e-01, -1.0739e-01, -1.2418e-01, -1.8946e-01, -6.8927e-02,\n",
      "         -1.7598e-01,  2.8072e-02, -1.5470e-01, -2.4099e-01, -1.7247e-02,\n",
      "          1.2156e-01, -2.4735e-01,  2.4211e-01, -1.3146e-01, -1.4464e-01,\n",
      "         -2.7947e-02],\n",
      "        [-5.8660e-02, -2.2763e-01,  2.2779e-01,  6.1376e-02,  2.1693e-01,\n",
      "          1.2826e-01,  1.3874e-01,  2.3797e-01,  4.9840e-02,  9.0018e-02,\n",
      "          6.2147e-02, -9.4428e-02,  1.4131e-01, -3.9759e-02, -2.3999e-02,\n",
      "         -2.3677e-01],\n",
      "        [ 6.6322e-02, -5.9890e-02,  2.3755e-02, -5.7821e-02,  1.5174e-01,\n",
      "          2.3213e-01, -2.4045e-01, -1.7185e-01,  5.7935e-02,  1.1836e-01,\n",
      "         -2.4325e-01, -2.4174e-01,  1.2413e-01,  3.8205e-04,  1.7774e-01,\n",
      "          1.1043e-02],\n",
      "        [ 1.4354e-01, -1.2833e-01, -1.3141e-01, -2.4730e-01,  1.9684e-01,\n",
      "         -2.4152e-01,  2.3814e-02, -1.1794e-01,  1.2021e-01,  1.4620e-01,\n",
      "          8.1628e-02, -2.7248e-02,  9.5419e-02,  2.0099e-01, -1.5288e-01,\n",
      "          2.0891e-01],\n",
      "        [ 2.7784e-02,  5.2182e-03,  5.3835e-02, -1.4335e-01,  2.0261e-01,\n",
      "         -2.3811e-01,  1.2979e-01, -2.1251e-01,  2.2408e-01,  4.6805e-02,\n",
      "         -1.6831e-01,  3.0966e-02,  1.9852e-01,  8.0233e-02,  2.3001e-01,\n",
      "         -2.0582e-01],\n",
      "        [ 1.7140e-01, -1.8813e-01, -2.4613e-01,  1.7289e-02,  2.0667e-01,\n",
      "          4.5386e-02,  9.1039e-02, -1.9804e-01,  1.3532e-01, -5.8297e-02,\n",
      "         -1.8875e-02,  1.6822e-01,  2.0942e-01,  9.0190e-02, -2.0253e-01,\n",
      "         -5.7199e-02],\n",
      "        [ 2.3061e-01, -1.3962e-02, -1.0176e-01,  1.8550e-01,  6.1750e-02,\n",
      "         -7.3051e-02, -2.4533e-01,  1.2353e-01,  1.1816e-01,  1.5078e-04,\n",
      "          1.3778e-01, -1.4870e-01, -1.9153e-01,  1.9108e-01,  1.0434e-01,\n",
      "         -1.7013e-02],\n",
      "        [ 1.6982e-01, -2.2986e-02, -9.0997e-02, -5.5315e-02,  1.9467e-01,\n",
      "         -5.5373e-02,  8.4288e-03,  1.9750e-01,  2.7723e-02, -1.5973e-01,\n",
      "         -2.3212e-01, -2.4425e-01,  2.9531e-02,  9.7158e-02,  2.4868e-01,\n",
      "          9.5515e-03]], requires_grad=True)\n",
      "get_veff.model.grid_models.0.net.2.bias\n",
      "Parameter containing:\n",
      "tensor([-0.0520, -0.0326,  0.0525,  0.0696,  0.2111, -0.0182,  0.1748,  0.1470,\n",
      "         0.2108,  0.0435,  0.1341, -0.0315, -0.0905,  0.1639,  0.1439,  0.1782],\n",
      "       requires_grad=True)\n",
      "get_veff.model.grid_models.0.net.4.weight\n",
      "Parameter containing:\n",
      "tensor([[-0.2401, -0.1676, -0.0064,  0.1575, -0.1719, -0.0658,  0.0277, -0.2269,\n",
      "          0.2310, -0.0666,  0.1302, -0.1150,  0.1602,  0.0276, -0.1248, -0.1362],\n",
      "        [-0.1555, -0.2228,  0.0897, -0.0513, -0.1301, -0.1541,  0.2190,  0.1126,\n",
      "          0.1029, -0.1641,  0.1882, -0.0157, -0.2270, -0.0586, -0.1150, -0.1768],\n",
      "        [ 0.0054,  0.1982,  0.2208, -0.1579,  0.2155,  0.1981,  0.0380, -0.1873,\n",
      "         -0.0932,  0.1882, -0.1213,  0.1991, -0.2105, -0.0247, -0.1322,  0.1541],\n",
      "        [ 0.1387,  0.1292, -0.1038,  0.1080,  0.1355,  0.1959, -0.0696, -0.1948,\n",
      "          0.0158,  0.0337,  0.0896, -0.0283,  0.2103, -0.1233, -0.0620,  0.2013],\n",
      "        [ 0.0012, -0.2161, -0.1541,  0.0395,  0.0260, -0.0783,  0.0600, -0.1400,\n",
      "         -0.2088,  0.2027, -0.1712, -0.2181,  0.2242,  0.1193,  0.0381,  0.0282],\n",
      "        [-0.1920,  0.1567, -0.0042, -0.1963, -0.2354, -0.0528, -0.1570,  0.2163,\n",
      "         -0.0717, -0.0905,  0.2412,  0.0023,  0.0702, -0.0257, -0.2089, -0.1261],\n",
      "        [ 0.1843, -0.1484,  0.1569,  0.0989,  0.0417, -0.1378, -0.2259, -0.0061,\n",
      "         -0.1374,  0.0970, -0.2174, -0.0661, -0.2077,  0.1891, -0.1405, -0.0129],\n",
      "        [ 0.0836, -0.1953, -0.1236,  0.0299, -0.1267, -0.0208,  0.1880,  0.2479,\n",
      "          0.1687,  0.0062, -0.2160, -0.1061,  0.2224, -0.0043, -0.0106, -0.1579],\n",
      "        [-0.0766,  0.1284,  0.1635,  0.2365,  0.1827, -0.2494,  0.0641, -0.1061,\n",
      "         -0.1393, -0.1259, -0.2116,  0.0515,  0.0419,  0.1457, -0.0524,  0.1707],\n",
      "        [ 0.1563,  0.0317, -0.0119, -0.2342,  0.0774,  0.0955, -0.2356, -0.0080,\n",
      "          0.1513, -0.0365, -0.1602, -0.1032, -0.1839, -0.0503, -0.1122,  0.0576],\n",
      "        [-0.0136,  0.1330,  0.0370, -0.0343,  0.2176, -0.2139, -0.1763,  0.0772,\n",
      "         -0.1653,  0.1208, -0.0128, -0.2278, -0.1402,  0.2404,  0.0641,  0.0723],\n",
      "        [-0.1485,  0.0567, -0.2167,  0.1616, -0.1132, -0.0034,  0.0892,  0.1493,\n",
      "          0.0627,  0.0065, -0.0827, -0.0963,  0.1209,  0.1070,  0.0052, -0.0026],\n",
      "        [-0.1326, -0.2423,  0.0619,  0.2197, -0.2386,  0.2392,  0.0409,  0.0258,\n",
      "         -0.1917,  0.0915, -0.2335, -0.0872, -0.0029,  0.0806,  0.0631, -0.1108],\n",
      "        [-0.1903, -0.1072, -0.2203, -0.0746, -0.0325,  0.0768, -0.1805,  0.0472,\n",
      "          0.1977, -0.2171, -0.2224,  0.1558,  0.0633,  0.0930, -0.1805, -0.2219],\n",
      "        [ 0.1714,  0.1854,  0.0252, -0.0951, -0.1174, -0.1376, -0.0080,  0.1529,\n",
      "          0.1108,  0.0541, -0.1112, -0.0203, -0.0871,  0.1931,  0.1503, -0.1710],\n",
      "        [-0.1885, -0.2084,  0.2123, -0.0675, -0.2089, -0.1724, -0.2447, -0.0370,\n",
      "          0.0810,  0.2125, -0.1006, -0.2048,  0.2238, -0.0954, -0.0304,  0.1355]],\n",
      "       requires_grad=True)\n",
      "get_veff.model.grid_models.0.net.4.bias\n",
      "Parameter containing:\n",
      "tensor([-0.0161, -0.0890, -0.0592,  0.0424, -0.2407, -0.1050,  0.2210,  0.0013,\n",
      "        -0.0170,  0.2280,  0.0473,  0.1567, -0.0636, -0.0119,  0.0720,  0.0621],\n",
      "       requires_grad=True)\n",
      "get_veff.model.grid_models.0.net.6.weight\n",
      "Parameter containing:\n",
      "tensor([[ 0.2484, -0.0178,  0.2345,  0.2340, -0.1837, -0.1913, -0.0418, -0.1417,\n",
      "         -0.1171, -0.1083,  0.1371,  0.0570,  0.0118,  0.0078, -0.0150,  0.1524]],\n",
      "       requires_grad=True)\n",
      "get_veff.model.grid_models.0.net.6.bias\n",
      "Parameter containing:\n",
      "tensor([-0.1436], requires_grad=True)\n",
      "get_veff.model.grid_models.1.net.0.weight\n",
      "Parameter containing:\n",
      "tensor([[-0.0806,  0.5770,  0.3172],\n",
      "        [-0.2066,  0.1190,  0.0846],\n",
      "        [ 0.2247, -0.3936,  0.1980],\n",
      "        [ 0.3420,  0.1635, -0.0273],\n",
      "        [ 0.3523, -0.2045,  0.3684],\n",
      "        [-0.0084, -0.2326,  0.0382],\n",
      "        [-0.4538,  0.1443, -0.5713],\n",
      "        [-0.4881, -0.4171, -0.4422],\n",
      "        [-0.3062,  0.4542, -0.1438],\n",
      "        [-0.1687, -0.2297,  0.1835],\n",
      "        [ 0.5456, -0.0504,  0.5768],\n",
      "        [-0.3703,  0.0992, -0.5043],\n",
      "        [-0.3319,  0.1728, -0.4186],\n",
      "        [-0.4245, -0.4335, -0.5201],\n",
      "        [ 0.5593,  0.2619,  0.4453],\n",
      "        [ 0.5766,  0.5180, -0.5446]], requires_grad=True)\n",
      "get_veff.model.grid_models.1.net.0.bias\n",
      "Parameter containing:\n",
      "tensor([ 0.5621,  0.0872, -0.3175, -0.2217,  0.3883, -0.3237, -0.1915,  0.0515,\n",
      "         0.2593,  0.2304, -0.1028,  0.4609,  0.1044,  0.2924, -0.2181, -0.2672],\n",
      "       requires_grad=True)\n",
      "get_veff.model.grid_models.1.net.2.weight\n",
      "Parameter containing:\n",
      "tensor([[-0.0604, -0.2252,  0.0979,  0.1199, -0.2073,  0.2324, -0.1132, -0.1027,\n",
      "         -0.0251,  0.1030, -0.1165, -0.0797,  0.0455,  0.2445, -0.1936,  0.1701],\n",
      "        [ 0.2241, -0.2385, -0.0290, -0.0281, -0.1566, -0.2176, -0.1830,  0.0367,\n",
      "         -0.1791,  0.1523,  0.2105, -0.1286, -0.2303, -0.1380, -0.1551,  0.2383],\n",
      "        [ 0.2010, -0.1389,  0.2122, -0.0558, -0.0274,  0.0934,  0.1952, -0.1064,\n",
      "         -0.1403, -0.2077, -0.1645, -0.0667,  0.2075,  0.1965,  0.2093, -0.1807],\n",
      "        [ 0.0979, -0.0143,  0.0395, -0.1694, -0.2078,  0.0011,  0.1333, -0.0457,\n",
      "         -0.2467,  0.0692,  0.1642, -0.0904,  0.2290,  0.1669,  0.1281, -0.0813],\n",
      "        [-0.1845, -0.2090, -0.2313,  0.2417, -0.1396,  0.1877,  0.1139, -0.0009,\n",
      "         -0.0154, -0.1927, -0.1505, -0.1084, -0.1440,  0.0998, -0.2064,  0.0773],\n",
      "        [-0.0557,  0.0367,  0.0494, -0.1769,  0.0326, -0.1941, -0.0489,  0.2334,\n",
      "         -0.2351,  0.1076, -0.0389,  0.1649,  0.0878,  0.2457,  0.2339, -0.1889],\n",
      "        [ 0.0375, -0.0280, -0.0181,  0.2032, -0.2295,  0.0653,  0.0291, -0.0396,\n",
      "          0.1718,  0.1232, -0.2308, -0.1086, -0.0710, -0.2309, -0.1077,  0.2321],\n",
      "        [-0.0688,  0.1568,  0.0387,  0.0366, -0.0748,  0.1821,  0.2176, -0.0596,\n",
      "         -0.1733,  0.0080,  0.0951, -0.2338,  0.1211,  0.1439, -0.1656, -0.1301],\n",
      "        [ 0.1835, -0.2229,  0.0786,  0.0354,  0.1636,  0.1489,  0.1860, -0.1883,\n",
      "         -0.1838,  0.2031, -0.2366,  0.1410, -0.1049, -0.0401, -0.1044, -0.0580],\n",
      "        [-0.1974, -0.0102, -0.1480,  0.0831, -0.0587,  0.0227,  0.0624,  0.1397,\n",
      "         -0.0867, -0.1826, -0.0142,  0.0732,  0.1786, -0.0114,  0.2008,  0.1897],\n",
      "        [-0.1552,  0.1103, -0.0902, -0.0865,  0.1276,  0.1978, -0.1667,  0.2393,\n",
      "          0.1708, -0.0634, -0.0457, -0.0848,  0.0301, -0.1104,  0.0871,  0.0644],\n",
      "        [ 0.1499,  0.1894, -0.0695,  0.1028, -0.1008, -0.1524,  0.1659,  0.0736,\n",
      "          0.0300,  0.2207,  0.0515, -0.2346,  0.0439,  0.0865,  0.0177,  0.1621],\n",
      "        [-0.0160, -0.1104,  0.0133, -0.2018,  0.1460,  0.0602,  0.1938, -0.1402,\n",
      "         -0.2462,  0.1678,  0.1869,  0.0431, -0.0786, -0.0631, -0.0250, -0.1356],\n",
      "        [-0.0807, -0.0916,  0.1740,  0.1862, -0.2124,  0.1055,  0.2362,  0.0932,\n",
      "          0.1960,  0.0922,  0.1501,  0.1025,  0.0258, -0.0433, -0.0560, -0.0677],\n",
      "        [ 0.2105,  0.1102,  0.1194,  0.0412,  0.1375, -0.0389,  0.0465, -0.0078,\n",
      "         -0.1867,  0.2172,  0.1793, -0.0952,  0.1255,  0.0758, -0.1569, -0.1488],\n",
      "        [ 0.1464, -0.0318,  0.1656,  0.2371,  0.2451,  0.0187,  0.2280, -0.1962,\n",
      "          0.0694,  0.1835, -0.0750, -0.0141, -0.1175,  0.0366,  0.0357, -0.0016]],\n",
      "       requires_grad=True)\n",
      "get_veff.model.grid_models.1.net.2.bias\n",
      "Parameter containing:\n",
      "tensor([ 0.1311, -0.0123, -0.2418, -0.0417,  0.0090,  0.2374, -0.0511, -0.2457,\n",
      "         0.2016, -0.0492, -0.2301,  0.0524,  0.0415, -0.0397,  0.0334,  0.0873],\n",
      "       requires_grad=True)\n",
      "get_veff.model.grid_models.1.net.4.weight\n",
      "Parameter containing:\n",
      "tensor([[ 0.1600, -0.1628, -0.0336,  0.0794, -0.1867,  0.0990, -0.1723,  0.0423,\n",
      "          0.0408, -0.0776,  0.1939, -0.0280, -0.0623, -0.0230,  0.0692,  0.0662],\n",
      "        [-0.0357,  0.1838, -0.1908,  0.0618,  0.0666,  0.0475,  0.0457,  0.1300,\n",
      "         -0.0693,  0.2156,  0.1883, -0.1732,  0.2049,  0.0670, -0.2106,  0.0627],\n",
      "        [-0.2426, -0.0129,  0.2225, -0.2142, -0.1027, -0.1662, -0.2484, -0.1767,\n",
      "          0.1765,  0.0248,  0.1456,  0.2446, -0.2078,  0.0441, -0.2007,  0.0225],\n",
      "        [-0.2452,  0.2261,  0.0661, -0.2036, -0.2359, -0.0614,  0.0060,  0.0357,\n",
      "         -0.0031,  0.1135, -0.2467,  0.1179,  0.1847,  0.1341,  0.1717, -0.0004],\n",
      "        [ 0.1851, -0.0416,  0.0551,  0.0384,  0.1196,  0.2287,  0.1277,  0.2490,\n",
      "          0.1659,  0.0280,  0.0374, -0.1961,  0.1986, -0.0703, -0.2286, -0.1273],\n",
      "        [ 0.0393, -0.0038, -0.1715,  0.0688,  0.0075,  0.0451, -0.1667, -0.1832,\n",
      "          0.0362, -0.0521, -0.1271, -0.1586,  0.0077, -0.0236,  0.1883, -0.2190],\n",
      "        [ 0.1739,  0.0880, -0.1005, -0.1235,  0.0697, -0.1790,  0.1867, -0.1532,\n",
      "         -0.1852,  0.2382,  0.2210, -0.0854,  0.2312,  0.1267, -0.2249,  0.0875],\n",
      "        [ 0.0423, -0.1303,  0.1682, -0.1692,  0.0768, -0.2475, -0.0079,  0.0339,\n",
      "         -0.2294,  0.0234,  0.0621, -0.1752,  0.0185,  0.1745,  0.2340, -0.1421],\n",
      "        [-0.1064,  0.1763,  0.1120, -0.0877,  0.1181, -0.0996, -0.0575,  0.2182,\n",
      "          0.1343, -0.1691, -0.2371, -0.1328,  0.1683, -0.0462,  0.1220,  0.1227],\n",
      "        [-0.0466, -0.1916, -0.1908,  0.2232,  0.1824, -0.0349, -0.1138, -0.2286,\n",
      "         -0.1479, -0.1773, -0.0244, -0.1943, -0.0426,  0.0621,  0.0332, -0.1377],\n",
      "        [ 0.0254, -0.2169,  0.0416,  0.2494, -0.1531,  0.2325, -0.1789, -0.1659,\n",
      "          0.1640,  0.0997, -0.2111, -0.0381,  0.1937, -0.0287,  0.2412, -0.1124],\n",
      "        [ 0.0799, -0.0970, -0.1382, -0.2219, -0.1486,  0.1152,  0.0209, -0.0835,\n",
      "         -0.1546, -0.2396,  0.1396, -0.1426,  0.1110,  0.2357,  0.1477, -0.2177],\n",
      "        [-0.0711,  0.1155, -0.0444,  0.1488, -0.1756, -0.1186, -0.1662,  0.0547,\n",
      "         -0.0421,  0.0901,  0.1592,  0.0964,  0.1551,  0.1789, -0.2449,  0.1925],\n",
      "        [-0.1530,  0.0810,  0.1450, -0.2423, -0.1850, -0.0181, -0.1878, -0.1681,\n",
      "          0.1651,  0.1777,  0.2268,  0.1720, -0.2172, -0.1975,  0.0075, -0.0507],\n",
      "        [-0.2351,  0.1072,  0.0497,  0.2123,  0.1239,  0.0424, -0.0809, -0.2024,\n",
      "         -0.1890,  0.1502,  0.0005,  0.1112,  0.0489, -0.1968,  0.0241, -0.1853],\n",
      "        [ 0.1170,  0.1530, -0.1228,  0.2180,  0.2339,  0.1569, -0.2125,  0.2006,\n",
      "          0.0900, -0.1151, -0.0955,  0.1258,  0.1325,  0.0789, -0.0944,  0.0556]],\n",
      "       requires_grad=True)\n",
      "get_veff.model.grid_models.1.net.4.bias\n",
      "Parameter containing:\n",
      "tensor([-0.2383, -0.1048, -0.0006, -0.0248,  0.2402,  0.1751,  0.2483, -0.0507,\n",
      "         0.1528, -0.1396,  0.0828, -0.0608, -0.0612, -0.0125, -0.1466,  0.0183],\n",
      "       requires_grad=True)\n",
      "get_veff.model.grid_models.1.net.6.weight\n",
      "Parameter containing:\n",
      "tensor([[ 0.1585,  0.0631,  0.1603, -0.0876, -0.0011,  0.1963,  0.1849, -0.2236,\n",
      "         -0.1959, -0.2489, -0.1544, -0.2324,  0.1537, -0.0859,  0.1017,  0.0562]],\n",
      "       requires_grad=True)\n",
      "get_veff.model.grid_models.1.net.6.bias\n",
      "Parameter containing:\n",
      "tensor([-0.1574], requires_grad=True)\n"
     ]
    }
   ],
   "source": [
    "dset = Dataset(**mats)\n",
    "dloader = DataLoader(dset, batch_size = 1)\n",
    "#inputs = next(iter(dloader)) # *\n",
    "xc = XC(grid_models = [], heg_mult=True, pw_mult=True, level=1, exx_a=None)\n",
    "alpha_init = 0.8\n",
    "alpha = torch.nn.Parameter(torch.Tensor([alpha_init]))\n",
    "#dscf = SCF(alpha=alpha, nsteps=10, xc=xc, device='cpu', exx=False)\n",
    "dscf = get_scf(xctype='GGA', DEVICE='cuda')\n",
    "diff = True\n",
    "for name, param in dscf.named_parameters():\n",
    "    param.requires_grad = diff\n",
    "    print(name)\n",
    "    print(param)\n",
    "optimizer = torch.optim.Adam(dscf.parameters(), lr=0.01)\n",
    "loss = torch.nn.MSELoss()"
   ]
  },
  {
   "cell_type": "code",
   "execution_count": 7,
   "metadata": {},
   "outputs": [
    {
     "data": {
      "text/plain": [
       "<bound method Module.named_parameters of SCF(\n",
       "  (get_veff): get_veff(\n",
       "    (model): XC(\n",
       "      (heg_model): LDA_X()\n",
       "      (pw_model): PW_C()\n",
       "      (grid_models): ModuleList(\n",
       "        (0): X_L(\n",
       "          (net): Sequential(\n",
       "            (0): Linear(in_features=1, out_features=16, bias=True)\n",
       "            (1): GELU()\n",
       "            (2): Linear(in_features=16, out_features=16, bias=True)\n",
       "            (3): GELU()\n",
       "            (4): Linear(in_features=16, out_features=16, bias=True)\n",
       "            (5): GELU()\n",
       "            (6): Linear(in_features=16, out_features=1, bias=True)\n",
       "          )\n",
       "          (tanh): Tanh()\n",
       "          (lobf): LOB(\n",
       "            (sig): Sigmoid()\n",
       "          )\n",
       "        )\n",
       "        (1): C_L(\n",
       "          (net): Sequential(\n",
       "            (0): Linear(in_features=3, out_features=16, bias=True)\n",
       "            (1): GELU()\n",
       "            (2): Linear(in_features=16, out_features=16, bias=True)\n",
       "            (3): GELU()\n",
       "            (4): Linear(in_features=16, out_features=16, bias=True)\n",
       "            (5): GELU()\n",
       "            (6): Linear(in_features=16, out_features=1, bias=True)\n",
       "          )\n",
       "          (tanh): Tanh()\n",
       "          (lobf): LOB(\n",
       "            (sig): Sigmoid()\n",
       "          )\n",
       "        )\n",
       "      )\n",
       "    )\n",
       "  )\n",
       "  (eig): eig()\n",
       "  (energy_tot): energy_tot()\n",
       "  (make_rdm1): make_rdm1()\n",
       "  (xc): XC(\n",
       "    (heg_model): LDA_X()\n",
       "    (pw_model): PW_C()\n",
       "    (grid_models): ModuleList(\n",
       "      (0): X_L(\n",
       "        (net): Sequential(\n",
       "          (0): Linear(in_features=1, out_features=16, bias=True)\n",
       "          (1): GELU()\n",
       "          (2): Linear(in_features=16, out_features=16, bias=True)\n",
       "          (3): GELU()\n",
       "          (4): Linear(in_features=16, out_features=16, bias=True)\n",
       "          (5): GELU()\n",
       "          (6): Linear(in_features=16, out_features=1, bias=True)\n",
       "        )\n",
       "        (tanh): Tanh()\n",
       "        (lobf): LOB(\n",
       "          (sig): Sigmoid()\n",
       "        )\n",
       "      )\n",
       "      (1): C_L(\n",
       "        (net): Sequential(\n",
       "          (0): Linear(in_features=3, out_features=16, bias=True)\n",
       "          (1): GELU()\n",
       "          (2): Linear(in_features=16, out_features=16, bias=True)\n",
       "          (3): GELU()\n",
       "          (4): Linear(in_features=16, out_features=16, bias=True)\n",
       "          (5): GELU()\n",
       "          (6): Linear(in_features=16, out_features=1, bias=True)\n",
       "        )\n",
       "        (tanh): Tanh()\n",
       "        (lobf): LOB(\n",
       "          (sig): Sigmoid()\n",
       "        )\n",
       "      )\n",
       "    )\n",
       "  )\n",
       ")>"
      ]
     },
     "execution_count": 7,
     "metadata": {},
     "output_type": "execute_result"
    }
   ],
   "source": [
    "dscf.named_parameters"
   ]
  },
  {
   "cell_type": "code",
   "execution_count": null,
   "metadata": {
    "scrolled": true
   },
   "outputs": [
    {
     "name": "stdout",
     "output_type": "stream",
     "text": [
      "0\n",
      "MOLECULE: H\n"
     ]
    },
    {
     "name": "stderr",
     "output_type": "stream",
     "text": [
      "/home/awills/anaconda3/envs/rsrch/lib/python3.7/site-packages/dpyscfl/scf.py:114: UserWarning: torch.symeig is deprecated in favor of torch.linalg.eigh and will be removed in a future PyTorch release.\n",
      "The default behavior has changed from using the upper triangular portion of the matrix by default to using the lower triangular portion.\n",
      "L, _ = torch.symeig(A, upper=upper)\n",
      "should be replaced with\n",
      "L = torch.linalg.eigvalsh(A, UPLO='U' if upper else 'L')\n",
      "and\n",
      "L, V = torch.symeig(A, eigenvectors=True)\n",
      "should be replaced with\n",
      "L, V = torch.linalg.eigh(A, UPLO='U' if upper else 'L') (Triggered internally at  ../aten/src/ATen/native/BatchLinearAlgebra.cpp:2524.)\n",
      "  e, c = torch.symeig(contract('ij,...jk,kl->...il',s_chol, h, s_chol.T), eigenvectors=True,upper=False)\n"
     ]
    },
    {
     "name": "stdout",
     "output_type": "stream",
     "text": [
      "MOLECULE: He\n",
      "fail\n",
      "MOLECULE: Li\n",
      "MOLECULE: Be\n",
      "MOLECULE: B\n",
      "MOLECULE: C\n",
      "MOLECULE: N\n",
      "MOLECULE: O\n",
      "MOLECULE: F\n",
      "MOLECULE: Ne\n",
      "MOLECULE: Na\n",
      "MOLECULE: Mg\n",
      "MOLECULE: Al\n",
      "MOLECULE: Si\n",
      "MOLECULE: P\n",
      "MOLECULE: S\n",
      "MOLECULE: Cl\n",
      "MOLECULE: Ar\n",
      "tensor(0.5163, grad_fn=<MseLossBackward0>)\n",
      "Zeroing Gradient\n",
      "Loss Backprop\n",
      "Updating Parameters\n",
      "1\n",
      "MOLECULE: H\n",
      "MOLECULE: He\n",
      "fail\n",
      "MOLECULE: Li\n",
      "MOLECULE: Be\n",
      "MOLECULE: B\n",
      "MOLECULE: C\n",
      "MOLECULE: N\n",
      "MOLECULE: O\n",
      "MOLECULE: F\n",
      "MOLECULE: Ne\n",
      "MOLECULE: Na\n",
      "MOLECULE: Mg\n",
      "MOLECULE: Al\n",
      "MOLECULE: Si\n",
      "MOLECULE: P\n",
      "MOLECULE: S\n",
      "MOLECULE: Cl\n",
      "MOLECULE: Ar\n",
      "tensor(0.5163, grad_fn=<MseLossBackward0>)\n",
      "Zeroing Gradient\n",
      "Loss Backprop\n",
      "Updating Parameters\n",
      "2\n",
      "MOLECULE: H\n",
      "MOLECULE: He\n",
      "fail\n",
      "MOLECULE: Li\n",
      "MOLECULE: Be\n"
     ]
    }
   ],
   "source": [
    "for step in range(10):\n",
    "    print(step)\n",
    "    E_pred = []\n",
    "    i=0\n",
    "    fails = []\n",
    "    for data in dloader:\n",
    "        print('MOLECULE: {}'.format(list(moldct.keys())[i]))\n",
    "        try:\n",
    "            output = dscf.forward(*data)\n",
    "            E_pred.append(output['E'][-1])\n",
    "        except RuntimeError:\n",
    "            print('fail')\n",
    "            fails.append(i)\n",
    "        i+=1\n",
    "    E_pred = torch.stack(E_pred)\n",
    "    E_ref = torch.Tensor([E_target[i] for i in range(len(E_target)) if i not in fails])\n",
    "    lossv = loss(E_pred, E_ref)\n",
    "    print(lossv)\n",
    "    print(\"Zeroing Gradient\")\n",
    "    optimizer.zero_grad()\n",
    "    print(\"Loss Backprop\")\n",
    "    lossv.backward()\n",
    "    print(\"Updating Parameters\")\n",
    "    optimizer.step()\n"
   ]
  },
  {
   "cell_type": "code",
   "execution_count": 63,
   "metadata": {},
   "outputs": [
    {
     "data": {
      "text/plain": [
       "<bound method Module.parameters of SCF(\n",
       "  (get_veff): get_veff(\n",
       "    (model): XC(\n",
       "      (heg_model): LDA_X()\n",
       "      (pw_model): PW_C()\n",
       "    )\n",
       "  )\n",
       "  (eig): eig()\n",
       "  (energy_tot): energy_tot()\n",
       "  (make_rdm1): make_rdm1()\n",
       "  (xc): XC(\n",
       "    (heg_model): LDA_X()\n",
       "    (pw_model): PW_C()\n",
       "  )\n",
       ")>"
      ]
     },
     "execution_count": 63,
     "metadata": {},
     "output_type": "execute_result"
    }
   ],
   "source": [
    "dscf.parameters"
   ]
  },
  {
   "cell_type": "code",
   "execution_count": 44,
   "metadata": {},
   "outputs": [
    {
     "data": {
      "text/plain": [
       "tensor([-4.7855e-01, -7.3415e+00, -1.4444e+01, -2.4351e+01, -5.4069e+01,\n",
       "        -9.9096e+01, -1.2821e+02, -1.6143e+02, -1.9912e+02, -2.4131e+02,\n",
       "        -3.3996e+02, -5.2592e+02], grad_fn=<StackBackward0>)"
      ]
     },
     "execution_count": 44,
     "metadata": {},
     "output_type": "execute_result"
    }
   ],
   "source": [
    "torch.stack(E_pred)"
   ]
  },
  {
   "cell_type": "code",
   "execution_count": 41,
   "metadata": {
    "scrolled": true
   },
   "outputs": [
    {
     "data": {
      "text/plain": [
       "[1, 5, 7, 13, 15, 16]"
      ]
     },
     "execution_count": 41,
     "metadata": {},
     "output_type": "execute_result"
    }
   ],
   "source": [
    "fails"
   ]
  },
  {
   "cell_type": "code",
   "execution_count": 7,
   "metadata": {},
   "outputs": [],
   "source": [
    "traj = read('/home/awills/Documents/Research/xcdiff/data/haunschild_pbe.traj', ':')"
   ]
  },
  {
   "cell_type": "code",
   "execution_count": 3,
   "metadata": {},
   "outputs": [],
   "source": [
    "[(i.get_chemical_formula(), i.info) for i in traj]\n",
    "mols = [gto.M(atom=[[ispec,ipos] for ispec,ipos in zip(iat.get_chemical_formula(), iat.positions)], spin=None, charge=0) for iat in traj[:2]]"
   ]
  },
  {
   "cell_type": "code",
   "execution_count": 4,
   "metadata": {
    "scrolled": true
   },
   "outputs": [
    {
     "data": {
      "text/plain": [
       "1"
      ]
     },
     "execution_count": 4,
     "metadata": {},
     "output_type": "execute_result"
    }
   ],
   "source": [
    "mols[0].spin"
   ]
  },
  {
   "cell_type": "markdown",
   "metadata": {},
   "source": [
    "# KSPies for Wu-Yang Decomposition, Fractional Charge Generation"
   ]
  },
  {
   "cell_type": "code",
   "execution_count": 14,
   "metadata": {},
   "outputs": [
    {
     "name": "stdout",
     "output_type": "stream",
     "text": [
      "\n",
      "WARN: Found fractional number of electrons 10.500000. Round it to 10\n",
      "\n",
      "<pyscf.scf.uhf.UHF object at 0x7faab0c09450> <pyscf.scf.hf.RHF object at 0x7faac3173890>\n",
      "converged SCF energy = -160.854064685781  <S^2> = 0.75003623  2S+1 = 2.0000362\n",
      "converged SCF energy = -160.6737462472\n",
      "(2, 13, 13) (13, 13)\n",
      " *****Optimization Failed*****\n",
      "      after 5200 iterations \n",
      "func_value : -152193126.61023265\n",
      "max_grad   :      3.28860071\n",
      "(2, 13, 13) (13, 13)\n"
     ]
    }
   ],
   "source": [
    "mol = gto.M(atom='Na 0 0 0', basis='3-21G', spin=None)\n",
    "molp = gto.M(atom='Na 0 0 0', basis='3-21G', charge=1, spin=None)\n",
    "molh = gto.M(atom='Na 0 0 0', basis='3-21G', charge=0.5, spin=None)\n",
    "mf = scf.HF(mol)\n",
    "mfp = scf.HF(molp)\n",
    "print(mf, mfp)\n",
    "mf.kernel()\n",
    "mfp.kernel()\n",
    "e0 = mf.energy_tot()\n",
    "ep = mfp.energy_tot()\n",
    "dm = mf.make_rdm1()\n",
    "dmp = mfp.make_rdm1()\n",
    "print(dm.shape, dmp.shape)\n",
    "wy0 = wy.UWY(mol, dm)\n",
    "wyp = wy.RWY(molp, dmp)\n",
    "#wy0.wyscf()\n",
    "#wyp.wyscf()\n",
    "wyh = wy.UWY(mol, (1-0.5)*dm+0.5*dmp )\n",
    "wyh.wyscf()\n",
    "wyh.info()\n",
    "\n",
    "#wyh = zmp.UZMP(mol, (1-0.5)*dm+0.5*dmp )\n",
    "#for l in [ 8, 16, 32, 64, 128, 256, 512 ]:\n",
    "#    wyh.level_shift = l*0.1\n",
    "#    wyh.zscf(l)\n",
    "#    print(wyh.converged)\n",
    "#wy0.info()\n",
    "#wyp.info()\n",
    "#dmwy = wy0.dm\n",
    "#dmwyp = wyp.dm\n",
    "#print(dmwy.shape, dmwyp.shape)"
   ]
  },
  {
   "cell_type": "code",
   "execution_count": 26,
   "metadata": {},
   "outputs": [],
   "source": [
    "ind = np.where(wyh.mo_occ[0]-wyh.mo_occ[1])\n",
    "wyh.mo_occ[1, ind] = 0.5\n",
    "wyh.mo_occ\n",
    "wyh.wyscf()\n",
    "mol.intor??"
   ]
  },
  {
   "cell_type": "code",
   "execution_count": 29,
   "metadata": {},
   "outputs": [
    {
     "name": "stdout",
     "output_type": "stream",
     "text": [
      "74.7851944955926\n",
      "74.7851944955926\n"
     ]
    }
   ],
   "source": [
    "print(mol.intor('int1e_kin').sum())\n",
    "print(molp.intor('int1e_kin').sum())"
   ]
  },
  {
   "cell_type": "code",
   "execution_count": 7,
   "metadata": {},
   "outputs": [
    {
     "data": {
      "text/plain": [
       "(array([[1., 1., 1., 1., 1., 1., 0., 0., 0., 0., 0., 0., 0.],\n",
       "        [1., 1., 1., 1., 1., 0., 0., 0., 0., 0., 0., 0., 0.]]),\n",
       " array([2., 2., 2., 2., 2., 0., 0., 0., 0., 0., 0., 0., 0.]),\n",
       " array([[1., 1., 1., 1., 1., 1., 0., 0., 0., 0., 0., 0., 0.],\n",
       "        [1., 1., 1., 1., 1., 0., 0., 0., 0., 0., 0., 0., 0.]]))"
      ]
     },
     "execution_count": 7,
     "metadata": {},
     "output_type": "execute_result"
    }
   ],
   "source": [
    "mf.mo_occ, mfp.mo_occ, wyh.mo_occ"
   ]
  },
  {
   "cell_type": "code",
   "execution_count": 31,
   "metadata": {},
   "outputs": [
    {
     "data": {
      "text/plain": [
       "((2, 13), (13,))"
      ]
     },
     "execution_count": 31,
     "metadata": {},
     "output_type": "execute_result"
    }
   ],
   "source": [
    "mf.mo_energy.shape, mfp.mo_energy.shape"
   ]
  },
  {
   "cell_type": "code",
   "execution_count": 9,
   "metadata": {},
   "outputs": [
    {
     "data": {
      "text/plain": [
       "[<matplotlib.lines.Line2D at 0x7fca24cabd10>]"
      ]
     },
     "execution_count": 9,
     "metadata": {},
     "output_type": "execute_result"
    },
    {
     "data": {
      "image/png": "[encoded data removed]",
      "text/plain": [
       "<Figure size 432x288 with 1 Axes>"
      ]
     },
     "metadata": {
      "needs_background": "light"
     },
     "output_type": "display_data"
    }
   ],
   "source": [
    "def fractional_energy(e0, ec, f, zero=False):\n",
    "    return (1-f)*e0 + f*ec\n",
    "def fractional_dm(dm0, dmc, f):\n",
    "    return (1-f)*dm0 + f*dmc\n",
    "f = plt.figure()\n",
    "ax = f.add_subplot(111)\n",
    "fs = np.linspace(0, 1, 100)\n",
    "ax.plot(fs, fractional_energy(e0, ep, fs))"
   ]
  },
  {
   "cell_type": "code",
   "execution_count": 52,
   "metadata": {},
   "outputs": [
    {
     "name": "stdout",
     "output_type": "stream",
     "text": [
      "****Optimization Completed****\n",
      "      after 3 scf cycles \n",
      "      and 8 iterations \n",
      "max(ddm)   :      0.00000095\n",
      "func_value :   -160.26527030\n",
      "max_grad   :      0.00000039\n"
     ]
    }
   ],
   "source": [
    "wyh = wy.UWY(mol, 0.5*dm+0.5*dmp)\n",
    "wyh.wyscf()\n",
    "wyh.info()"
   ]
  },
  {
   "cell_type": "code",
   "execution_count": null,
   "metadata": {},
   "outputs": [],
   "source": []
  },
  {
   "cell_type": "markdown",
   "metadata": {},
   "source": [
    "### 1. Define the xc model\n",
    "\n",
    "Here we use a simple LDA model (`level = 1`), by choosing `heg_mult = True` (for homogeneous electron gas exchange) and `pw_mult = True` (for Perdew Wang HEG correlation), without any enhancement factors (`grid_models = []`). No Hartree-Fock exact exchange is used `exx_a=None`."
   ]
  },
  {
   "cell_type": "code",
   "execution_count": 8,
   "metadata": {},
   "outputs": [],
   "source": [
    "#c = C_L(n_input=3) #3 for gga\n",
    "#x = X_L(n_input=3) #3 for GGA\n",
    "\n",
    "#xc = XC(grid_models = [c], heg_mult=False, pw_mult=False, level=2, exx_a=1)\n",
    "#xc = XC(grid_models = [x], heg_mult=False, pw_mult=False, level=2, exx_a=None)\n",
    "\n",
    "#xc = XC(grid_models = [x,c], heg_mult=False, pw_mult=False, level=2, exx_a=None)\n",
    "\n",
    "xc = XC(grid_models = [], heg_mult=True, pw_mult=True, level=1, exx_a=None)"
   ]
  },
  {
   "cell_type": "markdown",
   "metadata": {},
   "source": [
    "Create the object that runs the SCF calculation"
   ]
  },
  {
   "cell_type": "code",
   "execution_count": 9,
   "metadata": {},
   "outputs": [],
   "source": [
    "alpha_init = 0.8\n",
    "alpha = torch.nn.Parameter(torch.Tensor([alpha_init]))\n",
    "dscf = SCF(alpha=alpha, nsteps=10, xc=xc, device='cpu', exx=False)"
   ]
  },
  {
   "cell_type": "markdown",
   "metadata": {},
   "source": [
    "### 2. Create a molecule with pyscf\n",
    "\n",
    "This computes all overlap integrals and other information that will be used by our differentiable implementation"
   ]
  },
  {
   "cell_type": "code",
   "execution_count": 20,
   "metadata": {},
   "outputs": [
    {
     "name": "stdout",
     "output_type": "stream",
     "text": [
      "converged SCF energy = -1.1074945503839\n"
     ]
    }
   ],
   "source": [
    "mol2 = gto.M(atom='H 0 0 0', basis='3-21G', spin=None)\n",
    "mol = gto.M(atom='H 0 0 0; H 0 0 1', basis='3-21G')\n",
    "mf = scf.RKS(mol)\n",
    "mf.grids.level = 1\n",
    "mf.grids.build()\n",
    "mf.kernel()\n",
    "E_converged = mf.e_tot"
   ]
  },
  {
   "cell_type": "markdown",
   "metadata": {},
   "source": [
    "### 3. Create input data structures"
   ]
  },
  {
   "cell_type": "code",
   "execution_count": 51,
   "metadata": {},
   "outputs": [],
   "source": [
    "# * The marked lines are just workarounds because we are only dealing with one system in this tutorial and both Dataset and DataLoader are designed \n",
    "# to deal with multiple data points \n",
    "\n",
    "matrices = get_datapoint(mol, mf)\n",
    "matrices = {key: [val] for key,val in matrices.items()} # *\n",
    "dset = Dataset(**matrices)\n",
    "dloader = DataLoader(dset, batch_size = 1)\n",
    "inputs = next(iter(dloader)) # *"
   ]
  },
  {
   "cell_type": "markdown",
   "metadata": {},
   "source": [
    "### 4. Run the calculation"
   ]
  },
  {
   "cell_type": "code",
   "execution_count": 52,
   "metadata": {},
   "outputs": [],
   "source": [
    "output = dscf.forward(*inputs)"
   ]
  },
  {
   "cell_type": "code",
   "execution_count": 37,
   "metadata": {},
   "outputs": [
    {
     "data": {
      "text/plain": [
       "{'E': tensor([-0.1824, -0.4248, -0.4077, -0.4072, -0.4071, -0.4071, -0.4071, -0.4071,\n",
       "         -0.4071, -0.4071], grad_fn=<CatBackward0>),\n",
       " 'dm': tensor([[0.0608, 0.1484, 0.0608, 0.1484],\n",
       "         [0.1484, 0.3623, 0.1484, 0.3623],\n",
       "         [0.0608, 0.1484, 0.0608, 0.1484],\n",
       "         [0.1484, 0.3623, 0.1484, 0.3623]], grad_fn=<PermuteBackward0>),\n",
       " 'mo_energy': tensor([0.0613, 0.3411, 1.1934, 1.4133], grad_fn=<SymeigBackward0>)}"
      ]
     },
     "execution_count": 37,
     "metadata": {},
     "output_type": "execute_result"
    }
   ],
   "source": [
    "output"
   ]
  },
  {
   "cell_type": "markdown",
   "metadata": {},
   "source": [
    "## 5. Calculate the loss"
   ]
  },
  {
   "cell_type": "code",
   "execution_count": 38,
   "metadata": {},
   "outputs": [
    {
     "data": {
      "text/plain": [
       "tensor([-1.1075])"
      ]
     },
     "execution_count": 38,
     "metadata": {},
     "output_type": "execute_result"
    }
   ],
   "source": [
    "E_converged_t = torch.Tensor([E_converged])\n",
    "\n",
    "E_converged_t"
   ]
  },
  {
   "cell_type": "markdown",
   "metadata": {},
   "source": [
    "Mean squared error loss:"
   ]
  },
  {
   "cell_type": "code",
   "execution_count": 39,
   "metadata": {},
   "outputs": [
    {
     "data": {
      "text/plain": [
       "tensor(5.2453, grad_fn=<SumBackward0>)"
      ]
     },
     "execution_count": 39,
     "metadata": {},
     "output_type": "execute_result"
    }
   ],
   "source": [
    "torch.sum((output['E'] - E_converged_t)**2)"
   ]
  },
  {
   "cell_type": "markdown",
   "metadata": {},
   "source": [
    "PyTorch-native MSE loss "
   ]
  },
  {
   "cell_type": "code",
   "execution_count": 40,
   "metadata": {},
   "outputs": [
    {
     "data": {
      "text/plain": [
       "tensor(0.5245, grad_fn=<MseLossBackward0>)"
      ]
     },
     "execution_count": 40,
     "metadata": {},
     "output_type": "execute_result"
    }
   ],
   "source": [
    "loss = torch.nn.MSELoss()\n",
    "loss_value = loss(output['E'], E_converged_t.repeat(10))\n",
    "loss_value"
   ]
  },
  {
   "cell_type": "markdown",
   "metadata": {},
   "source": [
    "Calculate gradients with backprop"
   ]
  },
  {
   "cell_type": "code",
   "execution_count": 41,
   "metadata": {},
   "outputs": [],
   "source": [
    "loss_value.backward()"
   ]
  },
  {
   "cell_type": "code",
   "execution_count": 42,
   "metadata": {},
   "outputs": [
    {
     "data": {
      "text/plain": [
       "tensor([-0.0233])"
      ]
     },
     "execution_count": 42,
     "metadata": {},
     "output_type": "execute_result"
    }
   ],
   "source": [
    "alpha.grad"
   ]
  },
  {
   "cell_type": "markdown",
   "metadata": {},
   "source": [
    "Optimizer"
   ]
  },
  {
   "cell_type": "code",
   "execution_count": 43,
   "metadata": {},
   "outputs": [],
   "source": [
    "opt = torch.optim.SGD([alpha], lr=0.001)\n",
    "opt.step()"
   ]
  },
  {
   "cell_type": "code",
   "execution_count": 44,
   "metadata": {},
   "outputs": [
    {
     "name": "stdout",
     "output_type": "stream",
     "text": [
      "Old alpha: 0.8\n",
      "New alpha: 0.8000232706344446\n"
     ]
    }
   ],
   "source": [
    "print('Old alpha:', alpha_init)\n",
    "print('New alpha:', alpha.detach().numpy()[0])"
   ]
  },
  {
   "cell_type": "code",
   "execution_count": 58,
   "metadata": {
    "scrolled": true
   },
   "outputs": [
    {
     "name": "stdout",
     "output_type": "stream",
     "text": [
      "0\n",
      "1\n",
      "2\n",
      "3\n",
      "4\n",
      "5\n",
      "6\n",
      "7\n",
      "8\n",
      "9\n",
      "10\n",
      "11\n",
      "12\n",
      "13\n",
      "14\n",
      "15\n",
      "16\n",
      "17\n",
      "18\n",
      "19\n",
      "20\n",
      "21\n",
      "22\n",
      "23\n",
      "24\n",
      "25\n",
      "26\n",
      "27\n",
      "28\n",
      "29\n",
      "30\n",
      "31\n",
      "32\n",
      "33\n",
      "34\n",
      "35\n",
      "36\n",
      "37\n",
      "38\n",
      "39\n",
      "40\n",
      "41\n",
      "42\n",
      "43\n",
      "44\n",
      "45\n",
      "46\n",
      "47\n",
      "48\n",
      "49\n"
     ]
    }
   ],
   "source": [
    "loss = torch.nn.MSELoss()\n",
    "opt = torch.optim.SGD([alpha], lr=0.001)\n",
    "\n",
    "for i in range(50):\n",
    "    print(i)\n",
    "    ioutput = dscf.forward(*inputs)\n",
    "    loss_value = loss(ioutput['E'], E_converged_t.repeat(10))\n",
    "    loss_value.backward()\n",
    "    opt.step()"
   ]
  },
  {
   "cell_type": "code",
   "execution_count": 59,
   "metadata": {},
   "outputs": [
    {
     "name": "stdout",
     "output_type": "stream",
     "text": [
      "0.8 Parameter containing:\n",
      "tensor([0.8672], requires_grad=True)\n"
     ]
    }
   ],
   "source": [
    "print(alpha_init, alpha)"
   ]
  },
  {
   "cell_type": "code",
   "execution_count": 60,
   "metadata": {},
   "outputs": [
    {
     "data": {
      "text/plain": [
       "tensor(0.5233, grad_fn=<MseLossBackward0>)"
      ]
     },
     "execution_count": 60,
     "metadata": {},
     "output_type": "execute_result"
    }
   ],
   "source": [
    "loss_value"
   ]
  },
  {
   "cell_type": "code",
   "execution_count": null,
   "metadata": {},
   "outputs": [],
   "source": []
  }
 ],
 "metadata": {
  "kernelspec": {
   "display_name": "Python 3 (ipykernel)",
   "language": "python",
   "name": "python3"
  },
  "language_info": {
   "codemirror_mode": {
    "name": "ipython",
    "version": 3
   },
   "file_extension": ".py",
   "mimetype": "text/x-python",
   "name": "python",
   "nbconvert_exporter": "python",
   "pygments_lexer": "ipython3",
   "version": "3.7.11"
  }
 },
 "nbformat": 4,
 "nbformat_minor": 4
}
