{
 "cells": [
  {
   "cell_type": "code",
   "execution_count": 1,
   "id": "c4d9d6fe",
   "metadata": {},
   "outputs": [],
   "source": [
    "from torch.utils.data import DataLoader \n",
    "import torch\n",
    "import matplotlib.pyplot as plt\n",
    "from pyscf import gto, dft, scf \n",
    "from kspies import wy, zmp\n",
    "from dpyscfl.scf import *\n",
    "from dpyscfl.net import *\n",
    "from dpyscfl.utils import *\n",
    "from dpyscfl.losses import *\n",
    "import os, shutil, copy\n",
    "from ase import Atoms\n",
    "from ase.units import Bohr, Hartree\n",
    "import pickle\n",
    "import pandas as pd\n",
    "from ase.io import read, write\n",
    "from torchviz import make_dot\n",
    "import pylibnxc"
   ]
  },
  {
   "cell_type": "markdown",
   "id": "06d6c8d3",
   "metadata": {},
   "source": [
    "Most molecules trained are from [G2/97](https://doi.org/10.1063/1.473182) dataset.\n",
    "\n",
    "## 10 Linear Closed-Shell Molecules\n",
    "- $\\mathrm{H_2}$\n",
    "- $\\mathrm{N_2}$\n",
    "- $\\mathrm{LiF}$\n",
    "- $\\mathrm{CNH}$\n",
    "- $\\mathrm{CO_2}$\n",
    "- $\\mathrm{F_2}$\n",
    "- $\\mathrm{C_2H_2}$\n",
    "- $\\mathrm{OC}$\n",
    "- $\\mathrm{LiH}$\n",
    "- $\\mathrm{Na_2}$\n",
    "\n",
    "RKS may be used since closed-shell.\n",
    "\n",
    "## 3 Linear Open-Shell Molecules\n",
    "- $\\mathrm{NO}$\n",
    "- $\\mathrm{CH}$\n",
    "- $\\mathrm{OH}$\n",
    "\n",
    "UKS should be used, open-shell.\n",
    "\n",
    "## 8 Non-Linear Closed-Shell Molecules\n",
    "- $\\mathrm{NO_2}$\n",
    "- $\\mathrm{NH}$\n",
    "- $\\mathrm{O_3}$\n",
    "- $\\mathrm{N_2O}$\n",
    "- $\\mathrm{CH_3}$\n",
    "- $\\mathrm{CH_2}$\n",
    "- $\\mathrm{H_2O}$\n",
    "- $\\mathrm{NH_3}$\n",
    "\n",
    "## 2 Ionization Potentials\n",
    "- $\\mathrm{Li} \\to \\mathrm{Li}^+$\n",
    "- $\\mathrm{C} \\to \\mathrm{C}^+$\n",
    "\n",
    "## 3 Reaction Barrier Heights (from [BH76](https://pubs.acs.org/doi/10.1021/jp045141s))\n",
    "- $\\mathrm{OH} + \\mathrm{N_2}\\to \\mathrm{H}+\\mathrm{N_2O}$\n",
    "- $\\mathrm{OH} + \\mathrm{CH_3}\\to\\mathrm{O}+\\mathrm{CH_4}$\n",
    "- $\\mathrm{HF} + \\mathrm{F} \\to \\mathrm{H} + \\mathrm{F_2}$"
   ]
  },
  {
   "cell_type": "markdown",
   "id": "d0699c9e",
   "metadata": {},
   "source": [
    "## 10 Validation Choices: 8 Atomization Energies, 2 Barrier Heights\n",
    "- $\\mathrm{C_2H_2}$\n",
    "- $\\mathrm{BeH}$\n",
    "- $\\mathrm{NO_2}$\n",
    "- $\\mathrm{S_2}$\n",
    "- $\\mathrm{CH_4}$\n",
    "- $\\mathrm{PF_3}$\n",
    "- $\\mathrm{CH_2}$\n",
    "- $\\mathrm{C_2H_4O_2}$\n",
    "- $\\mathrm{N_2O} + \\mathrm{H} \\to \\mathrm{OH} + \\mathrm{N_2}$\n",
    "- $\\mathrm{OH} + \\mathrm{Cl} \\to \\mathrm{O} + \\mathrm{HCl}$"
   ]
  },
  {
   "cell_type": "markdown",
   "id": "5c7e5d42",
   "metadata": {},
   "source": [
    "## Haunschild G2/97 Reference Energies\n",
    "\n",
    "These have been calculated (scraped) from tables in the [Haunschild 2012](https://aip.scitation.org/doi/10.1063/1.4704796) paper, and stored in `../data/haunschild_g2/g2_97.traj`."
   ]
  },
  {
   "cell_type": "code",
   "execution_count": 2,
   "id": "bd3cbf99",
   "metadata": {
    "scrolled": true
   },
   "outputs": [
    {
     "name": "stderr",
     "output_type": "stream",
     "text": [
      "/home/awills/anaconda3/envs/rsrch/lib/python3.7/site-packages/ase/io/jsonio.py:58: VisibleDeprecationWarning: Creating an ndarray from ragged nested sequences (which is a list-or-tuple of lists-or-tuples-or ndarrays with different lengths or shapes) is deprecated. If you meant to do this, you must specify 'dtype=object' when creating the ndarray.\n",
      "  a = np.array(obj)\n"
     ]
    }
   ],
   "source": [
    "datapath = '/home/awills/Documents/Research/dpyscfl/data/haunschild_g2/g2_97.traj'\n",
    "g297ref = read(datapath, ':')\n",
    "g297mol = [ase_atoms_to_mol(atom) for atom in g297ref]"
   ]
  },
  {
   "cell_type": "code",
   "execution_count": 3,
   "id": "8fbdbfeb",
   "metadata": {},
   "outputs": [
    {
     "name": "stdout",
     "output_type": "stream",
     "text": [
      "0 OC CO 11.271868661369064 True\n",
      "2 H2 H2 4.7440371124327285 True\n",
      "11 CO2 CO2 16.934698271599974 True\n",
      "15 OH2 H2O 10.1045409791693 True\n",
      "18 CNH CHN 13.58724648435963 True\n",
      "21 N2O N2O 11.74997241685051 True\n",
      "23 NO2 NO2 9.888549601232311 False\n",
      "25 LiF FLi 6.052629788935811 True\n",
      "26 LiH HLi 2.510951589865373 True\n",
      "29 Na2 Na2 0.7439472700727967 True\n",
      "58 NH3 H3N 12.913776247394873 True\n",
      "83 NO NO 6.625670253721614 True\n",
      "84 NH HN 3.5966088278164094 False\n",
      "101 C2H2 C2H2 17.575624702100136 True\n",
      "105 CH2 CH2 7.850415989365281 False\n",
      "106 CH2 CH2 8.262706633047307 False\n",
      "107 OH HO 4.646302050343198 True\n",
      "108 CH CH 3.644077182468589 True\n",
      "113 N2 N2 9.906376144900815 True\n",
      "114 F2 F2 1.6822245946714354 True\n",
      "116 CH3 CH3 13.340991439264483 False\n",
      "144 O3 O3 6.382109918715892 True\n"
     ]
    }
   ],
   "source": [
    "train_formulas = ['H2', 'N2', 'LiF', 'CNH', 'CO2', 'F2', 'C2H2', 'OC', 'LiH', 'Na2', 'NO', 'CH', 'OH',\n",
    "                 'NO2', 'NH', 'O3', 'N2O', 'CH3', 'CH2', 'H2O', 'NH3']\n",
    "closed_formulas = ['H2', 'N2', 'LiF', 'CNH', 'CO2', 'F2', 'C2H2', 'OC', 'LiH', 'Na2',\n",
    "                  'NO2', 'NH', 'O3', 'N2O', 'CH3', 'CH2', 'H2O', 'NH3']\n",
    "open_formulas = ['NO', 'CH', 'OH']\n",
    "train_idcs = []\n",
    "for idx, atom in enumerate(g297ref):\n",
    "    symb = str(atom.symbols)\n",
    "    form = atom.get_chemical_formula()\n",
    "    if (symb in train_formulas) or (form in train_formulas):\n",
    "        #Does reference traj match expected shell occupation?\n",
    "        expected_shell = True if ( (symb in open_formulas) or (form in open_formulas) ) else False\n",
    "        oc = atom.info['openshell']\n",
    "        match = expected_shell == oc\n",
    "        print(idx, atom.symbols, atom.get_chemical_formula(), atom.calc.results['energy'], match)\n",
    "        train_idcs.append(idx)"
   ]
  },
  {
   "cell_type": "code",
   "execution_count": 5,
   "id": "aa285e4a",
   "metadata": {
    "scrolled": true
   },
   "outputs": [
    {
     "name": "stdout",
     "output_type": "stream",
     "text": [
      "21 22\n"
     ]
    }
   ],
   "source": [
    "print(len(train_formulas), len(train_idcs))"
   ]
  },
  {
   "cell_type": "code",
   "execution_count": 6,
   "id": "fba0f238",
   "metadata": {},
   "outputs": [
    {
     "name": "stdout",
     "output_type": "stream",
     "text": [
      "{'CH2': True, 'name': 'Singlet carbene', 'openshell': True} {'CH2': True, 'name': 'Triplet carbene', 'openshell': True}\n"
     ]
    }
   ],
   "source": [
    "print(g297ref[105].info , g297ref[106].info)"
   ]
  },
  {
   "cell_type": "markdown",
   "id": "1c340065",
   "metadata": {},
   "source": [
    "Methylene ($\\mathrm{CH_2}$) matches twice -- the singlet and triplet states. Since it is assumed to be closed-shell in training, we train on the singlet state."
   ]
  },
  {
   "cell_type": "code",
   "execution_count": 7,
   "id": "2acb6290",
   "metadata": {},
   "outputs": [],
   "source": [
    "train_idcs = [i for i in train_idcs if i != 106]"
   ]
  },
  {
   "cell_type": "code",
   "execution_count": 8,
   "id": "9f7e7058",
   "metadata": {
    "scrolled": false
   },
   "outputs": [
    {
     "name": "stdout",
     "output_type": "stream",
     "text": [
      "{'CO': True, 'name': 'Carbon monoxide', 'openshell': False} 0\n",
      "{'H2': True, 'name': 'Dihydrogen', 'openshell': False} 0\n",
      "{'CO2': True, 'name': 'Carbon dioxide', 'openshell': False} 0\n",
      "{'H2O': True, 'name': 'Water', 'openshell': False} 0\n",
      "{'CNH': True, 'name': 'Hydrogen cyanide', 'openshell': False} 0\n",
      "{'N2O': True, 'name': 'Nitrous oxide', 'openshell': False} 0\n",
      "{'NO2': True, 'name': 'Nitrogen dioxide', 'openshell': True} 1\n",
      "{'LiF': True, 'name': 'Lithium fluoride', 'openshell': False} 0\n",
      "{'LiH': True, 'name': 'Lithium hydride', 'openshell': False} 0\n",
      "{'Na2': True, 'name': 'Disodium', 'openshell': False} 0\n",
      "{'NH3': True, 'name': 'Ammonia', 'openshell': False} 0\n",
      "{'NO': True, 'name': 'Nitric oxide', 'openshell': True} 1\n",
      "{'NH': True, 'name': 'Imidogen', 'openshell': True} 0\n",
      "{'C2H2': True, 'name': 'Acetylene', 'openshell': False} 0\n",
      "{'CH2': True, 'name': 'Singlet carbene', 'openshell': True} 0\n",
      "{'HO': True, 'name': 'Hydroxyl radical', 'openshell': True} 1\n",
      "{'CH': True, 'name': 'Methylidyne radical', 'openshell': True} 1\n",
      "{'N2': True, 'name': 'Dinitrogen', 'openshell': False} 0\n",
      "{'F2': True, 'name': 'Difluorine', 'openshell': False} 0\n",
      "{'CH3': True, 'name': 'Methyl radical', 'openshell': True} 1\n",
      "{'O3': True, 'name': 'Ozone', 'openshell': False} 0\n"
     ]
    }
   ],
   "source": [
    "for idx in train_idcs:\n",
    "    print(g297ref[idx].info, g297mol[idx][1].spin)"
   ]
  },
  {
   "cell_type": "markdown",
   "id": "baaee28b",
   "metadata": {},
   "source": [
    "## BH76 reactions coded in specific way."
   ]
  },
  {
   "cell_type": "code",
   "execution_count": 3,
   "id": "3a4565bc",
   "metadata": {},
   "outputs": [],
   "source": [
    "rxn = read('/home/awills/Documents/Research/xcdiff/data/haunschild_scan_reaction.traj', ':')\n",
    "scan = read('/home/awills/Documents/Research/xcdiff/data/haunschild_scan.traj', ':')"
   ]
  },
  {
   "cell_type": "code",
   "execution_count": 5,
   "id": "17c0beac",
   "metadata": {
    "scrolled": true
   },
   "outputs": [
    {
     "name": "stdout",
     "output_type": "stream",
     "text": [
      "H2 SinglePointCalculator(energy=4.7440371124327285) {'H2': True, 'name': 'Dihydrogen', 'n_rad': 2, 'n_ang': 10, 'pol': False}\n",
      "N2 SinglePointCalculator(energy=9.906376144900815) {'N2': True, 'name': 'Dinitrogen', 'n_rad': 6, 'n_ang': 10, 'pol': False}\n",
      "FLi SinglePointCalculator(energy=6.052629788935811) {'LiF': True, 'name': 'Lithium fluoride', 'n_rad': 3, 'n_ang': 15, 'pol': False}\n",
      "CHN SinglePointCalculator(energy=13.58724648435963) {'CNH': True, 'name': 'Hydrogen cyanide', 'n_rad': 2, 'n_ang': 8, 'spin': 0, 'pol': False}\n",
      "CO2 SinglePointCalculator(energy=16.934698271599974) {'CO2': True, 'name': 'Carbon dioxide', 'n_rad': 7, 'n_ang': 12}\n",
      "Cl2 SinglePointCalculator(energy=2.5726189938349067) {'Cl2': True, 'name': 'Dichlorine', 'n_rad': 3, 'n_ang': 20, 'spin': 0, 'pol': True}\n",
      "F2 SinglePointCalculator(energy=1.6822245946714354) {'F2': True, 'name': 'Difluorine', 'n_rad': 8, 'n_ang': 20, 'spin': 0, 'pol': True}\n",
      "O2 SinglePointCalculator(energy=5.24307669245509) {'O2': True, 'name': 'Dioxygen', 'n_rad': 3, 'n_ang': 10}\n",
      "C2H2 SinglePointCalculator(energy=17.575624702100136) {'C2H2': True, 'name': 'Acetylene', 'n_rad': 3, 'n_ang': 10}\n",
      "CO SinglePointCalculator(energy=11.271868661369064) {'CO': True, 'name': 'Carbon monoxide', 'n_rad': 7, 'n_ang': 15}\n",
      "HCl SinglePointCalculator(energy=4.659568315398828) {'HCl': True, 'name': 'Hydrogen chloride', 'n_rad': 3, 'n_ang': 10}\n",
      "HLi SinglePointCalculator(energy=2.510951589865373) {'LiH': True, 'name': 'Lithium hydride', 'n_rad': 2, 'n_ang': 15}\n",
      "Na2 SinglePointCalculator(energy=0.7439472700727967) {'Na2': True, 'name': 'Disodium', 'n_rad': 5, 'n_ang': 10}\n",
      "NO None {'n_rad': 5, 'n_ang': 10, 'spin': 3, 'pol': False}\n"
     ]
    }
   ],
   "source": [
    "for at in rxn:\n",
    "    if not at.info.get('grid_level'):\n",
    "        print(at.get_chemical_formula(), at.calc, at.info)"
   ]
  },
  {
   "cell_type": "code",
   "execution_count": 7,
   "id": "0a5d577e",
   "metadata": {},
   "outputs": [],
   "source": [
    "for at in rxn:\n",
    "    if at.info.get('sym', False):\n",
    "        print(at.get_chemical_formula(), at.calc, at.info)"
   ]
  },
  {
   "cell_type": "markdown",
   "id": "46703141",
   "metadata": {},
   "source": [
    "`prep_data.py` has been run on these molecules, and on the charge/neutral atoms with mixing flagged. However, some are not needed in training -- O2, for instance."
   ]
  },
  {
   "cell_type": "code",
   "execution_count": 13,
   "id": "ac3aa4a9",
   "metadata": {},
   "outputs": [
    {
     "name": "stdout",
     "output_type": "stream",
     "text": [
      "Cl2 {'Cl2': True, 'name': 'Dichlorine', 'n_rad': 3, 'n_ang': 20, 'spin': 0, 'pol': True}\n",
      "O2 {'O2': True, 'name': 'Dioxygen', 'n_rad': 3, 'n_ang': 10}\n",
      "HCl {'HCl': True, 'name': 'Hydrogen chloride', 'n_rad': 3, 'n_ang': 10}\n",
      "C {'spin': 2, 'sym': False, 'grid_level': 4, 'basis': '6-311+G*', 'pol': False}\n",
      "Cl {'spin': 1, 'sym': False, 'grid_level': 5, 'basis': '6-311+G*', 'pol': False}\n",
      "F {'spin': 1, 'sym': False, 'grid_level': 4, 'basis': '6-311+G*', 'pol': False}\n",
      "H {'spin': 1, 'sym': False, 'grid_level': 1, 'basis': '6-311+G', 'pol': False}\n",
      "Li {'spin': 1, 'sym': False, 'grid_level': 2, 'basis': '6-311+G', 'pol': False}\n",
      "N {'spin': 3, 'sym': False, 'grid_level': 3, 'basis': '6-311+G*', 'pol': False}\n",
      "Na {'spin': 1, 'sym': False, 'grid_level': 1, 'basis': '6-311+G*', 'pol': False}\n",
      "O {'spin': 2, 'sym': False, 'grid_level': 4, 'basis': '6-311++G(3df,2pd)', 'pol': False}\n",
      "H {'multiplicity': 2, 'grid_level': 1, 'sym': False, 'sc': False, 'reaction': 'reactant', 'reference_height': None, 'spin': 1}\n",
      "HN2O {'multiplicity': 2, 'grid_level': 1, 'sym': False, 'sc': False, 'reaction': 2, 'reference_height': 0.02890793008677891, 'spin': 1}\n",
      "HN2O {'multiplicity': 2, 'grid_level': 1, 'sym': False, 'sc': False, 'reaction': 2, 'reference_height': 0.13261951167705296, 'spin': 1}\n",
      "CH4O {'multiplicity': 3, 'grid_level': 1, 'sym': False, 'sc': False, 'reaction': 2, 'reference_height': 0.012908171648451443, 'spin': 2}\n",
      "HF {'grid_level': 1, 'sym': False, 'sc': False, 'reaction': 'reactant', 'reference_height': None, 'spin': 0}\n",
      "F {'multiplicity': 2, 'grid_level': 1, 'sym': False, 'sc': False, 'reaction': 'reactant', 'reference_height': None, 'spin': 1}\n",
      "HF2 {'multiplicity': 2, 'grid_level': 1, 'sym': False, 'sc': False, 'reaction': 2, 'reference_height': 0.16920860069537955, 'spin': 1}\n",
      "C {'spin': 1, 'grid_level': 1, 'sym': False, 'charge': 1, 'reaction': 'reactant', 'reference_height': None}\n",
      "C {'spin': 2, 'grid_level': 1, 'sym': False, 'charge': 0, 'reaction': 1, 'reference_height': -0.4138582934694864}\n",
      "Li {'spin': 0, 'grid_level': 1, 'sym': False, 'charge': 1, 'reaction': 'reactant', 'reference_height': None}\n",
      "Li {'spin': 1, 'grid_level': 1, 'sym': False, 'charge': 0, 'reaction': 1, 'reference_height': -0.19814840281092005}\n"
     ]
    }
   ],
   "source": [
    "for i,at in enumerate(rxn):\n",
    "    form = at.get_chemical_formula()\n",
    "    symb = str(at.symbols)\n",
    "    if (form not in train_formulas) and (symb not in train_formulas):\n",
    "        print(at.get_chemical_formula(), at.info)"
   ]
  },
  {
   "cell_type": "code",
   "execution_count": 10,
   "id": "68b408b5",
   "metadata": {},
   "outputs": [],
   "source": [
    "frac = read('/home/awills/Documents/Research/swxcd/aegis/fc0fcp/results.traj', ':')"
   ]
  },
  {
   "cell_type": "code",
   "execution_count": 6,
   "id": "1d45ceef",
   "metadata": {
    "scrolled": true
   },
   "outputs": [
    {
     "ename": "NameError",
     "evalue": "name 'frac' is not defined",
     "output_type": "error",
     "traceback": [
      "\u001b[0;31m---------------------------------------------------------------------------\u001b[0m",
      "\u001b[0;31mNameError\u001b[0m                                 Traceback (most recent call last)",
      "\u001b[0;32m/tmp/ipykernel_2099785/321453957.py\u001b[0m in \u001b[0;36m<module>\u001b[0;34m\u001b[0m\n\u001b[0;32m----> 1\u001b[0;31m \u001b[0;32mfor\u001b[0m \u001b[0mi\u001b[0m\u001b[0;34m,\u001b[0m\u001b[0mat\u001b[0m \u001b[0;32min\u001b[0m \u001b[0menumerate\u001b[0m\u001b[0;34m(\u001b[0m\u001b[0mfrac\u001b[0m\u001b[0;34m)\u001b[0m\u001b[0;34m:\u001b[0m\u001b[0;34m\u001b[0m\u001b[0;34m\u001b[0m\u001b[0m\n\u001b[0m\u001b[1;32m      2\u001b[0m     \u001b[0mform\u001b[0m \u001b[0;34m=\u001b[0m \u001b[0mat\u001b[0m\u001b[0;34m.\u001b[0m\u001b[0mget_chemical_formula\u001b[0m\u001b[0;34m(\u001b[0m\u001b[0;34m)\u001b[0m\u001b[0;34m\u001b[0m\u001b[0;34m\u001b[0m\u001b[0m\n\u001b[1;32m      3\u001b[0m     \u001b[0msymb\u001b[0m \u001b[0;34m=\u001b[0m \u001b[0mat\u001b[0m\u001b[0;34m.\u001b[0m\u001b[0msymbols\u001b[0m\u001b[0;34m\u001b[0m\u001b[0;34m\u001b[0m\u001b[0m\n\u001b[1;32m      4\u001b[0m     \u001b[0;32mif\u001b[0m \u001b[0;32mnot\u001b[0m \u001b[0;34m(\u001b[0m\u001b[0;34m(\u001b[0m\u001b[0mform\u001b[0m \u001b[0;32min\u001b[0m \u001b[0mtrain_formulas\u001b[0m\u001b[0;34m)\u001b[0m \u001b[0;32mor\u001b[0m \u001b[0;34m(\u001b[0m\u001b[0msymb\u001b[0m \u001b[0;32min\u001b[0m \u001b[0mtrain_formulas\u001b[0m\u001b[0;34m)\u001b[0m\u001b[0;34m)\u001b[0m\u001b[0;34m:\u001b[0m\u001b[0;34m\u001b[0m\u001b[0;34m\u001b[0m\u001b[0m\n\u001b[1;32m      5\u001b[0m         \u001b[0mprint\u001b[0m\u001b[0;34m(\u001b[0m\u001b[0mat\u001b[0m\u001b[0;34m.\u001b[0m\u001b[0mget_chemical_formula\u001b[0m\u001b[0;34m(\u001b[0m\u001b[0;34m)\u001b[0m\u001b[0;34m,\u001b[0m \u001b[0mat\u001b[0m\u001b[0;34m.\u001b[0m\u001b[0minfo\u001b[0m\u001b[0;34m)\u001b[0m\u001b[0;34m\u001b[0m\u001b[0;34m\u001b[0m\u001b[0m\n",
      "\u001b[0;31mNameError\u001b[0m: name 'frac' is not defined"
     ]
    }
   ],
   "source": [
    "for i,at in enumerate(frac):\n",
    "    form = at.get_chemical_formula()\n",
    "    symb = at.symbols\n",
    "    if not ((form in train_formulas) or (symb in train_formulas)):\n",
    "        print(at.get_chemical_formula(), at.info)"
   ]
  },
  {
   "cell_type": "markdown",
   "id": "ca7145c2",
   "metadata": {},
   "source": [
    "The prepared data (on my device) are respectively stored in `/home/awills/Documents/Research/swxcd/data/h_scan_rxn` and `/home/awills/Documents/Research/swxcd/data/fc0fcp`, so we want to create a new directory and symlink the previous files in an appropriately indexed manner, with the caveat that the prior folder used the old `prep_data.py` script, so the inputs are stored differently."
   ]
  },
  {
   "cell_type": "code",
   "execution_count": 37,
   "id": "41ebf9a5",
   "metadata": {},
   "outputs": [],
   "source": [
    "def cat_traj_write(traj1, traj2, writeloc, writefile='results.traj', traj1inf={}, traj2inf={}):\n",
    "    newtraj = []\n",
    "    for at in traj1:\n",
    "        if traj1inf:\n",
    "            at.info = {**at.info, **traj1inf}\n",
    "        newtraj.append(at)\n",
    "    for at in traj2:\n",
    "        if traj2inf:\n",
    "            at.info = {**at.info, **traj2inf}\n",
    "        newtraj.append(at)\n",
    "    write(filename=os.path.join(writeloc, writefile), images=newtraj)\n",
    "cat_traj_write(rxn, frac, '/home/awills/Documents/Research/swxcd/data/rxnfrac', traj1inf = {\"oldprep\":True},\n",
    "              traj2inf= {'supp':True})"
   ]
  },
  {
   "cell_type": "markdown",
   "id": "6ea8bc76",
   "metadata": {},
   "source": [
    "Symlink: \n",
    "```\n",
    "ln -s source_file symbolic_link\n",
    "```"
   ]
  },
  {
   "cell_type": "code",
   "execution_count": 13,
   "id": "6d8d81b5",
   "metadata": {},
   "outputs": [],
   "source": [
    "def ln_cat_prep_dirs(traj1, traj2, traj1dat, traj2dat, destdir):\n",
    "    n_traj1 = np.load(traj1dat+'/data_len.npy')\n",
    "    n_traj2 = np.load(traj2dat+'/data_len.npy')\n",
    "    n_traj_cat = n_traj1+n_traj2\n",
    "    print(n_traj_cat)\n",
    "    np.save(destdir+'/data_len.npy', n_traj_cat)\n",
    "    nidx = 0\n",
    "    for idx, at in enumerate(traj1):\n",
    "        pcklp = 'data_{}.pckl'.format(idx)\n",
    "        fp = os.path.join(traj1dat, pcklp)\n",
    "        sp = os.path.join(destdir, pcklp)\n",
    "        os.symlink(fp, sp)\n",
    "        nidx += 1\n",
    "    for idx, at in enumerate(traj2):\n",
    "        fpcklp = 'data_{}.pckl'.format(idx)\n",
    "        spcklp = 'data_{}.pckl'.format(nidx)\n",
    "        fp = os.path.join(traj2dat, fpcklp)\n",
    "        sp = os.path.join(destdir, spcklp)\n",
    "        os.symlink(fp, sp)\n",
    "        nidx += 1"
   ]
  },
  {
   "cell_type": "code",
   "execution_count": 15,
   "id": "902671d1",
   "metadata": {},
   "outputs": [],
   "source": [
    "#ln_cat_prep_dirs(rxn, frac, '/home/awills/Documents/Research/swxcd/data/h_scan_rxn',\n",
    "#                '/home/awills/Documents/Research/swxcd/data/fc0fcp', \n",
    "#                 destdir='/home/awills/Documents/Research/swxcd/data/rxnfrac')"
   ]
  },
  {
   "cell_type": "code",
   "execution_count": 16,
   "id": "3033265e",
   "metadata": {},
   "outputs": [
    {
     "data": {
      "text/plain": [
       "102"
      ]
     },
     "execution_count": 16,
     "metadata": {},
     "output_type": "execute_result"
    }
   ],
   "source": [
    "len(rxn+frac)"
   ]
  },
  {
   "cell_type": "code",
   "execution_count": 38,
   "id": "e7f0eef1",
   "metadata": {},
   "outputs": [],
   "source": [
    "rxnfrac = read('/home/awills/Documents/Research/swxcd/data/rxnfrac/results.traj', ':')"
   ]
  },
  {
   "cell_type": "code",
   "execution_count": 39,
   "id": "44b627d7",
   "metadata": {},
   "outputs": [
    {
     "name": "stdout",
     "output_type": "stream",
     "text": [
      "H2 {'H2': True, 'name': 'Dihydrogen', 'n_rad': 2, 'n_ang': 10, 'pol': False, 'oldprep': True}\n",
      "N2 {'N2': True, 'name': 'Dinitrogen', 'n_rad': 6, 'n_ang': 10, 'pol': False, 'oldprep': True}\n",
      "FLi {'LiF': True, 'name': 'Lithium fluoride', 'n_rad': 3, 'n_ang': 15, 'pol': False, 'oldprep': True}\n",
      "CHN {'CNH': True, 'name': 'Hydrogen cyanide', 'n_rad': 2, 'n_ang': 8, 'spin': 0, 'pol': False, 'oldprep': True}\n",
      "CO2 {'CO2': True, 'name': 'Carbon dioxide', 'n_rad': 7, 'n_ang': 12, 'oldprep': True}\n",
      "Cl2 {'Cl2': True, 'name': 'Dichlorine', 'n_rad': 3, 'n_ang': 20, 'spin': 0, 'pol': True, 'oldprep': True}\n",
      "F2 {'F2': True, 'name': 'Difluorine', 'n_rad': 8, 'n_ang': 20, 'spin': 0, 'pol': True, 'oldprep': True}\n",
      "O2 {'O2': True, 'name': 'Dioxygen', 'n_rad': 3, 'n_ang': 10, 'oldprep': True}\n",
      "C2H2 {'C2H2': True, 'name': 'Acetylene', 'n_rad': 3, 'n_ang': 10, 'oldprep': True}\n",
      "CO {'CO': True, 'name': 'Carbon monoxide', 'n_rad': 7, 'n_ang': 15, 'oldprep': True}\n",
      "HCl {'HCl': True, 'name': 'Hydrogen chloride', 'n_rad': 3, 'n_ang': 10, 'oldprep': True}\n",
      "HLi {'LiH': True, 'name': 'Lithium hydride', 'n_rad': 2, 'n_ang': 15, 'oldprep': True}\n",
      "Na2 {'Na2': True, 'name': 'Disodium', 'n_rad': 5, 'n_ang': 10, 'oldprep': True}\n",
      "C {'spin': 2, 'sym': False, 'grid_level': 4, 'basis': '6-311+G*', 'pol': False, 'oldprep': True}\n",
      "Cl {'spin': 1, 'sym': False, 'grid_level': 5, 'basis': '6-311+G*', 'pol': False, 'oldprep': True}\n",
      "F {'spin': 1, 'sym': False, 'grid_level': 4, 'basis': '6-311+G*', 'pol': False, 'oldprep': True}\n",
      "H {'spin': 1, 'sym': False, 'grid_level': 1, 'basis': '6-311+G', 'pol': False, 'oldprep': True}\n",
      "Li {'spin': 1, 'sym': False, 'grid_level': 2, 'basis': '6-311+G', 'pol': False, 'oldprep': True}\n",
      "N {'spin': 3, 'sym': False, 'grid_level': 3, 'basis': '6-311+G*', 'pol': False, 'oldprep': True}\n",
      "Na {'spin': 1, 'sym': False, 'grid_level': 1, 'basis': '6-311+G*', 'pol': False, 'oldprep': True}\n",
      "O {'spin': 2, 'sym': False, 'grid_level': 4, 'basis': '6-311++G(3df,2pd)', 'pol': False, 'oldprep': True}\n",
      "NO {'n_rad': 5, 'n_ang': 10, 'spin': 3, 'pol': False, 'oldprep': True}\n",
      "NO2 {'NO2': True, 'name': 'Nitrogen dioxide', 'openshell': True, 'sc': False, 'sym': False, 'n_rad': 1, 'grid_level': 1, 'pol': True, 'oldprep': True}\n",
      "HN {'NH': True, 'name': 'Imidogen', 'openshell': True, 'sc': False, 'sym': False, 'n_rad': 1, 'grid_level': 1, 'pol': True, 'oldprep': True}\n",
      "O3 {'O3': True, 'name': 'Ozone', 'openshell': False, 'sc': False, 'sym': False, 'n_rad': 1, 'grid_level': 1, 'pol': False, 'oldprep': True}\n",
      "N2O {'N2O': True, 'name': 'Nitrous oxide', 'openshell': False, 'sc': False, 'sym': False, 'n_rad': 1, 'grid_level': 1, 'pol': False, 'oldprep': True}\n",
      "CH3 {'CH3': True, 'name': 'Methyl radical', 'openshell': True, 'sc': False, 'sym': False, 'n_rad': 1, 'grid_level': 1, 'pol': True, 'oldprep': True}\n",
      "CH2 {'CH2': True, 'name': 'Triplet carbene', 'openshell': True, 'sc': False, 'sym': False, 'n_rad': 1, 'grid_level': 1, 'pol': True, 'oldprep': True}\n",
      "H2O {'H2O': True, 'name': 'Water', 'openshell': False, 'sc': False, 'sym': False, 'n_rad': 1, 'grid_level': 1, 'pol': False, 'oldprep': True}\n",
      "H3N {'NH3': True, 'name': 'Ammonia', 'openshell': False, 'sc': False, 'sym': False, 'n_rad': 1, 'grid_level': 1, 'pol': False, 'oldprep': True}\n",
      "HO {'HO': True, 'name': 'Hydroxyl radical', 'openshell': True, 'pol': True, 'grid_level': 1, 'sym': False, 'radical': True, 'oldprep': True}\n",
      "CH {'CH': True, 'name': 'Methylidyne radical', 'openshell': True, 'pol': True, 'grid_level': 1, 'sym': False, 'radical': True, 'oldprep': True}\n",
      "H {'multiplicity': 2, 'grid_level': 1, 'sym': False, 'sc': False, 'reaction': 'reactant', 'reference_height': None, 'spin': 1, 'oldprep': True}\n",
      "N2O {'grid_level': 1, 'sym': False, 'sc': False, 'reaction': 'reactant', 'reference_height': None, 'spin': 0, 'oldprep': True}\n",
      "HN2O {'multiplicity': 2, 'grid_level': 1, 'sym': False, 'sc': False, 'reaction': 2, 'reference_height': 0.02890793008677891, 'spin': 1, 'oldprep': True}\n",
      "HO {'multiplicity': 2, 'grid_level': 1, 'sym': False, 'sc': False, 'reaction': 'reactant', 'reference_height': None, 'spin': 1, 'oldprep': True}\n",
      "N2 {'grid_level': 1, 'sym': False, 'sc': False, 'reaction': 'reactant', 'reference_height': None, 'spin': 0, 'oldprep': True}\n",
      "HN2O {'multiplicity': 2, 'grid_level': 1, 'sym': False, 'sc': False, 'reaction': 2, 'reference_height': 0.13261951167705296, 'spin': 1, 'oldprep': True}\n",
      "HO {'multiplicity': 2, 'grid_level': 1, 'sym': False, 'sc': False, 'reaction': 'reactant', 'reference_height': None, 'spin': 1, 'oldprep': True}\n",
      "CH3 {'multiplicity': 2, 'grid_level': 1, 'sym': False, 'sc': False, 'reaction': 'reactant', 'reference_height': None, 'spin': 1, 'oldprep': True}\n",
      "CH4O {'multiplicity': 3, 'grid_level': 1, 'sym': False, 'sc': False, 'reaction': 2, 'reference_height': 0.012908171648451443, 'spin': 2, 'oldprep': True}\n",
      "HF {'grid_level': 1, 'sym': False, 'sc': False, 'reaction': 'reactant', 'reference_height': None, 'spin': 0, 'oldprep': True}\n",
      "F {'multiplicity': 2, 'grid_level': 1, 'sym': False, 'sc': False, 'reaction': 'reactant', 'reference_height': None, 'spin': 1, 'oldprep': True}\n",
      "HF2 {'multiplicity': 2, 'grid_level': 1, 'sym': False, 'sc': False, 'reaction': 2, 'reference_height': 0.16920860069537955, 'spin': 1, 'oldprep': True}\n",
      "C {'spin': 1, 'grid_level': 1, 'sym': False, 'charge': 1, 'reaction': 'reactant', 'reference_height': None, 'oldprep': True}\n",
      "C {'spin': 2, 'grid_level': 1, 'sym': False, 'charge': 0, 'reaction': 1, 'reference_height': -0.4138582934694864, 'oldprep': True}\n",
      "Li {'spin': 0, 'grid_level': 1, 'sym': False, 'charge': 1, 'reaction': 'reactant', 'reference_height': None, 'oldprep': True}\n",
      "Li {'spin': 1, 'grid_level': 1, 'sym': False, 'charge': 0, 'reaction': 1, 'reference_height': -0.19814840281092005, 'oldprep': True}\n",
      "H {'hydrogen': True, 'supp': True}\n",
      "He {'helium': True, 'supp': True}\n",
      "Li {'lithium': True, 'supp': True}\n",
      "Be {'beryllium': True, 'supp': True}\n",
      "B {'boron': True, 'supp': True}\n",
      "C {'carbon': True, 'supp': True}\n",
      "N {'nitrogen': True, 'supp': True}\n",
      "O {'oxygen': True, 'supp': True}\n",
      "F {'fluorine': True, 'supp': True}\n",
      "Ne {'neon': True, 'supp': True}\n",
      "Na {'sodium': True, 'supp': True}\n",
      "Mg {'magnesium': True, 'supp': True}\n",
      "Al {'aluminum': True, 'supp': True}\n",
      "Si {'silicon': True, 'supp': True}\n",
      "P {'phosphorous': True, 'supp': True}\n",
      "S {'sulfur': True, 'supp': True}\n",
      "Cl {'chlorine': True, 'supp': True}\n",
      "Ar {'argon': True, 'supp': True}\n",
      "H {'hydrogen': True, 'charge': 1, 'supp': True}\n",
      "He {'helium': True, 'charge': 1, 'supp': True}\n",
      "Li {'lithium': True, 'charge': 1, 'supp': True}\n",
      "Be {'beryllium': True, 'charge': 1, 'supp': True}\n",
      "B {'boron': True, 'charge': 1, 'supp': True}\n",
      "C {'carbon': True, 'charge': 1, 'supp': True}\n",
      "N {'nitrogen': True, 'charge': 1, 'supp': True}\n",
      "O {'oxygen': True, 'charge': 1, 'supp': True}\n",
      "F {'fluorine': True, 'charge': 1, 'supp': True}\n",
      "Ne {'neon': True, 'charge': 1, 'supp': True}\n",
      "Na {'sodium': True, 'charge': 1, 'supp': True}\n",
      "Mg {'magnesium': True, 'charge': 1, 'supp': True}\n",
      "Al {'aluminum': True, 'charge': 1, 'supp': True}\n",
      "Si {'silicon': True, 'charge': 1, 'supp': True}\n",
      "P {'phosphorous': True, 'charge': 1, 'supp': True}\n",
      "S {'sulfur': True, 'charge': 1, 'supp': True}\n",
      "Cl {'chlorine': True, 'charge': 1, 'supp': True}\n",
      "Ar {'argon': True, 'charge': 1, 'supp': True}\n",
      "H {'hydrogen': True, 'fractional': 0.5, 'baseRef': '/home/awills/Documents/Research/swxcd/aegis/fc0', 'chargeRef': '/home/awills/Documents/Research/swxcd/aegis/fcp', 'baseidx': 0, 'supp': True}\n",
      "He {'helium': True, 'fractional': 0.5, 'baseRef': '/home/awills/Documents/Research/swxcd/aegis/fc0', 'chargeRef': '/home/awills/Documents/Research/swxcd/aegis/fcp', 'baseidx': 1, 'supp': True}\n",
      "Li {'lithium': True, 'fractional': 0.5, 'baseRef': '/home/awills/Documents/Research/swxcd/aegis/fc0', 'chargeRef': '/home/awills/Documents/Research/swxcd/aegis/fcp', 'baseidx': 2, 'supp': True}\n",
      "Be {'beryllium': True, 'fractional': 0.5, 'baseRef': '/home/awills/Documents/Research/swxcd/aegis/fc0', 'chargeRef': '/home/awills/Documents/Research/swxcd/aegis/fcp', 'baseidx': 3, 'supp': True}\n",
      "B {'boron': True, 'fractional': 0.5, 'baseRef': '/home/awills/Documents/Research/swxcd/aegis/fc0', 'chargeRef': '/home/awills/Documents/Research/swxcd/aegis/fcp', 'baseidx': 4, 'supp': True}\n",
      "C {'carbon': True, 'fractional': 0.5, 'baseRef': '/home/awills/Documents/Research/swxcd/aegis/fc0', 'chargeRef': '/home/awills/Documents/Research/swxcd/aegis/fcp', 'baseidx': 5, 'supp': True}\n",
      "N {'nitrogen': True, 'fractional': 0.5, 'baseRef': '/home/awills/Documents/Research/swxcd/aegis/fc0', 'chargeRef': '/home/awills/Documents/Research/swxcd/aegis/fcp', 'baseidx': 6, 'supp': True}\n",
      "O {'oxygen': True, 'fractional': 0.5, 'baseRef': '/home/awills/Documents/Research/swxcd/aegis/fc0', 'chargeRef': '/home/awills/Documents/Research/swxcd/aegis/fcp', 'baseidx': 7, 'supp': True}\n",
      "F {'fluorine': True, 'fractional': 0.5, 'baseRef': '/home/awills/Documents/Research/swxcd/aegis/fc0', 'chargeRef': '/home/awills/Documents/Research/swxcd/aegis/fcp', 'baseidx': 8, 'supp': True}\n",
      "Ne {'neon': True, 'fractional': 0.5, 'baseRef': '/home/awills/Documents/Research/swxcd/aegis/fc0', 'chargeRef': '/home/awills/Documents/Research/swxcd/aegis/fcp', 'baseidx': 9, 'supp': True}\n",
      "Na {'sodium': True, 'fractional': 0.5, 'baseRef': '/home/awills/Documents/Research/swxcd/aegis/fc0', 'chargeRef': '/home/awills/Documents/Research/swxcd/aegis/fcp', 'baseidx': 10, 'supp': True}\n",
      "Mg {'magnesium': True, 'fractional': 0.5, 'baseRef': '/home/awills/Documents/Research/swxcd/aegis/fc0', 'chargeRef': '/home/awills/Documents/Research/swxcd/aegis/fcp', 'baseidx': 11, 'supp': True}\n",
      "Al {'aluminum': True, 'fractional': 0.5, 'baseRef': '/home/awills/Documents/Research/swxcd/aegis/fc0', 'chargeRef': '/home/awills/Documents/Research/swxcd/aegis/fcp', 'baseidx': 12, 'supp': True}\n",
      "Si {'silicon': True, 'fractional': 0.5, 'baseRef': '/home/awills/Documents/Research/swxcd/aegis/fc0', 'chargeRef': '/home/awills/Documents/Research/swxcd/aegis/fcp', 'baseidx': 13, 'supp': True}\n",
      "P {'phosphorous': True, 'fractional': 0.5, 'baseRef': '/home/awills/Documents/Research/swxcd/aegis/fc0', 'chargeRef': '/home/awills/Documents/Research/swxcd/aegis/fcp', 'baseidx': 14, 'supp': True}\n",
      "S {'sulfur': True, 'fractional': 0.5, 'baseRef': '/home/awills/Documents/Research/swxcd/aegis/fc0', 'chargeRef': '/home/awills/Documents/Research/swxcd/aegis/fcp', 'baseidx': 15, 'supp': True}\n",
      "Cl {'chlorine': True, 'fractional': 0.5, 'baseRef': '/home/awills/Documents/Research/swxcd/aegis/fc0', 'chargeRef': '/home/awills/Documents/Research/swxcd/aegis/fcp', 'baseidx': 16, 'supp': True}\n",
      "Ar {'argon': True, 'fractional': 0.5, 'baseRef': '/home/awills/Documents/Research/swxcd/aegis/fc0', 'chargeRef': '/home/awills/Documents/Research/swxcd/aegis/fcp', 'baseidx': 17, 'supp': True}\n"
     ]
    }
   ],
   "source": [
    "for i,at in enumerate(rxnfrac):\n",
    "    print(at.get_chemical_formula(), at.info)"
   ]
  },
  {
   "cell_type": "code",
   "execution_count": 44,
   "id": "b03687b4",
   "metadata": {
    "scrolled": true
   },
   "outputs": [
    {
     "name": "stdout",
     "output_type": "stream",
     "text": [
      "PARSING NON-ATOMIC NON-REACTION MOLECULES\n",
      "{'  0HH': [0], '  1NN': [1], '  2LiF': [2], '  3CNH': [3], '  4COO': [4], '  5ClCl': [5], '  6FF': [6], '  7OO': [7], '  8CCHH': [8], '  9OC': [9], ' 10ClH': [10], ' 11LiH': [11], ' 12NaNa': [12], ' 21NO': [21], ' 22NOO': [22], ' 23NH': [23], ' 24OOO': [24], ' 25NNO': [25], ' 26CHHH': [26], ' 27CHH': [27], ' 28OHH': [28], ' 29NHHH': [29], ' 30OH': [30], ' 31CH': [31]}\n",
      "PARSING NEUTRAL, PURE NON-REACTION ATOMS. CHARGE FLAG NOT SET.\n",
      "{'C': [13], 'Cl': [14], 'F': [15], 'H': [16], 'Li': [17], 'N': [18], 'Na': [19], 'O': [20]}\n",
      "PARSING SUPPLEMENTAL NEUTRAL, PURE ATOMS (FROM FRAC DATASET)\n",
      "{'H_n0': [84], 'He_n0': [85], 'Li_n0': [86], 'Be_n0': [87], 'B_n0': [88], 'C_n0': [89], 'N_n0': [90], 'O_n0': [91], 'F_n0': [92], 'Ne_n0': [93], 'Na_n0': [94], 'Mg_n0': [95], 'Al_n0': [96], 'Si_n0': [97], 'P_n0': [98], 'S_n0': [99], 'Cl_n0': [100], 'Ar_n0': [101]}\n",
      "PARSING SUPPLEMENTAL CHARGED, PURE ATOMS\n",
      "{'H_c1': [66], 'He_c1': [67], 'Li_c1': [68], 'Be_c1': [69], 'B_c1': [70], 'C_c1': [71], 'N_c1': [72], 'O_c1': [73], 'F_c1': [74], 'Ne_c1': [75], 'Na_c1': [76], 'Mg_c1': [77], 'Al_c1': [78], 'Si_c1': [79], 'P_c1': [80], 'S_c1': [81], 'Cl_c1': [82], 'Ar_c1': [83]}\n",
      "PARSING SUPPLEMENTAL FRACTIONAL ATOMS\n",
      "{'H_f0.5': [84], 'He_f0.5': [85], 'Li_f0.5': [86], 'Be_f0.5': [87], 'B_f0.5': [88], 'C_f0.5': [89], 'N_f0.5': [90], 'O_f0.5': [91], 'F_f0.5': [92], 'Ne_f0.5': [93], 'Na_f0.5': [94], 'Mg_f0.5': [95], 'Al_f0.5': [96], 'Si_f0.5': [97], 'P_f0.5': [98], 'S_f0.5': [99], 'Cl_f0.5': [100], 'Ar_f0.5': [101]}\n",
      "PARSING REACTIONS\n",
      "{' 34HONN': [34, 32, 33], ' 37HONN': [37, 35, 36], ' 40CHHHHO': [40, 38, 39], ' 43HFF': [43, 41, 42], ' 45C': [45, 44], ' 47Li': [47, 46]}\n",
      "MOLECULES TO TRAIN ON\n",
      "{'  0HH': [0, 16, 16], '  1NN': [1, 18, 18], '  2LiF': [2, 17, 15], '  3CNH': [3, 13, 18, 16], '  4COO': [4, 13, 20, 20], '  5ClCl': [5, 14, 14], '  6FF': [6, 15, 15], '  7OO': [7, 20, 20], '  8CCHH': [8, 13, 13, 16, 16], '  9OC': [9, 20, 13], ' 10ClH': [10, 14, 16], ' 11LiH': [11, 17, 16], ' 12NaNa': [12, 19, 19], ' 21NO': [21, 18, 20], ' 22NOO': [22, 18, 20, 20], ' 23NH': [23, 18, 16], ' 24OOO': [24, 20, 20, 20], ' 25NNO': [25, 18, 18, 20], ' 26CHHH': [26, 13, 16, 16, 16], ' 27CHH': [27, 13, 16, 16], ' 28OHH': [28, 20, 16, 16], ' 29NHHH': [29, 18, 16, 16, 16], ' 30OH': [30, 20, 16], ' 31CH': [31, 13, 16], 'C': [13], 'Cl': [14], 'F': [15], 'H': [16], 'Li': [17], 'N': [18], 'Na': [19], 'O': [20], 'H_n0': [84], 'He_n0': [85], 'Li_n0': [86], 'Be_n0': [87], 'B_n0': [88], 'C_n0': [89], 'N_n0': [90], 'O_n0': [91], 'F_n0': [92], 'Ne_n0': [93], 'Na_n0': [94], 'Mg_n0': [95], 'Al_n0': [96], 'Si_n0': [97], 'P_n0': [98], 'S_n0': [99], 'Cl_n0': [100], 'Ar_n0': [101], 'H_c1': [66], 'He_c1': [67], 'Li_c1': [68], 'Be_c1': [69], 'B_c1': [70], 'C_c1': [71], 'N_c1': [72], 'O_c1': [73], 'F_c1': [74], 'Ne_c1': [75], 'Na_c1': [76], 'Mg_c1': [77], 'Al_c1': [78], 'Si_c1': [79], 'P_c1': [80], 'S_c1': [81], 'Cl_c1': [82], 'Ar_c1': [83], 'H_f0.5': [84], 'He_f0.5': [85], 'Li_f0.5': [86], 'Be_f0.5': [87], 'B_f0.5': [88], 'C_f0.5': [89], 'N_f0.5': [90], 'O_f0.5': [91], 'F_f0.5': [92], 'Ne_f0.5': [93], 'Na_f0.5': [94], 'Mg_f0.5': [95], 'Al_f0.5': [96], 'Si_f0.5': [97], 'P_f0.5': [98], 'S_f0.5': [99], 'Cl_f0.5': [100], 'Ar_f0.5': [101], ' 34HONN': [34, 32, 33], ' 37HONN': [37, 35, 36], ' 40CHHHHO': [40, 38, 39], ' 43HFF': [43, 41, 42], ' 45C': [45, 44], ' 47Li': [47, 46]}\n"
     ]
    }
   ],
   "source": [
    "atoms = rxnfrac\n",
    "print(\"PARSING NON-ATOMIC NON-REACTION MOLECULES\")\n",
    "molecules = {'{:3d}'.format(idx) + ''.join(a.get_chemical_symbols()): [idx] for idx, a in enumerate(atoms) if len(a.positions) > 1 and not a.info.get('reaction') }\n",
    "print(molecules)\n",
    "print(\"PARSING NEUTRAL, PURE NON-REACTION ATOMS. CHARGE FLAG NOT SET.\")\n",
    "pure_atoms = {''.join(a.get_chemical_symbols()): [idx] for idx, a in enumerate(atoms) if len(a.positions) == 1 and not a.info.get('reaction') and not a.info.get('fractional') and not a.info.get('charge') and not a.info.get('supp')}\n",
    "print(pure_atoms)\n",
    "molecules.update(pure_atoms)\n",
    "print(\"PARSING SUPPLEMENTAL NEUTRAL, PURE ATOMS (FROM FRAC DATASET)\")\n",
    "n_atoms = {''.join(a.get_chemical_symbols())+'_n0': [idx] for idx, a in enumerate(atoms) if len(a.positions)==1 and a.info.get('supp') and not a.info.get('charge')}\n",
    "print(n_atoms)\n",
    "molecules.update(n_atoms)\n",
    "print(\"PARSING SUPPLEMENTAL CHARGED, PURE ATOMS\")\n",
    "c_atoms = {''.join(a.get_chemical_symbols())+'_c{}'.format(a.info['charge']): [idx] for idx, a in enumerate(atoms) if len(a.positions)==1 and a.info.get('supp') and a.info.get('charge')}\n",
    "print(c_atoms)\n",
    "molecules.update(c_atoms)\n",
    "print(\"PARSING SUPPLEMENTAL FRACTIONAL ATOMS\")\n",
    "frac_atoms = {''.join(a.get_chemical_symbols())+'_f{}'.format(a.info['fractional']): [idx] for idx, a in enumerate(atoms) if len(a.positions)==1 and a.info.get('supp') and a.info.get('fractional')}\n",
    "print(frac_atoms)\n",
    "molecules.update(frac_atoms)\n",
    "def split(el):\n",
    "        import re\n",
    "        #Splits a string on capital letter sequences\n",
    "        res_list = [s for s in re.split(\"([A-Z][^A-Z]*)\", el) if s]\n",
    "        return res_list\n",
    "\n",
    "for molecule in molecules:\n",
    "    comp = []\n",
    "    #ignore _ atoms, charged or fractional\n",
    "    if '_' in molecule:\n",
    "        continue\n",
    "    for a in split(molecule[3:]):\n",
    "        comp.append(pure_atoms[a][0])\n",
    "    molecules[molecule] += comp\n",
    "a_count = {idx: len(at.positions) for idx,at in enumerate(atoms)}\n",
    "#a_count = {a: np.sum([a in molecules[mol] for mol in molecules]) for a in np.unique([m  for mol in molecules for m in molecules[mol]])}\n",
    "print(\"PARSING REACTIONS\")\n",
    "reactions = {}\n",
    "for idx, a in enumerate(atoms):\n",
    "    #atom must have reaction flag\n",
    "    if not a.info.get('reaction'): continue\n",
    "    #and atom must not be a reactant\n",
    "    if a.info.get('reaction') == 'reactant': continue\n",
    "    reactions['{:3d}'.format(idx) + ''.join(a.get_chemical_symbols())] = \\\n",
    "        [idx] + [idx + i for i in np.arange(-a.info.get('reaction'),0,1).astype(int)]\n",
    "print(reactions)\n",
    "molecules.update(reactions)\n",
    "print(\"MOLECULES TO TRAIN ON\")\n",
    "print(molecules)"
   ]
  },
  {
   "cell_type": "code",
   "execution_count": 45,
   "id": "fdab9b17",
   "metadata": {
    "scrolled": true
   },
   "outputs": [
    {
     "data": {
      "text/plain": [
       "{'  0HH': [0, 16, 16],\n",
       " '  1NN': [1, 18, 18],\n",
       " '  2LiF': [2, 17, 15],\n",
       " '  3CNH': [3, 13, 18, 16],\n",
       " '  4COO': [4, 13, 20, 20],\n",
       " '  5ClCl': [5, 14, 14],\n",
       " '  6FF': [6, 15, 15],\n",
       " '  7OO': [7, 20, 20],\n",
       " '  8CCHH': [8, 13, 13, 16, 16],\n",
       " '  9OC': [9, 20, 13],\n",
       " ' 10ClH': [10, 14, 16],\n",
       " ' 11LiH': [11, 17, 16],\n",
       " ' 12NaNa': [12, 19, 19],\n",
       " ' 21NO': [21, 18, 20],\n",
       " ' 22NOO': [22, 18, 20, 20],\n",
       " ' 23NH': [23, 18, 16],\n",
       " ' 24OOO': [24, 20, 20, 20],\n",
       " ' 25NNO': [25, 18, 18, 20],\n",
       " ' 26CHHH': [26, 13, 16, 16, 16],\n",
       " ' 27CHH': [27, 13, 16, 16],\n",
       " ' 28OHH': [28, 20, 16, 16],\n",
       " ' 29NHHH': [29, 18, 16, 16, 16],\n",
       " ' 30OH': [30, 20, 16],\n",
       " ' 31CH': [31, 13, 16],\n",
       " 'C': [13],\n",
       " 'Cl': [14],\n",
       " 'F': [15],\n",
       " 'H': [16],\n",
       " 'Li': [17],\n",
       " 'N': [18],\n",
       " 'Na': [19],\n",
       " 'O': [20],\n",
       " 'H_n0': [84],\n",
       " 'He_n0': [85],\n",
       " 'Li_n0': [86],\n",
       " 'Be_n0': [87],\n",
       " 'B_n0': [88],\n",
       " 'C_n0': [89],\n",
       " 'N_n0': [90],\n",
       " 'O_n0': [91],\n",
       " 'F_n0': [92],\n",
       " 'Ne_n0': [93],\n",
       " 'Na_n0': [94],\n",
       " 'Mg_n0': [95],\n",
       " 'Al_n0': [96],\n",
       " 'Si_n0': [97],\n",
       " 'P_n0': [98],\n",
       " 'S_n0': [99],\n",
       " 'Cl_n0': [100],\n",
       " 'Ar_n0': [101],\n",
       " 'H_c1': [66],\n",
       " 'He_c1': [67],\n",
       " 'Li_c1': [68],\n",
       " 'Be_c1': [69],\n",
       " 'B_c1': [70],\n",
       " 'C_c1': [71],\n",
       " 'N_c1': [72],\n",
       " 'O_c1': [73],\n",
       " 'F_c1': [74],\n",
       " 'Ne_c1': [75],\n",
       " 'Na_c1': [76],\n",
       " 'Mg_c1': [77],\n",
       " 'Al_c1': [78],\n",
       " 'Si_c1': [79],\n",
       " 'P_c1': [80],\n",
       " 'S_c1': [81],\n",
       " 'Cl_c1': [82],\n",
       " 'Ar_c1': [83],\n",
       " 'H_f0.5': [84],\n",
       " 'He_f0.5': [85],\n",
       " 'Li_f0.5': [86],\n",
       " 'Be_f0.5': [87],\n",
       " 'B_f0.5': [88],\n",
       " 'C_f0.5': [89],\n",
       " 'N_f0.5': [90],\n",
       " 'O_f0.5': [91],\n",
       " 'F_f0.5': [92],\n",
       " 'Ne_f0.5': [93],\n",
       " 'Na_f0.5': [94],\n",
       " 'Mg_f0.5': [95],\n",
       " 'Al_f0.5': [96],\n",
       " 'Si_f0.5': [97],\n",
       " 'P_f0.5': [98],\n",
       " 'S_f0.5': [99],\n",
       " 'Cl_f0.5': [100],\n",
       " 'Ar_f0.5': [101],\n",
       " ' 34HONN': [34, 32, 33],\n",
       " ' 37HONN': [37, 35, 36],\n",
       " ' 40CHHHHO': [40, 38, 39],\n",
       " ' 43HFF': [43, 41, 42],\n",
       " ' 45C': [45, 44],\n",
       " ' 47Li': [47, 46]}"
      ]
     },
     "execution_count": 45,
     "metadata": {},
     "output_type": "execute_result"
    }
   ],
   "source": [
    "molecules"
   ]
  },
  {
   "cell_type": "code",
   "execution_count": 28,
   "id": "b1689687",
   "metadata": {
    "scrolled": true
   },
   "outputs": [
    {
     "name": "stdout",
     "output_type": "stream",
     "text": [
      "0 H2 SinglePointCalculator(energy=4.7440371124327285) {'H2': True, 'name': 'Dihydrogen', 'n_rad': 2, 'n_ang': 10, 'pol': False, 'oldprep': True}\n",
      "1 N2 SinglePointCalculator(energy=9.906376144900815) {'N2': True, 'name': 'Dinitrogen', 'n_rad': 6, 'n_ang': 10, 'pol': False, 'oldprep': True}\n",
      "2 FLi SinglePointCalculator(energy=6.052629788935811) {'LiF': True, 'name': 'Lithium fluoride', 'n_rad': 3, 'n_ang': 15, 'pol': False, 'oldprep': True}\n",
      "3 CHN SinglePointCalculator(energy=13.58724648435963) {'CNH': True, 'name': 'Hydrogen cyanide', 'n_rad': 2, 'n_ang': 8, 'spin': 0, 'pol': False, 'oldprep': True}\n",
      "4 CO2 SinglePointCalculator(energy=16.934698271599974) {'CO2': True, 'name': 'Carbon dioxide', 'n_rad': 7, 'n_ang': 12, 'oldprep': True}\n",
      "5 Cl2 SinglePointCalculator(energy=2.5726189938349067) {'Cl2': True, 'name': 'Dichlorine', 'n_rad': 3, 'n_ang': 20, 'spin': 0, 'pol': True, 'oldprep': True}\n",
      "6 F2 SinglePointCalculator(energy=1.6822245946714354) {'F2': True, 'name': 'Difluorine', 'n_rad': 8, 'n_ang': 20, 'spin': 0, 'pol': True, 'oldprep': True}\n",
      "7 O2 SinglePointCalculator(energy=5.24307669245509) {'O2': True, 'name': 'Dioxygen', 'n_rad': 3, 'n_ang': 10, 'oldprep': True}\n",
      "8 C2H2 SinglePointCalculator(energy=17.575624702100136) {'C2H2': True, 'name': 'Acetylene', 'n_rad': 3, 'n_ang': 10, 'oldprep': True}\n",
      "9 CO SinglePointCalculator(energy=11.271868661369064) {'CO': True, 'name': 'Carbon monoxide', 'n_rad': 7, 'n_ang': 15, 'oldprep': True}\n",
      "10 HCl SinglePointCalculator(energy=4.659568315398828) {'HCl': True, 'name': 'Hydrogen chloride', 'n_rad': 3, 'n_ang': 10, 'oldprep': True}\n",
      "11 HLi SinglePointCalculator(energy=2.510951589865373) {'LiH': True, 'name': 'Lithium hydride', 'n_rad': 2, 'n_ang': 15, 'oldprep': True}\n",
      "12 Na2 SinglePointCalculator(energy=0.7439472700727967) {'Na2': True, 'name': 'Disodium', 'n_rad': 5, 'n_ang': 10, 'oldprep': True}\n",
      "13 C None {'spin': 2, 'sym': False, 'grid_level': 4, 'basis': '6-311+G*', 'pol': False, 'oldprep': True}\n",
      "14 Cl None {'spin': 1, 'sym': False, 'grid_level': 5, 'basis': '6-311+G*', 'pol': False, 'oldprep': True}\n",
      "15 F None {'spin': 1, 'sym': False, 'grid_level': 4, 'basis': '6-311+G*', 'pol': False, 'oldprep': True}\n",
      "16 H None {'spin': 1, 'sym': False, 'grid_level': 1, 'basis': '6-311+G', 'pol': False, 'oldprep': True}\n",
      "17 Li None {'spin': 1, 'sym': False, 'grid_level': 2, 'basis': '6-311+G', 'pol': False, 'oldprep': True}\n",
      "18 N None {'spin': 3, 'sym': False, 'grid_level': 3, 'basis': '6-311+G*', 'pol': False, 'oldprep': True}\n",
      "19 Na None {'spin': 1, 'sym': False, 'grid_level': 1, 'basis': '6-311+G*', 'pol': False, 'oldprep': True}\n",
      "20 O None {'spin': 2, 'sym': False, 'grid_level': 4, 'basis': '6-311++G(3df,2pd)', 'pol': False, 'oldprep': True}\n",
      "21 NO None {'n_rad': 5, 'n_ang': 10, 'spin': 3, 'pol': False, 'oldprep': True}\n",
      "22 NO2 SinglePointCalculator(energy=9.888549601232311) {'NO2': True, 'name': 'Nitrogen dioxide', 'openshell': True, 'sc': False, 'sym': False, 'n_rad': 1, 'grid_level': 1, 'pol': True, 'oldprep': True}\n",
      "23 HN SinglePointCalculator(energy=3.5966088278164094) {'NH': True, 'name': 'Imidogen', 'openshell': True, 'sc': False, 'sym': False, 'n_rad': 1, 'grid_level': 1, 'pol': True, 'oldprep': True}\n",
      "24 O3 SinglePointCalculator(energy=6.382109918715892) {'O3': True, 'name': 'Ozone', 'openshell': False, 'sc': False, 'sym': False, 'n_rad': 1, 'grid_level': 1, 'pol': False, 'oldprep': True}\n",
      "25 N2O SinglePointCalculator(energy=11.74997241685051) {'N2O': True, 'name': 'Nitrous oxide', 'openshell': False, 'sc': False, 'sym': False, 'n_rad': 1, 'grid_level': 1, 'pol': False, 'oldprep': True}\n",
      "26 CH3 SinglePointCalculator(energy=13.340991439264483) {'CH3': True, 'name': 'Methyl radical', 'openshell': True, 'sc': False, 'sym': False, 'n_rad': 1, 'grid_level': 1, 'pol': True, 'oldprep': True}\n",
      "27 CH2 SinglePointCalculator(energy=8.262706633047307) {'CH2': True, 'name': 'Triplet carbene', 'openshell': True, 'sc': False, 'sym': False, 'n_rad': 1, 'grid_level': 1, 'pol': True, 'oldprep': True}\n",
      "28 H2O SinglePointCalculator(energy=10.1045409791693) {'H2O': True, 'name': 'Water', 'openshell': False, 'sc': False, 'sym': False, 'n_rad': 1, 'grid_level': 1, 'pol': False, 'oldprep': True}\n",
      "29 H3N SinglePointCalculator(energy=12.913776247394873) {'NH3': True, 'name': 'Ammonia', 'openshell': False, 'sc': False, 'sym': False, 'n_rad': 1, 'grid_level': 1, 'pol': False, 'oldprep': True}\n",
      "30 HO SinglePointCalculator(energy=4.646302050343198) {'HO': True, 'name': 'Hydroxyl radical', 'openshell': True, 'pol': True, 'grid_level': 1, 'sym': False, 'radical': True, 'oldprep': True}\n",
      "31 CH SinglePointCalculator(energy=3.644077182468589) {'CH': True, 'name': 'Methylidyne radical', 'openshell': True, 'pol': True, 'grid_level': 1, 'sym': False, 'radical': True, 'oldprep': True}\n",
      "32 H None {'multiplicity': 2, 'grid_level': 1, 'sym': False, 'sc': False, 'reaction': 'reactant', 'reference_height': None, 'spin': 1, 'oldprep': True}\n",
      "33 N2O None {'grid_level': 1, 'sym': False, 'sc': False, 'reaction': 'reactant', 'reference_height': None, 'spin': 0, 'oldprep': True}\n",
      "34 HN2O None {'multiplicity': 2, 'grid_level': 1, 'sym': False, 'sc': False, 'reaction': 2, 'reference_height': 0.02890793008677891, 'spin': 1, 'oldprep': True}\n",
      "35 HO None {'multiplicity': 2, 'grid_level': 1, 'sym': False, 'sc': False, 'reaction': 'reactant', 'reference_height': None, 'spin': 1, 'oldprep': True}\n",
      "36 N2 None {'grid_level': 1, 'sym': False, 'sc': False, 'reaction': 'reactant', 'reference_height': None, 'spin': 0, 'oldprep': True}\n",
      "37 HN2O None {'multiplicity': 2, 'grid_level': 1, 'sym': False, 'sc': False, 'reaction': 2, 'reference_height': 0.13261951167705296, 'spin': 1, 'oldprep': True}\n",
      "38 HO None {'multiplicity': 2, 'grid_level': 1, 'sym': False, 'sc': False, 'reaction': 'reactant', 'reference_height': None, 'spin': 1, 'oldprep': True}\n",
      "39 CH3 None {'multiplicity': 2, 'grid_level': 1, 'sym': False, 'sc': False, 'reaction': 'reactant', 'reference_height': None, 'spin': 1, 'oldprep': True}\n",
      "40 CH4O None {'multiplicity': 3, 'grid_level': 1, 'sym': False, 'sc': False, 'reaction': 2, 'reference_height': 0.012908171648451443, 'spin': 2, 'oldprep': True}\n",
      "41 HF None {'grid_level': 1, 'sym': False, 'sc': False, 'reaction': 'reactant', 'reference_height': None, 'spin': 0, 'oldprep': True}\n",
      "42 F None {'multiplicity': 2, 'grid_level': 1, 'sym': False, 'sc': False, 'reaction': 'reactant', 'reference_height': None, 'spin': 1, 'oldprep': True}\n",
      "43 HF2 None {'multiplicity': 2, 'grid_level': 1, 'sym': False, 'sc': False, 'reaction': 2, 'reference_height': 0.16920860069537955, 'spin': 1, 'oldprep': True}\n",
      "44 C None {'spin': 1, 'grid_level': 1, 'sym': False, 'charge': 1, 'reaction': 'reactant', 'reference_height': None, 'oldprep': True}\n",
      "45 C None {'spin': 2, 'grid_level': 1, 'sym': False, 'charge': 0, 'reaction': 1, 'reference_height': -0.4138582934694864, 'oldprep': True}\n",
      "46 Li None {'spin': 0, 'grid_level': 1, 'sym': False, 'charge': 1, 'reaction': 'reactant', 'reference_height': None, 'oldprep': True}\n",
      "47 Li None {'spin': 1, 'grid_level': 1, 'sym': False, 'charge': 0, 'reaction': 1, 'reference_height': -0.19814840281092005, 'oldprep': True}\n"
     ]
    }
   ],
   "source": [
    "for idx,at in enumerate(rxn):\n",
    "    print(idx, at.get_chemical_formula(), at.calc, at.info)"
   ]
  },
  {
   "cell_type": "code",
   "execution_count": null,
   "id": "ef765558",
   "metadata": {},
   "outputs": [],
   "source": [
    "dataset[[40, 38, 39]]"
   ]
  },
  {
   "cell_type": "code",
   "execution_count": null,
   "id": "3f7227f6",
   "metadata": {},
   "outputs": [],
   "source": [
    "m_idx = 10\n",
    "molecule = list(molecules.keys())[m_idx]\n",
    "dataset = MemDatasetRead('/home/awills/Documents/Research/swxcd/data/rxnfrac/')\n",
    "dataloader = torch.utils.data.DataLoader(dataset, batch_size=1, shuffle=False) # Dont change batch size !"
   ]
  },
  {
   "cell_type": "code",
   "execution_count": null,
   "id": "814fd162",
   "metadata": {},
   "outputs": [],
   "source": [
    "dataset"
   ]
  },
  {
   "cell_type": "code",
   "execution_count": null,
   "id": "f2c085ee",
   "metadata": {
    "scrolled": true
   },
   "outputs": [],
   "source": [
    "idatasetmat"
   ]
  },
  {
   "cell_type": "code",
   "execution_count": null,
   "id": "4f6b8cdb",
   "metadata": {
    "scrolled": true
   },
   "outputs": [],
   "source": [
    "idataset"
   ]
  },
  {
   "cell_type": "code",
   "execution_count": null,
   "id": "d7752236",
   "metadata": {},
   "outputs": [],
   "source": [
    "print(molecules)"
   ]
  },
  {
   "cell_type": "code",
   "execution_count": null,
   "id": "f096447b",
   "metadata": {},
   "outputs": [],
   "source": [
    "molecules"
   ]
  },
  {
   "cell_type": "code",
   "execution_count": null,
   "id": "22230fe4",
   "metadata": {},
   "outputs": [],
   "source": []
  }
 ],
 "metadata": {
  "kernelspec": {
   "display_name": "Python 3 (ipykernel)",
   "language": "python",
   "name": "python3"
  },
  "language_info": {
   "codemirror_mode": {
    "name": "ipython",
    "version": 3
   },
   "file_extension": ".py",
   "mimetype": "text/x-python",
   "name": "python",
   "nbconvert_exporter": "python",
   "pygments_lexer": "ipython3",
   "version": "3.7.11"
  }
 },
 "nbformat": 4,
 "nbformat_minor": 5
}
