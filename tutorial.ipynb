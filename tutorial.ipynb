{
 "cells": [
  {
   "cell_type": "code",
   "execution_count": 1,
   "metadata": {},
   "outputs": [],
   "source": [
    "from torch.utils.data import DataLoader \n",
    "import torch\n",
    "from pyscf import gto, dft, scf \n",
    "\n",
    "from dpyscf.torch_routines import SCF\n",
    "from dpyscf.net import XC, X_L, C_L\n",
    "from dpyscf.utils import *\n"
   ]
  },
  {
   "cell_type": "markdown",
   "metadata": {},
   "source": [
    "### 1. Define the xc model\n",
    "\n",
    "Here we use a simple LDA model (`level = 1`), by choosing `heg_mult = True` (for homogeneous electron gas exchange) and `pw_mult = True` (for Perdew Wang HEG correlation), without any enhancement factors (`grid_models = []`). No Hartree-Fock exact exchange is used `exx_a=None`."
   ]
  },
  {
   "cell_type": "code",
   "execution_count": 2,
   "metadata": {},
   "outputs": [],
   "source": [
    "xc = XC(grid_models = [], heg_mult=True, pw_mult=True, level=1, exx_a=None)"
   ]
  },
  {
   "cell_type": "markdown",
   "metadata": {},
   "source": [
    "Create the object that runs the SCF calculation"
   ]
  },
  {
   "cell_type": "code",
   "execution_count": 3,
   "metadata": {},
   "outputs": [],
   "source": [
    "alpha_init = 0.8\n",
    "alpha = torch.nn.Parameter(torch.Tensor([alpha_init]))\n",
    "dscf = SCF(alpha=alpha, nsteps=10, xc=xc, device='cpu', exx=False)"
   ]
  },
  {
   "cell_type": "markdown",
   "metadata": {},
   "source": [
    "### 2. Create a molecule with pyscf\n",
    "\n",
    "This computes all overlap integrals and other information that will be used by our differentiable implementation"
   ]
  },
  {
   "cell_type": "code",
   "execution_count": 4,
   "metadata": {},
   "outputs": [
    {
     "name": "stdout",
     "output_type": "stream",
     "text": [
      "converged SCF energy = -1.1074945503839\n"
     ]
    }
   ],
   "source": [
    "mol = gto.M(atom='H 0 0 0; H 0 0 1', basis='3-21G')\n",
    "mf = scf.RKS(mol)\n",
    "mf.grids.level = 1\n",
    "mf.grids.build()\n",
    "mf.kernel()\n",
    "E_converged = mf.e_tot"
   ]
  },
  {
   "cell_type": "markdown",
   "metadata": {},
   "source": [
    "### 3. Create input data structures"
   ]
  },
  {
   "cell_type": "code",
   "execution_count": 5,
   "metadata": {},
   "outputs": [],
   "source": [
    "# * The marked lines are just workarounds because we are only dealing with one system in this tutorial and both Dataset and DataLoader are designed \n",
    "# to deal with multiple data points \n",
    "\n",
    "matrices = get_datapoint(mol, mf)\n",
    "matrices = {key: [val] for key,val in matrices.items()} # *\n",
    "dset = Dataset(**matrices)\n",
    "dloader = DataLoader(dset, batch_size = 1)\n",
    "inputs = next(iter(dloader)) # *"
   ]
  },
  {
   "cell_type": "markdown",
   "metadata": {},
   "source": [
    "### 4. Run the calculation"
   ]
  },
  {
   "cell_type": "code",
   "execution_count": 6,
   "metadata": {},
   "outputs": [],
   "source": [
    "output = dscf.forward(*inputs)"
   ]
  },
  {
   "cell_type": "code",
   "execution_count": 7,
   "metadata": {},
   "outputs": [
    {
     "data": {
      "text/plain": [
       "{'E': tensor([-0.9104, -1.1270, -1.1086, -1.1076, -1.1075, -1.1074, -1.1074, -1.1074,\n",
       "         -1.1074, -1.1074], grad_fn=<CatBackward>),\n",
       " 'dm': tensor([[0.1309, 0.1871, 0.1309, 0.1871],\n",
       "         [0.1871, 0.2675, 0.1871, 0.2675],\n",
       "         [0.1309, 0.1871, 0.1309, 0.1871],\n",
       "         [0.1871, 0.2675, 0.1871, 0.2675]], grad_fn=<PermuteBackward>),\n",
       " 'mo_energy': tensor([-0.3316,  0.0164,  0.8137,  0.9951], grad_fn=<SymeigBackward>)}"
      ]
     },
     "execution_count": 7,
     "metadata": {},
     "output_type": "execute_result"
    }
   ],
   "source": [
    "output"
   ]
  },
  {
   "cell_type": "markdown",
   "metadata": {},
   "source": [
    "## 5. Calculate the loss"
   ]
  },
  {
   "cell_type": "code",
   "execution_count": 8,
   "metadata": {},
   "outputs": [
    {
     "data": {
      "text/plain": [
       "tensor([-1.1075])"
      ]
     },
     "execution_count": 8,
     "metadata": {},
     "output_type": "execute_result"
    }
   ],
   "source": [
    "E_converged_t = torch.Tensor([E_converged])\n",
    "\n",
    "E_converged_t"
   ]
  },
  {
   "cell_type": "markdown",
   "metadata": {},
   "source": [
    "Mean squared error loss:"
   ]
  },
  {
   "cell_type": "code",
   "execution_count": 9,
   "metadata": {},
   "outputs": [
    {
     "data": {
      "text/plain": [
       "tensor(0.0392, grad_fn=<SumBackward0>)"
      ]
     },
     "execution_count": 9,
     "metadata": {},
     "output_type": "execute_result"
    }
   ],
   "source": [
    "torch.sum((output['E'] - E_converged_t)**2)"
   ]
  },
  {
   "cell_type": "markdown",
   "metadata": {},
   "source": [
    "PyTorch-native MSE loss "
   ]
  },
  {
   "cell_type": "code",
   "execution_count": 10,
   "metadata": {},
   "outputs": [
    {
     "data": {
      "text/plain": [
       "tensor(0.0039, grad_fn=<MseLossBackward>)"
      ]
     },
     "execution_count": 10,
     "metadata": {},
     "output_type": "execute_result"
    }
   ],
   "source": [
    "loss = torch.nn.MSELoss()\n",
    "loss_value = loss(output['E'], E_converged_t.repeat(10))\n",
    "loss_value"
   ]
  },
  {
   "cell_type": "markdown",
   "metadata": {},
   "source": [
    "Calculate gradients with backprop"
   ]
  },
  {
   "cell_type": "code",
   "execution_count": 11,
   "metadata": {},
   "outputs": [],
   "source": [
    "loss_value.backward()"
   ]
  },
  {
   "cell_type": "code",
   "execution_count": 12,
   "metadata": {},
   "outputs": [
    {
     "data": {
      "text/plain": [
       "tensor([0.0008])"
      ]
     },
     "execution_count": 12,
     "metadata": {},
     "output_type": "execute_result"
    }
   ],
   "source": [
    "alpha.grad"
   ]
  },
  {
   "cell_type": "markdown",
   "metadata": {},
   "source": [
    "Optimizer"
   ]
  },
  {
   "cell_type": "code",
   "execution_count": 13,
   "metadata": {},
   "outputs": [],
   "source": [
    "opt = torch.optim.SGD([alpha], lr=0.001)\n",
    "opt.step()"
   ]
  },
  {
   "cell_type": "code",
   "execution_count": 14,
   "metadata": {},
   "outputs": [
    {
     "name": "stdout",
     "output_type": "stream",
     "text": [
      "Old alpha: 0.8\n",
      "New alpha: 0.7999992389941798\n"
     ]
    }
   ],
   "source": [
    "print('Old alpha:', alpha_init)\n",
    "print('New alpha:', alpha.detach().numpy()[0])"
   ]
  },
  {
   "cell_type": "code",
   "execution_count": null,
   "metadata": {},
   "outputs": [],
   "source": []
  }
 ],
 "metadata": {
  "kernelspec": {
   "display_name": "Python 3",
   "language": "python",
   "name": "python3"
  },
  "language_info": {
   "codemirror_mode": {
    "name": "ipython",
    "version": 3
   },
   "file_extension": ".py",
   "mimetype": "text/x-python",
   "name": "python",
   "nbconvert_exporter": "python",
   "pygments_lexer": "ipython3",
   "version": "3.8.5"
  }
 },
 "nbformat": 4,
 "nbformat_minor": 4
}
